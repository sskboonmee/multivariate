{
  "nbformat": 4,
  "nbformat_minor": 0,
  "metadata": {
    "colab": {
      "name": "python101.ipynb",
      "provenance": [],
      "authorship_tag": "ABX9TyMkf1gcBFg9r/KECak7LPF4",
      "include_colab_link": true
    },
    "kernelspec": {
      "name": "python3",
      "display_name": "Python 3"
    }
  },
  "cells": [
    {
      "cell_type": "markdown",
      "metadata": {
        "id": "view-in-github",
        "colab_type": "text"
      },
      "source": [
        "<a href=\"https://colab.research.google.com/github/sskboonmee/multivariate/blob/main/python101.ipynb\" target=\"_parent\"><img src=\"https://colab.research.google.com/assets/colab-badge.svg\" alt=\"Open In Colab\"/></a>"
      ]
    },
    {
      "cell_type": "markdown",
      "metadata": {
        "id": "62Xvo0DKLk8Y"
      },
      "source": [
        "#ตัวแปรหรือ Variable   เป็นกล่องที่เอาไว้ชี้แล้วแบบค่าตัวแปรคืออะไร  หลักการตั้งชื่อตัวแปร \r\n",
        "1.ตั้งให้สื่อ\r\n",
        "2.ภาษาอังกฤษ\r\n",
        "3.ใช้ตัวเลขได้แต่ห้ามขึ้นต้นด้วยตัวเลข \r\n",
        "4.ห้ามเว้นวรรค\r\n",
        "5.ตัวเล็กกับตัวใหญ่ไม่เหมือนกัน\r\n",
        "\r\n",
        "#hashtagคือการcomment"
      ]
    },
    {
      "cell_type": "markdown",
      "metadata": {
        "id": "G4Tq6ONW-Ae3"
      },
      "source": [
        "#python มี Output 2 mode \n",
        "คือ 1.ออกหน้าจอ คือจะไม่ถูกเก็บไว้ที่ไหนและจะเอาไปใช้ต่อไม่ได้\n",
        "2.เข้าไปเก็บในตัวแปร คือจะต้องมีตัวแปรมารับค่า"
      ]
    },
    {
      "cell_type": "code",
      "metadata": {
        "colab": {
          "base_uri": "https://localhost:8080/"
        },
        "id": "daHpGO5oKoHf",
        "outputId": "b9a18b99-179c-43e2-cf08-ae43228b4b37"
      },
      "source": [
        "3.14159   #hastagหรือเครื่องหมาย sharp #  คือ comment >>>อันนี้คือ Output แบบออกหน้าจอ"
      ],
      "execution_count": 1,
      "outputs": [
        {
          "output_type": "execute_result",
          "data": {
            "text/plain": [
              "3.14159"
            ]
          },
          "metadata": {
            "tags": []
          },
          "execution_count": 1
        }
      ]
    },
    {
      "cell_type": "code",
      "metadata": {
        "id": "PUcBgi1mM74W"
      },
      "source": [
        "Pi = 3.14159  # อันนี้คือ Output ที่เข้าไปอยู่ในตัวแปร\r\n"
      ],
      "execution_count": 2,
      "outputs": []
    },
    {
      "cell_type": "code",
      "metadata": {
        "colab": {
          "base_uri": "https://localhost:8080/"
        },
        "id": "yzfwBNfBOHQr",
        "outputId": "c40398bd-a0c8-48b3-b298-933e3249ed50"
      },
      "source": [
        "Pi"
      ],
      "execution_count": 3,
      "outputs": [
        {
          "output_type": "execute_result",
          "data": {
            "text/plain": [
              "3.14159"
            ]
          },
          "metadata": {
            "tags": []
          },
          "execution_count": 3
        }
      ]
    },
    {
      "cell_type": "code",
      "metadata": {
        "colab": {
          "base_uri": "https://localhost:8080/"
        },
        "id": "M_moE00WNp4V",
        "outputId": "88a92e37-d4b6-4582-8160-0e34bb6881ba"
      },
      "source": [
        "a = 1234567  #อันนี้คือการตั้งตัวแปรชื่อaแล้วเอาค่า1234567ใส่ในตัวแปรa\r\n",
        "print(a)     #อันนี้คือแสดงผลa"
      ],
      "execution_count": 4,
      "outputs": [
        {
          "output_type": "stream",
          "text": [
            "1234567\n"
          ],
          "name": "stdout"
        }
      ]
    },
    {
      "cell_type": "markdown",
      "metadata": {
        "id": "-v1HnNuA_tUd"
      },
      "source": [
        "#ชนิดของตัวแปร 3 ชนิด "
      ]
    },
    {
      "cell_type": "markdown",
      "metadata": {
        "id": "lFux7I1RBMKD"
      },
      "source": [
        "###1.จำนวนเต็ม (integer,int) \n",
        "วิธีการสร้างก็คือ ตั้งชื่อตัวแปร1ตัวอะไรก็ได้ละก็เท่ากับจำนวนที่เป็นintไปเลยซึ่งไอ่ตัวintก็คือจำนวนไม่มีจุดทศนิยมจำนวนเต็มนั่นเอง"
      ]
    },
    {
      "cell_type": "code",
      "metadata": {
        "colab": {
          "base_uri": "https://localhost:8080/"
        },
        "id": "0tpY2YiRPELx",
        "outputId": "f6c8b3fb-93bf-4bd0-a6b9-ab74ad9d4fc6"
      },
      "source": [
        "aaa = 1092\r\n",
        "print(aaa)"
      ],
      "execution_count": 5,
      "outputs": [
        {
          "output_type": "stream",
          "text": [
            "1092\n"
          ],
          "name": "stdout"
        }
      ]
    },
    {
      "cell_type": "markdown",
      "metadata": {
        "id": "jgTZhD_gCoxV"
      },
      "source": [
        "###2.จำนวนจริง (float)\n",
        "วิธีตั้ง float ก็เมื่อเรามีจุดมันก็บอกว่าเราเป็นจำนวนจริง"
      ]
    },
    {
      "cell_type": "code",
      "metadata": {
        "colab": {
          "base_uri": "https://localhost:8080/"
        },
        "id": "9zjEiCQYPYSi",
        "outputId": "4ac17a69-3aaf-4810-bf5c-754e55f1ae01"
      },
      "source": [
        "bbb = 11.\r\n",
        "print(bbb)"
      ],
      "execution_count": 6,
      "outputs": [
        {
          "output_type": "stream",
          "text": [
            "11.0\n"
          ],
          "name": "stdout"
        }
      ]
    },
    {
      "cell_type": "markdown",
      "metadata": {
        "id": "UdiR28n_Ph7i"
      },
      "source": [
        "###3.ตัวอักษร-ข้อความ (character และ text,string)\n",
        "เหตุผลที่ต้องมี'' และ \"\" ล้อมรอบก็เพื่อแสดงให้รู้ว่าอันนี้คือตัวอักษร-ข้อความนะ"
      ]
    },
    {
      "cell_type": "code",
      "metadata": {
        "id": "JPdaoMF-RwIJ",
        "colab": {
          "base_uri": "https://localhost:8080/"
        },
        "outputId": "93e35dac-23bb-4ad1-8d0f-bacdebb7fb35"
      },
      "source": [
        " ccc = '123456'  # เราใช้ single qoute ' หรือ double qoute \" ล้อมรอบตัวหนังสือเพื่อระบุว่าเป็น Character-string\n",
        "print(ccc)"
      ],
      "execution_count": 7,
      "outputs": [
        {
          "output_type": "stream",
          "text": [
            "123456\n"
          ],
          "name": "stdout"
        }
      ]
    },
    {
      "cell_type": "code",
      "metadata": {
        "colab": {
          "base_uri": "https://localhost:8080/"
        },
        "id": "TkQ_ac6nF3BA",
        "outputId": "80878ed5-80a7-4b5e-c242-585b6e5698d0"
      },
      "source": [
        "aaa + bbb    # float + int = float"
      ],
      "execution_count": 8,
      "outputs": [
        {
          "output_type": "execute_result",
          "data": {
            "text/plain": [
              "1103.0"
            ]
          },
          "metadata": {
            "tags": []
          },
          "execution_count": 8
        }
      ]
    },
    {
      "cell_type": "code",
      "metadata": {
        "colab": {
          "base_uri": "https://localhost:8080/",
          "height": 163
        },
        "id": "DkdPLWrxFz4s",
        "outputId": "c9427240-11d4-42a3-8180-5ec25c70fea0"
      },
      "source": [
        "bbb + ccc #ข้อความไม่สามารถเอามาบวกกับตัวเลขได้ดูจากTypeErrorแก้โดยเปลี่ยนชนิดของตัวแปร"
      ],
      "execution_count": 9,
      "outputs": [
        {
          "output_type": "error",
          "ename": "TypeError",
          "evalue": "ignored",
          "traceback": [
            "\u001b[0;31m---------------------------------------------------------------------------\u001b[0m",
            "\u001b[0;31mTypeError\u001b[0m                                 Traceback (most recent call last)",
            "\u001b[0;32m<ipython-input-9-5411c316fae8>\u001b[0m in \u001b[0;36m<module>\u001b[0;34m()\u001b[0m\n\u001b[0;32m----> 1\u001b[0;31m \u001b[0mbbb\u001b[0m \u001b[0;34m+\u001b[0m \u001b[0mccc\u001b[0m \u001b[0;31m#ข้อความไม่สามารถเอามาบวกกับตัวเลขได้ดูจากTypeErrorแก้โดยเปลี่ยนชนิดของตัวแปร\u001b[0m\u001b[0;34m\u001b[0m\u001b[0;34m\u001b[0m\u001b[0m\n\u001b[0m",
            "\u001b[0;31mTypeError\u001b[0m: unsupported operand type(s) for +: 'float' and 'str'"
          ]
        }
      ]
    },
    {
      "cell_type": "code",
      "metadata": {
        "id": "scb5XifSQ2Vy"
      },
      "source": [
        "ddd = 'ศศิกานต์'\r\n",
        "print(ddd)"
      ],
      "execution_count": null,
      "outputs": []
    },
    {
      "cell_type": "markdown",
      "metadata": {
        "id": "YAqICsW-Q4p2"
      },
      "source": [
        "##การเปลี่ยนชนิดของตัวแปร variable casting"
      ]
    },
    {
      "cell_type": "code",
      "metadata": {
        "id": "H12OkDONRodS",
        "outputId": "0511be1e-2f75-4189-e0d8-57e889056f4a",
        "colab": {
          "base_uri": "https://localhost:8080/"
        }
      },
      "source": [
        "bbb + int (ccc) #>>ไปบังคับมันเป็นint"
      ],
      "execution_count": 15,
      "outputs": [
        {
          "output_type": "execute_result",
          "data": {
            "text/plain": [
              "123467.0"
            ]
          },
          "metadata": {
            "tags": []
          },
          "execution_count": 15
        }
      ]
    },
    {
      "cell_type": "code",
      "metadata": {
        "id": "XgNKCk1YH_Ts",
        "outputId": "4e303260-99fe-41a4-d86b-c12f20ca9cc2",
        "colab": {
          "base_uri": "https://localhost:8080/"
        }
      },
      "source": [
        "aaa + int (ccc) #>>อันนี้ก็บังคับเป็นint"
      ],
      "execution_count": 16,
      "outputs": [
        {
          "output_type": "execute_result",
          "data": {
            "text/plain": [
              "124548"
            ]
          },
          "metadata": {
            "tags": []
          },
          "execution_count": 16
        }
      ]
    },
    {
      "cell_type": "code",
      "metadata": {
        "id": "qGAaH9HRSBdw",
        "outputId": "704b22e3-ed0a-4fee-d4bf-f215f0c81b46",
        "colab": {
          "base_uri": "https://localhost:8080/"
        }
      },
      "source": [
        "aaa + float(ccc) #>>float+intก็จะได้float"
      ],
      "execution_count": 17,
      "outputs": [
        {
          "output_type": "execute_result",
          "data": {
            "text/plain": [
              "124548.0"
            ]
          },
          "metadata": {
            "tags": []
          },
          "execution_count": 17
        }
      ]
    },
    {
      "cell_type": "code",
      "metadata": {
        "id": "hYid2zOfSOph",
        "outputId": "eb169de6-9e15-4787-dbe0-ea2870024f67",
        "colab": {
          "base_uri": "https://localhost:8080/",
          "height": 35
        }
      },
      "source": [
        "str(aaa) #>>intแปลงเป็นข้อความออกมาแล้วก็ดูออกว่าเป็นข้อความสังเกตจาก''ครอบตรงรันออกมา"
      ],
      "execution_count": 18,
      "outputs": [
        {
          "output_type": "execute_result",
          "data": {
            "application/vnd.google.colaboratory.intrinsic+json": {
              "type": "string"
            },
            "text/plain": [
              "'1092'"
            ]
          },
          "metadata": {
            "tags": []
          },
          "execution_count": 18
        }
      ]
    },
    {
      "cell_type": "code",
      "metadata": {
        "id": "cuBmyCCTIoCL",
        "outputId": "14b9b904-609a-4b8f-9808-812e84c747c2",
        "colab": {
          "base_uri": "https://localhost:8080/"
        }
      },
      "source": [
        "print(str(aaa))"
      ],
      "execution_count": 19,
      "outputs": [
        {
          "output_type": "stream",
          "text": [
            "1092\n"
          ],
          "name": "stdout"
        }
      ]
    },
    {
      "cell_type": "markdown",
      "metadata": {
        "id": "oMV5nV5aSUI1"
      },
      "source": [
        "#การดำเนินการ Operation (Operators +,-,*,/,%)"
      ]
    },
    {
      "cell_type": "code",
      "metadata": {
        "id": "JajcTSHcTC5n",
        "outputId": "42f58a4d-947c-4a0b-97e1-4189aa06a8dd",
        "colab": {
          "base_uri": "https://localhost:8080/",
          "height": 163
        }
      },
      "source": [
        "a+b  #ก็คือมันไม่มีb"
      ],
      "execution_count": 20,
      "outputs": [
        {
          "output_type": "error",
          "ename": "NameError",
          "evalue": "ignored",
          "traceback": [
            "\u001b[0;31m---------------------------------------------------------------------------\u001b[0m",
            "\u001b[0;31mNameError\u001b[0m                                 Traceback (most recent call last)",
            "\u001b[0;32m<ipython-input-20-571d0edc96ef>\u001b[0m in \u001b[0;36m<module>\u001b[0;34m()\u001b[0m\n\u001b[0;32m----> 1\u001b[0;31m \u001b[0ma\u001b[0m\u001b[0;34m+\u001b[0m\u001b[0mb\u001b[0m  \u001b[0;31m#ก็คือมันไม่มีb\u001b[0m\u001b[0;34m\u001b[0m\u001b[0;34m\u001b[0m\u001b[0m\n\u001b[0m",
            "\u001b[0;31mNameError\u001b[0m: name 'b' is not defined"
          ]
        }
      ]
    },
    {
      "cell_type": "code",
      "metadata": {
        "id": "aGOPbduDKac8",
        "outputId": "7bc73a04-eb51-42cf-c752-09d69958cab0",
        "colab": {
          "base_uri": "https://localhost:8080/"
        }
      },
      "source": [
        "aaa + bbb #อันนี้ก็คือแสดงค่าเฉยๆเอาไปใช้ต่อไม่ได้"
      ],
      "execution_count": 21,
      "outputs": [
        {
          "output_type": "execute_result",
          "data": {
            "text/plain": [
              "1103.0"
            ]
          },
          "metadata": {
            "tags": []
          },
          "execution_count": 21
        }
      ]
    },
    {
      "cell_type": "code",
      "metadata": {
        "id": "NxJmKQigKhNQ",
        "outputId": "acdb70d5-b7ce-430c-8a97-25698ede5195",
        "colab": {
          "base_uri": "https://localhost:8080/"
        }
      },
      "source": [
        "aaa - bbb"
      ],
      "execution_count": 22,
      "outputs": [
        {
          "output_type": "execute_result",
          "data": {
            "text/plain": [
              "1081.0"
            ]
          },
          "metadata": {
            "tags": []
          },
          "execution_count": 22
        }
      ]
    },
    {
      "cell_type": "code",
      "metadata": {
        "id": "GzwnA5kRK02q",
        "outputId": "5591166e-849c-406b-e887-a989bd6e07ac",
        "colab": {
          "base_uri": "https://localhost:8080/"
        }
      },
      "source": [
        "ab = aaa*bbb  #อันนี้มีตัวแปรมารับค่าก็จะสามารถเอามาใช้ต่อได้\n",
        "print(ab)"
      ],
      "execution_count": 23,
      "outputs": [
        {
          "output_type": "stream",
          "text": [
            "12012.0\n"
          ],
          "name": "stdout"
        }
      ]
    },
    {
      "cell_type": "code",
      "metadata": {
        "id": "jcic1TWcLJ15",
        "outputId": "6ed8de7b-8eda-4c55-b984-e03bdfe52dca",
        "colab": {
          "base_uri": "https://localhost:8080/"
        }
      },
      "source": [
        "ab + int(ccc)"
      ],
      "execution_count": 24,
      "outputs": [
        {
          "output_type": "execute_result",
          "data": {
            "text/plain": [
              "135468.0"
            ]
          },
          "metadata": {
            "tags": []
          },
          "execution_count": 24
        }
      ]
    },
    {
      "cell_type": "markdown",
      "metadata": {
        "id": "PEo4QTyrT7Xv"
      },
      "source": [
        "##% คือหมาย modulo คือการหารเอาเศษ 2หารได้เศษ 0 ก็เป็นเลขคู่ หารได้เศษ 1 ก็เป็นเลขคี่"
      ]
    },
    {
      "cell_type": "code",
      "metadata": {
        "id": "GNml3-quT1np"
      },
      "source": [
        "5%3"
      ],
      "execution_count": null,
      "outputs": []
    },
    {
      "cell_type": "code",
      "metadata": {
        "id": "_v6X5E4YT-_N",
        "outputId": "12951186-9695-4874-8f24-7e7439bc0504",
        "colab": {
          "base_uri": "https://localhost:8080/"
        }
      },
      "source": [
        "7%3"
      ],
      "execution_count": 26,
      "outputs": [
        {
          "output_type": "execute_result",
          "data": {
            "text/plain": [
              "1"
            ]
          },
          "metadata": {
            "tags": []
          },
          "execution_count": 26
        }
      ]
    },
    {
      "cell_type": "markdown",
      "metadata": {
        "id": "qAIfmFRFUDT3"
      },
      "source": [
        "#คำสั่ง print แบบพิเศษ (การ format )"
      ]
    },
    {
      "cell_type": "code",
      "metadata": {
        "id": "wQET9mpSMVuW",
        "outputId": "a66c1440-0c62-4a97-9b29-fa2441cff89a",
        "colab": {
          "base_uri": "https://localhost:8080/"
        }
      },
      "source": [
        "print('ตัวแปร')  #สิ่งที่อยู่ข้างในวงเล็บ คือ ตัวแปรและ string คือ printสามารถprint ตัวแปรก็ได้stringก็ได้"
      ],
      "execution_count": 27,
      "outputs": [
        {
          "output_type": "stream",
          "text": [
            "ตัวแปร\n"
          ],
          "name": "stdout"
        }
      ]
    },
    {
      "cell_type": "code",
      "metadata": {
        "id": "UFKyzzTgUfZF",
        "outputId": "47fa5363-5b24-4d76-b8b4-a0a6a97ef18d",
        "colab": {
          "base_uri": "https://localhost:8080/"
        }
      },
      "source": [
        "print(f'% คือการหารเอาเศษ เช่น  7%3 ={7%3}') # เพิ่ม f หน้า ข้อความ 'string' และใช้ {} เพื่อบอกว่าข้างในปีกกาจะเป็นcode ของpython"
      ],
      "execution_count": 30,
      "outputs": [
        {
          "output_type": "stream",
          "text": [
            "% คือการหารเอาเศษ เช่น  7%3 =1\n"
          ],
          "name": "stdout"
        }
      ]
    },
    {
      "cell_type": "code",
      "metadata": {
        "id": "NNko36U2PvQp",
        "outputId": "54251114-6c6c-4d2c-8702-e173a915718a",
        "colab": {
          "base_uri": "https://localhost:8080/",
          "height": 35
        }
      },
      "source": [
        "f'% คือการหารเอาเศษ เช่น 7%3 ={aaa}' #{} ใส่code"
      ],
      "execution_count": 29,
      "outputs": [
        {
          "output_type": "execute_result",
          "data": {
            "application/vnd.google.colaboratory.intrinsic+json": {
              "type": "string"
            },
            "text/plain": [
              "'% คือการหารเอาเศษ เช่น 7%3 =1092'"
            ]
          },
          "metadata": {
            "tags": []
          },
          "execution_count": 29
        }
      ]
    },
    {
      "cell_type": "code",
      "metadata": {
        "id": "B9D4e6PBVkPe",
        "outputId": "b39b0df8-efb8-4312-89cb-86beb858f0a8",
        "colab": {
          "base_uri": "https://localhost:8080/"
        }
      },
      "source": [
        "print (f'% คือการหารเอาเศษ เช่น 7%3 = {7%3}) \\\r\n",
        "แต่ \\n/ คือการหารปกติ เช่น 7/3 = {7/3} \\\r\n",
        "และ \\n// คือการหารเอาส่วน เช่น 7//3 = {7//3} \\\r\n",
        "หรือ \\nใช้ int() เพื่อหารเอาส่วน เช่น int(7/3) = {int(7/3)}')  # \\n คือการขึ้นบรรทัดใหม่ \\ใช้ในการตัด"
      ],
      "execution_count": 28,
      "outputs": [
        {
          "output_type": "stream",
          "text": [
            "% คือการหารเอาเศษ เช่น 7%3 = 1) แต่ \n",
            "/ คือการหารปกติ เช่น 7/3 = 2.3333333333333335 และ \n",
            "// คือการหารเอาส่วน เช่น 7//3 = 2 หรือ \n",
            "ใช้ int() เพื่อหารเอาส่วน เช่น int(7/3) = 2\n"
          ],
          "name": "stdout"
        }
      ]
    },
    {
      "cell_type": "markdown",
      "metadata": {
        "id": "4hPBvuxYQqtZ"
      },
      "source": [
        "#### \\ คือการตัดcode ให้เราเห็นเองแต่คอมมองไม่เห็นเพื่อให้คอมดูง่ายๆ ที่คอมมองเห็นว่าขึ้นบรรทัดใหม่คือ \\n"
      ]
    },
    {
      "cell_type": "markdown",
      "metadata": {
        "id": "7kFKV7QyWRuj"
      },
      "source": [
        "#### \\ คือตัดโค้ดให้เราเห็นเอง \\n คือการขึ้นบรรทัดใหม่ ใส่ปีกกาเพื่อบอกว่าเป็น code ของ python"
      ]
    },
    {
      "cell_type": "markdown",
      "metadata": {
        "id": "KDUGbU3xW-Bh"
      },
      "source": [
        "#DATA STRUCTURE (โครงสร้างข้อมูล)"
      ]
    },
    {
      "cell_type": "markdown",
      "metadata": {
        "id": "n85wR7n2XHtC"
      },
      "source": [
        "### List คือ การเอาข้อมูลหลายๆตัวมาเรียงต่อกัน สัญลักษณ์ของlist ก็คือ [  ] | ตัวแปรหลายๆตัวมาอยู่ในที่เก็บเดียวกัน\r\n",
        "####list สามารถสร้างได้ 2 แบบดังนี้"
      ]
    },
    {
      "cell_type": "code",
      "metadata": {
        "id": "YlMT1umeXZg4",
        "outputId": "db95ed09-3e70-4685-939f-076695cb9eee",
        "colab": {
          "base_uri": "https://localhost:8080/"
        }
      },
      "source": [
        "[111,'c','งง',aaa]"
      ],
      "execution_count": 31,
      "outputs": [
        {
          "output_type": "execute_result",
          "data": {
            "text/plain": [
              "[111, 'c', 'งง', 1092]"
            ]
          },
          "metadata": {
            "tags": []
          },
          "execution_count": 31
        }
      ]
    },
    {
      "cell_type": "markdown",
      "metadata": {
        "id": "H7_u53mDXu8T"
      },
      "source": [
        "####แบบที่ 1 >square brackets  คือ สร้างด้วยสัญลักษณ์ของlistเลย บอกไปตรงๆเลยว่าตัวแปรนี้คือlistที่หน้าตาเป็นยังไง Ex.listเปล่าๆ หรือ list ที่มีข้อมูลอื่นอยู่ด้วย"
      ]
    },
    {
      "cell_type": "code",
      "metadata": {
        "colab": {
          "base_uri": "https://localhost:8080/"
        },
        "id": "98iLMykJX1_f",
        "outputId": "c5dec4d7-4e3a-48b5-9359-c59d94f3871d"
      },
      "source": [
        "list_a = [] #ไม่มีอะไรอยู่ข้างในเรียกว่าlistว่าง\r\n",
        "print(list_a)"
      ],
      "execution_count": 36,
      "outputs": [
        {
          "output_type": "stream",
          "text": [
            "[]\n"
          ],
          "name": "stdout"
        }
      ]
    },
    {
      "cell_type": "code",
      "metadata": {
        "id": "ViM1hjpvYKja",
        "outputId": "58bd8d6b-fdc6-4269-df7d-9267c52ddaa5",
        "colab": {
          "base_uri": "https://localhost:8080/"
        }
      },
      "source": [
        "list_b = [111,'c','งง',aaa] #111ก็คือตัวที่0บะก็ไล่ไป\n",
        "print(list_b)"
      ],
      "execution_count": 60,
      "outputs": [
        {
          "output_type": "stream",
          "text": [
            "[111, 'c', 'งง', 1092]\n"
          ],
          "name": "stdout"
        }
      ]
    },
    {
      "cell_type": "markdown",
      "metadata": {
        "id": "xUot3IHvTgxk"
      },
      "source": [
        "####ลำดับที่อยู่ใน list มีความสำคัญ (ลำดับในlist เริ่มจาก 0,1,2,...)"
      ]
    },
    {
      "cell_type": "code",
      "metadata": {
        "id": "uPy2P_U4Ty30",
        "outputId": "ba67ec40-80a0-4759-d937-3bf5b5bef7f3",
        "colab": {
          "base_uri": "https://localhost:8080/",
          "height": 0
        }
      },
      "source": [
        "list_b[2]"
      ],
      "execution_count": 38,
      "outputs": [
        {
          "output_type": "execute_result",
          "data": {
            "application/vnd.google.colaboratory.intrinsic+json": {
              "type": "string"
            },
            "text/plain": [
              "'งง'"
            ]
          },
          "metadata": {
            "tags": []
          },
          "execution_count": 38
        }
      ]
    },
    {
      "cell_type": "markdown",
      "metadata": {
        "id": "vkqbtyUtU25b"
      },
      "source": [
        "แบบที่2 บอกว่าตัวแปรนี้เท่ากับlist ดังข้างล่าง"
      ]
    },
    {
      "cell_type": "code",
      "metadata": {
        "id": "kyIO0rDLUprX",
        "outputId": "c81649f5-71fc-4bb3-f94a-8661c15c4b69",
        "colab": {
          "base_uri": "https://localhost:8080/"
        }
      },
      "source": [
        "list_c = list() #list()ก็คือบอกว่าเราจะสร้างlistขึ้นมานะ #ตรงlist_cคือตัวแปร\n",
        "print(list_c)"
      ],
      "execution_count": 39,
      "outputs": [
        {
          "output_type": "stream",
          "text": [
            "[]\n"
          ],
          "name": "stdout"
        }
      ]
    },
    {
      "cell_type": "markdown",
      "metadata": {
        "id": "_IgEhnp_WPLT"
      },
      "source": [
        "##append() เพิ่มสมาชิกในlist\n",
        ".append คือเอาสมาชิกไปต่อท้ายของ list"
      ]
    },
    {
      "cell_type": "code",
      "metadata": {
        "id": "XSlYf_U5YB2j",
        "outputId": "52dd66ba-55ee-46b0-93dd-bc78d6657d64",
        "colab": {
          "base_uri": "https://localhost:8080/"
        }
      },
      "source": [
        "list_b.append('d')\n",
        "print(list_b)"
      ],
      "execution_count": 40,
      "outputs": [
        {
          "output_type": "stream",
          "text": [
            "[111, 'c', 'งง', 1092, 'd']\n"
          ],
          "name": "stdout"
        }
      ]
    },
    {
      "cell_type": "markdown",
      "metadata": {
        "id": "ubNXggq4XyO5"
      },
      "source": [
        "ตัวที่อยู่ในวงเล็บหลังจากตัวแปร list เรียกว่า index ใช้สำหรับชี้ข้อมูลใน list (ชี้จากข้างหน้า,ชี้จากข้างหลัง)\n",
        "0 คือสมาชิกตัวแรก, -1 คือสมาชิกตัวสุดท้าย"
      ]
    },
    {
      "cell_type": "code",
      "metadata": {
        "id": "sQLk54XKXtYS",
        "outputId": "84ee22df-48ed-4b01-88cd-0391f6147ded",
        "colab": {
          "base_uri": "https://localhost:8080/",
          "height": 0
        }
      },
      "source": [
        "list_b[-1] "
      ],
      "execution_count": 41,
      "outputs": [
        {
          "output_type": "execute_result",
          "data": {
            "application/vnd.google.colaboratory.intrinsic+json": {
              "type": "string"
            },
            "text/plain": [
              "'d'"
            ]
          },
          "metadata": {
            "tags": []
          },
          "execution_count": 41
        }
      ]
    },
    {
      "cell_type": "markdown",
      "metadata": {
        "id": "5B433OB1YsDb"
      },
      "source": [
        "##String > list of characters\n",
        "คือlistของตัวอักษรหลายๆตัวเอามารวมกัน"
      ]
    },
    {
      "cell_type": "code",
      "metadata": {
        "id": "75Veu9LEZb3J",
        "outputId": "318a314b-205d-4813-db72-1db0192309bf",
        "colab": {
          "base_uri": "https://localhost:8080/"
        }
      },
      "source": [
        "t = 'python is easy'\n",
        "print(t)"
      ],
      "execution_count": 42,
      "outputs": [
        {
          "output_type": "stream",
          "text": [
            "python is easy\n"
          ],
          "name": "stdout"
        }
      ]
    },
    {
      "cell_type": "code",
      "metadata": {
        "id": "xkUfIgLRZl4d",
        "outputId": "062551cd-2ffb-4e39-d60a-4183ef3f747e",
        "colab": {
          "base_uri": "https://localhost:8080/",
          "height": 35
        }
      },
      "source": [
        "t[1]"
      ],
      "execution_count": 43,
      "outputs": [
        {
          "output_type": "execute_result",
          "data": {
            "application/vnd.google.colaboratory.intrinsic+json": {
              "type": "string"
            },
            "text/plain": [
              "'y'"
            ]
          },
          "metadata": {
            "tags": []
          },
          "execution_count": 43
        }
      ]
    },
    {
      "cell_type": "code",
      "metadata": {
        "id": "zj2xZLeSZp8i",
        "outputId": "25eac82c-4f61-4f71-9312-9d6aaa60e3cf",
        "colab": {
          "base_uri": "https://localhost:8080/",
          "height": 35
        }
      },
      "source": [
        "t[-1]"
      ],
      "execution_count": 44,
      "outputs": [
        {
          "output_type": "execute_result",
          "data": {
            "application/vnd.google.colaboratory.intrinsic+json": {
              "type": "string"
            },
            "text/plain": [
              "'y'"
            ]
          },
          "metadata": {
            "tags": []
          },
          "execution_count": 44
        }
      ]
    },
    {
      "cell_type": "code",
      "metadata": {
        "id": "zBTB1NUaZvGv",
        "outputId": "c324bf1a-054d-4068-de88-40c6ea23a907",
        "colab": {
          "base_uri": "https://localhost:8080/",
          "height": 35
        }
      },
      "source": [
        "t[-4]"
      ],
      "execution_count": 45,
      "outputs": [
        {
          "output_type": "execute_result",
          "data": {
            "application/vnd.google.colaboratory.intrinsic+json": {
              "type": "string"
            },
            "text/plain": [
              "'e'"
            ]
          },
          "metadata": {
            "tags": []
          },
          "execution_count": 45
        }
      ]
    },
    {
      "cell_type": "code",
      "metadata": {
        "id": "WJjNDozwZ8Bu",
        "outputId": "c41fcfc4-3509-4bf6-a5ba-531f62359ed9",
        "colab": {
          "base_uri": "https://localhost:8080/",
          "height": 35
        }
      },
      "source": [
        "t[4]"
      ],
      "execution_count": 46,
      "outputs": [
        {
          "output_type": "execute_result",
          "data": {
            "application/vnd.google.colaboratory.intrinsic+json": {
              "type": "string"
            },
            "text/plain": [
              "'o'"
            ]
          },
          "metadata": {
            "tags": []
          },
          "execution_count": 46
        }
      ]
    },
    {
      "cell_type": "code",
      "metadata": {
        "colab": {
          "base_uri": "https://localhost:8080/",
          "height": 35
        },
        "id": "CKh8bv_MaBml",
        "outputId": "119fbb32-2c99-4f66-f08e-ae3e999ccb28"
      },
      "source": [
        "t[6]"
      ],
      "execution_count": 47,
      "outputs": [
        {
          "output_type": "execute_result",
          "data": {
            "application/vnd.google.colaboratory.intrinsic+json": {
              "type": "string"
            },
            "text/plain": [
              "' '"
            ]
          },
          "metadata": {
            "tags": []
          },
          "execution_count": 47
        }
      ]
    },
    {
      "cell_type": "code",
      "metadata": {
        "id": "vYDNeGQ3_Ge6",
        "outputId": "44d0ddcc-247a-498d-9593-7853cd97d7b4",
        "colab": {
          "base_uri": "https://localhost:8080/"
        }
      },
      "source": [
        "len(t) #lenคือคำสั่งตรวจสอบความยาวของ list (จำนวนสมาชิก)"
      ],
      "execution_count": 73,
      "outputs": [
        {
          "output_type": "execute_result",
          "data": {
            "text/plain": [
              "14"
            ]
          },
          "metadata": {
            "tags": []
          },
          "execution_count": 73
        }
      ]
    },
    {
      "cell_type": "code",
      "metadata": {
        "id": "dUctvzFm_5pd",
        "outputId": "4b339bac-c2b4-4f7c-e1b6-2a4dfec54153",
        "colab": {
          "base_uri": "https://localhost:8080/"
        }
      },
      "source": [
        "list_b"
      ],
      "execution_count": 75,
      "outputs": [
        {
          "output_type": "execute_result",
          "data": {
            "text/plain": [
              "[111, 'c', 'งง', 1092, []]"
            ]
          },
          "metadata": {
            "tags": []
          },
          "execution_count": 75
        }
      ]
    },
    {
      "cell_type": "code",
      "metadata": {
        "id": "VwV601bF_TmJ",
        "outputId": "5281d5d0-964f-41d6-da97-6783374a206a",
        "colab": {
          "base_uri": "https://localhost:8080/"
        }
      },
      "source": [
        "len(list_b)"
      ],
      "execution_count": 74,
      "outputs": [
        {
          "output_type": "execute_result",
          "data": {
            "text/plain": [
              "5"
            ]
          },
          "metadata": {
            "tags": []
          },
          "execution_count": 74
        }
      ]
    },
    {
      "cell_type": "code",
      "metadata": {
        "id": "_BmFfc12AG0D",
        "outputId": "12db3b96-ff41-44dd-eec7-3a305e0a6ad6",
        "colab": {
          "base_uri": "https://localhost:8080/"
        }
      },
      "source": [
        "list_b.append(t)\r\n",
        "print(list_b)"
      ],
      "execution_count": 76,
      "outputs": [
        {
          "output_type": "stream",
          "text": [
            "[111, 'c', 'งง', 1092, [], 'python is easy']\n"
          ],
          "name": "stdout"
        }
      ]
    },
    {
      "cell_type": "markdown",
      "metadata": {
        "id": "sJs-Ug9iASdX"
      },
      "source": [
        "ตัวข้างใน [] เราเรียกว่า index (ตัวชี้)"
      ]
    },
    {
      "cell_type": "markdown",
      "metadata": {
        "id": "FR3Lyb5NAnwS"
      },
      "source": [
        "##List slicing สามารถทำได้โดย colon : คือการเฉือน หรือแบบตัดตัว list ให้มันเล็กลง\r\n",
        "##[a:b]->[a,b) แบบเหมือนคณิตศาสตร์\r\n"
      ]
    },
    {
      "cell_type": "code",
      "metadata": {
        "id": "r1tolADpBCIy",
        "outputId": "b8425e6b-4b45-4c29-f8b2-3037f7025c6e",
        "colab": {
          "base_uri": "https://localhost:8080/"
        }
      },
      "source": [
        "print(t)\r\n",
        "print(t[7:9])  #หน้าColon คือจุดเริ่มต้น\r\n",
        "print(len(t[7:9]))  #ก็คือlenเป็นการดูว่ามีสมาชิกกี่ตัว"
      ],
      "execution_count": 81,
      "outputs": [
        {
          "output_type": "stream",
          "text": [
            "python is easy\n",
            "is\n",
            "2\n"
          ],
          "name": "stdout"
        }
      ]
    },
    {
      "cell_type": "code",
      "metadata": {
        "id": "RazAemnSDVxy",
        "outputId": "a0ccfc6a-d302-4e71-f405-4ffe2d45bbb0",
        "colab": {
          "base_uri": "https://localhost:8080/",
          "height": 35
        }
      },
      "source": [
        "t[0:14:2]  #เพิ่มcolonเข้ามาอีกตัวคือดูว่าจะกระโดดมั๊ย อันนี้ก็กระโดด2ตัว"
      ],
      "execution_count": 82,
      "outputs": [
        {
          "output_type": "execute_result",
          "data": {
            "application/vnd.google.colaboratory.intrinsic+json": {
              "type": "string"
            },
            "text/plain": [
              "'pto ses'"
            ]
          },
          "metadata": {
            "tags": []
          },
          "execution_count": 82
        }
      ]
    },
    {
      "cell_type": "code",
      "metadata": {
        "id": "WsLT1KMPD6Yc"
      },
      "source": [
        "z = [1,2,3,4,5,6,7,8,9,10]"
      ],
      "execution_count": 83,
      "outputs": []
    },
    {
      "cell_type": "code",
      "metadata": {
        "id": "Bl9TpbkgEDHR",
        "outputId": "0fbd685d-187b-49c8-bc97-44b96d2067e8",
        "colab": {
          "base_uri": "https://localhost:8080/"
        }
      },
      "source": [
        "print(z[1:10:2]) #เริ่มที่ตัวที่1ไปจนถึงตัวที่10แล้วก็เอาทุกๆ2ตัว"
      ],
      "execution_count": 85,
      "outputs": [
        {
          "output_type": "stream",
          "text": [
            "[2, 4, 6, 8, 10]\n"
          ],
          "name": "stdout"
        }
      ]
    },
    {
      "cell_type": "markdown",
      "metadata": {
        "id": "eCkqTmo4oSix"
      },
      "source": [
        "ถ้าวางไว้ข้างหน้า colon :หมายความว่า เริ่มตั้งแต่ตัวแรก (0)\n",
        "ถ้าวางไว้ข้างหลัง colon : คือ ไปจนถึงตัวสุดท้าย (len(list))"
      ]
    },
    {
      "cell_type": "code",
      "metadata": {
        "id": "kn4MujLxoYx1",
        "colab": {
          "base_uri": "https://localhost:8080/"
        },
        "outputId": "d7a35fcc-efa5-4a0c-fce1-bd956299dfb1"
      },
      "source": [
        "print(t)\n",
        "print(t[7:9])\n",
        "print(len(t[7:9]))"
      ],
      "execution_count": 48,
      "outputs": [
        {
          "output_type": "stream",
          "text": [
            "python is easy\n",
            "is\n",
            "2\n"
          ],
          "name": "stdout"
        }
      ]
    },
    {
      "cell_type": "code",
      "metadata": {
        "id": "UjF8yQXqpcB9",
        "colab": {
          "base_uri": "https://localhost:8080/"
        },
        "outputId": "2f751d29-3ba5-412b-d21c-efc112aee1be"
      },
      "source": [
        "print(t)\n",
        "print(t[:6])  #>ตรงนี้ไม่ใส่ตัวเลขด้านหน้าก็แสดงว่าเริ่มจากตัวแรก\n",
        "print(t[10:]) #เริ่มตั้งแต่ตัวที่10ไปจนถึงตัวสุดท้าย\n",
        "print(t[-4:]) \n",
        "print(t[:])"
      ],
      "execution_count": 52,
      "outputs": [
        {
          "output_type": "stream",
          "text": [
            "python is easy\n",
            "python\n",
            "easy\n",
            "easy\n",
            "python is easy\n"
          ],
          "name": "stdout"
        }
      ]
    },
    {
      "cell_type": "code",
      "metadata": {
        "id": "1VoQ6kRmqNJt",
        "colab": {
          "base_uri": "https://localhost:8080/"
        },
        "outputId": "915b9bf8-e1d4-49be-c172-6ede14023fdf"
      },
      "source": [
        "print(Z[::2])  #เอาตั้งแต่ตัวที่0ละก็กระโดดทีละ2ตัว"
      ],
      "execution_count": 89,
      "outputs": [
        {
          "output_type": "stream",
          "text": [
            "[1, 3, 5, 7, 9]\n"
          ],
          "name": "stdout"
        }
      ]
    },
    {
      "cell_type": "markdown",
      "metadata": {
        "id": "Q9DLSbKnrItX"
      },
      "source": [
        "##เราสามารถเอา list มาต่อกันได้ด้วย +"
      ]
    },
    {
      "cell_type": "code",
      "metadata": {
        "id": "bunP0zRir4jr",
        "colab": {
          "base_uri": "https://localhost:8080/",
          "height": 35
        },
        "outputId": "dd375022-9917-49bf-caa8-4fa90d144ac9"
      },
      "source": [
        "t + '??' #เหมือนเอาtextมาต่อกันก็สามารถสร้างคำใหม่ได้"
      ],
      "execution_count": 88,
      "outputs": [
        {
          "output_type": "execute_result",
          "data": {
            "application/vnd.google.colaboratory.intrinsic+json": {
              "type": "string"
            },
            "text/plain": [
              "'python is easy??'"
            ]
          },
          "metadata": {
            "tags": []
          },
          "execution_count": 88
        }
      ]
    },
    {
      "cell_type": "code",
      "metadata": {
        "id": "qma0VZaYsGYI",
        "outputId": "8e92f3fa-f524-4c19-df09-b67c55232a7e",
        "colab": {
          "base_uri": "https://localhost:8080/",
          "height": 163
        }
      },
      "source": [
        "t + list_b #ไม่สามารถเอา list ปกติมาต่อกับstring ได้"
      ],
      "execution_count": 87,
      "outputs": [
        {
          "output_type": "error",
          "ename": "TypeError",
          "evalue": "ignored",
          "traceback": [
            "\u001b[0;31m---------------------------------------------------------------------------\u001b[0m",
            "\u001b[0;31mTypeError\u001b[0m                                 Traceback (most recent call last)",
            "\u001b[0;32m<ipython-input-87-b14d69d6ede6>\u001b[0m in \u001b[0;36m<module>\u001b[0;34m()\u001b[0m\n\u001b[0;32m----> 1\u001b[0;31m \u001b[0mt\u001b[0m \u001b[0;34m+\u001b[0m \u001b[0mlist_b\u001b[0m \u001b[0;31m#ไม่สามารถเอา list ปกติมาต่อกับstring ได้\u001b[0m\u001b[0;34m\u001b[0m\u001b[0;34m\u001b[0m\u001b[0m\n\u001b[0m",
            "\u001b[0;31mTypeError\u001b[0m: must be str, not list"
          ]
        }
      ]
    },
    {
      "cell_type": "code",
      "metadata": {
        "id": "8_dVDriosR3k",
        "colab": {
          "base_uri": "https://localhost:8080/"
        },
        "outputId": "c32f9b7a-12bd-4d7d-a388-3ff0be06d05d"
      },
      "source": [
        "print(list_a)\n",
        "print(list_b)\n",
        "print(list_b+list_a) #บวกคือเอาสมาชิกมารวมกัน"
      ],
      "execution_count": 63,
      "outputs": [
        {
          "output_type": "stream",
          "text": [
            "[]\n",
            "[111, 'c', 'งง', 1092, []]\n",
            "[111, 'c', 'งง', 1092, []]\n"
          ],
          "name": "stdout"
        }
      ]
    },
    {
      "cell_type": "code",
      "metadata": {
        "id": "Ll74RBvgtHKD",
        "colab": {
          "base_uri": "https://localhost:8080/"
        },
        "outputId": "f9a478a5-ddb9-44b0-f202-5c0ceb5d2788"
      },
      "source": [
        "list_b.append(list_a)\n",
        "print(list_b)"
      ],
      "execution_count": 62,
      "outputs": [
        {
          "output_type": "stream",
          "text": [
            "[111, 'c', 'งง', 1092, []]\n"
          ],
          "name": "stdout"
        }
      ]
    },
    {
      "cell_type": "markdown",
      "metadata": {
        "id": "HJsBTTD3tsVB"
      },
      "source": [
        "##การแบ่ง string ตามสัญลักษณ์ที่กำหนด ->split string"
      ]
    },
    {
      "cell_type": "code",
      "metadata": {
        "id": "xYYiroSEt1vv",
        "colab": {
          "base_uri": "https://localhost:8080/",
          "height": 35
        },
        "outputId": "3a75269e-0c84-427a-b4e3-bf7afaaf2060"
      },
      "source": [
        "t"
      ],
      "execution_count": 90,
      "outputs": [
        {
          "output_type": "execute_result",
          "data": {
            "application/vnd.google.colaboratory.intrinsic+json": {
              "type": "string"
            },
            "text/plain": [
              "'python is easy'"
            ]
          },
          "metadata": {
            "tags": []
          },
          "execution_count": 90
        }
      ]
    },
    {
      "cell_type": "code",
      "metadata": {
        "id": "R3oqy5DSt6ga",
        "colab": {
          "base_uri": "https://localhost:8080/"
        },
        "outputId": "311648a9-c0a5-491f-fbd8-e1671a36d6d6"
      },
      "source": [
        "t.split(' ')  #สามารถแบ่งtext ได้ คืออันนี้มันบอกว่าแบ่งตรงช่องว่าง"
      ],
      "execution_count": 91,
      "outputs": [
        {
          "output_type": "execute_result",
          "data": {
            "text/plain": [
              "['python', 'is', 'easy']"
            ]
          },
          "metadata": {
            "tags": []
          },
          "execution_count": 91
        }
      ]
    },
    {
      "cell_type": "code",
      "metadata": {
        "id": "gJV_Sh-quHmg"
      },
      "source": [
        "time ='12:30:15'"
      ],
      "execution_count": 67,
      "outputs": []
    },
    {
      "cell_type": "code",
      "metadata": {
        "id": "gzQDsONkuuAR",
        "colab": {
          "base_uri": "https://localhost:8080/"
        },
        "outputId": "5c074bd9-e265-47b3-e428-29c20c9286c5"
      },
      "source": [
        "time.split(':') #อันนี้บอกว่าตรงที่แบ่งคือตรง:"
      ],
      "execution_count": 70,
      "outputs": [
        {
          "output_type": "execute_result",
          "data": {
            "text/plain": [
              "['12', '30', '15']"
            ]
          },
          "metadata": {
            "tags": []
          },
          "execution_count": 70
        }
      ]
    },
    {
      "cell_type": "code",
      "metadata": {
        "id": "-1ZhONxQu62m",
        "colab": {
          "base_uri": "https://localhost:8080/"
        },
        "outputId": "61eab500-6a14-4069-80c7-fd6ac333c1fb"
      },
      "source": [
        "t_sp = t.split(' ')\n",
        "print(t_sp)"
      ],
      "execution_count": 71,
      "outputs": [
        {
          "output_type": "stream",
          "text": [
            "['python', 'is', 'easy']\n"
          ],
          "name": "stdout"
        }
      ]
    },
    {
      "cell_type": "code",
      "metadata": {
        "id": "t93_79UqvF0o",
        "colab": {
          "base_uri": "https://localhost:8080/"
        },
        "outputId": "5ba1945c-747d-4550-aa4c-6f9b508a4ee3"
      },
      "source": [
        "print(':'.join(t_sp)) #อันนี้เป็นการรวมกลับ"
      ],
      "execution_count": 72,
      "outputs": [
        {
          "output_type": "stream",
          "text": [
            "python:is:easy\n"
          ],
          "name": "stdout"
        }
      ]
    },
    {
      "cell_type": "markdown",
      "metadata": {
        "id": "sYNeo0DyvWtS"
      },
      "source": [
        "### HW คำนวณเวลาเป็นวินาทีของเวลาต่อไปนี้โดยใช้คำสั่ง split() ช่วย (print ออกมาให้สวยงาม)\r\n",
        "12:30:15\r\n",
        "13:41:07\r\n",
        "12:53:15\r\n",
        "00:59:25\r\n",
        "11:11:11\r\n",
        "16:06:09\r\n",
        "21:12:30\r\n",
        "10:06:15\r\n",
        "00:01:10\r\n"
      ]
    },
    {
      "cell_type": "code",
      "metadata": {
        "id": "V8P6jkz1vrkj"
      },
      "source": [
        "q1 = '12:30:15'\n",
        "#code\n",
        "#code\n",
        "#code\n"
      ],
      "execution_count": null,
      "outputs": []
    },
    {
      "cell_type": "code",
      "metadata": {
        "id": "v73em2hWxZn-",
        "outputId": "ca981c95-6a0c-4785-df64-6a0e2f484cd1",
        "colab": {
          "base_uri": "https://localhost:8080/"
        }
      },
      "source": [
        "q1 = '12:30:15'\r\n",
        "q1.split(':')\r\n",
        "list_q1 = [12,30,15]\r\n",
        "h = list_q1[0]*3600  # 1 ชั่วโมง = 3600 วินาที\r\n",
        "m = list_q1[1]*60   # 1 นาที = 60 วินาที\r\n",
        "s = list_q1[2]\r\n",
        "ans_q1 = h+m+s\r\n",
        "print(ans_q1,'วินาที')"
      ],
      "execution_count": 92,
      "outputs": [
        {
          "output_type": "stream",
          "text": [
            "45015 วินาที\n"
          ],
          "name": "stdout"
        }
      ]
    },
    {
      "cell_type": "code",
      "metadata": {
        "id": "JPdv-8HOJCDj",
        "outputId": "df6125c1-7c21-4b6f-e9d3-d9339063d570",
        "colab": {
          "base_uri": "https://localhost:8080/"
        }
      },
      "source": [
        "q2 = '13:41:7'\r\n",
        "q2.split(':')\r\n",
        "list_q2 = [13,41,7]\r\n",
        "h = list_q2[0]*3600  # 1 ชั่วโมง = 3600 วินาที\r\n",
        "m = list_q2[1]*60   # 1 นาที = 60 วินาที\r\n",
        "s = list_q2[2]\r\n",
        "ans_q2 = h+m+s\r\n",
        "print(ans_q2,'วินาที')"
      ],
      "execution_count": 139,
      "outputs": [
        {
          "output_type": "stream",
          "text": [
            "49267 วินาที\n"
          ],
          "name": "stdout"
        }
      ]
    },
    {
      "cell_type": "code",
      "metadata": {
        "id": "2bcavmq-KJtl",
        "outputId": "c4efde30-3f67-4bc8-a840-4fbad79bda96",
        "colab": {
          "base_uri": "https://localhost:8080/"
        }
      },
      "source": [
        "q3 = '12:53:15'\r\n",
        "q3.split(':')\r\n",
        "list_q3 = [12,53,15]\r\n",
        "h = list_q3[0]*3600  # 1 ชั่วโมง = 3600 วินาที\r\n",
        "m = list_q3[1]*60   # 1 นาที = 60 วินาที\r\n",
        "s = list_q3[2]\r\n",
        "ans_q3 = h+m+s\r\n",
        "print(ans_q3,'วินาที')"
      ],
      "execution_count": 100,
      "outputs": [
        {
          "output_type": "stream",
          "text": [
            "46395 วินาที\n"
          ],
          "name": "stdout"
        }
      ]
    },
    {
      "cell_type": "code",
      "metadata": {
        "id": "MqOVKoEvLKFc",
        "outputId": "29f9b8ac-aec2-45ef-b8ec-f145cbc13e20",
        "colab": {
          "base_uri": "https://localhost:8080/"
        }
      },
      "source": [
        "q4 = '00:59:25'\r\n",
        "q4.split(':')\r\n",
        "list_q4 = [00,59,25]\r\n",
        "h = list_q4[0]*3600  # 1 ชั่วโมง = 3600 วินาที\r\n",
        "m = list_q4[1]*60   # 1 นาที = 60 วินาที\r\n",
        "s = list_q4[2]\r\n",
        "ans_q4 = h+m+s\r\n",
        "print(ans_q4,'วินาที')"
      ],
      "execution_count": 104,
      "outputs": [
        {
          "output_type": "stream",
          "text": [
            "3565 วินาที\n"
          ],
          "name": "stdout"
        }
      ]
    },
    {
      "cell_type": "code",
      "metadata": {
        "id": "1SeD6T7tLi9I",
        "outputId": "2cef643a-8b1e-41a1-c122-5e58ee659e7b",
        "colab": {
          "base_uri": "https://localhost:8080/"
        }
      },
      "source": [
        "q5 = '11:11:11'\r\n",
        "q5.split(':')\r\n",
        "list_q5 = [11,11,11]\r\n",
        "h = list_q5[0]*3600  # 1 ชั่วโมง = 3600 วินาที\r\n",
        "m = list_q5[1]*60   # 1 นาที = 60 วินาที\r\n",
        "s = list_q5[2]\r\n",
        "ans_q5 = h+m+s\r\n",
        "print(ans_q5,'วินาที')"
      ],
      "execution_count": 106,
      "outputs": [
        {
          "output_type": "stream",
          "text": [
            "40271 วินาที\n"
          ],
          "name": "stdout"
        }
      ]
    },
    {
      "cell_type": "code",
      "metadata": {
        "id": "k1u-IkFOL1K4",
        "outputId": "a095aa2c-0295-42b2-8a4f-c71f16f3f78a",
        "colab": {
          "base_uri": "https://localhost:8080/"
        }
      },
      "source": [
        "q6 = '16:6:9'\r\n",
        "q6.split(':')\r\n",
        "list_q6 = [16,6,9]\r\n",
        "h = list_q6[0]*3600  # 1 ชั่วโมง = 3600 วินาที\r\n",
        "m = list_q6[1]*60   # 1 นาที = 60 วินาที\r\n",
        "s = list_q6[2]\r\n",
        "ans_q6 = h+m+s\r\n",
        "print(ans_q6,'วินาที')"
      ],
      "execution_count": 141,
      "outputs": [
        {
          "output_type": "stream",
          "text": [
            "57969 วินาที\n"
          ],
          "name": "stdout"
        }
      ]
    },
    {
      "cell_type": "code",
      "metadata": {
        "id": "Yz3T0sboL1GZ",
        "outputId": "6b8904aa-8494-4353-d8dc-35bc5de4a42e",
        "colab": {
          "base_uri": "https://localhost:8080/"
        }
      },
      "source": [
        "q7 = '21:12:30'\r\n",
        "q7.split(':')\r\n",
        "list_q7 = [21,12,30]\r\n",
        "h = list_q7[0]*3600  # 1 ชั่วโมง = 3600 วินาที\r\n",
        "m = list_q7[1]*60   # 1 นาที = 60 วินาที\r\n",
        "s = list_q7[2]\r\n",
        "ans_q7 = h+m+s\r\n",
        "print(ans_q7,'วินาที')"
      ],
      "execution_count": 110,
      "outputs": [
        {
          "output_type": "stream",
          "text": [
            "76350 วินาที\n"
          ],
          "name": "stdout"
        }
      ]
    },
    {
      "cell_type": "code",
      "metadata": {
        "id": "dUz5YGDDL1BU",
        "outputId": "49188958-8afe-4325-bc8e-9d531983b32a",
        "colab": {
          "base_uri": "https://localhost:8080/"
        }
      },
      "source": [
        "q8 = '10:6:15'\r\n",
        "q8.split(':')\r\n",
        "list_q8 = [10,6,15]\r\n",
        "h = list_q8[0]*3600  # 1 ชั่วโมง = 3600 วินาที\r\n",
        "m = list_q8[1]*60   # 1 นาที = 60 วินาที\r\n",
        "s = list_q8[2]\r\n",
        "ans_q8 = h+m+s\r\n",
        "print(ans_q8,'วินาที')"
      ],
      "execution_count": 142,
      "outputs": [
        {
          "output_type": "stream",
          "text": [
            "36375 วินาที\n"
          ],
          "name": "stdout"
        }
      ]
    },
    {
      "cell_type": "code",
      "metadata": {
        "id": "CqRFjg_eL0yM",
        "outputId": "214e9ae3-8763-421f-cc94-cd1143ba8d5e",
        "colab": {
          "base_uri": "https://localhost:8080/"
        }
      },
      "source": [
        "q9 = '00:1:1'\r\n",
        "q9.split(':')\r\n",
        "list_q9 = [00,1,1]\r\n",
        "h = list_q9[0]*3600  # 1 ชั่วโมง = 3600 วินาที\r\n",
        "m = list_q9[1]*60   # 1 นาที = 60 วินาที\r\n",
        "s = list_q9[2]\r\n",
        "ans_q9 = h+m+s\r\n",
        "print(ans_q9,'วินาที')"
      ],
      "execution_count": 143,
      "outputs": [
        {
          "output_type": "stream",
          "text": [
            "61 วินาที\n"
          ],
          "name": "stdout"
        }
      ]
    }
  ]
}