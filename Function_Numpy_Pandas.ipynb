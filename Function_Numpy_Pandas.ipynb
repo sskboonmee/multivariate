{
  "nbformat": 4,
  "nbformat_minor": 0,
  "metadata": {
    "colab": {
      "name": "Function_Numpy_Pandas.ipynb",
      "provenance": [],
      "authorship_tag": "ABX9TyOnQ3QW4M5FnzBmvtE8SdER",
      "include_colab_link": true
    },
    "kernelspec": {
      "name": "python3",
      "display_name": "Python 3"
    }
  },
  "cells": [
    {
      "cell_type": "markdown",
      "metadata": {
        "id": "view-in-github",
        "colab_type": "text"
      },
      "source": [
        "<a href=\"https://colab.research.google.com/github/sskboonmee/multivariate/blob/main/Function_Numpy_Pandas.ipynb\" target=\"_parent\"><img src=\"https://colab.research.google.com/assets/colab-badge.svg\" alt=\"Open In Colab\"/></a>"
      ]
    },
    {
      "cell_type": "markdown",
      "metadata": {
        "id": "9CzOepGMSU0a"
      },
      "source": [
        "#function\r\n",
        "หน้าที่คือรับ input และทำตามกระบวนการละก็ได้ Output ออกมา\r\n"
      ]
    },
    {
      "cell_type": "code",
      "metadata": {
        "id": "1Nn9tL2XS8D9",
        "colab": {
          "base_uri": "https://localhost:8080/",
          "height": 130
        },
        "outputId": "6c82e364-2ce4-474a-cb69-36f8e56e236d"
      },
      "source": [
        "def function_name(_Input_) :\r\n",
        "   do_something with _Input_ to produce _Output_\r\n",
        "   return _Output_ "
      ],
      "execution_count": null,
      "outputs": [
        {
          "output_type": "error",
          "ename": "SyntaxError",
          "evalue": "ignored",
          "traceback": [
            "\u001b[0;36m  File \u001b[0;32m\"<ipython-input-1-b77750dda936>\"\u001b[0;36m, line \u001b[0;32m2\u001b[0m\n\u001b[0;31m    do_something with _Input_ to produce _Output_\u001b[0m\n\u001b[0m                    ^\u001b[0m\n\u001b[0;31mSyntaxError\u001b[0m\u001b[0;31m:\u001b[0m invalid syntax\n"
          ]
        }
      ]
    },
    {
      "cell_type": "markdown",
      "metadata": {
        "id": "ahKZ1bMfUjNT"
      },
      "source": [
        "function ของ python มีส่วนสำคัญทั้งหมด 4 ส่วน \r\n",
        "1.บอก python ว่าเราจะเขียนฟังก์ชันอะไร def function_name(): ซึ่งขาดไม่ได้เป็นส่วนสำคัญ\r\n",
        "2.กำหนดตัวแปรที่จะเป็น Input \r\n",
        "3.ส่วนประมวลผล do_something with input to get Output \r\n",
        "4.ส่วน output return Output "
      ]
    },
    {
      "cell_type": "markdown",
      "metadata": {
        "id": "0Kl8tGgsXSBE"
      },
      "source": [
        "ใช้เว้นวรรคบอกขอบเขตของฟังก์ชัน"
      ]
    },
    {
      "cell_type": "markdown",
      "metadata": {
        "id": "x1xkDnu8WNLt"
      },
      "source": [
        "####สร้างฟังก์ชัน"
      ]
    },
    {
      "cell_type": "code",
      "metadata": {
        "colab": {
          "base_uri": "https://localhost:8080/"
        },
        "id": "JAFWwcRzUlr0",
        "outputId": "4a01ef01-a2b5-4a16-b11a-6903a65a8c1a"
      },
      "source": [
        "def print_name(name,surname,ID):\r\n",
        "    st = f'ชื่อ {name} นามสกุล {surname} ID {ID}'\r\n",
        "    return st\r\n",
        "print('Outside  function')  #อันนี้คืออกจากฟังก์ชันเพราะมันไม่ได้อยู่ในฟังก์ชันขอบเขตก็คือที่วรรคเข้าไป"
      ],
      "execution_count": null,
      "outputs": [
        {
          "output_type": "stream",
          "text": [
            "Outside  function\n"
          ],
          "name": "stdout"
        }
      ]
    },
    {
      "cell_type": "markdown",
      "metadata": {
        "id": "MYXBiJQPWR2T"
      },
      "source": [
        "####เรียกใช้ฟังก์ชัน"
      ]
    },
    {
      "cell_type": "code",
      "metadata": {
        "colab": {
          "base_uri": "https://localhost:8080/"
        },
        "id": "eXN-YQWqVP66",
        "outputId": "e6e74fcf-fb74-466f-cc89-9520f000a9ff"
      },
      "source": [
        "output_string = print_name('ศศิกานต์' , 'บุญมี' , '623020539-9' )\r\n",
        "print (output_string)"
      ],
      "execution_count": null,
      "outputs": [
        {
          "output_type": "stream",
          "text": [
            "ชื่อ ศศิกานต์ นามสกุล บุญมี ID 623020539-9\n"
          ],
          "name": "stdout"
        }
      ]
    },
    {
      "cell_type": "markdown",
      "metadata": {
        "id": "PSZWsTbvSdWp"
      },
      "source": [
        "####ฟังก์ชันไม่จำเป็นต้องมี Output"
      ]
    },
    {
      "cell_type": "code",
      "metadata": {
        "id": "Lk3bXi36XfKc"
      },
      "source": [
        "def print_name2(surname,ID,name):\r\n",
        "    st = f'ชื่อ {name} นามสกุล {surname} รหัส {ID}'\r\n",
        "    print(st)"
      ],
      "execution_count": null,
      "outputs": []
    },
    {
      "cell_type": "code",
      "metadata": {
        "colab": {
          "base_uri": "https://localhost:8080/"
        },
        "id": "fPAX-nm_X-F7",
        "outputId": "fe7a1e18-4d65-4d0a-facc-949dee3ddd82"
      },
      "source": [
        "print_name2('ศศิกานต์' , 'บุญมี' , '623020539-9')"
      ],
      "execution_count": null,
      "outputs": [
        {
          "output_type": "stream",
          "text": [
            "ชื่อ 623020539-9 นามสกุล ศศิกานต์ รหัส บุญมี\n"
          ],
          "name": "stdout"
        }
      ]
    },
    {
      "cell_type": "code",
      "metadata": {
        "colab": {
          "base_uri": "https://localhost:8080/"
        },
        "id": "w6jksQBFYHyD",
        "outputId": "691a1c51-e811-42e2-9ca4-1589458ea192"
      },
      "source": [
        "op2 = print_name2(' ศศิกานต์' , 'บุญมี' , '623020539-9' )"
      ],
      "execution_count": null,
      "outputs": [
        {
          "output_type": "stream",
          "text": [
            "ชื่อ 623020539-9 นามสกุล  ศศิกานต์ รหัส บุญมี\n"
          ],
          "name": "stdout"
        }
      ]
    },
    {
      "cell_type": "code",
      "metadata": {
        "colab": {
          "base_uri": "https://localhost:8080/"
        },
        "id": "0n394SZfYbOi",
        "outputId": "5312d7f0-550e-40ca-b268-52c27d05a5c2"
      },
      "source": [
        "print(op2)"
      ],
      "execution_count": null,
      "outputs": [
        {
          "output_type": "stream",
          "text": [
            "None\n"
          ],
          "name": "stdout"
        }
      ]
    },
    {
      "cell_type": "markdown",
      "metadata": {
        "id": "7qaIQSL4Y_HL"
      },
      "source": [
        "####ฟังก์ชันไม่จำเป็นต้องมี Input"
      ]
    },
    {
      "cell_type": "code",
      "metadata": {
        "id": "x6ekYg8XZGQ7"
      },
      "source": [
        "def Pi():   #อันนี้แค่แบบreturnค่าที่เราต้องการเฉยๆ\r\n",
        "    return 3.14159265359"
      ],
      "execution_count": null,
      "outputs": []
    },
    {
      "cell_type": "code",
      "metadata": {
        "colab": {
          "base_uri": "https://localhost:8080/"
        },
        "id": "5mJ_wMYqZVrD",
        "outputId": "48915dd4-f674-4825-8f49-023d31aa45f5"
      },
      "source": [
        "#คำนวณพื้นที่วงกลมที่มีขนาดเส้นผ่าศูนย์กลางเท่ากับ 3 \r\n",
        "Pi()*(1.5**2)"
      ],
      "execution_count": null,
      "outputs": [
        {
          "output_type": "execute_result",
          "data": {
            "text/plain": [
              "7.0685834705775"
            ]
          },
          "metadata": {
            "tags": []
          },
          "execution_count": 9
        }
      ]
    },
    {
      "cell_type": "code",
      "metadata": {
        "id": "VHKencgbZmpD"
      },
      "source": [
        "def print_my_name():\r\n",
        "    print('ศศิกานต์  บุญมี  ID6230205399')"
      ],
      "execution_count": null,
      "outputs": []
    },
    {
      "cell_type": "code",
      "metadata": {
        "colab": {
          "base_uri": "https://localhost:8080/"
        },
        "id": "dX3b95yYZ6JS",
        "outputId": "0e1fc151-631c-4e62-c2f1-42844f5d7220"
      },
      "source": [
        "print_my_name()"
      ],
      "execution_count": null,
      "outputs": [
        {
          "output_type": "stream",
          "text": [
            "ศศิกานต์  บุญมี  ID6230205399\n"
          ],
          "name": "stdout"
        }
      ]
    },
    {
      "cell_type": "markdown",
      "metadata": {
        "id": "1Jj7wdlzaD39"
      },
      "source": [
        "### 1.input ของ Function ใน Python มี 2 แบบ  คือแบบที่จำเป็นต้องใส่กับไม่จำเป็นต้องใส่ \r\n",
        "(มีค่า Default) เราต้องเรียง input ที่จำเป็นต้องใส่ขึ้นก่อน"
      ]
    },
    {
      "cell_type": "markdown",
      "metadata": {
        "id": "fWmhlGQzciNU"
      },
      "source": [
        "####2.เราต้องเรียง Input ที่จำเป็นขึ้นก่อน"
      ]
    },
    {
      "cell_type": "code",
      "metadata": {
        "id": "Nx-f1gKXatm-"
      },
      "source": [
        "def print_2lines_default(name, surname, ID, grade='F'):\r\n",
        "    st = f'ชื่อ {name} นามสกุล {surname} รหัส {ID}'\r\n",
        "    print(st)\r\n",
        "    st2=f'เกรดวิชา Multivariate >>> {grade}'\r\n",
        "    print(st2)"
      ],
      "execution_count": null,
      "outputs": []
    },
    {
      "cell_type": "code",
      "metadata": {
        "colab": {
          "base_uri": "https://localhost:8080/"
        },
        "id": "Mcq_0-54bmFN",
        "outputId": "68ca780f-0726-47e4-f0cf-5a8e72a84cc9"
      },
      "source": [
        "print_2lines_default('ศศิกานต์' , 'บุญมี' , '623020539-9')"
      ],
      "execution_count": null,
      "outputs": [
        {
          "output_type": "stream",
          "text": [
            "ชื่อ ศศิกานต์ นามสกุล บุญมี รหัส 623020539-9\n",
            "เกรดวิชา Multivariate >>> F\n"
          ],
          "name": "stdout"
        }
      ]
    },
    {
      "cell_type": "code",
      "metadata": {
        "colab": {
          "base_uri": "https://localhost:8080/"
        },
        "id": "xRJVf3kmb6-U",
        "outputId": "0bd2686c-1a8f-4fdd-ac9a-0432440d3942"
      },
      "source": [
        "print_2lines_default('ศศิกานต์' , 'บุญมี' , '623020539-9' ,'A')"
      ],
      "execution_count": null,
      "outputs": [
        {
          "output_type": "stream",
          "text": [
            "ชื่อ ศศิกานต์ นามสกุล บุญมี รหัส 623020539-9\n",
            "เกรดวิชา Multivariate >>> A\n"
          ],
          "name": "stdout"
        }
      ]
    },
    {
      "cell_type": "markdown",
      "metadata": {
        "id": "SqLJufL8cKYF"
      },
      "source": [
        "####เราสามารถเรียกฟังก์ชันโดยใช้ชื่อตัวแปรของฟังก์ชันช่วยได้"
      ]
    },
    {
      "cell_type": "code",
      "metadata": {
        "colab": {
          "base_uri": "https://localhost:8080/"
        },
        "id": "UCX7wibjcSOM",
        "outputId": "0cff2320-e257-4007-af7e-f14e7b8217c5"
      },
      "source": [
        "print_name2(name='ศศิกานต์' , surname='บุญมี' , ID='623020539-9')"
      ],
      "execution_count": null,
      "outputs": [
        {
          "output_type": "stream",
          "text": [
            "ชื่อ ศศิกานต์ นามสกุล บุญมี รหัส 623020539-9\n"
          ],
          "name": "stdout"
        }
      ]
    },
    {
      "cell_type": "markdown",
      "metadata": {
        "id": "e3c_wAMIc8Kb"
      },
      "source": [
        "###HW ให้เขียน function คำนวณจำนวนวินาทีจาก เวลา ต่อไปนี้\r\n",
        "\r\n",
        "'14-15-31'\r\n",
        "\r\n",
        "'13-00-01'\r\n",
        "\r\n",
        "'05-49-44'\r\n",
        "\r\n",
        "'00-00-16'\r\n",
        "\r\n",
        "และ print ให้สวยงาม"
      ]
    },
    {
      "cell_type": "code",
      "metadata": {
        "id": "_aVKX1yncx4W"
      },
      "source": [
        "def function_q (times):\r\n",
        "    q = f'เวลาทั้งหมด = {times}'\r\n",
        "    print(q)\r\n",
        "    times_sp = times.split('-')\r\n",
        "    h = int(times_sp[0])*3600\r\n",
        "    m = int(times_sp[1])*60\r\n",
        "    s = int(times_sp[2])\r\n",
        "    aq = h+m+s\r\n",
        "    print(f'คำนวณเป็นวินาทีได้เท่ากับ {aq} วินาที')\r\n",
        "   \r\n",
        "\r\n"
      ],
      "execution_count": null,
      "outputs": []
    },
    {
      "cell_type": "code",
      "metadata": {
        "id": "AIb9qhZykq-K",
        "colab": {
          "base_uri": "https://localhost:8080/"
        },
        "outputId": "ec702aec-0c94-4f49-d633-6efe85a421a6"
      },
      "source": [
        "function_q('14-15-31')"
      ],
      "execution_count": null,
      "outputs": [
        {
          "output_type": "stream",
          "text": [
            "เวลาทั้งหมด = 14-15-31\n",
            "คำนวณเป็นวินาทีได้เท่ากับ 51331 วินาที\n"
          ],
          "name": "stdout"
        }
      ]
    },
    {
      "cell_type": "code",
      "metadata": {
        "id": "1IY_bD4IllIB",
        "colab": {
          "base_uri": "https://localhost:8080/"
        },
        "outputId": "847baf8c-ca3d-4e4a-b9b2-2f41686f4957"
      },
      "source": [
        "function_q('13-00-01')"
      ],
      "execution_count": null,
      "outputs": [
        {
          "output_type": "stream",
          "text": [
            "เวลาทั้งหมด = 13-00-01\n",
            "คำนวณเป็นวินาทีได้เท่ากับ 46801 วินาที\n"
          ],
          "name": "stdout"
        }
      ]
    },
    {
      "cell_type": "code",
      "metadata": {
        "id": "EONofk_Wls4i",
        "colab": {
          "base_uri": "https://localhost:8080/"
        },
        "outputId": "a9667e61-a84c-4d8f-8eba-ca4cb49a871c"
      },
      "source": [
        "function_q('05-49-44')"
      ],
      "execution_count": null,
      "outputs": [
        {
          "output_type": "stream",
          "text": [
            "เวลาทั้งหมด = 05-49-44\n",
            "คำนวณเป็นวินาทีได้เท่ากับ 20984 วินาที\n"
          ],
          "name": "stdout"
        }
      ]
    },
    {
      "cell_type": "code",
      "metadata": {
        "id": "Qhf5EuQnlxYw",
        "colab": {
          "base_uri": "https://localhost:8080/"
        },
        "outputId": "008757b8-3554-4dda-cb93-3c2fc7e35e2e"
      },
      "source": [
        "function_q('00-00-16')"
      ],
      "execution_count": null,
      "outputs": [
        {
          "output_type": "stream",
          "text": [
            "เวลาทั้งหมด = 00-00-16\n",
            "คำนวณเป็นวินาทีได้เท่ากับ 16 วินาที\n"
          ],
          "name": "stdout"
        }
      ]
    },
    {
      "cell_type": "markdown",
      "metadata": {
        "id": "y1qLDPLqQNNG"
      },
      "source": [
        "##Numpy  -> package สำหรับจัดการกับ Array ที่เป็นตัวเลข (Matrix)\r\n",
        "\r\n",
        "Num+py ->Number-Numerical + python \r\n",
        "\r\n",
        "การใช้ package\r\n",
        "1.import ชื่อ package #เรียกใช้ Package \r\n",
        "2.ชื่อ package.ชื่อฟังก์ชัน #เรียกใช้function"
      ]
    },
    {
      "cell_type": "code",
      "metadata": {
        "id": "B7eYHpvJR_s9"
      },
      "source": [
        "import numpy"
      ],
      "execution_count": null,
      "outputs": []
    },
    {
      "cell_type": "markdown",
      "metadata": {
        "id": "AzEyXIIGSDid"
      },
      "source": [
        "data structure -> array "
      ]
    },
    {
      "cell_type": "code",
      "metadata": {
        "id": "5rouHA0pTsMk",
        "colab": {
          "base_uri": "https://localhost:8080/"
        },
        "outputId": "8f13384a-ea05-4a2c-b2dc-ed015968480b"
      },
      "source": [
        "mat_ex1 = numpy.array([[5.2,3.0,4.5],[9.1,0.1,0.3]])\r\n",
        "print(mat_ex1)"
      ],
      "execution_count": null,
      "outputs": [
        {
          "output_type": "stream",
          "text": [
            "[[5.2 3.  4.5]\n",
            " [9.1 0.1 0.3]]\n"
          ],
          "name": "stdout"
        }
      ]
    },
    {
      "cell_type": "markdown",
      "metadata": {
        "id": "O93cwrcYUtCe"
      },
      "source": [
        "ชื่อค่าใน numpy array"
      ]
    },
    {
      "cell_type": "code",
      "metadata": {
        "id": "V414s1gAUx8-",
        "colab": {
          "base_uri": "https://localhost:8080/"
        },
        "outputId": "c0731b0b-b51f-499c-ec5e-931d39b6ce97"
      },
      "source": [
        "mat_ex1[1,1]  #[แถว,หลัก]  #แถวแนวนอนหลักแนวตั้ง"
      ],
      "execution_count": null,
      "outputs": [
        {
          "output_type": "execute_result",
          "data": {
            "text/plain": [
              "0.1"
            ]
          },
          "metadata": {
            "tags": []
          },
          "execution_count": 24
        }
      ]
    },
    {
      "cell_type": "markdown",
      "metadata": {
        "id": "n-dRe_OmVyZT"
      },
      "source": [
        "ถ้าไม่มี numpy array"
      ]
    },
    {
      "cell_type": "code",
      "metadata": {
        "id": "GPLQjOStV4Jj",
        "colab": {
          "base_uri": "https://localhost:8080/"
        },
        "outputId": "cc1b3672-d187-4041-c703-51c85287ae1e"
      },
      "source": [
        "list_ex1 = [[5.2,3.0,4.5],[9.1,0.1,0.3]]\r\n",
        "print(list_ex1)"
      ],
      "execution_count": null,
      "outputs": [
        {
          "output_type": "stream",
          "text": [
            "[[5.2, 3.0, 4.5], [9.1, 0.1, 0.3]]\n"
          ],
          "name": "stdout"
        }
      ]
    },
    {
      "cell_type": "code",
      "metadata": {
        "id": "kyfM6ImoVurz"
      },
      "source": [
        "list_ex1[1,1]"
      ],
      "execution_count": null,
      "outputs": []
    },
    {
      "cell_type": "code",
      "metadata": {
        "id": "SxzppnILQf5O",
        "colab": {
          "base_uri": "https://localhost:8080/"
        },
        "outputId": "a0667389-7afb-45c8-8f77-6fa3073cf26b"
      },
      "source": [
        "list_ex1[1][1]"
      ],
      "execution_count": null,
      "outputs": [
        {
          "output_type": "execute_result",
          "data": {
            "text/plain": [
              "0.1"
            ]
          },
          "metadata": {
            "tags": []
          },
          "execution_count": 27
        }
      ]
    },
    {
      "cell_type": "code",
      "metadata": {
        "id": "XJh1LoHiXl6l",
        "colab": {
          "base_uri": "https://localhost:8080/"
        },
        "outputId": "d8120ab4-4d52-4ab4-ccd1-904392da7860"
      },
      "source": [
        "print(list_ex1)\r\n",
        "a = list_ex1[1]\r\n",
        "print(a)\r\n",
        "print(a[1])"
      ],
      "execution_count": null,
      "outputs": [
        {
          "output_type": "stream",
          "text": [
            "[[5.2, 3.0, 4.5], [9.1, 0.1, 0.3]]\n",
            "[9.1, 0.1, 0.3]\n",
            "0.1\n"
          ],
          "name": "stdout"
        }
      ]
    },
    {
      "cell_type": "markdown",
      "metadata": {
        "id": "JzOz6O1lYBoD"
      },
      "source": [
        "##Matrix Operations\r\n",
        "data -> 2 แบบ matrix(2D array ) , scalar (ตัวเลขค่าคงที่)"
      ]
    },
    {
      "cell_type": "code",
      "metadata": {
        "id": "Y6v3tQ8DX2Sa",
        "colab": {
          "base_uri": "https://localhost:8080/"
        },
        "outputId": "b3e92cb3-e768-43fb-8f4c-c59ea5b29880"
      },
      "source": [
        "mat_ax1 = numpy.array([[5.2,3.0,4.5],[9.1,0.1,0.3]])\r\n",
        "print(mat_ex1)\r\n",
        "mat_ex2 = numpy.array([[2,3.7,5.9],[91,1.5,7.3]])\r\n",
        "print(mat_ex2)"
      ],
      "execution_count": null,
      "outputs": [
        {
          "output_type": "stream",
          "text": [
            "[[5.2 3.  4.5]\n",
            " [9.1 0.1 0.3]]\n",
            "[[ 2.   3.7  5.9]\n",
            " [91.   1.5  7.3]]\n"
          ],
          "name": "stdout"
        }
      ]
    },
    {
      "cell_type": "markdown",
      "metadata": {
        "id": "X_HuL0cgZAeC"
      },
      "source": [
        "##บวกกับลบ matrix เอาตัวเลขตำแหน่งเดียวกันมาบวกหรือลบกัน \r\n",
        "(หน้าตาของ matrix ต้องเหมือนกัน)"
      ]
    },
    {
      "cell_type": "code",
      "metadata": {
        "id": "CB_ugj96ZyAV",
        "colab": {
          "base_uri": "https://localhost:8080/"
        },
        "outputId": "01c90504-096e-4047-b2da-f8122017e286"
      },
      "source": [
        "mat_ex0 = numpy.array ([[1,2],[3,4]])\r\n",
        "print(mat_ex0)"
      ],
      "execution_count": null,
      "outputs": [
        {
          "output_type": "stream",
          "text": [
            "[[1 2]\n",
            " [3 4]]\n"
          ],
          "name": "stdout"
        }
      ]
    },
    {
      "cell_type": "code",
      "metadata": {
        "id": "dpl3ZcRxZCTK",
        "colab": {
          "base_uri": "https://localhost:8080/"
        },
        "outputId": "cd4b2a01-0eb7-4b73-b42c-870e9733a232"
      },
      "source": [
        "mat_ex3 = mat_ex1 + mat_ex2\r\n",
        "print(mat_ex3)\r\n",
        "mat_ex4 = mat_ex1 - mat_ex2\r\n",
        "print(mat_ex4)"
      ],
      "execution_count": null,
      "outputs": [
        {
          "output_type": "stream",
          "text": [
            "[[  7.2   6.7  10.4]\n",
            " [100.1   1.6   7.6]]\n",
            "[[  3.2  -0.7  -1.4]\n",
            " [-81.9  -1.4  -7. ]]\n"
          ],
          "name": "stdout"
        }
      ]
    },
    {
      "cell_type": "code",
      "metadata": {
        "id": "xHAfsKPsaDwS"
      },
      "source": [
        "mat_ex1 + mat_ex0 "
      ],
      "execution_count": null,
      "outputs": []
    },
    {
      "cell_type": "markdown",
      "metadata": {
        "id": "s3LBcEOWaIqa"
      },
      "source": [
        "การตรวจสอบขนาดของ matrix  ใช้คำว่า shape"
      ]
    },
    {
      "cell_type": "code",
      "metadata": {
        "id": "vvqS_gsDace5",
        "colab": {
          "base_uri": "https://localhost:8080/"
        },
        "outputId": "5072aa4d-841b-460d-82f8-b62a4ed199cc"
      },
      "source": [
        "mat_ex3.shape"
      ],
      "execution_count": null,
      "outputs": [
        {
          "output_type": "execute_result",
          "data": {
            "text/plain": [
              "(2, 3)"
            ]
          },
          "metadata": {
            "tags": []
          },
          "execution_count": 34
        }
      ]
    },
    {
      "cell_type": "code",
      "metadata": {
        "id": "sIeOVrxBahzU",
        "colab": {
          "base_uri": "https://localhost:8080/"
        },
        "outputId": "a79a4231-7d3b-47bc-ed93-7bf8d8db9004"
      },
      "source": [
        "mat_ex3.shape[0]"
      ],
      "execution_count": null,
      "outputs": [
        {
          "output_type": "execute_result",
          "data": {
            "text/plain": [
              "2"
            ]
          },
          "metadata": {
            "tags": []
          },
          "execution_count": 35
        }
      ]
    },
    {
      "cell_type": "markdown",
      "metadata": {
        "id": "vnwXxq1ua_cM"
      },
      "source": [
        "##คูณ matrix"
      ]
    },
    {
      "cell_type": "code",
      "metadata": {
        "id": "M9njJWUOb4_Z",
        "colab": {
          "base_uri": "https://localhost:8080/"
        },
        "outputId": "19a0fa4a-a101-40aa-c6de-81e2b0757b18"
      },
      "source": [
        "print(mat_ex1)\r\n",
        "print(mat_ex2)"
      ],
      "execution_count": null,
      "outputs": [
        {
          "output_type": "stream",
          "text": [
            "[[5.2 3.  4.5]\n",
            " [9.1 0.1 0.3]]\n",
            "[[ 2.   3.7  5.9]\n",
            " [91.   1.5  7.3]]\n"
          ],
          "name": "stdout"
        }
      ]
    },
    {
      "cell_type": "code",
      "metadata": {
        "id": "CHMgKApzbD7x",
        "colab": {
          "base_uri": "https://localhost:8080/"
        },
        "outputId": "dfcdbcb0-2c01-4dcd-ff3d-8a7371fdbf8e"
      },
      "source": [
        "mat_ex1 * mat_ex2  #incorrect"
      ],
      "execution_count": null,
      "outputs": [
        {
          "output_type": "execute_result",
          "data": {
            "text/plain": [
              "array([[1.040e+01, 1.110e+01, 2.655e+01],\n",
              "       [8.281e+02, 1.500e-01, 2.190e+00]])"
            ]
          },
          "metadata": {
            "tags": []
          },
          "execution_count": 38
        }
      ]
    },
    {
      "cell_type": "markdown",
      "metadata": {
        "id": "FZCKxHqNer_6"
      },
      "source": [
        "## การคูณ matrix (แถวคูณหลัก)\r\n",
        "(หลักของตัวข้างหน้าต้องเท่ากับแถวของตัวข้างหลัง)\r\n",
        "\r\n",
        "\r\n",
        "dot product  ( (AAA,x),(x,ZZZ) ) = (AAA,ZZZ)"
      ]
    },
    {
      "cell_type": "code",
      "metadata": {
        "id": "WUjCh2IlbtHp",
        "colab": {
          "base_uri": "https://localhost:8080/"
        },
        "outputId": "bf3c7d46-b310-46fe-dbe7-90a5ed30ea0e"
      },
      "source": [
        "print(mat_ex1)\r\n",
        "print(mat_ex1.shape)\r\n",
        "print(mat_ex2)\r\n",
        "print(mat_ex2.shape)"
      ],
      "execution_count": null,
      "outputs": [
        {
          "output_type": "stream",
          "text": [
            "[[5.2 3.  4.5]\n",
            " [9.1 0.1 0.3]]\n",
            "(2, 3)\n",
            "[[ 2.   3.7  5.9]\n",
            " [91.   1.5  7.3]]\n",
            "(2, 3)\n"
          ],
          "name": "stdout"
        }
      ]
    },
    {
      "cell_type": "markdown",
      "metadata": {
        "id": "cgYIicYff6i5"
      },
      "source": [
        "# Transpose กลับแถวเป็นหลักกลีบหลักเป็นแถว\r\n",
        "\r\n",
        "matrix.T"
      ]
    },
    {
      "cell_type": "code",
      "metadata": {
        "id": "XTZHbRoTgLmZ",
        "colab": {
          "base_uri": "https://localhost:8080/"
        },
        "outputId": "f901aa26-be0a-4391-d013-79ee1f7a33da"
      },
      "source": [
        "numpy.dot(mat_ex1,mat_ex2.T)  #(2,3.(3,2))"
      ],
      "execution_count": null,
      "outputs": [
        {
          "output_type": "execute_result",
          "data": {
            "text/plain": [
              "array([[ 48.05, 510.55],\n",
              "       [ 20.34, 830.44]])"
            ]
          },
          "metadata": {
            "tags": []
          },
          "execution_count": 45
        }
      ]
    },
    {
      "cell_type": "code",
      "metadata": {
        "id": "rG8KfAG6gaJo",
        "colab": {
          "base_uri": "https://localhost:8080/"
        },
        "outputId": "8b0c2cae-217c-42f0-ac00-f5823b29b708"
      },
      "source": [
        "numpy.dot(mat_ex1.T,mat_ex2) #(3,2).(2,3) = (3,3)"
      ],
      "execution_count": null,
      "outputs": [
        {
          "output_type": "execute_result",
          "data": {
            "text/plain": [
              "array([[838.5 ,  32.89,  97.11],\n",
              "       [ 15.1 ,  11.25,  18.43],\n",
              "       [ 36.3 ,  17.1 ,  28.74]])"
            ]
          },
          "metadata": {
            "tags": []
          },
          "execution_count": 47
        }
      ]
    },
    {
      "cell_type": "markdown",
      "metadata": {
        "id": "W8pdensiil_r"
      },
      "source": [
        "HW 4 อธิบายการหา Deteminant และ Inverse matrix (รูปและคำอธิบาย)"
      ]
    },
    {
      "cell_type": "markdown",
      "metadata": {
        "id": "YThMmQ46yuZZ"
      },
      "source": [
        "####Inverse Matrix \r\n",
        "คือ เมทริกซ์ผกผัน \r\n",
        "\r\n",
        "![image.png](data:image/png;base64,iVBORw0KGgoAAAANSUhEUgAAAZAAAAB7CAYAAABaS9Y5AAAgAElEQVR4Ae2dB1RcV5rna3fPhjNn95wNMzs7sz2h156Z7pnd6e5xt91tu9vTbbXd3Y7tIDnKsizZypKTMooIhBII5SyRRBA5iQwiCASIKHKRKVIRK5D57SmCVMCrBFWiwJdz6lDvvht/96v3f/e+e78nQ/wJAoKAICAICAKzICCbRRqRRBAQBAQBQUAQQAiIMAJBQBAQBASBWREQAjIrbCKRICAICAKCgBAQYQOCgCAgCAgCsyIgBGRW2EQiQUAQEAQEASEgwgYEAUFAEBAEZkVACMissIlEgoAgIAgIAkJAhA0IAoKAICAIzIqAEJBZYROJBAFBQBAQBISACBsQBAQBQUAQmBUBISCzwiYSCQKCgCAgCAgBETYgCAgCgoAgMCsCQkBmhU0kEgQEAUFAEBACImxAEBAEBAFBYFYEhIDMCptIJAgIAoKAICAERNiAICAICAKCwKwI2ImAjDIy0o9apUKl/1Fr6R+aVbvmlGh4cACNqndaXfoYGhqZU77fucSj/Wj0+1P3Xa1GO7g4SAwP6NonYSfDwk4WRw+LVpgiYCcC0oui/gxPymQ889yzPP300/z0R3/Hbzacxr/IVBOsf742Iw7HV/4H//jU0zz99C949hkZsh/uJS230fqFLdocB9Gqb/C3uj59frxPf/Yv/4/n3v2SU1mLo9HVKRHs+/3/4p/07eQHjtwrVCyOBopWCAImCNiPgChCOHsu30R15+t0LfFxoeTkCAExvwcG0WhD+OqbNPOTLPiYcqIiQyksaF7wLRENEATMIWBHAhKMu/s96TqPDjOs6aGzq4vu7l7U2gFGpWNaFDo6NIC2t5uuri66unrQ9A8iPflQQXR0sBAQi+gOotEEs3lzopmpRhkdUI33xVgf28881+jgTDuRtr9SQkKCKRACYmafi2gLncACEJBRRppLuH/09zy95Of8n7/7KWuOhlI/JP0TtqRDlHkxnP/w3/PPL7/EL1/8Bt/0UnolMxACIonFaKBlAjLar6AqchP//Nwv+PGvX2SdczKDc+9iozU092RbdjinPvjv/Pjll3j+xa0EZlegkkwsBEQSiwhctATsX0A0TZTGneZSZDUwQEvNDV6RvcEJ77w5dkoV6XHX8UupxvS9rhAQy2FbIiBqlIpbOJ5IHBNwlfIWH/zLRlwzLS/V+inKSYq8QXBmHabXcwgBsT5/kaM9E7B7AdF2dVNdXELnBMXBZjkJ3/6enddS6JoD2eGKJG5fDSLkvgrtwADDRvMSAmIUj+RJCwRkYJDBphZaJ/JR1VVy+ZuDBJVIZvxYA4dLYwi7FkFUvgrtoCk7EQLyWDtHFDbvBOxeQGYQapeTe3oXp0N1I5LZ/qmovB/Boc8+5Lf/+3k2egWT1zeI4VkxISCWk7ZAQCYzHxlBXVtE3vH32XLBHhZU9FKaFczBzz7kN//xF3wZEEmhUTsRAjLZleL/d4PAAhOQUVpKs3HffZnEGut0UEd5Phfe/jPePRpCTpuhSXchIJbTtlxANJ3tBG5+ln/9w1tsOZ6MdsDyUo2nGGGgT4WytZVWiU9LWydqjfSEZvuDbM689m9YejKaAqUhOxECYpy/OLvYCCwoARnprSI7xJUb1lKPid4cqMvCY9duwlOqDPSv/QmItlNJV9+IVVajGWj0HIMtF5DxAvvpznPnN9//I9t85jLKlKq+hrri2zh9+C4ffbKCFSv0Pss/4J31p0jJbpBKOBbWX53Kpa37iL1r6O5FCIhBeOLEoiSwYARkdLiXsqxgzvgkYOjnO/seqic98ToBsYUGVtfYSEC03XS0daAZNP4ERtcubZeS1mYFzR19Y82M3fArdmd1ozGddPZY5pRytgICIz1Kcvc9y3KnCDrmVAdrJ64hKfoqwSklqCWzFgIiiUUELloCC0NARodpys/h+sUw8jXA6CADvT10a63TL6MD5cTGh5CRa2gDmI0EpMyfvS9tJLK+huaudlqaWugeGpLcixJ/ZCs7Pn8W2dYMtEPlXFv+ew4X9aCV3rhiEZihTgUt0uuXLcpnauTZCwiqBh6cXscOz4qpWc7z0Uj/AyKiw8gumHzcP71CQkCmExHHi5uA3QvI8NAgTbmJeGzbimtCJ8o2BYq8ZFI9rxJQOcvOGe5D3dVCY0MjiuZmMsKiuRGag9ygINlIQFAS4XSEwLqr7D6xCpnsCc42tkiMgtrwuRxEY2MGJ8/FoW71Yeuy/cT2asxYWmqC0Ugvd9fIkAWYiGfxaQsEZGQInYjVNzShUFRTlBfCt5s9iJ5t/1pcVwMJhrWoOpsf2klaYDgeUQXUjg8CJRIJAZGAIoIWMQE7EpAQ3N2zZ6Duaa4naN/nfLl9B9u/2cSmTRtZv34HpyJTqZsR28wAdTV5UUdZ/8V6Nqxbxe4b2ZS0GUtbSXR0iA12orcQ6nSUoDv7uZoZyYZffoVnU6uEgEB5+HW2PydDtvQi0Rte4hvvMrT9hh7mGmsL9DY3UF9fS5Nu1NEcgNurMl4MNZ7G8rM6AQlh8+Yk00n7uumI2MPyLzawccN6vnW+QbShx1Gmc7NeDFUl98Jcxu1k7SocvPOpUBrLvoyQ0BDhysQYInFuURGwEwHppqnJg+PHU+0UbjERQZ7cy663cv26uX3EmYt+GziVHszaF7fg2SglIDoXH53kn93J5vWr+GK7D1X9A5JTXeZUMMv9Kzat+RjHlInYt5/nKZsIiAerV0eaU6VFEiefQF8v8vObFkl7RDMEAeMELBOQUehWKAy4+zBekPGzShoa9rB3b4jxaPN1tjORwLOHSbe6gEBVQiBu2/bjXx7CtlVb8JAUkFKCLx9hn8NO9vpWMWDmg/NeRTPdJplpaDv/X5C5KyRHPiaTG4zQj1q9h1deuWwwxqI7obyNt9tRcoSALLquFQ2SJmCRgIyMKDn7xE/xtPoD114UilBOncqRruV8h3ZmER0ST06ZtAckXfWGVR20NNRQXVNDTU097X2Tu5a1dLY3UltdTX17HwMjoO1opbVn/PujpuVx/sv1XG/QH4FoaG+up7amnsYmBYqWLgueefTj+8LTuDf2mhipZOG2fS+7N7uQ/qgyVvg2hFYbypYtyVbIa4Fk0ZFG6K0kCqt0Kz3EnyCw+AlYICCjqJtO8ZrsL3jasdAAmVFGhlU0yauQV1dTrf+Ry6mpb0IpuTlMJyBGvPEaKO2xBXdmEh0UQ06pIeXspzbxFpcdtrH3wD7W/fwV9semUT0wCgPp3DjrwpfvPMVbp0tRKNUknXTielotnVP2rOVydou+gPTR1X6LbV8fYOvW/TgeWsf/li0nsKwNXbam/kZ7Atj2ugzZihTUI2YkmJJhHwqpPtT1p7yGlv4pkQ0cWPAQ3UAOCy64I42QgHgKKqUX+S649ogKCwImCJgtIKOjGtJ2rScs2o1f/ngvOZIrUUbo15TjueMbdux2wMHh0Wf3rt0cOu3FHcmHkAtdQGrISkrl/t1ymrsG6SwI4ci7q/AtbaS/Lha/gDyy4zw5esKftAB3znrF0qycfpc6TUD6Yti/YT2uPhVUVTfT0l5G7LlP+LPV0Sh6JVVYr6tHuH/CkfhYN56RrSau3dINhwr8d3w1ow8ddu9m924nwlr0ijL4VQiIQTTihCCwSAiYKSCjjCoT2HVF592ulbDl32Opv6SCzBLLQhcQaLkTxGWnn/LXm29RrEjl1vndnC2S04WWBwl+nDx4EGfng+w+6E1he4/EVNQ0AUl1Ytt1OcqAYxw+uZcPfnmY3JKTLPvjfjK7VMadP6oz2HdR50uqh4xd/50nTrcxaukgZJY9+SiZEJBHLMQ3QWBxEjBTQKDt9H/mqSsN1FaVUX7qBWQfe9M946Kkm8Lqpb68jPKKCir0P+XlVFbX0yY5/bHwBaQ8IZbk7JPsP+JOQsUtLpx14EJRFZIDLklb0gnIBm4o2hkbm1T6c9qvgvRzF/GvKiHuShQFpaf441uHuNelNiogWt/XeeVUKcWV9TR5LUP2o+M0qGd0lmQtxgO1NJSXzuzDinLKyytRmHXvIATECGBxShBYFATMExBNA6fe3cCJE844OTnhePgrnv+T53AqmH5RGqFfW4HvAQcOHDrEIb2P40FHjl30JV3SN8XCFxBV2V0i9r3NU7KviJEHc2lMQOR00oeyuYaK0lKqmrX0j4C6tYmmzvHvj6wol3NfL+dgYhY1Y65N1CS77Oaq+7P85P2t7PCvY1juycY3DxoXkJEObm47gJuLI05Ozri47eZFmYwVKYYXADyqw+S3ZoL272K/49Q+POToiKPjcSINbcSeTD72XwjIFBziQBBYhATMEpD22M04TLkAKYhc8T2ecbyHwc3bFsFa+AIy1tyKcC59vovb1SFcPrebc8U19PRn4Hn+JLtXvcwHZ0tQtPWQ4HYYr4w6uvQfoqtTue5xmSOvfsblmraxJbXtIXtY+uJyTiZpGHvq0eLLmtcOGBUQdcZB9sXo70NQk7n3KWSf3MboXkmL+sucyEJAzKEk4ggCC5mACQFRU1NUiPOf/jOX6tvGL2K61g4rKD38fWSy17kor6ZeclRhCZZFIiCKdLx2bOdipAs7nE4QVNFCf0MC/v73yIi8gtNhLxK8XTnvm0BLxzTprQjHM7mA+5dP4VXaTg/Q4r+FN/Zl0qmaeBdekxcrfu1AZqfUFFYfLbVyzj3/W44XVtL18KGHihaP95DJZDgVFlBm1ujBkr4zFFcIiCEyIlwQWCwETAhIAyFHDuF65ixnzsdN3MGOMDR0l4su7pw9exp39wsEFc8Vh05ApF2ZzDVnq6TX7QMJjiWn1NQ0kIbyrNtcO36UkwEFtHToLvwaSu6EcMnVjVOnXDniGsiDjl6Jh+i1pIRd4bjTJVK7esbEujs7FJ+ocnomXe52ZnHLM4oqdZ/E3g4lyR7nOHPanaNHgqkdHJpw9V6I7/nznDt3FvfDB7iYOX3a0SqEJDIZRKs105WJROoFGTS2jDeBwiqxjHdB9p+otMUETAiIxfnNMkE3jY1XOXrUTjeddaYT7n2TrELzH4nPEsQiSqYbgVxl5cqwRdQmE03pSObWDX/ySidfwGwivjgtCCxwAnYiIO3U169nxw5fwzhHB9C2yymVNxrYjGg4qeSZYRWdTeUU5BdQ8KCGjq5pU0r6ibri8Xf9hrQMe/Dwp18xe/6uc2WynuefP2mFSg7R3yGntLKedslVfFYoQpeFzqljdTF5+YUUFlag6DSxXHp6sZ1R3Di8jXs5tdPPiGNBYFESsCMB2czOnf7SkAe1qMvjCTj8HN/beIa4dulo5of20V2bTPh1Z1zO7GLluo1cuFVIj6GLU1cC/m7bSbsrN7+I73xMnYBs5oUXTs2NxFA/2soUQk/8Gtnyw0TY6hnOsJrOvGii3A5y+qwDqz55l63no6k1aBQSzeqMxsNlF/dyZ+0nWiJTESQI2C8BOxKQjezY4SdNSt1Oc/IZtu94kz/uvEzSXGeShpooyo0lsVjBKFpKU0/x0bcRpBh6g+rYCGSrEBDp3jEQqhOQjfzyl+4GzpsZrO1CmXqO3Xve4dVNbty20VKy4bYS0m4Hk1Wpcz+ppirrAkv/2xfcSqmQeN5koO4dUXgc3sG9XDECMUBIBC8yAnYiIB00NBzl4MEoI3h7aag6y6dbLpA4VwFRa9DqPrrSBlWURPpz2SODakNT132ZBF935W6W9V+ma6TBC/zUABrNUd55x9sK7dDS2nCJ5SuP20xANO1KWlrbHi5LH6pIw3fTWjySSzBr36SuldpUbl5wIzfP8HvVrQBDZCEI2A0BOxEQ3SosnTfemS+UekSqk5pSd1ZYQ0AmMtV0tFMZfgaX9QeIyzL2o68k+naoDV4o9ah1i++bNb3x9tBUc56PbCgg0/kPlN/h5uGLxOV1TT9l5Lic0LBQCgsNvRrZSFJxShBYgATsSEBMeeO1voAoq8uJu7CVL1atx/1mNh0qQy/asNUrbRegxZhdZUP7QEYZGminJOsuWffucW/KJ4us7DxK5NOHmI9ZQEZUFMUEcPFaBrWW6AfilbZmm4eIuCgIfKcFZKwHh5WURbvw5u/2E5TVZMDHlBAQy63dkIDoPDZXE335ApevXuXqlM8VLl/343ba9KnCxykgI6iqk7nlf5Msy9QDhIBYbiYixYImIAREt7G+KgO/zWvxSi5BeiGWEBDLrdyQgFiek86r8OOawurrrCYuyJeg/FosGnyMNUuMQGbTuyLNwiWwgASkm/qKM6z86hIphh52z7If1A8iuLT/EvH5hl4AKwTEcrTWFBA1LfUXWb7Kldg5u80x3JIRVQe5kbEEplTTrtuwr22ntaGVFkPvEZuRlRCQGUhEwKImsDAEZFhLb9Mdbl5bzVNL1uKWKKd+LiKiakNRlEFKahoZGZFcu+7B6cAq6g3pB0JALP8VWElAhvtQN6cT6LOOH/10OUfiKqi1gYiola1k3XDi27WOnAzIJiszgwwvN24EJpFrtq0JAbHcTkSKhUxgYQjIYA9tpbHc9PbnVoAfgdFZFCrmgL2rnqrkADy8fPDx8iQwpYoGnfdCg39CQAyiMXjCSgIypKKzMg4fL38Cb/kTGJnK/UaDhc76RFe9nJQgH/wC/PH388HHxwcvryBSquoweF8xozQhIDOQiIBFTWBhCMi8d4EQEMu7wEoCYnnB85hCCMg8whdFzwMBOxKQEE6fyZ0HBOYUWU1sTIjYB2IOqodxBtFog9nyVcrDkMX/pZLw8BAKC8Q+kMXf16KFOgL2IyCNHmx4z5WUO8kkJCSQkBBPUkYh5TZyXWGs+7ubaslNjiN+rB5JpCRfZbfzBTJzbDB3YqwiC/rcIFqNL2/98BB39Po08U4mBXOZfrQjJrppr5wpdnKJrQcucX9O86t21EBRFUHABAE7EZB+VD0F3A4MIjAoiCDdJ/AWIbGZc3vWYaLxhk531JRzJ9SfW4GTdQkiMCqLBvOX4xjK+jsUPsLQYAmxU/o0kOCIOO4uEl+DSnkJyTPsJBtFm6n3xnyHzEA0dVETsBMBWdSMReMEAUFAEFiUBISALMpuFY0SBAQBQcD2BISA2J6xKEEQEAQEgUVJQAjIouxW0ShBQBAQBGxPQAiI7RmLEgQBQUAQWJQEhIAsym4VjRIEBAFBwPYEhIDYnrEoQRAQBASBRUlACMii7FbRKEFAEBAEbE9ACIjtGYsSBAFBQBBYlAS+wwLSTWNNOmH+/vhPfnx9CEqppM5s993Ws4mGnDtE3PLFb7IufgH4RRWg1gxaWEgtadGhBEzm4++P301PwopG0L3iYqH/abuU3AvxwtdPr9+C47lf0mKjpnVRV5VGqB5Pf18fglNraDTfTa/V6laflUh4wHQ7KUTbP2S1MsYzqiI+8NYje5ywo8gyKxczT9n1tjSSEew91Y5CUiid8Trl6RXsol7SHqppsPwNZNMzt/i4/l6SpD1o+iy9blhc9FiC77CA1JGefB5XZ09S0+6QkpJCclIiqQWNFrxAaHbQpVK1lRWQeSeJ5OQUUlJSSU935Y3PvWhrV0tFNxIWzxev7icuLnGsTWPtSowno3p0UQhIv6qb0vQEksY43SH1Tgg3vE9wwbPACJO5nKomKfYsp4/5kJr6yE7SChXMh8eSlpL7ZKRM2kka6enHeHG5D13dfXNppETaMH4m20VaWuoUO8pcJG5oNB1tFKfp2VGqP6cvniI4qlyChX5QDSnx53A/6j3VHgqa5sUeWkvzuPvQHnTXjeO8tMKbji6tfqVt9v27LSDpIaSk1NoM7twyvscRl2DaLRaQBFZ/Ecrw8NxKXzipu6mpDsXTw4YCkhTC3bsNdorkLvv2BtNtdQEJ5yc/C7PTNtuiWi3k54cQFWmGgKSEkJ5Rb4tKWCHPTA4eCKarUwiIFWAay6KO9PRgEhPl0pE6ayhN9Oe6hzfeN2MoblJijUGhpiqbhCBvPD09ue5xm4rOXqQnH+7i7DxLAVkdzMCAmQrSk4mfhydent54RlVIs5iH0GGNiprEm3h4eOLpGcDttBKk3yyrpLIyGA+bCkgwaWkGbjQGFJRlRhFT0IBywFqgNFRkxhHo7cGNm4nUqvsYMZh1Gg4ONhKQnwQbLHXGiY5UvK564OXtT3BS9YzT8xUw1N1OedxNPDw98fAMIvl+FdJj+iZyc4OJNEtAgklNrZFuUoec4nh/buiuG76xlDR3Wue6UZFFXKDuuuHBdY8YKrvVSP/C09m3L5hOISDS/WO9UCMC0t9EacxNonxCyMr2xWXvcj49eIvKZulLmPl1aiXl8hGu3Qom8W4GqWkFKFRaA4bwOASkgvCDO/DOuEdO9j5kso+JtgsNGaCrNZWLG3cQmJVJRnoWBWUNSN9TzaOAtFVSFLiPj38m4z3ve1RKX5nMN4+JmC0FEezffonw26mE7PkaF+9UujWG1MkeBKSIoH278M3KJD11J/9Ntp0UA9dXi2HMKYEWRVUMl/Y4E6qrW3o2D6qbkZ7ss4KA9DXwIMqHaN8wsrJ9OLTzI1Y5B1PdOlfvzC0knnXiWnDow+tGs8GbCiEgczIZ8xMbFhBNXSEZ6elUd+p+tAPUpF5lzY/WEHJPjqGfsVnltoRzxfseFWY9pH8MAtJ2F7+M8ok7sl6uyGTIbpnVEttGGuigLesCRyPNATWPAtLTQmNpEMcc3mLDzWyqrCIgLYQd/oSVHg9o7weUETh8tomgwna0ksMQOxCQ5jT8s+ToqgvNnP4bGW9H29ZEzMpdU0/VHW+up5pz4zd3AdHU5JGWcZfabt1cRT/ypAt89n83EHG/dm6jkOZgznnkIDf62u1JIkJAJknY+L9hAenv6aVXrX7U6WVx3PhqJ1HZNQZGC+ZUVU253x5WfuqEi3sQOd2qR/lLJn8MAtLV82haSB7DJ0v286BVsjKPMXAYTVseN9//Cb/Z7k9kWi7G3z81jwIyRqWaeP+v2OJ1zzoC0hzG0c/X4lPSinps2Vwtfg6vsTJAgVJyCGYHAtLdy8N77OJw1i13p6LjMZqMZFFDdFWncOnD11i2J4DY+yUYfzfd3AWkr7uHXo3m0e+6JIpLmx2Iy6s3MgUpWXm9QDWlXtv4+FMXjp4KJlelMTDlPZlECMgkCRv/Nywg0wvuvBeGm3MwmVXj91jTz5t33EdzdRlF+Xlc3fwZq51cCJZ3o5aeyAQeg4BMVLw46ArXV8iQvRJjXlNsGmuEfm0bpbk5JEeGsW3Jz9gfl0m5wbv7+RaQKmJvbmGzlQREk3SaTb/6msSG9onRbithju/zwsF8WnukhiB2ICAT9pDn487Zj2TINt+xqYWYl/kwmh4FJbm5xPh5882yP3I8tYAaSRHW5Th3AZler467tzh6OJyc6rnMW/TRJC8du25cXvsRqw4fI7S6F43B64YQkOn9YKNjMwVkoIHkm9cIjCylZy76odcKVUsDdw5/ykeHomhUSs/IPk4BURTfpyBkBTLZSrzTrb2YfYSBvhoiz53m/MWLXJzyucD5S16EJkkvZBgdGqAqOYzTqz7lVKKhccjiEpCWqBN89uPNJOgLyKEPeWJzIi1dUhci+xGQxvy7ZPp9iOzvtxOWY860kd6PwuTXIVRdZYSdPyNpR+eu+JOYJb3GeKhPQ2mUN0c37MQvy9A4xMoC0l9PvOcVQmIq6JXqNpPtnRmhV1FHsuP7LHOOpbnL0MVICMhMcjYJMUdA+mnICuRaeAzl1rKCibaMdMZx+JsTZNe1GxiSPr4RyFiVhpqIWC1D9lN/rDv7MMrwUAdlOffIyc0ld9onJ7fA+Oat4S7KU4+x50jso+m2KfawuARkOOM83778rd4IpI3wg8v4w/FyWiWvyfYjIGPdoqrCXzcKWR2JdW9FJkamOdkSdpRDzv0iquqNlDjQRHbUcU55ZNh2FdYYhH7qMvy4GhVPlcpK6jFh8yMdtzmw8QT3mzoNTKcLAZlyebDdgWkB6ajIwtc3lDsNvRMPCK1Zm3wuuHpQWtdhYIPfYxYQXdMCn0YmuzK3hQLWRDSWVy/NLUEcP5L0aG55ShmLS0Co9efge6vxbWxFM9bOcjx3/o4vwhUoJW867UxAAI3X88jeDjDQX1M67zEetFNRfosbHvcM3LBZbwSiLEvHxzeCtCaVDX5L9zl1+AYVTV0GrhtCQIwblaqNpsSb+N3JpdF4TBNnjQvIQFMpsX6JJJZOPLRSllB8v4YaK92eKzKvczz0Ps09hiYzH7eA9JL2qQyZuzkrn0ygteLpIVUbiX5H8cp7+Jh2Wu7zLSA1JAZ8zde+edRKXuCnVdfU4XAntx3Xs9b7Pp1DMFDmybpl+7hb1WngwmdvAtJC7AoZv/Qwa8mQKRpWO9/XLifS/wqRpeOyPDNj6wjIQEMx0b7JpJRPLM9vL6bwfp3V3CM1ZVzEJbSANpWh64YQkJl9qx+irKLI5VVWno22mYC0lhXg89XL/Oo3q9i47xxnz5zi5PrPOBGbTeVsLxI9hSQGX8bN1Q33k8fZfiKV7Lo+Bg06qHoMAlLgzXFXN06ePMVp93W86lKM3EoCqd9lFn0fUtFZEojrUVdOnnTDxc2TC+ENdEjvttStc52/jYRqOXkJR/nodzJkL33K/lC5VfwhqVtzOLvLkcOOx9n5xgY8UktQD0o9QNeRtQMByb6K0zGdHZ3E7eRWPjtTQf08+AmbYmcDHTTl+eF6zBX3k644uQXgndhCt6HrrhUeouvczHht/g3PvriGLfvPckZ33Vi7guMJecz6OXp3PnG3Lj28bmw9kc79xn4j1w0hIFPsYMaBqpZir01sOR1H+4yTlgTUk54eSpLErlm1shV5SRHFD4opLi6iqKiQwsJSart6Zj+V1d9OfVUJhYWFFBbkU9rYh3H/d1kcdgmZhSuTRL74ItS8neht5RQUFlJUVDRWp/K5AbUEvuG4I4P0KasoLNAxL6S4rIYmybn/ySw6qEMP3bkAABViSURBVJKH4mkzX1g1JCeHkp4u8YB2sIuWunKKix/woLiQktouegytiZisrln/B1E2yCkpKqSguJqugSED0xW6zDLYszfEBq5MInn66VCzaktzCXkF43ZUVPQAuT0MYoe1qForJuyogAeVjbQZXMmna6aC3LxQokz6wqolJSWU1NSZngnU7S2S14267jlMgfe3UVepd91o6se4k4m77D8QQpfwhWXAdkf6ULXXU9vUMcf5xQckJjoSHZ1voKB5Du7x4us1J2ltM3r1lKjkFV54wZH+fms4XpHI3t6CBhsou7OPsxcybFSzAm7fdiQhodhG+c8x256rrP7Inc4uQ1Mzs83/GDKZ42wTL7x0/aVkhjtyK9iUT7VCYmMdiYsrss829lxn7Qp3OjqMqqXV6v4ddqZYxZ07V4iLK7UaTKtmpLjBHucY2jotvaUNZtmyK/QbH95Ytarzmpm2nopEd64E28p3Rhnx8VdISamc12YaLLzxIl8fiKfLyqsEwXNsQYXBchfbCVUJ2RGXCU0y9WS1nMTEKyQl2YXPn5m90HSZrQfj6Oy27uqvmQWNh5ghIM1Ee9we38XZFMaRPYdwvRCC7rUAow3RXA18ACP1RFy8Qapu6Do4QMaF3RxwOoyzsxNOxy9wM005VtqAVk3qeQcOOjvjdi2E8dmjPrq7Urhw4ADHrkaQVg8D3UoyIsLJ6YH+rnYSzx/koJMzTk4unA9JpXRCXHU+/WPO7MXxsDOn/NPJM7RVQLL1uofoISQm2o/jtynVVPhx+Hwu7V2WjiQS+fzzEPOmsKYUuEAPtI1UpXrhGWur+bcakpJCDDtTnG9sjZ7sOZ1Ht8rgQ6JZ1jCCn/40ZJZpF2AyVTm5cUFE3TU1/1ZDSkqI5BSWXbS6yZv9Z+7T1Wtte5BunUkBGW24zjPfO45uxq/Rw5mL1dUkfLMEpwJourYU2VtHKBh9gOMTf+BqHQzVhHPxZh319TXUVMuprKiitm0ABlV0JnlwwKeK0tw0rn/+Gtt9amFIiSLRlb0e+eREX+ByZBMdhQE4HY2ht6eTmsCTOOz3o0oupyI/mZjrO9kfnkuzthl5dDAXwuUUJgZzfM02PBIsURDjq7CkcT3GUIUvzueyZyEgCay2xBvvY2ySTYrSNlKZ6olHjNQGMd3u/wyuHdjLwUOHOKT3Obj/IOcisyg3tLjrYWWrSUoy4o33Ybx5+tLogcOp+3oCoiT5+mlcHA/iqNdeXdsP7N6Pf/UgwwYXbui3IZyfWOKNVz/pQvyuE5DYQCIzTK0i0QmIEW+88932Ji/2nc6l024EpGQfsj87hc77very6/zikDPb33yOtVGQcXQzsT6unG8s4/gLb3OjEUY6Krm0cR9Oh49yxjuGh/f3w4MMtjfQpPvB9nVQfX4569zvjTkdaysJ5etl29i26hf84zMbOXPxJoW6qZuRfjQtdTS1T87vqmnI82bbvsukdwzS39HG2EbutjIyjn3DpZASC7pPCIgFsOw3qlEBGUaraqemvIzyigoq9D7l5eVUNynpMTnAW2gC0k9rrZzK8vIp7dW1vbysnHqVuW+mFAIibfRCQPS5mB6BlB5A9qfuYwJCRy1lJSWcekXGZ3El+J5MQ1N4nJXXEjn52lKuN+myHqG9ppzK0kLywvax62YGMwaFGiXNHmtY6549VpehwR4aqyqorJJTJa+mobnLwJr3PhrLozi46zyJ47Ni421pKyP3zC4uhlryPEMIiL4hLNjvRgXEGq1aaAJijTbr8hACIk1SCIg+F/ME5HtnaZ5MNTpC8BsyPjp0jL1hg6BOYcu7X/H1O5+MjUAmo+mEpC//EL9b4cmYrjw6ARolihtfsHZsBKJ/wtT3YVrlMRzaLSEgp4WAjNMTU1iPrKgPhTyNCzu3stPBAQe9z67tuzgZmkGZyUVuC01A2om/dJwDu3exW6+9Dg672fH1DnzkYgrrkX3ofRNTWHowzP9qUkCo2I9M9l/58mzcuI+koSFuvSzjV0tPEqjbVDfUTeLmJfzi7U/xmFjAMKjtI8VtPes+fJm3vvSd6Y77oYDoRiCDdHXG4/rN1+w7E0hSje7BeRt3Am9xV286crCjidwbu/h8+Zu8t+cqydNHIEJAJnpdCMgj8x+mT91Bg1yOvLqaar2PXC6nrqUT08+eF5qA9NPeUEu1XD6lvbq2y6vkNKlHjewpeUROjED0Weh/FyMQfRomBaTu6mE82trI2HmYZF3KoSH8fyfjhxuixzfVDfbTefFZZM9+iufYUGMQjSaNy4cSqIzdyetfGBmBnMqFoQ4Uca4c9C2hKP4SV8Lr6ci/yaEjMaj0Nt92NtaTEHCK8PSb7Np1nnj9RTe6KSwhIBP9KgRE38Dn/n2hCcjcWzyeg5jCkiYpBESfi0kB0Vz9LX/y7W7W/PYoY08Yhgbx+n8y/ufRyXXQg/Q1ufEnsiVcatBlPUqfqoHLf3iJ9Svf5OMzEs8l1G00XlzK+y6Z4w/Ry8L58ndrWLv0B/yXv1vFiXO+lPRMXcesbqwicuc/8euPV7HNLYwp+4JbHnDv6CbcAx7ot83Ed/EMxASghXFaPAOZtgrLWt0mBESapBAQfS4mBYRuBXV1dTQ0dYx71xwdpVvRgKJzcvnKKCOj3TQ3NjMZNDoyQldTLXUNClq7JdYjjwwx2NlCi3J8ddXQkJrW+jrqGxpoaGikRdk7w1Xx6GA/PS311NU30dapmnp+qA+Nso2Obks23Rl2ZaIPaN6+K/w5fPE+7VL8jFYqyXxXJkbzWSAnx/aB+OAZqz+nac26G3FlYs1iZptXoxd7zhbQbdC53mwztsCVyWyLsKd0Y/tAgom6a8Ql/Fh9DbsysYvm6PaBnMu3n30gdgHFJpXQuTLZR1RUnk1yn3Omzef4csMFWttNblSYVtQlnntu33fHlUlfLaW3t3Hmeu40DtY6zCc6eh8JCXbqukLhymcrL9HZbfBVe7MEcRiZbN8s0y7AZOoi7t7aS0C4qa0AhcTE7CMurtA+G6lw54vVl+jonNz6YNtqmh6B2Lb8ecy9gPj4TYSH6/aiGPjrqyYnzI3TscXUW+P32ZtL6KW9rFu1jjWHomg35q+mxZ117x+ixWJfWK48+eQm6whIawDfrt1J4MMleAY4zSV4UIMq9gAffLaO9Rv3c97/LhY5Au+roSRyNW7nUudSCyNpc4iI2ERcnKEbDQ3ld4Nx2biKzzafJlXeMkcfbRNV6c0m6Nwhrtxvo0diEP+wwgoXPnjV2Qa+sLYjk216WMycvtTdZJeDK7el9nrOKWO9xLqtAWF7+WjVOjZscsY7Nv/Re9r1ohn8qi4g/eZGfAPvG4wyfiKX6OhNxMQYiddXSWawK2cSSmm0ynUjm8BzDqxbvY41TreN3yw0H2P5m84ojV1bTLTQktPfcQHZTETE+F6UGdAac7nj9j5/I5PxgeddM3Ysz8hhWkAlUddOEppZSL3yNi7fvsOOm/W0G/J5phOQD51n4UzRlb//+81zF5CU/bz7rzJkMhnHZjoenda2WR4Oq+ku8sBlv87rcDWFec48KVvJhajJ52tm5DsmIJ9z8lyaGZFnEyWHyMjNBgWkKTcO552XiMmQUxJyGec9VymtNTUNYqIepRHc2P7iGPvNSU10TH0cODWx4ggfvO5iAwHZgUy2eWpZlh7ppqpjd/HGMzJk33+HK2PPSC3NxIz4gx00Zt7gwqkY2pWlZNzZwz/9w7fcumOBf7QxAdmEX6ChG4XJetwnOnqzYQGpv0fS8aX8hUzGxzezqTT0+57MzuT/csIuuBKWXUyDMhLHTW+yK0BBpyFhaj7GJ28dFgJikuucI+QTF7fO8AhkQIu2+x7+l9aw4UbG3AWkrYaSxiaUQ+NLy3Iuf80HZ6ow+BZOhStrljnOYgRyjL/5m3VzF5BeJa3tN/iVTMbxKSsW5gz+YQZDGhXl8aHcn9gOPtBdTfCK7/PhwQjzX6urraYkfIUNRyDZRESsIzZW6o5TwZ3A3aw9f4cy3bBpuJBb5zbhHFaEYrbvjdHR0fbS0xXHkXVL2G5KQJqceO8PTjYQkG+RydY97KtZf+lVUFN7gd/L/shVU34KZ1lIf2c7JalxlEysyVY35ePx3vNsv5xs/mt1Vfmke681awQSFbWO27cNTJkOaNF0Z+JzdhWbvLOpmquAtMp50KigY2jc/0zW2XUsPVeLwtAwvcmFj193EgIyS1uyIFk1qak+xMcbu9utITn4WzZdt4KADA4xNDrhhKgmgbMO58kr72DEoF+iJA7s95vF+0CiWL7cx0reeCN42YYColts0a/RPvI6oFbScGUFnx+7Y0E/tlH5wJtrN0zdOVqQ5ZSolSQk+JCaKp8SOnbQdIfAvZu4lFrG+PuT2knz28NqtxxK9ZeZz0xpRkg+l3e+wfbERuMjEOLYvtWPLqs/A/Hnz//cx4x6mooyytBgAG/KXreZgIwMDzPQ1/doYU1HDcWnN+DskWOqcnrn68m560N4hMSqUb1YUEVSkg8pKVVTQqceyIn3+5LNXvfmLiC668Zk5tUxuO04T2FVl5HrRjy7dvjRaXCIMpmZdf5/h6ewzFnGW01i0DfWEZCJ/iqN8OTASzJkSy6jaDP2gDwT58PBsxCQBD7/PNhK3njDecmGAjLdhPs62wn9+lMOJultAJoeacaxksqqEBu+UMrwPhDV/QhOvrMS73uVjN9odnE34BBvrAuhoNaSFYEzGgXc5+KO180QkDQc9gTb4IVS4Tz1VLBUxSwMG2Gg3583bCgg0yvU21CJz84DXM6yxI6ayL0fTGRk+fTsph2bs4y3iljfLdYRkInSH4RcZe8SGbLfXqOtw9gD8nT27Q8WL5Sa1ms2OJwfAelXq+kt8WT3ql/z9rEs2roe3l9Ma6O1X2nbhPemj1m2dCnLli2b+nnnDzz9dfy08nWHj1FAhtV05F9jq0MMfZb87ufxlbad2WEceXW5noB0cjfAiZdX3CS/eq5zFxYIiINtBETaG28t59/8DW8unWZDy5bx7tL3+cRp+rOoxywgg0pqUq9y4kw6/RbZkXXeiT7+I7K+gIxdNx5c49uPX2Cpaw5KgysrxCttJS5ktgiaHwEZb8kw1UGHWPbMLpIblOP7a2Y00doCMkRvhxKlUurTbuCu5nEJyDCargKu7NxHrGW/+vl9J3p5LN7rN44JyPg9YReZ/o6sOJBB8ZxXrtmrgAzS3d5Ou6QdKVHOeJXq4xSQQTrq07ly8hwZAwbnhmf80sYD7FtAJq8b8oA9vP6UA2mKLgPXDSEgBjrY2sHzKSBA3jV2f36S8gZDK3asLSCz4fd4BGRA1U2ky1dcLevHopvGsSYpqawMxsPD1KtIZ9N+XRrDU1goM7h1cCVHs4rHX7hGDXE+m/jCI4dKk04aTdXHXgXEVL2nn398AqJqqSfo1FECqwdmYUcLQUCA3It8tfIU8mZDT9GFgEy3QBsdmyMgDaSF7+Arr2yq57KqZkYL1GRd+Iw/Hn1Awwxf95OR7UFAbvMHmYyTlryna7L65v4fUFN84wjuaRN3jEO9dCd6YP6+wHkUEEYoDrnC+l0BFLfBUHkULp87kJTTYKbDQmOQiri2520cUttQGb2ZTsPhsU5hGauzgXOjQbwtexsPG+4DGelu4Z7HFbwnF0dpFDQmhBFqtncjawpIHUmB3/K1Xz51Vr1uqMg49T6vnShHMb5qQwK4EBAJKLYIMiEgPUUkeXw2thZftxfiJbfsuU1LPAjh8jev8/SvXmTJ8zJ+fqyA0mZjnlHnWUBqT/OrfxzfByL7/nNsS7J+H/R1d+L7wUQZf/E6r/5+Cb/+0fOs+PYoyUYvmvp1mU8BgdHhZhK8XHjvr/+Rv5Qt53pKId1m112/HXrf2xK4dODlh7b3nlez4f1C2LGAjA4zWHKMp/9qoo9fXseJu3rttNLXHkUd196aKOOJ13jl90v417/9OevdbpBtdl9YSUC684m9uuJh3/3OPY/S1jk0tCiAs1te45lfLWHJczJ+fuIBFa3GrhtCQOZA25KkJgRkZJB+TS89Pb309nTTqx5gcNiS/KfFHdSi6e2hu7uHnu5uerUjRpbi6dLOs4AMqcfq2ts70X6r3kmNs9Et49X2dtMzVkYPPT3jfHrVWgPzu9OYjh3Or4DonIcO9mtR9XTT3aOif2h47qMP3Zs4Vb0TXHS2MmzEVuxYQHT9M6hvR72ojW2KlOpeM8JGhofQSNiRStv3aAmsyXysJCAjg/TpXzc0c79uqKddN4xrohAQk11tnQgmBMQ6hcwhl3kWkDnU/PEmnW8BebytnVmanQvIzArbaYiVBGTeWycE5DF1QR3pGaGkptnKv8Jcm5HLsaM6Fx+WLgdNYPWaiLkWvoDSq6ivC8PLlg/Rk8PIumfLB0FzwZ3FgX0hNtkH8pOff5fsqJ2iojCizNkHcieMzMwZ71mdSydaMe09Dh0MoUtsJLQiU8ms6siI2zHm6+rJH/4DTz75JH/9H2S8eCiJ7HnQlLzrh1n+L/+Gv/j+kzz55A/4pydlyP7qPC1KSwUknjV/KeP//Olf8+Tf6fJ6cswvz9IQY9MgkoDsMrC7sYZLr8qQfU/Xtr/nH3Scvv8+rl75NqpvNckR34zbyQ/G7eSv/q2MJUcyyJ+Ha0jOBQeW/ug/8ZdjdvLDcTv53mU6LXqVgTmowvi5TMYTP/zBmA098cQT/C+ZjBUx5qS1/zitZfm4vaz7jY3b0Q90dvS367gZZXoj4Z2orVOvG/9OxhKXNPJs5KrFGM2cS/t4/8f/YZo9XJRYTm0sl9mf+w7vRB9heKgfrUaDRu+j7Rtkwl3V7KnOIuXQQN+Mumj6BhiddH9idp5D9Pdpp7RJo1GjtcHcs9lVsmLEMfcn2ql9ptH2MTCnB1TGKjjCkJSd9A8xbPmaY2MFmXVuqF/KTgax2ExMljZEn1bCjiZfA2QyvX1H0Lk/6Z9hR/0MmvzxG7YHk0ltgOTx2YN05b/DAiINRIQKAoKAICAImEdACIh5nEQsQUAQEAQEgWkEhIBMAyIOBQFBQBAQBMwjIATEPE4iliAgCAgCgsA0AkJApgERh4KAICAICALmERACYh4nEUsQEAQEAUFgGgEhINOAiENBQBAQBAQB8wgIATGPk4glCAgCgoAgMI2AEJBpQMShICAICAKCgHkEhICYx0nEEgQEAUFAEJhGQAjINCDiUBAQBAQBQcA8AkJAzOMkYgkCgoAgIAhMIyAEZBoQcSgICAKCgCBgHgEhIOZxErEEAUFAEBAEphEQAjINiDgUBAQBQUAQMI/A/wcnf3ctRnjItAAAAABJRU5ErkJggg==)\r\n"
      ]
    },
    {
      "cell_type": "code",
      "metadata": {
        "id": "XQ-7G3sWgaF4",
        "outputId": "281eb3f7-a73c-4610-a536-235304a0822a",
        "colab": {
          "base_uri": "https://localhost:8080/"
        }
      },
      "source": [
        "# Python program to inverse \r\n",
        "# a matrix using numpy \r\n",
        "  \r\n",
        "# Import required package \r\n",
        "import numpy as np \r\n",
        "  \r\n",
        "# Taking a 4 * 4 matrix \r\n",
        "A = np.array([[6, 1, 1, 3], \r\n",
        "              [4, -2, 5, 1], \r\n",
        "              [2, 8, 7, 6], \r\n",
        "              [3, 1, 9, 7]]) \r\n",
        "  \r\n",
        "# Calculating the inverse of the matrix \r\n",
        "print(np.linalg.inv(A))"
      ],
      "execution_count": 3,
      "outputs": [
        {
          "output_type": "stream",
          "text": [
            "[[ 0.13368984  0.10695187  0.02139037 -0.09090909]\n",
            " [-0.00229183  0.02673797  0.14820474 -0.12987013]\n",
            " [-0.12987013  0.18181818  0.06493506 -0.02597403]\n",
            " [ 0.11000764 -0.28342246 -0.11382735  0.23376623]]\n"
          ],
          "name": "stdout"
        }
      ]
    },
    {
      "cell_type": "code",
      "metadata": {
        "id": "FwLO3jaqybZZ",
        "outputId": "72dbd49e-5324-4477-eccf-1ae111e2e966",
        "colab": {
          "base_uri": "https://localhost:8080/"
        }
      },
      "source": [
        "# Python program to inverse \r\n",
        "# a matrix using numpy \r\n",
        "  \r\n",
        "# Import required package \r\n",
        "import numpy as np \r\n",
        "  \r\n",
        "# Taking a 3 * 3 matrix \r\n",
        "A = np.array([[6, 1, 1], \r\n",
        "              [4, -2, 5], \r\n",
        "              [2, 8, 7]]) \r\n",
        "  \r\n",
        "# Calculating the inverse of the matrix \r\n",
        "print(np.linalg.inv(A))"
      ],
      "execution_count": 1,
      "outputs": [
        {
          "output_type": "stream",
          "text": [
            "[[ 0.17647059 -0.00326797 -0.02287582]\n",
            " [ 0.05882353 -0.13071895  0.08496732]\n",
            " [-0.11764706  0.1503268   0.05228758]]\n"
          ],
          "name": "stdout"
        }
      ]
    },
    {
      "cell_type": "code",
      "metadata": {
        "id": "_i1t7vItynKz",
        "outputId": "2468a6e7-0c95-432c-f461-8e620afc7b58",
        "colab": {
          "base_uri": "https://localhost:8080/"
        }
      },
      "source": [
        "# Python program to inverse \r\n",
        "# a matrix using numpy \r\n",
        "  \r\n",
        "# Import required package \r\n",
        "import numpy as np \r\n",
        "  \r\n",
        "# Inverses of several matrices can \r\n",
        "# be computed at once \r\n",
        "A = np.array([[[1., 2.], [3., 4.]], \r\n",
        "              [[1, 3], [3, 5]]]) \r\n",
        "  \r\n",
        "# Calculating the inverse of the matrix \r\n",
        "print(np.linalg.inv(A))"
      ],
      "execution_count": 2,
      "outputs": [
        {
          "output_type": "stream",
          "text": [
            "[[[-2.    1.  ]\n",
            "  [ 1.5  -0.5 ]]\n",
            "\n",
            " [[-1.25  0.75]\n",
            "  [ 0.75 -0.25]]]\n"
          ],
          "name": "stdout"
        }
      ]
    },
    {
      "cell_type": "markdown",
      "metadata": {
        "id": "Y2QVJ3Ya1N63"
      },
      "source": [
        "![image.png](data:image/png;base64,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)"
      ]
    },
    {
      "cell_type": "code",
      "metadata": {
        "id": "rC5LJfr31SZk",
        "outputId": "42e32fe7-d29f-4b94-d07b-546dcb90eb38",
        "colab": {
          "base_uri": "https://localhost:8080/"
        }
      },
      "source": [
        " import numpy as np\r\n",
        " A = np.array(([1,3,3],[1,4,3],[1,3,4]))\r\n",
        "A_inv = np.linalg.inv(A)\r\n",
        " A_inv\r\n"
      ],
      "execution_count": 16,
      "outputs": [
        {
          "output_type": "execute_result",
          "data": {
            "text/plain": [
              "array([[ 7., -3., -3.],\n",
              "       [-1.,  1.,  0.],\n",
              "       [-1.,  0.,  1.]])"
            ]
          },
          "metadata": {
            "tags": []
          },
          "execution_count": 16
        }
      ]
    },
    {
      "cell_type": "markdown",
      "metadata": {
        "id": "sREr48Ip3C5V"
      },
      "source": [
        "We will use NumPy's numpy.linalg.inv() function to find its inverse. The NumPy code is as follows."
      ]
    },
    {
      "cell_type": "code",
      "metadata": {
        "id": "72nNY0nm29vA",
        "outputId": "7b98e5fd-10a4-47d8-8700-65af310a6c16",
        "colab": {
          "base_uri": "https://localhost:8080/"
        }
      },
      "source": [
        "import numpy as np\r\n",
        "\r\n",
        "a = np.array([[1, 2, 3], [1, 3, 3], [1, 2, 4]])\r\n",
        "ainv = np.linalg.inv(a)\r\n",
        "\r\n",
        "print(ainv)"
      ],
      "execution_count": 22,
      "outputs": [
        {
          "output_type": "stream",
          "text": [
            "[[ 6. -2. -3.]\n",
            " [-1.  1.  0.]\n",
            " [-1.  0.  1.]]\n"
          ],
          "name": "stdout"
        }
      ]
    },
    {
      "cell_type": "markdown",
      "metadata": {
        "id": "dTEIDSMM3MkE"
      },
      "source": [
        "which is its inverse. You can verify the result using the numpy.allclose() function. Since the resulting inverse matrix is a \r\n",
        "3\r\n",
        "×\r\n",
        "3\r\n",
        " matrix, we use the numpy.eye() function to create an identity matrix. If the generated inverse matrix is correct, the output of the below line will be True."
      ]
    },
    {
      "cell_type": "code",
      "metadata": {
        "id": "NFbYYer33NoB",
        "outputId": "a2b59da3-2242-4e5d-c15d-d7b9bf431642",
        "colab": {
          "base_uri": "https://localhost:8080/"
        }
      },
      "source": [
        "print(np.allclose(np.dot(ainv, a), np.eye(3)))"
      ],
      "execution_count": 23,
      "outputs": [
        {
          "output_type": "stream",
          "text": [
            "True\n"
          ],
          "name": "stdout"
        }
      ]
    },
    {
      "cell_type": "markdown",
      "metadata": {
        "id": "XPL1c_d62rYW"
      },
      "source": [
        "####Determinant\r\n"
      ]
    },
    {
      "cell_type": "markdown",
      "metadata": {
        "id": "-ZbepjWZ3l_h"
      },
      "source": [
        "\r\n",
        "การหา Determinant ของ Matrix ใช้คำสั่ง numpy.linalg.det() \r\n",
        "\r\n",
        "ดีเทอร์มิแนนต์ของเมทริกซ์จตุรัสใดๆ คือ ตัวที่ตัดสินว่าเมทริกซ์นั้นๆ จะมีอินเวอร์สการคูณหรือไม่\r\n",
        "detA{≠0 จะได้ว่าA−1หาค่าได้ถ้า =0จะได้ว่าA−1 หาค่าไม่ได้\r\n",
        "![image.png](data:image/png;base64,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)\r\n",
        "\r\n",
        "![image.png](data:image/png;base64,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)\r\n",
        "\r\n",
        "ใช้หลักการคูณลง-คูณขึ้น \r\n"
      ]
    },
    {
      "cell_type": "code",
      "metadata": {
        "id": "7B0zAF_A5Odt",
        "outputId": "2dc0dd97-e55d-4fed-cf7a-8681e3f85aa4",
        "colab": {
          "base_uri": "https://localhost:8080/"
        }
      },
      "source": [
        "import numpy as np\r\n",
        "c = np.array([[1,2], [3,4]]) \r\n",
        "print (np.linalg.det(c))"
      ],
      "execution_count": 34,
      "outputs": [
        {
          "output_type": "stream",
          "text": [
            "-2.0000000000000004\n"
          ],
          "name": "stdout"
        }
      ]
    },
    {
      "cell_type": "code",
      "metadata": {
        "id": "TYfjqvDJ5aRO",
        "outputId": "e84d9967-7064-435f-97f4-ee9c438864d1",
        "colab": {
          "base_uri": "https://localhost:8080/"
        }
      },
      "source": [
        "import numpy as np \r\n",
        "\r\n",
        "b = np.array([[6,1,1], [4, -2, 5], [2,8,7]]) \r\n",
        "print (b)\r\n",
        "print (np.linalg.det(b))"
      ],
      "execution_count": 38,
      "outputs": [
        {
          "output_type": "stream",
          "text": [
            "[[ 6  1  1]\n",
            " [ 4 -2  5]\n",
            " [ 2  8  7]]\n",
            "-306.0\n"
          ],
          "name": "stdout"
        }
      ]
    },
    {
      "cell_type": "code",
      "metadata": {
        "id": "90TI9lYr5mNQ",
        "outputId": "3f5eeb77-99ce-41d0-fa64-aff6fb672e6c",
        "colab": {
          "base_uri": "https://localhost:8080/"
        }
      },
      "source": [
        "import numpy as np\r\n",
        "\r\n",
        "a = np.array([[67, 19, 21], [39, 13, 14], [81,24,26]])\r\n",
        "d = np.linalg.det(a)\r\n",
        "\r\n",
        "print(d)"
      ],
      "execution_count": 39,
      "outputs": [
        {
          "output_type": "stream",
          "text": [
            "-42.999999999999865\n"
          ],
          "name": "stdout"
        }
      ]
    },
    {
      "cell_type": "code",
      "metadata": {
        "id": "WjjzRUQn8A6Y",
        "outputId": "893986f5-94f2-4196-d973-4144933e48e5",
        "colab": {
          "base_uri": "https://localhost:8080/"
        }
      },
      "source": [
        "# Importing libraries \r\n",
        "import numpy as np \r\n",
        "from numpy import linalg \r\n",
        "  \r\n",
        "# Creating a 2X2 matrix \r\n",
        "matrix = np.array([[1, 0], [3, 6]]) \r\n",
        "print(\"Original 2-D matrix\") \r\n",
        "print(matrix) \r\n",
        "  \r\n",
        "# Output \r\n",
        "print(\"Determinant of the 2-D matrix:\") \r\n",
        "print(np.linalg.det(matrix))"
      ],
      "execution_count": 40,
      "outputs": [
        {
          "output_type": "stream",
          "text": [
            "Original 2-D matrix\n",
            "[[1 0]\n",
            " [3 6]]\n",
            "Determinant of the 2-D matrix:\n",
            "6.0\n"
          ],
          "name": "stdout"
        }
      ]
    },
    {
      "cell_type": "code",
      "metadata": {
        "id": "eapfxsgC8GSZ",
        "outputId": "60a78a92-e068-4a61-cd37-1afd7ee3af87",
        "colab": {
          "base_uri": "https://localhost:8080/"
        }
      },
      "source": [
        "# Importing libraries \r\n",
        "import numpy as np \r\n",
        "from numpy import linalg \r\n",
        "  \r\n",
        "# Creating a 3X3 matrix \r\n",
        "matrix = np.array([[1, 0, 1], [1, 2, 0], [4, 6, 2]]) \r\n",
        "print(\"Original 3-D matrix\") \r\n",
        "print(matrix) \r\n",
        "  \r\n",
        "# Output \r\n",
        "print(\"Determinant of the 3-D matrix:\") \r\n",
        "print(np.linalg.det(matrix))"
      ],
      "execution_count": 41,
      "outputs": [
        {
          "output_type": "stream",
          "text": [
            "Original 3-D matrix\n",
            "[[1 0 1]\n",
            " [1 2 0]\n",
            " [4 6 2]]\n",
            "Determinant of the 3-D matrix:\n",
            "2.0\n"
          ],
          "name": "stdout"
        }
      ]
    },
    {
      "cell_type": "code",
      "metadata": {
        "id": "bssyeFAY8Ogn",
        "outputId": "ad0dba6c-b84b-4e03-9dbb-0a05bb6f3080",
        "colab": {
          "base_uri": "https://localhost:8080/"
        }
      },
      "source": [
        "# Importing libraries \r\n",
        "import numpy as np \r\n",
        "from numpy import linalg \r\n",
        "  \r\n",
        "# Creating a 4X4 matrix \r\n",
        "matrix = np.array([[1, 0, 1, 8], [1, 2, 0, 3], [4, 6, 2, 6], [0, 3, 6, 4]]) \r\n",
        "print(\"Original 4-D matrix\") \r\n",
        "print(matrix) \r\n",
        "  \r\n",
        "# Output \r\n",
        "print(\"Determinant of the 4-D matrix:\") \r\n",
        "print(np.linalg.det(matrix)) "
      ],
      "execution_count": 42,
      "outputs": [
        {
          "output_type": "stream",
          "text": [
            "Original 4-D matrix\n",
            "[[1 0 1 8]\n",
            " [1 2 0 3]\n",
            " [4 6 2 6]\n",
            " [0 3 6 4]]\n",
            "Determinant of the 4-D matrix:\n",
            "188.0\n"
          ],
          "name": "stdout"
        }
      ]
    },
    {
      "cell_type": "code",
      "metadata": {
        "id": "4wpmWrP78Sfg"
      },
      "source": [
        ""
      ],
      "execution_count": null,
      "outputs": []
    }
  ]
}