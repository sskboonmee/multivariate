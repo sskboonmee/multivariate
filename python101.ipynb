{
  "nbformat": 4,
  "nbformat_minor": 0,
  "metadata": {
    "colab": {
      "name": "python101.ipynb",
      "provenance": [],
      "authorship_tag": "ABX9TyMO5wlyPOpiNdHzpq22SioS",
      "include_colab_link": true
    },
    "kernelspec": {
      "name": "python3",
      "display_name": "Python 3"
    }
  },
  "cells": [
    {
      "cell_type": "markdown",
      "metadata": {
        "id": "view-in-github",
        "colab_type": "text"
      },
      "source": [
        "<a href=\"https://colab.research.google.com/github/sskboonmee/multivariate/blob/main/python101.ipynb\" target=\"_parent\"><img src=\"https://colab.research.google.com/assets/colab-badge.svg\" alt=\"Open In Colab\"/></a>"
      ]
    },
    {
      "cell_type": "markdown",
      "metadata": {
        "id": "62Xvo0DKLk8Y"
      },
      "source": [
        "#ตัวแปรหรือ Variable   เป็นกล่องที่เอาไว้ชี้แล้วแบบค่าตัวแปรคืออะไร  หลักการตั้งชื่อตัวแปร \r\n",
        "1.ตั้งให้สื่อ\r\n",
        "2.ภาษาอังกฤษ\r\n",
        "3.ใช้ตัวเลขได้แต่ห้ามขึ้นต้นด้วยตัวเลข \r\n",
        "4.ห้ามเว้นวรรค\r\n",
        "5.ตัวเล็กกับตัวใหญ่ไม่เหมือนกัน\r\n",
        "\r\n",
        "python มี output 2 mode คือ ออกหน้าจอ กับ เข้าไปเก็บในตัวแปร ก็คือต้องมีตัวแปรมารับค่า "
      ]
    },
    {
      "cell_type": "code",
      "metadata": {
        "colab": {
          "base_uri": "https://localhost:8080/"
        },
        "id": "daHpGO5oKoHf",
        "outputId": "514b7177-75bf-4133-ca07-b4022cc009eb"
      },
      "source": [
        "3.14159   # หรือเครื่องหมาย sharp #  คือ comment >>>อันนี้คือ Output "
      ],
      "execution_count": 1,
      "outputs": [
        {
          "output_type": "execute_result",
          "data": {
            "text/plain": [
              "3.14159"
            ]
          },
          "metadata": {
            "tags": []
          },
          "execution_count": 1
        }
      ]
    },
    {
      "cell_type": "code",
      "metadata": {
        "id": "PUcBgi1mM74W"
      },
      "source": [
        "Pi = 3.14159  # อันนี้คือ Output ที่เข้าไปอยู่ในตัวแปร\r\n"
      ],
      "execution_count": 6,
      "outputs": []
    },
    {
      "cell_type": "code",
      "metadata": {
        "colab": {
          "base_uri": "https://localhost:8080/"
        },
        "id": "yzfwBNfBOHQr",
        "outputId": "b94fdbf9-bd7c-4420-b044-bdde44495a8d"
      },
      "source": [
        "Pi"
      ],
      "execution_count": 7,
      "outputs": [
        {
          "output_type": "execute_result",
          "data": {
            "text/plain": [
              "3.14159"
            ]
          },
          "metadata": {
            "tags": []
          },
          "execution_count": 7
        }
      ]
    },
    {
      "cell_type": "code",
      "metadata": {
        "colab": {
          "base_uri": "https://localhost:8080/"
        },
        "id": "M_moE00WNp4V",
        "outputId": "bc3bf0a3-68d1-441d-93d3-f0630119f1ba"
      },
      "source": [
        "a = 123456\r\n",
        "print(a)"
      ],
      "execution_count": 4,
      "outputs": [
        {
          "output_type": "stream",
          "text": [
            "123456\n"
          ],
          "name": "stdout"
        }
      ]
    },
    {
      "cell_type": "code",
      "metadata": {
        "id": "vRbhtUKbN1Eg"
      },
      "source": [
        "#ชนิดของตัวแปร มี 3 ชนิด\r\n",
        "1.จำนวนเต็ม (integer , int)\r\n"
      ],
      "execution_count": null,
      "outputs": []
    },
    {
      "cell_type": "code",
      "metadata": {
        "colab": {
          "base_uri": "https://localhost:8080/"
        },
        "id": "0tpY2YiRPELx",
        "outputId": "41b249d0-b4a7-4dc9-ded0-30ea7a627f39"
      },
      "source": [
        "aaa = 1092\r\n",
        "print(aaa)"
      ],
      "execution_count": 8,
      "outputs": [
        {
          "output_type": "stream",
          "text": [
            "1092\n"
          ],
          "name": "stdout"
        }
      ]
    },
    {
      "cell_type": "markdown",
      "metadata": {
        "id": "BET95bW-PQrJ"
      },
      "source": [
        "#2.จำนวนจริง (float)"
      ]
    },
    {
      "cell_type": "code",
      "metadata": {
        "colab": {
          "base_uri": "https://localhost:8080/"
        },
        "id": "9zjEiCQYPYSi",
        "outputId": "d308c269-d2e3-4161-98e3-8bea02053e17"
      },
      "source": [
        "bbb = 11.\r\n",
        "print(bbb)"
      ],
      "execution_count": 9,
      "outputs": [
        {
          "output_type": "stream",
          "text": [
            "11.0\n"
          ],
          "name": "stdout"
        }
      ]
    },
    {
      "cell_type": "markdown",
      "metadata": {
        "id": "UdiR28n_Ph7i"
      },
      "source": [
        "#3.ตัวอักษร-ข้อความ (character และ text,string)"
      ]
    },
    {
      "cell_type": "code",
      "metadata": {
        "id": "JPdaoMF-RwIJ"
      },
      "source": [
        " ccc = '123456'    # เราใช้ single qoute ' หรือ double qoute \" ล้อมรอบตัวหนังสือเพื่อระบุว่าเป็น Character-string"
      ],
      "execution_count": 18,
      "outputs": []
    },
    {
      "cell_type": "code",
      "metadata": {
        "colab": {
          "base_uri": "https://localhost:8080/"
        },
        "id": "xcyAHQt9QKdr",
        "outputId": "ba49d4a2-5086-4a5c-d8b6-d0e7d4f4a81f"
      },
      "source": [
        "aaa +  bbb # float + int = float "
      ],
      "execution_count": 10,
      "outputs": [
        {
          "output_type": "execute_result",
          "data": {
            "text/plain": [
              "1103.0"
            ]
          },
          "metadata": {
            "tags": []
          },
          "execution_count": 10
        }
      ]
    },
    {
      "cell_type": "code",
      "metadata": {
        "colab": {
          "base_uri": "https://localhost:8080/"
        },
        "id": "scb5XifSQ2Vy",
        "outputId": "6b9cdc4d-5967-4993-8f7c-35e70472cf0d"
      },
      "source": [
        "ddd = 'ศศิกานต์'\r\n",
        "print(ddd)"
      ],
      "execution_count": 11,
      "outputs": [
        {
          "output_type": "stream",
          "text": [
            "ศศิกานต์\n"
          ],
          "name": "stdout"
        }
      ]
    },
    {
      "cell_type": "markdown",
      "metadata": {
        "id": "YAqICsW-Q4p2"
      },
      "source": [
        "#การเปลี่ยนชนิดของตัวแปร variable casting"
      ]
    },
    {
      "cell_type": "code",
      "metadata": {
        "colab": {
          "base_uri": "https://localhost:8080/",
          "height": 164
        },
        "id": "H12OkDONRodS",
        "outputId": "0fcd6ff8-f4ad-4c8b-f980-3c5968c725cc"
      },
      "source": [
        "aaa + int (ccc)"
      ],
      "execution_count": 13,
      "outputs": [
        {
          "output_type": "error",
          "ename": "NameError",
          "evalue": "ignored",
          "traceback": [
            "\u001b[0;31m---------------------------------------------------------------------------\u001b[0m",
            "\u001b[0;31mNameError\u001b[0m                                 Traceback (most recent call last)",
            "\u001b[0;32m<ipython-input-13-7b7896d1a512>\u001b[0m in \u001b[0;36m<module>\u001b[0;34m()\u001b[0m\n\u001b[0;32m----> 1\u001b[0;31m \u001b[0maaa\u001b[0m \u001b[0;34m+\u001b[0m \u001b[0mint\u001b[0m \u001b[0;34m(\u001b[0m\u001b[0mccc\u001b[0m\u001b[0;34m)\u001b[0m\u001b[0;34m\u001b[0m\u001b[0;34m\u001b[0m\u001b[0m\n\u001b[0m",
            "\u001b[0;31mNameError\u001b[0m: name 'ccc' is not defined"
          ]
        }
      ]
    },
    {
      "cell_type": "code",
      "metadata": {
        "colab": {
          "base_uri": "https://localhost:8080/",
          "height": 164
        },
        "id": "qGAaH9HRSBdw",
        "outputId": "17ad6b33-fd3b-455b-da2a-7f88bde7605f"
      },
      "source": [
        "aaa  + float(ccc)"
      ],
      "execution_count": 14,
      "outputs": [
        {
          "output_type": "error",
          "ename": "NameError",
          "evalue": "ignored",
          "traceback": [
            "\u001b[0;31m---------------------------------------------------------------------------\u001b[0m",
            "\u001b[0;31mNameError\u001b[0m                                 Traceback (most recent call last)",
            "\u001b[0;32m<ipython-input-14-8a28247ed51f>\u001b[0m in \u001b[0;36m<module>\u001b[0;34m()\u001b[0m\n\u001b[0;32m----> 1\u001b[0;31m \u001b[0maaa\u001b[0m  \u001b[0;34m+\u001b[0m \u001b[0mfloat\u001b[0m\u001b[0;34m(\u001b[0m\u001b[0mccc\u001b[0m\u001b[0;34m)\u001b[0m\u001b[0;34m\u001b[0m\u001b[0;34m\u001b[0m\u001b[0m\n\u001b[0m",
            "\u001b[0;31mNameError\u001b[0m: name 'ccc' is not defined"
          ]
        }
      ]
    },
    {
      "cell_type": "code",
      "metadata": {
        "colab": {
          "base_uri": "https://localhost:8080/",
          "height": 34
        },
        "id": "hYid2zOfSOph",
        "outputId": "1c97f355-e1db-4f82-9320-ffc4b9516ec6"
      },
      "source": [
        "str(aaa)"
      ],
      "execution_count": 15,
      "outputs": [
        {
          "output_type": "execute_result",
          "data": {
            "application/vnd.google.colaboratory.intrinsic+json": {
              "type": "string"
            },
            "text/plain": [
              "'1092'"
            ]
          },
          "metadata": {
            "tags": []
          },
          "execution_count": 15
        }
      ]
    },
    {
      "cell_type": "markdown",
      "metadata": {
        "id": "oMV5nV5aSUI1"
      },
      "source": [
        "#การดำเนินการ Operation (Operators +,-,*,%)"
      ]
    },
    {
      "cell_type": "code",
      "metadata": {
        "colab": {
          "base_uri": "https://localhost:8080/",
          "height": 164
        },
        "id": "JajcTSHcTC5n",
        "outputId": "a6eb3181-5e90-4a41-ca64-7f67a58b38dc"
      },
      "source": [
        "a+b"
      ],
      "execution_count": 19,
      "outputs": [
        {
          "output_type": "error",
          "ename": "NameError",
          "evalue": "ignored",
          "traceback": [
            "\u001b[0;31m---------------------------------------------------------------------------\u001b[0m",
            "\u001b[0;31mNameError\u001b[0m                                 Traceback (most recent call last)",
            "\u001b[0;32m<ipython-input-19-ca730b97bf8a>\u001b[0m in \u001b[0;36m<module>\u001b[0;34m()\u001b[0m\n\u001b[0;32m----> 1\u001b[0;31m \u001b[0ma\u001b[0m\u001b[0;34m+\u001b[0m\u001b[0mb\u001b[0m\u001b[0;34m\u001b[0m\u001b[0;34m\u001b[0m\u001b[0m\n\u001b[0m",
            "\u001b[0;31mNameError\u001b[0m: name 'b' is not defined"
          ]
        }
      ]
    },
    {
      "cell_type": "markdown",
      "metadata": {
        "id": "PEo4QTyrT7Xv"
      },
      "source": [
        "#% คือหมาย modulo คือการหารเอาเศษ หารได้เศษ 2 ก็เป็นเลขคู่ หารได้เศษ 1 ก็เป็นเลขคี่"
      ]
    },
    {
      "cell_type": "code",
      "metadata": {
        "colab": {
          "base_uri": "https://localhost:8080/"
        },
        "id": "GNml3-quT1np",
        "outputId": "1f5b0f0b-9a20-4e75-fff0-873f5b83d675"
      },
      "source": [
        "5%3"
      ],
      "execution_count": 20,
      "outputs": [
        {
          "output_type": "execute_result",
          "data": {
            "text/plain": [
              "2"
            ]
          },
          "metadata": {
            "tags": []
          },
          "execution_count": 20
        }
      ]
    },
    {
      "cell_type": "code",
      "metadata": {
        "colab": {
          "base_uri": "https://localhost:8080/"
        },
        "id": "_v6X5E4YT-_N",
        "outputId": "e8a2f886-9ca1-419a-8329-216d22777674"
      },
      "source": [
        "7%3"
      ],
      "execution_count": 21,
      "outputs": [
        {
          "output_type": "execute_result",
          "data": {
            "text/plain": [
              "1"
            ]
          },
          "metadata": {
            "tags": []
          },
          "execution_count": 21
        }
      ]
    },
    {
      "cell_type": "markdown",
      "metadata": {
        "id": "qAIfmFRFUDT3"
      },
      "source": [
        "#คำสั่ง print แบบพิเศษ (การ format )"
      ]
    },
    {
      "cell_type": "code",
      "metadata": {
        "colab": {
          "base_uri": "https://localhost:8080/"
        },
        "id": "UFKyzzTgUfZF",
        "outputId": "70650790-9123-438f-9f22-e71ac5cb34a0"
      },
      "source": [
        "print(f'% คือการหารเอาเศษ เช่น  7%3 ={7%3}') # เพิ่ม f หน้า 'string' และใช้ {} ใส่ code"
      ],
      "execution_count": 22,
      "outputs": [
        {
          "output_type": "stream",
          "text": [
            "% คือการหารเอาเศษ เช่น  7%3 =1\n"
          ],
          "name": "stdout"
        }
      ]
    },
    {
      "cell_type": "code",
      "metadata": {
        "id": "B9D4e6PBVkPe"
      },
      "source": [
        "print (f'% คือการหารเอาเศษ เช่น 7%3 = {7%3}) \\  \r\n",
        "แต่ \\n/ คือการหารปกติ เช่น 7/3  \\\r\n",
        "และ \\n// คือการหารเอาส่วน เช่น 7//3 "
      ],
      "execution_count": null,
      "outputs": []
    },
    {
      "cell_type": "markdown",
      "metadata": {
        "id": "7kFKV7QyWRuj"
      },
      "source": [
        "\\ คือตัดโค้ดให้เราเห็นเอง \\n คือการขึ้นบรรทัดใหม่ ใส่ปีกกาเพื่อบอกว่าเป็น code ของ python"
      ]
    },
    {
      "cell_type": "markdown",
      "metadata": {
        "id": "KDUGbU3xW-Bh"
      },
      "source": [
        "#DATA STRUCTURE (โครงสร้างข้อมูล)"
      ]
    },
    {
      "cell_type": "markdown",
      "metadata": {
        "id": "n85wR7n2XHtC"
      },
      "source": [
        "### List คือ การเอาข้อมูลหลายๆตัวมาเรียงต่อกัน\r\n",
        "####list สามารถสร้างได้ 2 แบบดังนี้"
      ]
    },
    {
      "cell_type": "code",
      "metadata": {
        "colab": {
          "base_uri": "https://localhost:8080/"
        },
        "id": "YlMT1umeXZg4",
        "outputId": "c67387c6-d65a-491d-b352-b00be76c20bb"
      },
      "source": [
        "[111,'c','งง',aaa]"
      ],
      "execution_count": 23,
      "outputs": [
        {
          "output_type": "execute_result",
          "data": {
            "text/plain": [
              "[111, 'c', 'งง', 1092]"
            ]
          },
          "metadata": {
            "tags": []
          },
          "execution_count": 23
        }
      ]
    },
    {
      "cell_type": "markdown",
      "metadata": {
        "id": "H7_u53mDXu8T"
      },
      "source": [
        "#แบบที่ 1 >square brackets  คือโชว์หน้าคาของlist ไปตรงๆเลย"
      ]
    },
    {
      "cell_type": "code",
      "metadata": {
        "colab": {
          "base_uri": "https://localhost:8080/"
        },
        "id": "98iLMykJX1_f",
        "outputId": "a561cd3b-16eb-4a17-f80d-94a81c9c23ec"
      },
      "source": [
        "list_a = []\r\n",
        "print(list_a)"
      ],
      "execution_count": 24,
      "outputs": [
        {
          "output_type": "stream",
          "text": [
            "[]\n"
          ],
          "name": "stdout"
        }
      ]
    },
    {
      "cell_type": "code",
      "metadata": {
        "id": "ViM1hjpvYKja"
      },
      "source": [
        ""
      ],
      "execution_count": null,
      "outputs": []
    },
    {
      "cell_type": "markdown",
      "metadata": {
        "id": "tudZPuhEYxcK"
      },
      "source": [
        "#append() เพิ่มสมาชิกใน list "
      ]
    },
    {
      "cell_type": "code",
      "metadata": {
        "colab": {
          "base_uri": "https://localhost:8080/"
        },
        "id": "X4sdF9tmY7RB",
        "outputId": "a58c02d1-62b5-4574-e6a1-499aa7f7a7bf"
      },
      "source": [
        "list_a.append ('u')\r\n",
        "print(list_a)"
      ],
      "execution_count": 27,
      "outputs": [
        {
          "output_type": "stream",
          "text": [
            "['u']\n"
          ],
          "name": "stdout"
        }
      ]
    },
    {
      "cell_type": "code",
      "metadata": {
        "id": "XSlYf_U5YB2j"
      },
      "source": [
        ""
      ],
      "execution_count": null,
      "outputs": []
    },
    {
      "cell_type": "code",
      "metadata": {
        "id": "sQLk54XKXtYS"
      },
      "source": [
        ""
      ],
      "execution_count": null,
      "outputs": []
    },
    {
      "cell_type": "code",
      "metadata": {
        "id": "OGx6ySDHR4ta"
      },
      "source": [
        ""
      ],
      "execution_count": null,
      "outputs": []
    },
    {
      "cell_type": "markdown",
      "metadata": {
        "id": "3p2UV6yTO0xw"
      },
      "source": [
        ""
      ]
    }
  ]
}