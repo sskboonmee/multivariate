{
  "nbformat": 4,
  "nbformat_minor": 0,
  "metadata": {
    "colab": {
      "name": "Chapter 5 Factor Analysis.ipynb",
      "provenance": [],
      "authorship_tag": "ABX9TyM8djbfTLHg+OmGmpAEJ8F7",
      "include_colab_link": true
    },
    "kernelspec": {
      "name": "python3",
      "display_name": "Python 3"
    },
    "language_info": {
      "name": "python"
    }
  },
  "cells": [
    {
      "cell_type": "markdown",
      "metadata": {
        "id": "view-in-github",
        "colab_type": "text"
      },
      "source": [
        "<a href=\"https://colab.research.google.com/github/sskboonmee/multivariate/blob/main/Chapter_5_Factor_Analysis.ipynb\" target=\"_parent\"><img src=\"https://colab.research.google.com/assets/colab-badge.svg\" alt=\"Open In Colab\"/></a>"
      ]
    },
    {
      "cell_type": "code",
      "metadata": {
        "id": "KDjeX2nDDS3c"
      },
      "source": [
        "import pandas as pd"
      ],
      "execution_count": 1,
      "outputs": []
    },
    {
      "cell_type": "code",
      "metadata": {
        "colab": {
          "base_uri": "https://localhost:8080/",
          "height": 233
        },
        "id": "D-i7VzqiGW87",
        "outputId": "5adcabfe-5263-4846-e998-21ca85fb3ab3"
      },
      "source": [
        "BFI_data = pd.read_csv('https://vincentarelbundock.github.io/Rdatasets/csv/psych/bfi.csv')\n",
        "BFI_data.head()"
      ],
      "execution_count": 2,
      "outputs": [
        {
          "output_type": "execute_result",
          "data": {
            "text/html": [
              "<div>\n",
              "<style scoped>\n",
              "    .dataframe tbody tr th:only-of-type {\n",
              "        vertical-align: middle;\n",
              "    }\n",
              "\n",
              "    .dataframe tbody tr th {\n",
              "        vertical-align: top;\n",
              "    }\n",
              "\n",
              "    .dataframe thead th {\n",
              "        text-align: right;\n",
              "    }\n",
              "</style>\n",
              "<table border=\"1\" class=\"dataframe\">\n",
              "  <thead>\n",
              "    <tr style=\"text-align: right;\">\n",
              "      <th></th>\n",
              "      <th>Unnamed: 0</th>\n",
              "      <th>A1</th>\n",
              "      <th>A2</th>\n",
              "      <th>A3</th>\n",
              "      <th>A4</th>\n",
              "      <th>A5</th>\n",
              "      <th>C1</th>\n",
              "      <th>C2</th>\n",
              "      <th>C3</th>\n",
              "      <th>C4</th>\n",
              "      <th>C5</th>\n",
              "      <th>E1</th>\n",
              "      <th>E2</th>\n",
              "      <th>E3</th>\n",
              "      <th>E4</th>\n",
              "      <th>E5</th>\n",
              "      <th>N1</th>\n",
              "      <th>N2</th>\n",
              "      <th>N3</th>\n",
              "      <th>N4</th>\n",
              "      <th>N5</th>\n",
              "      <th>O1</th>\n",
              "      <th>O2</th>\n",
              "      <th>O3</th>\n",
              "      <th>O4</th>\n",
              "      <th>O5</th>\n",
              "      <th>gender</th>\n",
              "      <th>education</th>\n",
              "      <th>age</th>\n",
              "    </tr>\n",
              "  </thead>\n",
              "  <tbody>\n",
              "    <tr>\n",
              "      <th>0</th>\n",
              "      <td>61617</td>\n",
              "      <td>2.0</td>\n",
              "      <td>4.0</td>\n",
              "      <td>3.0</td>\n",
              "      <td>4.0</td>\n",
              "      <td>4.0</td>\n",
              "      <td>2.0</td>\n",
              "      <td>3.0</td>\n",
              "      <td>3.0</td>\n",
              "      <td>4.0</td>\n",
              "      <td>4.0</td>\n",
              "      <td>3.0</td>\n",
              "      <td>3.0</td>\n",
              "      <td>3.0</td>\n",
              "      <td>4.0</td>\n",
              "      <td>4.0</td>\n",
              "      <td>3.0</td>\n",
              "      <td>4.0</td>\n",
              "      <td>2.0</td>\n",
              "      <td>2.0</td>\n",
              "      <td>3.0</td>\n",
              "      <td>3.0</td>\n",
              "      <td>6</td>\n",
              "      <td>3.0</td>\n",
              "      <td>4.0</td>\n",
              "      <td>3.0</td>\n",
              "      <td>1</td>\n",
              "      <td>NaN</td>\n",
              "      <td>16</td>\n",
              "    </tr>\n",
              "    <tr>\n",
              "      <th>1</th>\n",
              "      <td>61618</td>\n",
              "      <td>2.0</td>\n",
              "      <td>4.0</td>\n",
              "      <td>5.0</td>\n",
              "      <td>2.0</td>\n",
              "      <td>5.0</td>\n",
              "      <td>5.0</td>\n",
              "      <td>4.0</td>\n",
              "      <td>4.0</td>\n",
              "      <td>3.0</td>\n",
              "      <td>4.0</td>\n",
              "      <td>1.0</td>\n",
              "      <td>1.0</td>\n",
              "      <td>6.0</td>\n",
              "      <td>4.0</td>\n",
              "      <td>3.0</td>\n",
              "      <td>3.0</td>\n",
              "      <td>3.0</td>\n",
              "      <td>3.0</td>\n",
              "      <td>5.0</td>\n",
              "      <td>5.0</td>\n",
              "      <td>4.0</td>\n",
              "      <td>2</td>\n",
              "      <td>4.0</td>\n",
              "      <td>3.0</td>\n",
              "      <td>3.0</td>\n",
              "      <td>2</td>\n",
              "      <td>NaN</td>\n",
              "      <td>18</td>\n",
              "    </tr>\n",
              "    <tr>\n",
              "      <th>2</th>\n",
              "      <td>61620</td>\n",
              "      <td>5.0</td>\n",
              "      <td>4.0</td>\n",
              "      <td>5.0</td>\n",
              "      <td>4.0</td>\n",
              "      <td>4.0</td>\n",
              "      <td>4.0</td>\n",
              "      <td>5.0</td>\n",
              "      <td>4.0</td>\n",
              "      <td>2.0</td>\n",
              "      <td>5.0</td>\n",
              "      <td>2.0</td>\n",
              "      <td>4.0</td>\n",
              "      <td>4.0</td>\n",
              "      <td>4.0</td>\n",
              "      <td>5.0</td>\n",
              "      <td>4.0</td>\n",
              "      <td>5.0</td>\n",
              "      <td>4.0</td>\n",
              "      <td>2.0</td>\n",
              "      <td>3.0</td>\n",
              "      <td>4.0</td>\n",
              "      <td>2</td>\n",
              "      <td>5.0</td>\n",
              "      <td>5.0</td>\n",
              "      <td>2.0</td>\n",
              "      <td>2</td>\n",
              "      <td>NaN</td>\n",
              "      <td>17</td>\n",
              "    </tr>\n",
              "    <tr>\n",
              "      <th>3</th>\n",
              "      <td>61621</td>\n",
              "      <td>4.0</td>\n",
              "      <td>4.0</td>\n",
              "      <td>6.0</td>\n",
              "      <td>5.0</td>\n",
              "      <td>5.0</td>\n",
              "      <td>4.0</td>\n",
              "      <td>4.0</td>\n",
              "      <td>3.0</td>\n",
              "      <td>5.0</td>\n",
              "      <td>5.0</td>\n",
              "      <td>5.0</td>\n",
              "      <td>3.0</td>\n",
              "      <td>4.0</td>\n",
              "      <td>4.0</td>\n",
              "      <td>4.0</td>\n",
              "      <td>2.0</td>\n",
              "      <td>5.0</td>\n",
              "      <td>2.0</td>\n",
              "      <td>4.0</td>\n",
              "      <td>1.0</td>\n",
              "      <td>3.0</td>\n",
              "      <td>3</td>\n",
              "      <td>4.0</td>\n",
              "      <td>3.0</td>\n",
              "      <td>5.0</td>\n",
              "      <td>2</td>\n",
              "      <td>NaN</td>\n",
              "      <td>17</td>\n",
              "    </tr>\n",
              "    <tr>\n",
              "      <th>4</th>\n",
              "      <td>61622</td>\n",
              "      <td>2.0</td>\n",
              "      <td>3.0</td>\n",
              "      <td>3.0</td>\n",
              "      <td>4.0</td>\n",
              "      <td>5.0</td>\n",
              "      <td>4.0</td>\n",
              "      <td>4.0</td>\n",
              "      <td>5.0</td>\n",
              "      <td>3.0</td>\n",
              "      <td>2.0</td>\n",
              "      <td>2.0</td>\n",
              "      <td>2.0</td>\n",
              "      <td>5.0</td>\n",
              "      <td>4.0</td>\n",
              "      <td>5.0</td>\n",
              "      <td>2.0</td>\n",
              "      <td>3.0</td>\n",
              "      <td>4.0</td>\n",
              "      <td>4.0</td>\n",
              "      <td>3.0</td>\n",
              "      <td>3.0</td>\n",
              "      <td>3</td>\n",
              "      <td>4.0</td>\n",
              "      <td>3.0</td>\n",
              "      <td>3.0</td>\n",
              "      <td>1</td>\n",
              "      <td>NaN</td>\n",
              "      <td>17</td>\n",
              "    </tr>\n",
              "  </tbody>\n",
              "</table>\n",
              "</div>"
            ],
            "text/plain": [
              "   Unnamed: 0   A1   A2   A3   A4   A5  ...   O3   O4   O5  gender  education  age\n",
              "0       61617  2.0  4.0  3.0  4.0  4.0  ...  3.0  4.0  3.0       1        NaN   16\n",
              "1       61618  2.0  4.0  5.0  2.0  5.0  ...  4.0  3.0  3.0       2        NaN   18\n",
              "2       61620  5.0  4.0  5.0  4.0  4.0  ...  5.0  5.0  2.0       2        NaN   17\n",
              "3       61621  4.0  4.0  6.0  5.0  5.0  ...  4.0  3.0  5.0       2        NaN   17\n",
              "4       61622  2.0  3.0  3.0  4.0  5.0  ...  4.0  3.0  3.0       1        NaN   17\n",
              "\n",
              "[5 rows x 29 columns]"
            ]
          },
          "metadata": {
            "tags": []
          },
          "execution_count": 2
        }
      ]
    },
    {
      "cell_type": "markdown",
      "metadata": {
        "id": "IvMKssctHqo_"
      },
      "source": [
        "##Factor Analysis'\n",
        "##Aussumptions:\n",
        "ในข้อมูล Multivariate ที่มีตัวแปร observe variables จำนวน  n ตัว\n",
        "มีตัวแปร Factor (Latent Variables) จำนวน k ตัว ที่สามารถอธิบายข้อมูลทั้งหมดได้โดย k < n"
      ]
    },
    {
      "cell_type": "markdown",
      "metadata": {
        "id": "a2irKmq4J3wi"
      },
      "source": [
        "![image.png](data:image/png;base64,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)"
      ]
    },
    {
      "cell_type": "markdown",
      "metadata": {
        "id": "ecsTE7bkK0aa"
      },
      "source": [
        "Assumption:\n",
        "\n",
        "*There are no outliers in data\n",
        "\n",
        "*Sample size should be greater than the factor   จำนวน Data ต้องมากกว่าจำนวน Factor\n",
        "\n",
        "*There should not be perfect multicollinearity\n",
        "\n",
        "*There should not be homoscedasticity between the variable "
      ]
    },
    {
      "cell_type": "markdown",
      "metadata": {
        "id": "lZZHbFChQpFM"
      },
      "source": [
        "การทำ Factor Analysis มีประโยชน์หลัก 2 อันคือ\n",
        "\n",
        "1.Comfirmatory \n",
        "\n",
        "2.Exploratory "
      ]
    },
    {
      "cell_type": "markdown",
      "metadata": {
        "id": "zxYtc4VzOsTa"
      },
      "source": [
        "## การทำ Factor Analysis "
      ]
    },
    {
      "cell_type": "code",
      "metadata": {
        "colab": {
          "base_uri": "https://localhost:8080/",
          "height": 329
        },
        "id": "YN1Sg97WKSUH",
        "outputId": "da3a1bcb-3870-41aa-a4be-82440843d89f"
      },
      "source": [
        "from factor_analyzer import factor_analyzer\n",
        "import matplotlib.pyplot as plt\n",
        "\n"
      ],
      "execution_count": null,
      "outputs": [
        {
          "output_type": "error",
          "ename": "ModuleNotFoundError",
          "evalue": "ignored",
          "traceback": [
            "\u001b[0;31m---------------------------------------------------------------------------\u001b[0m",
            "\u001b[0;31mModuleNotFoundError\u001b[0m                       Traceback (most recent call last)",
            "\u001b[0;32m<ipython-input-3-aab116fa67c6>\u001b[0m in \u001b[0;36m<module>\u001b[0;34m()\u001b[0m\n\u001b[0;32m----> 1\u001b[0;31m \u001b[0;32mfrom\u001b[0m \u001b[0mfactor_analyzer\u001b[0m \u001b[0;32mimport\u001b[0m \u001b[0mfactor_analyzer\u001b[0m\u001b[0;34m\u001b[0m\u001b[0;34m\u001b[0m\u001b[0m\n\u001b[0m\u001b[1;32m      2\u001b[0m \u001b[0;32mimport\u001b[0m \u001b[0mmatplotlib\u001b[0m\u001b[0;34m.\u001b[0m\u001b[0mpyplot\u001b[0m \u001b[0;32mas\u001b[0m \u001b[0mplt\u001b[0m\u001b[0;34m\u001b[0m\u001b[0;34m\u001b[0m\u001b[0m\n\u001b[1;32m      3\u001b[0m \u001b[0;34m\u001b[0m\u001b[0m\n",
            "\u001b[0;31mModuleNotFoundError\u001b[0m: No module named 'factor_analyzer'",
            "",
            "\u001b[0;31m---------------------------------------------------------------------------\u001b[0;32m\nNOTE: If your import is failing due to a missing package, you can\nmanually install dependencies using either !pip or !apt.\n\nTo view examples of installing some common dependencies, click the\n\"Open Examples\" button below.\n\u001b[0;31m---------------------------------------------------------------------------\u001b[0m\n"
          ]
        }
      ]
    },
    {
      "cell_type": "markdown",
      "metadata": {
        "id": "7IdDfA1LPsTi"
      },
      "source": [
        "แก้ error โดย  ModuleNotFoundError: No module named 'factor_analyzer' โดย https://stackoverflow.com/questions/61830329/modulenotfounderror-no-module-named-factor-analyzer-python-notebook"
      ]
    },
    {
      "cell_type": "markdown",
      "metadata": {
        "id": "7zgqrCXDQDEH"
      },
      "source": [
        "วิธี Install package อื่นๆ"
      ]
    },
    {
      "cell_type": "code",
      "metadata": {
        "colab": {
          "base_uri": "https://localhost:8080/"
        },
        "id": "X-8whENjQHgN",
        "outputId": "c1597731-43fb-4a9a-f430-260f965a7a2d"
      },
      "source": [
        "!pip install factor_analyzer"
      ],
      "execution_count": 3,
      "outputs": [
        {
          "output_type": "stream",
          "text": [
            "Collecting factor_analyzer\n",
            "\u001b[?25l  Downloading https://files.pythonhosted.org/packages/44/b5/cbd83484ca6dd4c6562c6d66a6a3a0ecf526e79b2b575b9fb4bf5ad172dd/factor_analyzer-0.3.2.tar.gz (40kB)\n",
            "\r\u001b[K     |████████▏                       | 10kB 15.3MB/s eta 0:00:01\r\u001b[K     |████████████████▍               | 20kB 19.8MB/s eta 0:00:01\r\u001b[K     |████████████████████████▌       | 30kB 8.8MB/s eta 0:00:01\r\u001b[K     |████████████████████████████████| 40kB 2.4MB/s \n",
            "\u001b[?25hRequirement already satisfied: pandas in /usr/local/lib/python3.7/dist-packages (from factor_analyzer) (1.1.5)\n",
            "Requirement already satisfied: scipy in /usr/local/lib/python3.7/dist-packages (from factor_analyzer) (1.4.1)\n",
            "Requirement already satisfied: numpy in /usr/local/lib/python3.7/dist-packages (from factor_analyzer) (1.19.5)\n",
            "Requirement already satisfied: scikit-learn in /usr/local/lib/python3.7/dist-packages (from factor_analyzer) (0.22.2.post1)\n",
            "Requirement already satisfied: python-dateutil>=2.7.3 in /usr/local/lib/python3.7/dist-packages (from pandas->factor_analyzer) (2.8.1)\n",
            "Requirement already satisfied: pytz>=2017.2 in /usr/local/lib/python3.7/dist-packages (from pandas->factor_analyzer) (2018.9)\n",
            "Requirement already satisfied: joblib>=0.11 in /usr/local/lib/python3.7/dist-packages (from scikit-learn->factor_analyzer) (1.0.1)\n",
            "Requirement already satisfied: six>=1.5 in /usr/local/lib/python3.7/dist-packages (from python-dateutil>=2.7.3->pandas->factor_analyzer) (1.15.0)\n",
            "Building wheels for collected packages: factor-analyzer\n",
            "  Building wheel for factor-analyzer (setup.py) ... \u001b[?25l\u001b[?25hdone\n",
            "  Created wheel for factor-analyzer: filename=factor_analyzer-0.3.2-cp37-none-any.whl size=40383 sha256=b6daab948a145839d80448e791afe747c22213237aeed0d3ca84a8ba96ff199b\n",
            "  Stored in directory: /root/.cache/pip/wheels/4a/d0/57/f1330cb9c80e82d8d05391c74c94ed61ce3f03bf6157f3d6db\n",
            "Successfully built factor-analyzer\n",
            "Installing collected packages: factor-analyzer\n",
            "Successfully installed factor-analyzer-0.3.2\n"
          ],
          "name": "stdout"
        }
      ]
    },
    {
      "cell_type": "code",
      "metadata": {
        "id": "FHV58fRuQYYw"
      },
      "source": [
        "from factor_analyzer import factor_analyzer\n",
        "import matplotlib.pyplot as plt # = from matplotlib import pyplot as plt"
      ],
      "execution_count": 4,
      "outputs": []
    },
    {
      "cell_type": "markdown",
      "metadata": {
        "id": "HdhqkZmuSsa8"
      },
      "source": [
        "##Quiz 5 เลือกข้อมูลมาเฉพาะ a1,a2,a3,...,d3,o4,o5 ด้วยคำสั่ง i.loc[]"
      ]
    },
    {
      "cell_type": "code",
      "metadata": {
        "id": "YIAhRMNuRudH"
      },
      "source": [
        "BFI_data_dropped = BFI_data.iloc[:,]"
      ],
      "execution_count": 5,
      "outputs": []
    },
    {
      "cell_type": "code",
      "metadata": {
        "id": "W5jSnNlFTSvk"
      },
      "source": [
        "BFI_data_dropped = BFI_data.iloc[:,1:26]"
      ],
      "execution_count": 6,
      "outputs": []
    },
    {
      "cell_type": "code",
      "metadata": {
        "colab": {
          "base_uri": "https://localhost:8080/",
          "height": 424
        },
        "id": "Munshl2OT67s",
        "outputId": "2477aa8a-0602-4026-fe87-cfe95cca542b"
      },
      "source": [
        "BFI_data_dropped"
      ],
      "execution_count": 7,
      "outputs": [
        {
          "output_type": "execute_result",
          "data": {
            "text/html": [
              "<div>\n",
              "<style scoped>\n",
              "    .dataframe tbody tr th:only-of-type {\n",
              "        vertical-align: middle;\n",
              "    }\n",
              "\n",
              "    .dataframe tbody tr th {\n",
              "        vertical-align: top;\n",
              "    }\n",
              "\n",
              "    .dataframe thead th {\n",
              "        text-align: right;\n",
              "    }\n",
              "</style>\n",
              "<table border=\"1\" class=\"dataframe\">\n",
              "  <thead>\n",
              "    <tr style=\"text-align: right;\">\n",
              "      <th></th>\n",
              "      <th>A1</th>\n",
              "      <th>A2</th>\n",
              "      <th>A3</th>\n",
              "      <th>A4</th>\n",
              "      <th>A5</th>\n",
              "      <th>C1</th>\n",
              "      <th>C2</th>\n",
              "      <th>C3</th>\n",
              "      <th>C4</th>\n",
              "      <th>C5</th>\n",
              "      <th>E1</th>\n",
              "      <th>E2</th>\n",
              "      <th>E3</th>\n",
              "      <th>E4</th>\n",
              "      <th>E5</th>\n",
              "      <th>N1</th>\n",
              "      <th>N2</th>\n",
              "      <th>N3</th>\n",
              "      <th>N4</th>\n",
              "      <th>N5</th>\n",
              "      <th>O1</th>\n",
              "      <th>O2</th>\n",
              "      <th>O3</th>\n",
              "      <th>O4</th>\n",
              "      <th>O5</th>\n",
              "    </tr>\n",
              "  </thead>\n",
              "  <tbody>\n",
              "    <tr>\n",
              "      <th>0</th>\n",
              "      <td>2.0</td>\n",
              "      <td>4.0</td>\n",
              "      <td>3.0</td>\n",
              "      <td>4.0</td>\n",
              "      <td>4.0</td>\n",
              "      <td>2.0</td>\n",
              "      <td>3.0</td>\n",
              "      <td>3.0</td>\n",
              "      <td>4.0</td>\n",
              "      <td>4.0</td>\n",
              "      <td>3.0</td>\n",
              "      <td>3.0</td>\n",
              "      <td>3.0</td>\n",
              "      <td>4.0</td>\n",
              "      <td>4.0</td>\n",
              "      <td>3.0</td>\n",
              "      <td>4.0</td>\n",
              "      <td>2.0</td>\n",
              "      <td>2.0</td>\n",
              "      <td>3.0</td>\n",
              "      <td>3.0</td>\n",
              "      <td>6</td>\n",
              "      <td>3.0</td>\n",
              "      <td>4.0</td>\n",
              "      <td>3.0</td>\n",
              "    </tr>\n",
              "    <tr>\n",
              "      <th>1</th>\n",
              "      <td>2.0</td>\n",
              "      <td>4.0</td>\n",
              "      <td>5.0</td>\n",
              "      <td>2.0</td>\n",
              "      <td>5.0</td>\n",
              "      <td>5.0</td>\n",
              "      <td>4.0</td>\n",
              "      <td>4.0</td>\n",
              "      <td>3.0</td>\n",
              "      <td>4.0</td>\n",
              "      <td>1.0</td>\n",
              "      <td>1.0</td>\n",
              "      <td>6.0</td>\n",
              "      <td>4.0</td>\n",
              "      <td>3.0</td>\n",
              "      <td>3.0</td>\n",
              "      <td>3.0</td>\n",
              "      <td>3.0</td>\n",
              "      <td>5.0</td>\n",
              "      <td>5.0</td>\n",
              "      <td>4.0</td>\n",
              "      <td>2</td>\n",
              "      <td>4.0</td>\n",
              "      <td>3.0</td>\n",
              "      <td>3.0</td>\n",
              "    </tr>\n",
              "    <tr>\n",
              "      <th>2</th>\n",
              "      <td>5.0</td>\n",
              "      <td>4.0</td>\n",
              "      <td>5.0</td>\n",
              "      <td>4.0</td>\n",
              "      <td>4.0</td>\n",
              "      <td>4.0</td>\n",
              "      <td>5.0</td>\n",
              "      <td>4.0</td>\n",
              "      <td>2.0</td>\n",
              "      <td>5.0</td>\n",
              "      <td>2.0</td>\n",
              "      <td>4.0</td>\n",
              "      <td>4.0</td>\n",
              "      <td>4.0</td>\n",
              "      <td>5.0</td>\n",
              "      <td>4.0</td>\n",
              "      <td>5.0</td>\n",
              "      <td>4.0</td>\n",
              "      <td>2.0</td>\n",
              "      <td>3.0</td>\n",
              "      <td>4.0</td>\n",
              "      <td>2</td>\n",
              "      <td>5.0</td>\n",
              "      <td>5.0</td>\n",
              "      <td>2.0</td>\n",
              "    </tr>\n",
              "    <tr>\n",
              "      <th>3</th>\n",
              "      <td>4.0</td>\n",
              "      <td>4.0</td>\n",
              "      <td>6.0</td>\n",
              "      <td>5.0</td>\n",
              "      <td>5.0</td>\n",
              "      <td>4.0</td>\n",
              "      <td>4.0</td>\n",
              "      <td>3.0</td>\n",
              "      <td>5.0</td>\n",
              "      <td>5.0</td>\n",
              "      <td>5.0</td>\n",
              "      <td>3.0</td>\n",
              "      <td>4.0</td>\n",
              "      <td>4.0</td>\n",
              "      <td>4.0</td>\n",
              "      <td>2.0</td>\n",
              "      <td>5.0</td>\n",
              "      <td>2.0</td>\n",
              "      <td>4.0</td>\n",
              "      <td>1.0</td>\n",
              "      <td>3.0</td>\n",
              "      <td>3</td>\n",
              "      <td>4.0</td>\n",
              "      <td>3.0</td>\n",
              "      <td>5.0</td>\n",
              "    </tr>\n",
              "    <tr>\n",
              "      <th>4</th>\n",
              "      <td>2.0</td>\n",
              "      <td>3.0</td>\n",
              "      <td>3.0</td>\n",
              "      <td>4.0</td>\n",
              "      <td>5.0</td>\n",
              "      <td>4.0</td>\n",
              "      <td>4.0</td>\n",
              "      <td>5.0</td>\n",
              "      <td>3.0</td>\n",
              "      <td>2.0</td>\n",
              "      <td>2.0</td>\n",
              "      <td>2.0</td>\n",
              "      <td>5.0</td>\n",
              "      <td>4.0</td>\n",
              "      <td>5.0</td>\n",
              "      <td>2.0</td>\n",
              "      <td>3.0</td>\n",
              "      <td>4.0</td>\n",
              "      <td>4.0</td>\n",
              "      <td>3.0</td>\n",
              "      <td>3.0</td>\n",
              "      <td>3</td>\n",
              "      <td>4.0</td>\n",
              "      <td>3.0</td>\n",
              "      <td>3.0</td>\n",
              "    </tr>\n",
              "    <tr>\n",
              "      <th>...</th>\n",
              "      <td>...</td>\n",
              "      <td>...</td>\n",
              "      <td>...</td>\n",
              "      <td>...</td>\n",
              "      <td>...</td>\n",
              "      <td>...</td>\n",
              "      <td>...</td>\n",
              "      <td>...</td>\n",
              "      <td>...</td>\n",
              "      <td>...</td>\n",
              "      <td>...</td>\n",
              "      <td>...</td>\n",
              "      <td>...</td>\n",
              "      <td>...</td>\n",
              "      <td>...</td>\n",
              "      <td>...</td>\n",
              "      <td>...</td>\n",
              "      <td>...</td>\n",
              "      <td>...</td>\n",
              "      <td>...</td>\n",
              "      <td>...</td>\n",
              "      <td>...</td>\n",
              "      <td>...</td>\n",
              "      <td>...</td>\n",
              "      <td>...</td>\n",
              "    </tr>\n",
              "    <tr>\n",
              "      <th>2795</th>\n",
              "      <td>6.0</td>\n",
              "      <td>1.0</td>\n",
              "      <td>3.0</td>\n",
              "      <td>3.0</td>\n",
              "      <td>3.0</td>\n",
              "      <td>6.0</td>\n",
              "      <td>6.0</td>\n",
              "      <td>6.0</td>\n",
              "      <td>1.0</td>\n",
              "      <td>1.0</td>\n",
              "      <td>1.0</td>\n",
              "      <td>4.0</td>\n",
              "      <td>5.0</td>\n",
              "      <td>5.0</td>\n",
              "      <td>6.0</td>\n",
              "      <td>1.0</td>\n",
              "      <td>1.0</td>\n",
              "      <td>1.0</td>\n",
              "      <td>NaN</td>\n",
              "      <td>1.0</td>\n",
              "      <td>6.0</td>\n",
              "      <td>1</td>\n",
              "      <td>6.0</td>\n",
              "      <td>6.0</td>\n",
              "      <td>1.0</td>\n",
              "    </tr>\n",
              "    <tr>\n",
              "      <th>2796</th>\n",
              "      <td>2.0</td>\n",
              "      <td>4.0</td>\n",
              "      <td>4.0</td>\n",
              "      <td>3.0</td>\n",
              "      <td>5.0</td>\n",
              "      <td>2.0</td>\n",
              "      <td>3.0</td>\n",
              "      <td>4.0</td>\n",
              "      <td>4.0</td>\n",
              "      <td>3.0</td>\n",
              "      <td>2.0</td>\n",
              "      <td>2.0</td>\n",
              "      <td>4.0</td>\n",
              "      <td>4.0</td>\n",
              "      <td>3.0</td>\n",
              "      <td>NaN</td>\n",
              "      <td>3.0</td>\n",
              "      <td>2.0</td>\n",
              "      <td>3.0</td>\n",
              "      <td>3.0</td>\n",
              "      <td>6.0</td>\n",
              "      <td>3</td>\n",
              "      <td>5.0</td>\n",
              "      <td>4.0</td>\n",
              "      <td>2.0</td>\n",
              "    </tr>\n",
              "    <tr>\n",
              "      <th>2797</th>\n",
              "      <td>2.0</td>\n",
              "      <td>3.0</td>\n",
              "      <td>5.0</td>\n",
              "      <td>2.0</td>\n",
              "      <td>5.0</td>\n",
              "      <td>5.0</td>\n",
              "      <td>5.0</td>\n",
              "      <td>5.0</td>\n",
              "      <td>1.0</td>\n",
              "      <td>1.0</td>\n",
              "      <td>2.0</td>\n",
              "      <td>2.0</td>\n",
              "      <td>6.0</td>\n",
              "      <td>3.0</td>\n",
              "      <td>6.0</td>\n",
              "      <td>3.0</td>\n",
              "      <td>4.0</td>\n",
              "      <td>3.0</td>\n",
              "      <td>3.0</td>\n",
              "      <td>1.0</td>\n",
              "      <td>5.0</td>\n",
              "      <td>1</td>\n",
              "      <td>6.0</td>\n",
              "      <td>4.0</td>\n",
              "      <td>3.0</td>\n",
              "    </tr>\n",
              "    <tr>\n",
              "      <th>2798</th>\n",
              "      <td>5.0</td>\n",
              "      <td>2.0</td>\n",
              "      <td>2.0</td>\n",
              "      <td>4.0</td>\n",
              "      <td>4.0</td>\n",
              "      <td>5.0</td>\n",
              "      <td>5.0</td>\n",
              "      <td>5.0</td>\n",
              "      <td>2.0</td>\n",
              "      <td>6.0</td>\n",
              "      <td>2.0</td>\n",
              "      <td>2.0</td>\n",
              "      <td>4.0</td>\n",
              "      <td>5.0</td>\n",
              "      <td>4.0</td>\n",
              "      <td>5.0</td>\n",
              "      <td>5.0</td>\n",
              "      <td>6.0</td>\n",
              "      <td>4.0</td>\n",
              "      <td>1.0</td>\n",
              "      <td>5.0</td>\n",
              "      <td>2</td>\n",
              "      <td>5.0</td>\n",
              "      <td>5.0</td>\n",
              "      <td>1.0</td>\n",
              "    </tr>\n",
              "    <tr>\n",
              "      <th>2799</th>\n",
              "      <td>2.0</td>\n",
              "      <td>3.0</td>\n",
              "      <td>1.0</td>\n",
              "      <td>4.0</td>\n",
              "      <td>2.0</td>\n",
              "      <td>5.0</td>\n",
              "      <td>5.0</td>\n",
              "      <td>3.0</td>\n",
              "      <td>3.0</td>\n",
              "      <td>3.0</td>\n",
              "      <td>3.0</td>\n",
              "      <td>3.0</td>\n",
              "      <td>1.0</td>\n",
              "      <td>2.0</td>\n",
              "      <td>2.0</td>\n",
              "      <td>1.0</td>\n",
              "      <td>2.0</td>\n",
              "      <td>2.0</td>\n",
              "      <td>1.0</td>\n",
              "      <td>1.0</td>\n",
              "      <td>3.0</td>\n",
              "      <td>1</td>\n",
              "      <td>3.0</td>\n",
              "      <td>5.0</td>\n",
              "      <td>1.0</td>\n",
              "    </tr>\n",
              "  </tbody>\n",
              "</table>\n",
              "<p>2800 rows × 25 columns</p>\n",
              "</div>"
            ],
            "text/plain": [
              "       A1   A2   A3   A4   A5   C1   C2  ...   N4   N5   O1  O2   O3   O4   O5\n",
              "0     2.0  4.0  3.0  4.0  4.0  2.0  3.0  ...  2.0  3.0  3.0   6  3.0  4.0  3.0\n",
              "1     2.0  4.0  5.0  2.0  5.0  5.0  4.0  ...  5.0  5.0  4.0   2  4.0  3.0  3.0\n",
              "2     5.0  4.0  5.0  4.0  4.0  4.0  5.0  ...  2.0  3.0  4.0   2  5.0  5.0  2.0\n",
              "3     4.0  4.0  6.0  5.0  5.0  4.0  4.0  ...  4.0  1.0  3.0   3  4.0  3.0  5.0\n",
              "4     2.0  3.0  3.0  4.0  5.0  4.0  4.0  ...  4.0  3.0  3.0   3  4.0  3.0  3.0\n",
              "...   ...  ...  ...  ...  ...  ...  ...  ...  ...  ...  ...  ..  ...  ...  ...\n",
              "2795  6.0  1.0  3.0  3.0  3.0  6.0  6.0  ...  NaN  1.0  6.0   1  6.0  6.0  1.0\n",
              "2796  2.0  4.0  4.0  3.0  5.0  2.0  3.0  ...  3.0  3.0  6.0   3  5.0  4.0  2.0\n",
              "2797  2.0  3.0  5.0  2.0  5.0  5.0  5.0  ...  3.0  1.0  5.0   1  6.0  4.0  3.0\n",
              "2798  5.0  2.0  2.0  4.0  4.0  5.0  5.0  ...  4.0  1.0  5.0   2  5.0  5.0  1.0\n",
              "2799  2.0  3.0  1.0  4.0  2.0  5.0  5.0  ...  1.0  1.0  3.0   1  3.0  5.0  1.0\n",
              "\n",
              "[2800 rows x 25 columns]"
            ]
          },
          "metadata": {
            "tags": []
          },
          "execution_count": 7
        }
      ]
    },
    {
      "cell_type": "code",
      "metadata": {
        "id": "AMinzSGTyjPx",
        "colab": {
          "base_uri": "https://localhost:8080/",
          "height": 424
        },
        "outputId": "4d062df8-487b-4e3a-ef36-7078f778e593"
      },
      "source": [
        "BFI_data_dropped = BFI_data.iloc[:,1:-3]\n",
        "BFI_data_dropped"
      ],
      "execution_count": 8,
      "outputs": [
        {
          "output_type": "execute_result",
          "data": {
            "text/html": [
              "<div>\n",
              "<style scoped>\n",
              "    .dataframe tbody tr th:only-of-type {\n",
              "        vertical-align: middle;\n",
              "    }\n",
              "\n",
              "    .dataframe tbody tr th {\n",
              "        vertical-align: top;\n",
              "    }\n",
              "\n",
              "    .dataframe thead th {\n",
              "        text-align: right;\n",
              "    }\n",
              "</style>\n",
              "<table border=\"1\" class=\"dataframe\">\n",
              "  <thead>\n",
              "    <tr style=\"text-align: right;\">\n",
              "      <th></th>\n",
              "      <th>A1</th>\n",
              "      <th>A2</th>\n",
              "      <th>A3</th>\n",
              "      <th>A4</th>\n",
              "      <th>A5</th>\n",
              "      <th>C1</th>\n",
              "      <th>C2</th>\n",
              "      <th>C3</th>\n",
              "      <th>C4</th>\n",
              "      <th>C5</th>\n",
              "      <th>E1</th>\n",
              "      <th>E2</th>\n",
              "      <th>E3</th>\n",
              "      <th>E4</th>\n",
              "      <th>E5</th>\n",
              "      <th>N1</th>\n",
              "      <th>N2</th>\n",
              "      <th>N3</th>\n",
              "      <th>N4</th>\n",
              "      <th>N5</th>\n",
              "      <th>O1</th>\n",
              "      <th>O2</th>\n",
              "      <th>O3</th>\n",
              "      <th>O4</th>\n",
              "      <th>O5</th>\n",
              "    </tr>\n",
              "  </thead>\n",
              "  <tbody>\n",
              "    <tr>\n",
              "      <th>0</th>\n",
              "      <td>2.0</td>\n",
              "      <td>4.0</td>\n",
              "      <td>3.0</td>\n",
              "      <td>4.0</td>\n",
              "      <td>4.0</td>\n",
              "      <td>2.0</td>\n",
              "      <td>3.0</td>\n",
              "      <td>3.0</td>\n",
              "      <td>4.0</td>\n",
              "      <td>4.0</td>\n",
              "      <td>3.0</td>\n",
              "      <td>3.0</td>\n",
              "      <td>3.0</td>\n",
              "      <td>4.0</td>\n",
              "      <td>4.0</td>\n",
              "      <td>3.0</td>\n",
              "      <td>4.0</td>\n",
              "      <td>2.0</td>\n",
              "      <td>2.0</td>\n",
              "      <td>3.0</td>\n",
              "      <td>3.0</td>\n",
              "      <td>6</td>\n",
              "      <td>3.0</td>\n",
              "      <td>4.0</td>\n",
              "      <td>3.0</td>\n",
              "    </tr>\n",
              "    <tr>\n",
              "      <th>1</th>\n",
              "      <td>2.0</td>\n",
              "      <td>4.0</td>\n",
              "      <td>5.0</td>\n",
              "      <td>2.0</td>\n",
              "      <td>5.0</td>\n",
              "      <td>5.0</td>\n",
              "      <td>4.0</td>\n",
              "      <td>4.0</td>\n",
              "      <td>3.0</td>\n",
              "      <td>4.0</td>\n",
              "      <td>1.0</td>\n",
              "      <td>1.0</td>\n",
              "      <td>6.0</td>\n",
              "      <td>4.0</td>\n",
              "      <td>3.0</td>\n",
              "      <td>3.0</td>\n",
              "      <td>3.0</td>\n",
              "      <td>3.0</td>\n",
              "      <td>5.0</td>\n",
              "      <td>5.0</td>\n",
              "      <td>4.0</td>\n",
              "      <td>2</td>\n",
              "      <td>4.0</td>\n",
              "      <td>3.0</td>\n",
              "      <td>3.0</td>\n",
              "    </tr>\n",
              "    <tr>\n",
              "      <th>2</th>\n",
              "      <td>5.0</td>\n",
              "      <td>4.0</td>\n",
              "      <td>5.0</td>\n",
              "      <td>4.0</td>\n",
              "      <td>4.0</td>\n",
              "      <td>4.0</td>\n",
              "      <td>5.0</td>\n",
              "      <td>4.0</td>\n",
              "      <td>2.0</td>\n",
              "      <td>5.0</td>\n",
              "      <td>2.0</td>\n",
              "      <td>4.0</td>\n",
              "      <td>4.0</td>\n",
              "      <td>4.0</td>\n",
              "      <td>5.0</td>\n",
              "      <td>4.0</td>\n",
              "      <td>5.0</td>\n",
              "      <td>4.0</td>\n",
              "      <td>2.0</td>\n",
              "      <td>3.0</td>\n",
              "      <td>4.0</td>\n",
              "      <td>2</td>\n",
              "      <td>5.0</td>\n",
              "      <td>5.0</td>\n",
              "      <td>2.0</td>\n",
              "    </tr>\n",
              "    <tr>\n",
              "      <th>3</th>\n",
              "      <td>4.0</td>\n",
              "      <td>4.0</td>\n",
              "      <td>6.0</td>\n",
              "      <td>5.0</td>\n",
              "      <td>5.0</td>\n",
              "      <td>4.0</td>\n",
              "      <td>4.0</td>\n",
              "      <td>3.0</td>\n",
              "      <td>5.0</td>\n",
              "      <td>5.0</td>\n",
              "      <td>5.0</td>\n",
              "      <td>3.0</td>\n",
              "      <td>4.0</td>\n",
              "      <td>4.0</td>\n",
              "      <td>4.0</td>\n",
              "      <td>2.0</td>\n",
              "      <td>5.0</td>\n",
              "      <td>2.0</td>\n",
              "      <td>4.0</td>\n",
              "      <td>1.0</td>\n",
              "      <td>3.0</td>\n",
              "      <td>3</td>\n",
              "      <td>4.0</td>\n",
              "      <td>3.0</td>\n",
              "      <td>5.0</td>\n",
              "    </tr>\n",
              "    <tr>\n",
              "      <th>4</th>\n",
              "      <td>2.0</td>\n",
              "      <td>3.0</td>\n",
              "      <td>3.0</td>\n",
              "      <td>4.0</td>\n",
              "      <td>5.0</td>\n",
              "      <td>4.0</td>\n",
              "      <td>4.0</td>\n",
              "      <td>5.0</td>\n",
              "      <td>3.0</td>\n",
              "      <td>2.0</td>\n",
              "      <td>2.0</td>\n",
              "      <td>2.0</td>\n",
              "      <td>5.0</td>\n",
              "      <td>4.0</td>\n",
              "      <td>5.0</td>\n",
              "      <td>2.0</td>\n",
              "      <td>3.0</td>\n",
              "      <td>4.0</td>\n",
              "      <td>4.0</td>\n",
              "      <td>3.0</td>\n",
              "      <td>3.0</td>\n",
              "      <td>3</td>\n",
              "      <td>4.0</td>\n",
              "      <td>3.0</td>\n",
              "      <td>3.0</td>\n",
              "    </tr>\n",
              "    <tr>\n",
              "      <th>...</th>\n",
              "      <td>...</td>\n",
              "      <td>...</td>\n",
              "      <td>...</td>\n",
              "      <td>...</td>\n",
              "      <td>...</td>\n",
              "      <td>...</td>\n",
              "      <td>...</td>\n",
              "      <td>...</td>\n",
              "      <td>...</td>\n",
              "      <td>...</td>\n",
              "      <td>...</td>\n",
              "      <td>...</td>\n",
              "      <td>...</td>\n",
              "      <td>...</td>\n",
              "      <td>...</td>\n",
              "      <td>...</td>\n",
              "      <td>...</td>\n",
              "      <td>...</td>\n",
              "      <td>...</td>\n",
              "      <td>...</td>\n",
              "      <td>...</td>\n",
              "      <td>...</td>\n",
              "      <td>...</td>\n",
              "      <td>...</td>\n",
              "      <td>...</td>\n",
              "    </tr>\n",
              "    <tr>\n",
              "      <th>2795</th>\n",
              "      <td>6.0</td>\n",
              "      <td>1.0</td>\n",
              "      <td>3.0</td>\n",
              "      <td>3.0</td>\n",
              "      <td>3.0</td>\n",
              "      <td>6.0</td>\n",
              "      <td>6.0</td>\n",
              "      <td>6.0</td>\n",
              "      <td>1.0</td>\n",
              "      <td>1.0</td>\n",
              "      <td>1.0</td>\n",
              "      <td>4.0</td>\n",
              "      <td>5.0</td>\n",
              "      <td>5.0</td>\n",
              "      <td>6.0</td>\n",
              "      <td>1.0</td>\n",
              "      <td>1.0</td>\n",
              "      <td>1.0</td>\n",
              "      <td>NaN</td>\n",
              "      <td>1.0</td>\n",
              "      <td>6.0</td>\n",
              "      <td>1</td>\n",
              "      <td>6.0</td>\n",
              "      <td>6.0</td>\n",
              "      <td>1.0</td>\n",
              "    </tr>\n",
              "    <tr>\n",
              "      <th>2796</th>\n",
              "      <td>2.0</td>\n",
              "      <td>4.0</td>\n",
              "      <td>4.0</td>\n",
              "      <td>3.0</td>\n",
              "      <td>5.0</td>\n",
              "      <td>2.0</td>\n",
              "      <td>3.0</td>\n",
              "      <td>4.0</td>\n",
              "      <td>4.0</td>\n",
              "      <td>3.0</td>\n",
              "      <td>2.0</td>\n",
              "      <td>2.0</td>\n",
              "      <td>4.0</td>\n",
              "      <td>4.0</td>\n",
              "      <td>3.0</td>\n",
              "      <td>NaN</td>\n",
              "      <td>3.0</td>\n",
              "      <td>2.0</td>\n",
              "      <td>3.0</td>\n",
              "      <td>3.0</td>\n",
              "      <td>6.0</td>\n",
              "      <td>3</td>\n",
              "      <td>5.0</td>\n",
              "      <td>4.0</td>\n",
              "      <td>2.0</td>\n",
              "    </tr>\n",
              "    <tr>\n",
              "      <th>2797</th>\n",
              "      <td>2.0</td>\n",
              "      <td>3.0</td>\n",
              "      <td>5.0</td>\n",
              "      <td>2.0</td>\n",
              "      <td>5.0</td>\n",
              "      <td>5.0</td>\n",
              "      <td>5.0</td>\n",
              "      <td>5.0</td>\n",
              "      <td>1.0</td>\n",
              "      <td>1.0</td>\n",
              "      <td>2.0</td>\n",
              "      <td>2.0</td>\n",
              "      <td>6.0</td>\n",
              "      <td>3.0</td>\n",
              "      <td>6.0</td>\n",
              "      <td>3.0</td>\n",
              "      <td>4.0</td>\n",
              "      <td>3.0</td>\n",
              "      <td>3.0</td>\n",
              "      <td>1.0</td>\n",
              "      <td>5.0</td>\n",
              "      <td>1</td>\n",
              "      <td>6.0</td>\n",
              "      <td>4.0</td>\n",
              "      <td>3.0</td>\n",
              "    </tr>\n",
              "    <tr>\n",
              "      <th>2798</th>\n",
              "      <td>5.0</td>\n",
              "      <td>2.0</td>\n",
              "      <td>2.0</td>\n",
              "      <td>4.0</td>\n",
              "      <td>4.0</td>\n",
              "      <td>5.0</td>\n",
              "      <td>5.0</td>\n",
              "      <td>5.0</td>\n",
              "      <td>2.0</td>\n",
              "      <td>6.0</td>\n",
              "      <td>2.0</td>\n",
              "      <td>2.0</td>\n",
              "      <td>4.0</td>\n",
              "      <td>5.0</td>\n",
              "      <td>4.0</td>\n",
              "      <td>5.0</td>\n",
              "      <td>5.0</td>\n",
              "      <td>6.0</td>\n",
              "      <td>4.0</td>\n",
              "      <td>1.0</td>\n",
              "      <td>5.0</td>\n",
              "      <td>2</td>\n",
              "      <td>5.0</td>\n",
              "      <td>5.0</td>\n",
              "      <td>1.0</td>\n",
              "    </tr>\n",
              "    <tr>\n",
              "      <th>2799</th>\n",
              "      <td>2.0</td>\n",
              "      <td>3.0</td>\n",
              "      <td>1.0</td>\n",
              "      <td>4.0</td>\n",
              "      <td>2.0</td>\n",
              "      <td>5.0</td>\n",
              "      <td>5.0</td>\n",
              "      <td>3.0</td>\n",
              "      <td>3.0</td>\n",
              "      <td>3.0</td>\n",
              "      <td>3.0</td>\n",
              "      <td>3.0</td>\n",
              "      <td>1.0</td>\n",
              "      <td>2.0</td>\n",
              "      <td>2.0</td>\n",
              "      <td>1.0</td>\n",
              "      <td>2.0</td>\n",
              "      <td>2.0</td>\n",
              "      <td>1.0</td>\n",
              "      <td>1.0</td>\n",
              "      <td>3.0</td>\n",
              "      <td>1</td>\n",
              "      <td>3.0</td>\n",
              "      <td>5.0</td>\n",
              "      <td>1.0</td>\n",
              "    </tr>\n",
              "  </tbody>\n",
              "</table>\n",
              "<p>2800 rows × 25 columns</p>\n",
              "</div>"
            ],
            "text/plain": [
              "       A1   A2   A3   A4   A5   C1   C2  ...   N4   N5   O1  O2   O3   O4   O5\n",
              "0     2.0  4.0  3.0  4.0  4.0  2.0  3.0  ...  2.0  3.0  3.0   6  3.0  4.0  3.0\n",
              "1     2.0  4.0  5.0  2.0  5.0  5.0  4.0  ...  5.0  5.0  4.0   2  4.0  3.0  3.0\n",
              "2     5.0  4.0  5.0  4.0  4.0  4.0  5.0  ...  2.0  3.0  4.0   2  5.0  5.0  2.0\n",
              "3     4.0  4.0  6.0  5.0  5.0  4.0  4.0  ...  4.0  1.0  3.0   3  4.0  3.0  5.0\n",
              "4     2.0  3.0  3.0  4.0  5.0  4.0  4.0  ...  4.0  3.0  3.0   3  4.0  3.0  3.0\n",
              "...   ...  ...  ...  ...  ...  ...  ...  ...  ...  ...  ...  ..  ...  ...  ...\n",
              "2795  6.0  1.0  3.0  3.0  3.0  6.0  6.0  ...  NaN  1.0  6.0   1  6.0  6.0  1.0\n",
              "2796  2.0  4.0  4.0  3.0  5.0  2.0  3.0  ...  3.0  3.0  6.0   3  5.0  4.0  2.0\n",
              "2797  2.0  3.0  5.0  2.0  5.0  5.0  5.0  ...  3.0  1.0  5.0   1  6.0  4.0  3.0\n",
              "2798  5.0  2.0  2.0  4.0  4.0  5.0  5.0  ...  4.0  1.0  5.0   2  5.0  5.0  1.0\n",
              "2799  2.0  3.0  1.0  4.0  2.0  5.0  5.0  ...  1.0  1.0  3.0   1  3.0  5.0  1.0\n",
              "\n",
              "[2800 rows x 25 columns]"
            ]
          },
          "metadata": {
            "tags": []
          },
          "execution_count": 8
        }
      ]
    },
    {
      "cell_type": "code",
      "metadata": {
        "id": "yYg24JXlzTdb",
        "colab": {
          "base_uri": "https://localhost:8080/",
          "height": 424
        },
        "outputId": "dad7a145-b276-4522-8e32-f60e3af2f014"
      },
      "source": [
        "BFI_data_dropped = BFI_data_dropped.dropna()\n",
        "BFI_data_dropped"
      ],
      "execution_count": 9,
      "outputs": [
        {
          "output_type": "execute_result",
          "data": {
            "text/html": [
              "<div>\n",
              "<style scoped>\n",
              "    .dataframe tbody tr th:only-of-type {\n",
              "        vertical-align: middle;\n",
              "    }\n",
              "\n",
              "    .dataframe tbody tr th {\n",
              "        vertical-align: top;\n",
              "    }\n",
              "\n",
              "    .dataframe thead th {\n",
              "        text-align: right;\n",
              "    }\n",
              "</style>\n",
              "<table border=\"1\" class=\"dataframe\">\n",
              "  <thead>\n",
              "    <tr style=\"text-align: right;\">\n",
              "      <th></th>\n",
              "      <th>A1</th>\n",
              "      <th>A2</th>\n",
              "      <th>A3</th>\n",
              "      <th>A4</th>\n",
              "      <th>A5</th>\n",
              "      <th>C1</th>\n",
              "      <th>C2</th>\n",
              "      <th>C3</th>\n",
              "      <th>C4</th>\n",
              "      <th>C5</th>\n",
              "      <th>E1</th>\n",
              "      <th>E2</th>\n",
              "      <th>E3</th>\n",
              "      <th>E4</th>\n",
              "      <th>E5</th>\n",
              "      <th>N1</th>\n",
              "      <th>N2</th>\n",
              "      <th>N3</th>\n",
              "      <th>N4</th>\n",
              "      <th>N5</th>\n",
              "      <th>O1</th>\n",
              "      <th>O2</th>\n",
              "      <th>O3</th>\n",
              "      <th>O4</th>\n",
              "      <th>O5</th>\n",
              "    </tr>\n",
              "  </thead>\n",
              "  <tbody>\n",
              "    <tr>\n",
              "      <th>0</th>\n",
              "      <td>2.0</td>\n",
              "      <td>4.0</td>\n",
              "      <td>3.0</td>\n",
              "      <td>4.0</td>\n",
              "      <td>4.0</td>\n",
              "      <td>2.0</td>\n",
              "      <td>3.0</td>\n",
              "      <td>3.0</td>\n",
              "      <td>4.0</td>\n",
              "      <td>4.0</td>\n",
              "      <td>3.0</td>\n",
              "      <td>3.0</td>\n",
              "      <td>3.0</td>\n",
              "      <td>4.0</td>\n",
              "      <td>4.0</td>\n",
              "      <td>3.0</td>\n",
              "      <td>4.0</td>\n",
              "      <td>2.0</td>\n",
              "      <td>2.0</td>\n",
              "      <td>3.0</td>\n",
              "      <td>3.0</td>\n",
              "      <td>6</td>\n",
              "      <td>3.0</td>\n",
              "      <td>4.0</td>\n",
              "      <td>3.0</td>\n",
              "    </tr>\n",
              "    <tr>\n",
              "      <th>1</th>\n",
              "      <td>2.0</td>\n",
              "      <td>4.0</td>\n",
              "      <td>5.0</td>\n",
              "      <td>2.0</td>\n",
              "      <td>5.0</td>\n",
              "      <td>5.0</td>\n",
              "      <td>4.0</td>\n",
              "      <td>4.0</td>\n",
              "      <td>3.0</td>\n",
              "      <td>4.0</td>\n",
              "      <td>1.0</td>\n",
              "      <td>1.0</td>\n",
              "      <td>6.0</td>\n",
              "      <td>4.0</td>\n",
              "      <td>3.0</td>\n",
              "      <td>3.0</td>\n",
              "      <td>3.0</td>\n",
              "      <td>3.0</td>\n",
              "      <td>5.0</td>\n",
              "      <td>5.0</td>\n",
              "      <td>4.0</td>\n",
              "      <td>2</td>\n",
              "      <td>4.0</td>\n",
              "      <td>3.0</td>\n",
              "      <td>3.0</td>\n",
              "    </tr>\n",
              "    <tr>\n",
              "      <th>2</th>\n",
              "      <td>5.0</td>\n",
              "      <td>4.0</td>\n",
              "      <td>5.0</td>\n",
              "      <td>4.0</td>\n",
              "      <td>4.0</td>\n",
              "      <td>4.0</td>\n",
              "      <td>5.0</td>\n",
              "      <td>4.0</td>\n",
              "      <td>2.0</td>\n",
              "      <td>5.0</td>\n",
              "      <td>2.0</td>\n",
              "      <td>4.0</td>\n",
              "      <td>4.0</td>\n",
              "      <td>4.0</td>\n",
              "      <td>5.0</td>\n",
              "      <td>4.0</td>\n",
              "      <td>5.0</td>\n",
              "      <td>4.0</td>\n",
              "      <td>2.0</td>\n",
              "      <td>3.0</td>\n",
              "      <td>4.0</td>\n",
              "      <td>2</td>\n",
              "      <td>5.0</td>\n",
              "      <td>5.0</td>\n",
              "      <td>2.0</td>\n",
              "    </tr>\n",
              "    <tr>\n",
              "      <th>3</th>\n",
              "      <td>4.0</td>\n",
              "      <td>4.0</td>\n",
              "      <td>6.0</td>\n",
              "      <td>5.0</td>\n",
              "      <td>5.0</td>\n",
              "      <td>4.0</td>\n",
              "      <td>4.0</td>\n",
              "      <td>3.0</td>\n",
              "      <td>5.0</td>\n",
              "      <td>5.0</td>\n",
              "      <td>5.0</td>\n",
              "      <td>3.0</td>\n",
              "      <td>4.0</td>\n",
              "      <td>4.0</td>\n",
              "      <td>4.0</td>\n",
              "      <td>2.0</td>\n",
              "      <td>5.0</td>\n",
              "      <td>2.0</td>\n",
              "      <td>4.0</td>\n",
              "      <td>1.0</td>\n",
              "      <td>3.0</td>\n",
              "      <td>3</td>\n",
              "      <td>4.0</td>\n",
              "      <td>3.0</td>\n",
              "      <td>5.0</td>\n",
              "    </tr>\n",
              "    <tr>\n",
              "      <th>4</th>\n",
              "      <td>2.0</td>\n",
              "      <td>3.0</td>\n",
              "      <td>3.0</td>\n",
              "      <td>4.0</td>\n",
              "      <td>5.0</td>\n",
              "      <td>4.0</td>\n",
              "      <td>4.0</td>\n",
              "      <td>5.0</td>\n",
              "      <td>3.0</td>\n",
              "      <td>2.0</td>\n",
              "      <td>2.0</td>\n",
              "      <td>2.0</td>\n",
              "      <td>5.0</td>\n",
              "      <td>4.0</td>\n",
              "      <td>5.0</td>\n",
              "      <td>2.0</td>\n",
              "      <td>3.0</td>\n",
              "      <td>4.0</td>\n",
              "      <td>4.0</td>\n",
              "      <td>3.0</td>\n",
              "      <td>3.0</td>\n",
              "      <td>3</td>\n",
              "      <td>4.0</td>\n",
              "      <td>3.0</td>\n",
              "      <td>3.0</td>\n",
              "    </tr>\n",
              "    <tr>\n",
              "      <th>...</th>\n",
              "      <td>...</td>\n",
              "      <td>...</td>\n",
              "      <td>...</td>\n",
              "      <td>...</td>\n",
              "      <td>...</td>\n",
              "      <td>...</td>\n",
              "      <td>...</td>\n",
              "      <td>...</td>\n",
              "      <td>...</td>\n",
              "      <td>...</td>\n",
              "      <td>...</td>\n",
              "      <td>...</td>\n",
              "      <td>...</td>\n",
              "      <td>...</td>\n",
              "      <td>...</td>\n",
              "      <td>...</td>\n",
              "      <td>...</td>\n",
              "      <td>...</td>\n",
              "      <td>...</td>\n",
              "      <td>...</td>\n",
              "      <td>...</td>\n",
              "      <td>...</td>\n",
              "      <td>...</td>\n",
              "      <td>...</td>\n",
              "      <td>...</td>\n",
              "    </tr>\n",
              "    <tr>\n",
              "      <th>2793</th>\n",
              "      <td>3.0</td>\n",
              "      <td>4.0</td>\n",
              "      <td>3.0</td>\n",
              "      <td>1.0</td>\n",
              "      <td>3.0</td>\n",
              "      <td>5.0</td>\n",
              "      <td>4.0</td>\n",
              "      <td>5.0</td>\n",
              "      <td>3.0</td>\n",
              "      <td>4.0</td>\n",
              "      <td>3.0</td>\n",
              "      <td>5.0</td>\n",
              "      <td>2.0</td>\n",
              "      <td>3.0</td>\n",
              "      <td>1.0</td>\n",
              "      <td>5.0</td>\n",
              "      <td>6.0</td>\n",
              "      <td>5.0</td>\n",
              "      <td>5.0</td>\n",
              "      <td>6.0</td>\n",
              "      <td>6.0</td>\n",
              "      <td>1</td>\n",
              "      <td>4.0</td>\n",
              "      <td>5.0</td>\n",
              "      <td>2.0</td>\n",
              "    </tr>\n",
              "    <tr>\n",
              "      <th>2794</th>\n",
              "      <td>5.0</td>\n",
              "      <td>5.0</td>\n",
              "      <td>5.0</td>\n",
              "      <td>5.0</td>\n",
              "      <td>3.0</td>\n",
              "      <td>5.0</td>\n",
              "      <td>4.0</td>\n",
              "      <td>2.0</td>\n",
              "      <td>3.0</td>\n",
              "      <td>5.0</td>\n",
              "      <td>3.0</td>\n",
              "      <td>5.0</td>\n",
              "      <td>5.0</td>\n",
              "      <td>6.0</td>\n",
              "      <td>5.0</td>\n",
              "      <td>4.0</td>\n",
              "      <td>5.0</td>\n",
              "      <td>3.0</td>\n",
              "      <td>5.0</td>\n",
              "      <td>2.0</td>\n",
              "      <td>6.0</td>\n",
              "      <td>1</td>\n",
              "      <td>5.0</td>\n",
              "      <td>6.0</td>\n",
              "      <td>2.0</td>\n",
              "    </tr>\n",
              "    <tr>\n",
              "      <th>2797</th>\n",
              "      <td>2.0</td>\n",
              "      <td>3.0</td>\n",
              "      <td>5.0</td>\n",
              "      <td>2.0</td>\n",
              "      <td>5.0</td>\n",
              "      <td>5.0</td>\n",
              "      <td>5.0</td>\n",
              "      <td>5.0</td>\n",
              "      <td>1.0</td>\n",
              "      <td>1.0</td>\n",
              "      <td>2.0</td>\n",
              "      <td>2.0</td>\n",
              "      <td>6.0</td>\n",
              "      <td>3.0</td>\n",
              "      <td>6.0</td>\n",
              "      <td>3.0</td>\n",
              "      <td>4.0</td>\n",
              "      <td>3.0</td>\n",
              "      <td>3.0</td>\n",
              "      <td>1.0</td>\n",
              "      <td>5.0</td>\n",
              "      <td>1</td>\n",
              "      <td>6.0</td>\n",
              "      <td>4.0</td>\n",
              "      <td>3.0</td>\n",
              "    </tr>\n",
              "    <tr>\n",
              "      <th>2798</th>\n",
              "      <td>5.0</td>\n",
              "      <td>2.0</td>\n",
              "      <td>2.0</td>\n",
              "      <td>4.0</td>\n",
              "      <td>4.0</td>\n",
              "      <td>5.0</td>\n",
              "      <td>5.0</td>\n",
              "      <td>5.0</td>\n",
              "      <td>2.0</td>\n",
              "      <td>6.0</td>\n",
              "      <td>2.0</td>\n",
              "      <td>2.0</td>\n",
              "      <td>4.0</td>\n",
              "      <td>5.0</td>\n",
              "      <td>4.0</td>\n",
              "      <td>5.0</td>\n",
              "      <td>5.0</td>\n",
              "      <td>6.0</td>\n",
              "      <td>4.0</td>\n",
              "      <td>1.0</td>\n",
              "      <td>5.0</td>\n",
              "      <td>2</td>\n",
              "      <td>5.0</td>\n",
              "      <td>5.0</td>\n",
              "      <td>1.0</td>\n",
              "    </tr>\n",
              "    <tr>\n",
              "      <th>2799</th>\n",
              "      <td>2.0</td>\n",
              "      <td>3.0</td>\n",
              "      <td>1.0</td>\n",
              "      <td>4.0</td>\n",
              "      <td>2.0</td>\n",
              "      <td>5.0</td>\n",
              "      <td>5.0</td>\n",
              "      <td>3.0</td>\n",
              "      <td>3.0</td>\n",
              "      <td>3.0</td>\n",
              "      <td>3.0</td>\n",
              "      <td>3.0</td>\n",
              "      <td>1.0</td>\n",
              "      <td>2.0</td>\n",
              "      <td>2.0</td>\n",
              "      <td>1.0</td>\n",
              "      <td>2.0</td>\n",
              "      <td>2.0</td>\n",
              "      <td>1.0</td>\n",
              "      <td>1.0</td>\n",
              "      <td>3.0</td>\n",
              "      <td>1</td>\n",
              "      <td>3.0</td>\n",
              "      <td>5.0</td>\n",
              "      <td>1.0</td>\n",
              "    </tr>\n",
              "  </tbody>\n",
              "</table>\n",
              "<p>2436 rows × 25 columns</p>\n",
              "</div>"
            ],
            "text/plain": [
              "       A1   A2   A3   A4   A5   C1   C2  ...   N4   N5   O1  O2   O3   O4   O5\n",
              "0     2.0  4.0  3.0  4.0  4.0  2.0  3.0  ...  2.0  3.0  3.0   6  3.0  4.0  3.0\n",
              "1     2.0  4.0  5.0  2.0  5.0  5.0  4.0  ...  5.0  5.0  4.0   2  4.0  3.0  3.0\n",
              "2     5.0  4.0  5.0  4.0  4.0  4.0  5.0  ...  2.0  3.0  4.0   2  5.0  5.0  2.0\n",
              "3     4.0  4.0  6.0  5.0  5.0  4.0  4.0  ...  4.0  1.0  3.0   3  4.0  3.0  5.0\n",
              "4     2.0  3.0  3.0  4.0  5.0  4.0  4.0  ...  4.0  3.0  3.0   3  4.0  3.0  3.0\n",
              "...   ...  ...  ...  ...  ...  ...  ...  ...  ...  ...  ...  ..  ...  ...  ...\n",
              "2793  3.0  4.0  3.0  1.0  3.0  5.0  4.0  ...  5.0  6.0  6.0   1  4.0  5.0  2.0\n",
              "2794  5.0  5.0  5.0  5.0  3.0  5.0  4.0  ...  5.0  2.0  6.0   1  5.0  6.0  2.0\n",
              "2797  2.0  3.0  5.0  2.0  5.0  5.0  5.0  ...  3.0  1.0  5.0   1  6.0  4.0  3.0\n",
              "2798  5.0  2.0  2.0  4.0  4.0  5.0  5.0  ...  4.0  1.0  5.0   2  5.0  5.0  1.0\n",
              "2799  2.0  3.0  1.0  4.0  2.0  5.0  5.0  ...  1.0  1.0  3.0   1  3.0  5.0  1.0\n",
              "\n",
              "[2436 rows x 25 columns]"
            ]
          },
          "metadata": {
            "tags": []
          },
          "execution_count": 9
        }
      ]
    },
    {
      "cell_type": "code",
      "metadata": {
        "id": "X7kDv_nj0hzv",
        "colab": {
          "base_uri": "https://localhost:8080/"
        },
        "outputId": "ebc2b6a8-ca9a-45d5-e6c7-652d8bf2a461"
      },
      "source": [
        "BFI_data_dropped.shape"
      ],
      "execution_count": 10,
      "outputs": [
        {
          "output_type": "execute_result",
          "data": {
            "text/plain": [
              "(2436, 25)"
            ]
          },
          "metadata": {
            "tags": []
          },
          "execution_count": 10
        }
      ]
    },
    {
      "cell_type": "markdown",
      "metadata": {
        "id": "SBwFE5bv0_J_"
      },
      "source": [
        "##Bartlett's test\n",
        "ถ้า p-value เข้าใกล้ 0 ดี"
      ]
    },
    {
      "cell_type": "code",
      "metadata": {
        "id": "3pf4trbA1D_k",
        "colab": {
          "base_uri": "https://localhost:8080/"
        },
        "outputId": "a965a092-cc05-485f-e417-f33ce7a98082"
      },
      "source": [
        "from factor_analyzer.factor_analyzer import calculate_bartlett_sphericity\n",
        "\n",
        "chi_square_value,p_value = calculate_bartlett_sphericity(BFI_data_dropped)\n",
        "\n",
        "chi_square_value, p_value "
      ],
      "execution_count": null,
      "outputs": [
        {
          "output_type": "execute_result",
          "data": {
            "text/plain": [
              "(18170.966350869243, 0.0)"
            ]
          },
          "metadata": {
            "tags": []
          },
          "execution_count": 13
        }
      ]
    },
    {
      "cell_type": "markdown",
      "metadata": {
        "id": "oX4J3gWy2SWI"
      },
      "source": [
        "##Kaiser-Mayer-Olkin (KMO) Test\n"
      ]
    },
    {
      "cell_type": "markdown",
      "metadata": {
        "id": "w4EeqfU33Bwe"
      },
      "source": [
        "ถ้าาค่า KMO model มีค่ามากกว่า 0.6 แปลว่าข้อมูลเหมาะสมที่นำไปทำ Factor Analysis\n"
      ]
    },
    {
      "cell_type": "code",
      "metadata": {
        "id": "Dxtaxocn2fSy",
        "colab": {
          "base_uri": "https://localhost:8080/"
        },
        "outputId": "e7b2ae7a-0435-4741-f8e0-8073af44c65f"
      },
      "source": [
        "from factor_analyzer.factor_analyzer import calculate_kmo\n",
        "\n",
        "kmo_all,kmo_model=calculate_kmo(BFI_data_dropped)\n",
        "\n",
        "kmo_model"
      ],
      "execution_count": null,
      "outputs": [
        {
          "output_type": "execute_result",
          "data": {
            "text/plain": [
              "0.8485397221949221"
            ]
          },
          "metadata": {
            "tags": []
          },
          "execution_count": 14
        }
      ]
    },
    {
      "cell_type": "markdown",
      "metadata": {
        "id": "YQDhQJjt4yeN"
      },
      "source": [
        "##Factor Analysis"
      ]
    },
    {
      "cell_type": "markdown",
      "metadata": {
        "id": "c1xMRdH66cSK"
      },
      "source": [
        "####Import"
      ]
    },
    {
      "cell_type": "code",
      "metadata": {
        "id": "yLkPjeKU6ULl"
      },
      "source": [
        "from factor_analyzer import FactorAnalyzer"
      ],
      "execution_count": 11,
      "outputs": []
    },
    {
      "cell_type": "markdown",
      "metadata": {
        "id": "nFdijAdT6f_H"
      },
      "source": [
        "####Define"
      ]
    },
    {
      "cell_type": "code",
      "metadata": {
        "id": "u9iEfHXy8vJh"
      },
      "source": [
        "fa = FactorAnalyzer(n_factors=20)"
      ],
      "execution_count": 12,
      "outputs": []
    },
    {
      "cell_type": "markdown",
      "metadata": {
        "id": "t54PoXtD80Gt"
      },
      "source": [
        "####fit tranfrom"
      ]
    },
    {
      "cell_type": "code",
      "metadata": {
        "id": "KJttjO0n84-a"
      },
      "source": [
        "data_fa = fa.fit_transform(BFI_data_dropped)"
      ],
      "execution_count": 13,
      "outputs": []
    },
    {
      "cell_type": "code",
      "metadata": {
        "id": "F4HxDbJW8-1y",
        "colab": {
          "base_uri": "https://localhost:8080/"
        },
        "outputId": "bf170aef-fe73-47d9-c6a3-d9f2df732497"
      },
      "source": [
        "data_fa.shape"
      ],
      "execution_count": 14,
      "outputs": [
        {
          "output_type": "execute_result",
          "data": {
            "text/plain": [
              "(2436, 20)"
            ]
          },
          "metadata": {
            "tags": []
          },
          "execution_count": 14
        }
      ]
    },
    {
      "cell_type": "markdown",
      "metadata": {
        "id": "LtWIkqD_-l2N"
      },
      "source": [
        "###วิธีตัดสินว่าเราจะลดเหลือกี่ dimension (มี factors ทั้งหมดกี่ตัว)"
      ]
    },
    {
      "cell_type": "code",
      "metadata": {
        "id": "SE8zwvPR9oG-"
      },
      "source": [
        "ev,v = fa.get_eigenvalues()"
      ],
      "execution_count": 15,
      "outputs": []
    },
    {
      "cell_type": "markdown",
      "metadata": {
        "id": "UvtMfCJL-1nm"
      },
      "source": [
        "####ใช้ eigen values"
      ]
    },
    {
      "cell_type": "code",
      "metadata": {
        "id": "ReFHGHrd9sx0",
        "colab": {
          "base_uri": "https://localhost:8080/"
        },
        "outputId": "7ce3e186-1e73-476e-e4a6-317ad0005a95"
      },
      "source": [
        "ev"
      ],
      "execution_count": 16,
      "outputs": [
        {
          "output_type": "execute_result",
          "data": {
            "text/plain": [
              "array([5.13431118, 2.75188667, 2.14270195, 1.85232761, 1.54816285,\n",
              "       1.07358247, 0.83953893, 0.79920618, 0.71898919, 0.68808879,\n",
              "       0.67637336, 0.65179984, 0.62325295, 0.59656284, 0.56309083,\n",
              "       0.54330533, 0.51451752, 0.49450315, 0.48263952, 0.448921  ,\n",
              "       0.42336611, 0.40067145, 0.38780448, 0.38185679, 0.26253902])"
            ]
          },
          "metadata": {
            "tags": []
          },
          "execution_count": 16
        }
      ]
    },
    {
      "cell_type": "markdown",
      "metadata": {
        "id": "xOUvGSGc_EZ4"
      },
      "source": [
        "##Plot scree plot "
      ]
    },
    {
      "cell_type": "code",
      "metadata": {
        "id": "Y0dpuih4Vtcj",
        "outputId": "00495024-2a31-4ba3-f8fa-fa99156b389f",
        "colab": {
          "base_uri": "https://localhost:8080/",
          "height": 295
        }
      },
      "source": [
        "# Create scree plot using matplotlib\n",
        "plt.plot(range(1,BFI_data_dropped.shape[1]+1),ev,'bo-')\n",
        "plt.plot([0,BFI_data_dropped.shape[1]+1],[1,1],'r--')\n",
        "plt.title('Scree Plot')\n",
        "plt.xlabel('Factors')\n",
        "plt.ylabel('Eigenvalue')\n",
        "plt.grid()\n",
        "plt.show()"
      ],
      "execution_count": 17,
      "outputs": [
        {
          "output_type": "display_data",
          "data": {
            "image/png": "[encoded data removed]",
            "text/plain": [
              "<Figure size 432x288 with 1 Axes>"
            ]
          },
          "metadata": {
            "tags": [],
            "needs_background": "light"
          }
        }
      ]
    },
    {
      "cell_type": "code",
      "metadata": {
        "id": "In_oCkd8CGyS",
        "colab": {
          "base_uri": "https://localhost:8080/"
        },
        "outputId": "45b28238-bce1-4336-bf01-20c2f2e04442"
      },
      "source": [
        "data_fa[:,:6]"
      ],
      "execution_count": 18,
      "outputs": [
        {
          "output_type": "execute_result",
          "data": {
            "text/plain": [
              "array([[-0.89749661, -0.12809666, -1.22649076,  1.08665889,  0.42476701,\n",
              "         0.03981611],\n",
              "       [ 0.33679356, -0.15018138, -0.04332274, -0.10339328,  0.29665648,\n",
              "        -1.11019718],\n",
              "       [-0.24521029,  0.80409961,  0.39343377, -0.30106518,  0.82703928,\n",
              "        -0.2982022 ],\n",
              "       ...,\n",
              "       [ 0.38724631, -0.02183587,  1.19616826, -1.19357208,  0.79669501,\n",
              "        -0.95295109],\n",
              "       [-0.75695976,  0.94984758,  1.24363484, -1.15230215,  2.2534133 ,\n",
              "        -1.0218667 ],\n",
              "       [-2.35583952, -1.49829856,  0.49436981, -1.64734311,  0.94742323,\n",
              "         0.43462495]])"
            ]
          },
          "metadata": {
            "tags": []
          },
          "execution_count": 18
        }
      ]
    },
    {
      "cell_type": "markdown",
      "metadata": {
        "id": "G2phTylPMm2E"
      },
      "source": [
        "###รัน  Factor-Analyzer อีกรอบด้วย Parameters จำนวน Factor เท่ากับ 6"
      ]
    },
    {
      "cell_type": "code",
      "metadata": {
        "id": "79oKP5H6M4p0"
      },
      "source": [
        "from factor_analyzer import FactorAnalyzer\n",
        "fa2 = FactorAnalyzer(n_factors=6)\n",
        "data_fa = fa2.fit_transform(BFI_data_dropped)"
      ],
      "execution_count": 19,
      "outputs": []
    },
    {
      "cell_type": "code",
      "metadata": {
        "id": "2F100gdlNlPP",
        "colab": {
          "base_uri": "https://localhost:8080/"
        },
        "outputId": "4795b5e0-3c3d-4671-b252-889cbc48a32c"
      },
      "source": [
        "fa2.loadings_.shape"
      ],
      "execution_count": null,
      "outputs": [
        {
          "output_type": "execute_result",
          "data": {
            "text/plain": [
              "(25, 6)"
            ]
          },
          "metadata": {
            "tags": []
          },
          "execution_count": 26
        }
      ]
    },
    {
      "cell_type": "markdown",
      "metadata": {
        "id": "4S3LXRQOOycG"
      },
      "source": [
        "####Plot factor loadings\n",
        "บอกว่า Factor ที่หามามันอธิบายตัวแปรไหนที่เราเก็บมาบ้าง "
      ]
    },
    {
      "cell_type": "code",
      "metadata": {
        "id": "tqU5KYvBOxeY"
      },
      "source": [
        "from matplotlib import pyplot as plt\n",
        "import numpy as np\n",
        "import matplotlib"
      ],
      "execution_count": 20,
      "outputs": []
    },
    {
      "cell_type": "markdown",
      "metadata": {
        "id": "M4wqHR2FRpzp"
      },
      "source": [
        "###Matrix plot \n",
        "comfirmatory"
      ]
    },
    {
      "cell_type": "code",
      "metadata": {
        "id": "HcVikK8lPW7K",
        "colab": {
          "base_uri": "https://localhost:8080/",
          "height": 880
        },
        "outputId": "6053ed7d-d730-4a24-e265-01edded3141d"
      },
      "source": [
        "matplotlib.rcParams['figure.figsize']=[15,15]\n",
        "plt.imshow(np.absolute(fa2.loadings_))"
      ],
      "execution_count": 21,
      "outputs": [
        {
          "output_type": "execute_result",
          "data": {
            "text/plain": [
              "<matplotlib.image.AxesImage at 0x7f4963c6df50>"
            ]
          },
          "metadata": {
            "tags": []
          },
          "execution_count": 21
        },
        {
          "output_type": "display_data",
          "data": {
            "image/png": "[encoded data removed]",
            "text/plain": [
              "<Figure size 1080x1080 with 1 Axes>"
            ]
          },
          "metadata": {
            "tags": [],
            "needs_background": "light"
          }
        }
      ]
    },
    {
      "cell_type": "markdown",
      "metadata": {
        "id": "VAMbbu91RztS"
      },
      "source": [
        "## กราฟแท่ง\n",
        "Exploratory"
      ]
    },
    {
      "cell_type": "code",
      "metadata": {
        "id": "d9nzqHoKWFb7",
        "outputId": "1c9dba41-fd68-4aad-9227-4a764856d0d5",
        "colab": {
          "base_uri": "https://localhost:8080/"
        }
      },
      "source": [
        "BFI_data_dropped.columns"
      ],
      "execution_count": 22,
      "outputs": [
        {
          "output_type": "execute_result",
          "data": {
            "text/plain": [
              "Index(['A1', 'A2', 'A3', 'A4', 'A5', 'C1', 'C2', 'C3', 'C4', 'C5', 'E1', 'E2',\n",
              "       'E3', 'E4', 'E5', 'N1', 'N2', 'N3', 'N4', 'N5', 'O1', 'O2', 'O3', 'O4',\n",
              "       'O5'],\n",
              "      dtype='object')"
            ]
          },
          "metadata": {
            "tags": []
          },
          "execution_count": 22
        }
      ]
    },
    {
      "cell_type": "code",
      "metadata": {
        "id": "QVfrz42ZV5GP",
        "colab": {
          "base_uri": "https://localhost:8080/",
          "height": 880
        },
        "outputId": "ae3d3b31-4090-4323-c1ac-aef945fb5f54"
      },
      "source": [
        "plt.bar(range(25),np.absolute(fa2.loadings_[:,0]),tick_label=BFI_data_dropped.columns)"
      ],
      "execution_count": null,
      "outputs": [
        {
          "output_type": "execute_result",
          "data": {
            "text/plain": [
              "<BarContainer object of 25 artists>"
            ]
          },
          "metadata": {
            "tags": []
          },
          "execution_count": 34
        },
        {
          "output_type": "display_data",
          "data": {
            "image/png": "[encoded data removed]",
            "text/plain": [
              "<Figure size 1080x1080 with 1 Axes>"
            ]
          },
          "metadata": {
            "tags": [],
            "needs_background": "light"
          }
        }
      ]
    },
    {
      "cell_type": "markdown",
      "metadata": {
        "id": "G1y-mbwRVQFl"
      },
      "source": [
        "##Exam 3 ทำ Factor Analysis ข้อมูล FiFa 2018"
      ]
    },
    {
      "cell_type": "code",
      "metadata": {
        "id": "_LJ0Vr2uWRjb"
      },
      "source": [
        "import numpy as np"
      ],
      "execution_count": 23,
      "outputs": []
    },
    {
      "cell_type": "code",
      "metadata": {
        "id": "cqR7F57TXYFF"
      },
      "source": [
        "FIFA2018 = pd.read_csv('/content/FIFA 2018 Statistics.csv')"
      ],
      "execution_count": 24,
      "outputs": []
    },
    {
      "cell_type": "code",
      "metadata": {
        "id": "G_qhjijtXkeA",
        "outputId": "d691e119-66ae-4aac-fc48-e98d282c1ab6",
        "colab": {
          "base_uri": "https://localhost:8080/",
          "height": 800
        }
      },
      "source": [
        "FIFA2018"
      ],
      "execution_count": 25,
      "outputs": [
        {
          "output_type": "execute_result",
          "data": {
            "text/html": [
              "<div>\n",
              "<style scoped>\n",
              "    .dataframe tbody tr th:only-of-type {\n",
              "        vertical-align: middle;\n",
              "    }\n",
              "\n",
              "    .dataframe tbody tr th {\n",
              "        vertical-align: top;\n",
              "    }\n",
              "\n",
              "    .dataframe thead th {\n",
              "        text-align: right;\n",
              "    }\n",
              "</style>\n",
              "<table border=\"1\" class=\"dataframe\">\n",
              "  <thead>\n",
              "    <tr style=\"text-align: right;\">\n",
              "      <th></th>\n",
              "      <th>Date</th>\n",
              "      <th>Team</th>\n",
              "      <th>Opponent</th>\n",
              "      <th>Goal Scored</th>\n",
              "      <th>Ball Possession %</th>\n",
              "      <th>Attempts</th>\n",
              "      <th>On-Target</th>\n",
              "      <th>Off-Target</th>\n",
              "      <th>Blocked</th>\n",
              "      <th>Corners</th>\n",
              "      <th>Offsides</th>\n",
              "      <th>Free Kicks</th>\n",
              "      <th>Saves</th>\n",
              "      <th>Pass Accuracy %</th>\n",
              "      <th>Passes</th>\n",
              "      <th>Distance Covered (Kms)</th>\n",
              "      <th>Fouls Committed</th>\n",
              "      <th>Yellow Card</th>\n",
              "      <th>Yellow &amp; Red</th>\n",
              "      <th>Red</th>\n",
              "      <th>Man of the Match</th>\n",
              "      <th>1st Goal</th>\n",
              "      <th>Round</th>\n",
              "      <th>PSO</th>\n",
              "      <th>Goals in PSO</th>\n",
              "      <th>Own goals</th>\n",
              "      <th>Own goal Time</th>\n",
              "    </tr>\n",
              "  </thead>\n",
              "  <tbody>\n",
              "    <tr>\n",
              "      <th>0</th>\n",
              "      <td>14-06-2018</td>\n",
              "      <td>Russia</td>\n",
              "      <td>Saudi Arabia</td>\n",
              "      <td>5</td>\n",
              "      <td>40</td>\n",
              "      <td>13</td>\n",
              "      <td>7</td>\n",
              "      <td>3</td>\n",
              "      <td>3</td>\n",
              "      <td>6</td>\n",
              "      <td>3</td>\n",
              "      <td>11</td>\n",
              "      <td>0</td>\n",
              "      <td>78</td>\n",
              "      <td>306</td>\n",
              "      <td>118</td>\n",
              "      <td>22</td>\n",
              "      <td>0</td>\n",
              "      <td>0</td>\n",
              "      <td>0</td>\n",
              "      <td>Yes</td>\n",
              "      <td>12.0</td>\n",
              "      <td>Group Stage</td>\n",
              "      <td>No</td>\n",
              "      <td>0</td>\n",
              "      <td>NaN</td>\n",
              "      <td>NaN</td>\n",
              "    </tr>\n",
              "    <tr>\n",
              "      <th>1</th>\n",
              "      <td>14-06-2018</td>\n",
              "      <td>Saudi Arabia</td>\n",
              "      <td>Russia</td>\n",
              "      <td>0</td>\n",
              "      <td>60</td>\n",
              "      <td>6</td>\n",
              "      <td>0</td>\n",
              "      <td>3</td>\n",
              "      <td>3</td>\n",
              "      <td>2</td>\n",
              "      <td>1</td>\n",
              "      <td>25</td>\n",
              "      <td>2</td>\n",
              "      <td>86</td>\n",
              "      <td>511</td>\n",
              "      <td>105</td>\n",
              "      <td>10</td>\n",
              "      <td>0</td>\n",
              "      <td>0</td>\n",
              "      <td>0</td>\n",
              "      <td>No</td>\n",
              "      <td>NaN</td>\n",
              "      <td>Group Stage</td>\n",
              "      <td>No</td>\n",
              "      <td>0</td>\n",
              "      <td>NaN</td>\n",
              "      <td>NaN</td>\n",
              "    </tr>\n",
              "    <tr>\n",
              "      <th>2</th>\n",
              "      <td>15-06-2018</td>\n",
              "      <td>Egypt</td>\n",
              "      <td>Uruguay</td>\n",
              "      <td>0</td>\n",
              "      <td>43</td>\n",
              "      <td>8</td>\n",
              "      <td>3</td>\n",
              "      <td>3</td>\n",
              "      <td>2</td>\n",
              "      <td>0</td>\n",
              "      <td>1</td>\n",
              "      <td>7</td>\n",
              "      <td>3</td>\n",
              "      <td>78</td>\n",
              "      <td>395</td>\n",
              "      <td>112</td>\n",
              "      <td>12</td>\n",
              "      <td>2</td>\n",
              "      <td>0</td>\n",
              "      <td>0</td>\n",
              "      <td>No</td>\n",
              "      <td>NaN</td>\n",
              "      <td>Group Stage</td>\n",
              "      <td>No</td>\n",
              "      <td>0</td>\n",
              "      <td>NaN</td>\n",
              "      <td>NaN</td>\n",
              "    </tr>\n",
              "    <tr>\n",
              "      <th>3</th>\n",
              "      <td>15-06-2018</td>\n",
              "      <td>Uruguay</td>\n",
              "      <td>Egypt</td>\n",
              "      <td>1</td>\n",
              "      <td>57</td>\n",
              "      <td>14</td>\n",
              "      <td>4</td>\n",
              "      <td>6</td>\n",
              "      <td>4</td>\n",
              "      <td>5</td>\n",
              "      <td>1</td>\n",
              "      <td>13</td>\n",
              "      <td>3</td>\n",
              "      <td>86</td>\n",
              "      <td>589</td>\n",
              "      <td>111</td>\n",
              "      <td>6</td>\n",
              "      <td>0</td>\n",
              "      <td>0</td>\n",
              "      <td>0</td>\n",
              "      <td>Yes</td>\n",
              "      <td>89.0</td>\n",
              "      <td>Group Stage</td>\n",
              "      <td>No</td>\n",
              "      <td>0</td>\n",
              "      <td>NaN</td>\n",
              "      <td>NaN</td>\n",
              "    </tr>\n",
              "    <tr>\n",
              "      <th>4</th>\n",
              "      <td>15-06-2018</td>\n",
              "      <td>Morocco</td>\n",
              "      <td>Iran</td>\n",
              "      <td>0</td>\n",
              "      <td>64</td>\n",
              "      <td>13</td>\n",
              "      <td>3</td>\n",
              "      <td>6</td>\n",
              "      <td>4</td>\n",
              "      <td>5</td>\n",
              "      <td>0</td>\n",
              "      <td>14</td>\n",
              "      <td>2</td>\n",
              "      <td>86</td>\n",
              "      <td>433</td>\n",
              "      <td>101</td>\n",
              "      <td>22</td>\n",
              "      <td>1</td>\n",
              "      <td>0</td>\n",
              "      <td>0</td>\n",
              "      <td>No</td>\n",
              "      <td>NaN</td>\n",
              "      <td>Group Stage</td>\n",
              "      <td>No</td>\n",
              "      <td>0</td>\n",
              "      <td>1.0</td>\n",
              "      <td>90.0</td>\n",
              "    </tr>\n",
              "    <tr>\n",
              "      <th>...</th>\n",
              "      <td>...</td>\n",
              "      <td>...</td>\n",
              "      <td>...</td>\n",
              "      <td>...</td>\n",
              "      <td>...</td>\n",
              "      <td>...</td>\n",
              "      <td>...</td>\n",
              "      <td>...</td>\n",
              "      <td>...</td>\n",
              "      <td>...</td>\n",
              "      <td>...</td>\n",
              "      <td>...</td>\n",
              "      <td>...</td>\n",
              "      <td>...</td>\n",
              "      <td>...</td>\n",
              "      <td>...</td>\n",
              "      <td>...</td>\n",
              "      <td>...</td>\n",
              "      <td>...</td>\n",
              "      <td>...</td>\n",
              "      <td>...</td>\n",
              "      <td>...</td>\n",
              "      <td>...</td>\n",
              "      <td>...</td>\n",
              "      <td>...</td>\n",
              "      <td>...</td>\n",
              "      <td>...</td>\n",
              "    </tr>\n",
              "    <tr>\n",
              "      <th>123</th>\n",
              "      <td>11-07-2018</td>\n",
              "      <td>England</td>\n",
              "      <td>Croatia</td>\n",
              "      <td>1</td>\n",
              "      <td>46</td>\n",
              "      <td>11</td>\n",
              "      <td>1</td>\n",
              "      <td>6</td>\n",
              "      <td>4</td>\n",
              "      <td>4</td>\n",
              "      <td>3</td>\n",
              "      <td>24</td>\n",
              "      <td>5</td>\n",
              "      <td>79</td>\n",
              "      <td>479</td>\n",
              "      <td>148</td>\n",
              "      <td>14</td>\n",
              "      <td>1</td>\n",
              "      <td>0</td>\n",
              "      <td>0</td>\n",
              "      <td>No</td>\n",
              "      <td>5.0</td>\n",
              "      <td>Semi- Finals</td>\n",
              "      <td>No</td>\n",
              "      <td>0</td>\n",
              "      <td>NaN</td>\n",
              "      <td>NaN</td>\n",
              "    </tr>\n",
              "    <tr>\n",
              "      <th>124</th>\n",
              "      <td>14-07-2018</td>\n",
              "      <td>Belgium</td>\n",
              "      <td>England</td>\n",
              "      <td>2</td>\n",
              "      <td>43</td>\n",
              "      <td>12</td>\n",
              "      <td>4</td>\n",
              "      <td>3</td>\n",
              "      <td>5</td>\n",
              "      <td>4</td>\n",
              "      <td>1</td>\n",
              "      <td>5</td>\n",
              "      <td>5</td>\n",
              "      <td>88</td>\n",
              "      <td>510</td>\n",
              "      <td>108</td>\n",
              "      <td>11</td>\n",
              "      <td>1</td>\n",
              "      <td>0</td>\n",
              "      <td>0</td>\n",
              "      <td>Yes</td>\n",
              "      <td>4.0</td>\n",
              "      <td>3rd Place</td>\n",
              "      <td>No</td>\n",
              "      <td>0</td>\n",
              "      <td>NaN</td>\n",
              "      <td>NaN</td>\n",
              "    </tr>\n",
              "    <tr>\n",
              "      <th>125</th>\n",
              "      <td>14-07-2018</td>\n",
              "      <td>England</td>\n",
              "      <td>Belgium</td>\n",
              "      <td>0</td>\n",
              "      <td>57</td>\n",
              "      <td>15</td>\n",
              "      <td>5</td>\n",
              "      <td>7</td>\n",
              "      <td>3</td>\n",
              "      <td>5</td>\n",
              "      <td>0</td>\n",
              "      <td>12</td>\n",
              "      <td>2</td>\n",
              "      <td>92</td>\n",
              "      <td>698</td>\n",
              "      <td>110</td>\n",
              "      <td>5</td>\n",
              "      <td>2</td>\n",
              "      <td>0</td>\n",
              "      <td>0</td>\n",
              "      <td>No</td>\n",
              "      <td>NaN</td>\n",
              "      <td>3rd Place</td>\n",
              "      <td>No</td>\n",
              "      <td>0</td>\n",
              "      <td>NaN</td>\n",
              "      <td>NaN</td>\n",
              "    </tr>\n",
              "    <tr>\n",
              "      <th>126</th>\n",
              "      <td>15-07-2018</td>\n",
              "      <td>France</td>\n",
              "      <td>Croatia</td>\n",
              "      <td>4</td>\n",
              "      <td>39</td>\n",
              "      <td>8</td>\n",
              "      <td>6</td>\n",
              "      <td>1</td>\n",
              "      <td>1</td>\n",
              "      <td>2</td>\n",
              "      <td>1</td>\n",
              "      <td>14</td>\n",
              "      <td>1</td>\n",
              "      <td>75</td>\n",
              "      <td>271</td>\n",
              "      <td>99</td>\n",
              "      <td>14</td>\n",
              "      <td>2</td>\n",
              "      <td>0</td>\n",
              "      <td>0</td>\n",
              "      <td>Yes</td>\n",
              "      <td>18.0</td>\n",
              "      <td>Final</td>\n",
              "      <td>No</td>\n",
              "      <td>0</td>\n",
              "      <td>1.0</td>\n",
              "      <td>18.0</td>\n",
              "    </tr>\n",
              "    <tr>\n",
              "      <th>127</th>\n",
              "      <td>15-07-2018</td>\n",
              "      <td>Croatia</td>\n",
              "      <td>France</td>\n",
              "      <td>2</td>\n",
              "      <td>61</td>\n",
              "      <td>15</td>\n",
              "      <td>3</td>\n",
              "      <td>8</td>\n",
              "      <td>4</td>\n",
              "      <td>6</td>\n",
              "      <td>1</td>\n",
              "      <td>15</td>\n",
              "      <td>3</td>\n",
              "      <td>83</td>\n",
              "      <td>547</td>\n",
              "      <td>100</td>\n",
              "      <td>13</td>\n",
              "      <td>1</td>\n",
              "      <td>0</td>\n",
              "      <td>0</td>\n",
              "      <td>No</td>\n",
              "      <td>28.0</td>\n",
              "      <td>Final</td>\n",
              "      <td>No</td>\n",
              "      <td>0</td>\n",
              "      <td>NaN</td>\n",
              "      <td>NaN</td>\n",
              "    </tr>\n",
              "  </tbody>\n",
              "</table>\n",
              "<p>128 rows × 27 columns</p>\n",
              "</div>"
            ],
            "text/plain": [
              "           Date          Team  ... Own goals  Own goal Time\n",
              "0    14-06-2018        Russia  ...       NaN            NaN\n",
              "1    14-06-2018  Saudi Arabia  ...       NaN            NaN\n",
              "2    15-06-2018         Egypt  ...       NaN            NaN\n",
              "3    15-06-2018       Uruguay  ...       NaN            NaN\n",
              "4    15-06-2018       Morocco  ...       1.0           90.0\n",
              "..          ...           ...  ...       ...            ...\n",
              "123  11-07-2018       England  ...       NaN            NaN\n",
              "124  14-07-2018       Belgium  ...       NaN            NaN\n",
              "125  14-07-2018       England  ...       NaN            NaN\n",
              "126  15-07-2018        France  ...       1.0           18.0\n",
              "127  15-07-2018       Croatia  ...       NaN            NaN\n",
              "\n",
              "[128 rows x 27 columns]"
            ]
          },
          "metadata": {
            "tags": []
          },
          "execution_count": 25
        }
      ]
    },
    {
      "cell_type": "code",
      "metadata": {
        "id": "gdUT5P5-Xnxk",
        "outputId": "373698a9-1aa5-4b45-d72c-0909e2eb0bd8",
        "colab": {
          "base_uri": "https://localhost:8080/"
        }
      },
      "source": [
        "FIFA2018.shape"
      ],
      "execution_count": 26,
      "outputs": [
        {
          "output_type": "execute_result",
          "data": {
            "text/plain": [
              "(128, 27)"
            ]
          },
          "metadata": {
            "tags": []
          },
          "execution_count": 26
        }
      ]
    },
    {
      "cell_type": "code",
      "metadata": {
        "id": "EgpKDHTpXq7k",
        "outputId": "01401554-a313-4f22-c8c6-7e1f6b4292bd",
        "colab": {
          "base_uri": "https://localhost:8080/",
          "height": 459
        }
      },
      "source": [
        "FIFA2018_dropped = FIFA2018.iloc[:,3:20]\n",
        "FIFA2018_dropped"
      ],
      "execution_count": 27,
      "outputs": [
        {
          "output_type": "execute_result",
          "data": {
            "text/html": [
              "<div>\n",
              "<style scoped>\n",
              "    .dataframe tbody tr th:only-of-type {\n",
              "        vertical-align: middle;\n",
              "    }\n",
              "\n",
              "    .dataframe tbody tr th {\n",
              "        vertical-align: top;\n",
              "    }\n",
              "\n",
              "    .dataframe thead th {\n",
              "        text-align: right;\n",
              "    }\n",
              "</style>\n",
              "<table border=\"1\" class=\"dataframe\">\n",
              "  <thead>\n",
              "    <tr style=\"text-align: right;\">\n",
              "      <th></th>\n",
              "      <th>Goal Scored</th>\n",
              "      <th>Ball Possession %</th>\n",
              "      <th>Attempts</th>\n",
              "      <th>On-Target</th>\n",
              "      <th>Off-Target</th>\n",
              "      <th>Blocked</th>\n",
              "      <th>Corners</th>\n",
              "      <th>Offsides</th>\n",
              "      <th>Free Kicks</th>\n",
              "      <th>Saves</th>\n",
              "      <th>Pass Accuracy %</th>\n",
              "      <th>Passes</th>\n",
              "      <th>Distance Covered (Kms)</th>\n",
              "      <th>Fouls Committed</th>\n",
              "      <th>Yellow Card</th>\n",
              "      <th>Yellow &amp; Red</th>\n",
              "      <th>Red</th>\n",
              "    </tr>\n",
              "  </thead>\n",
              "  <tbody>\n",
              "    <tr>\n",
              "      <th>0</th>\n",
              "      <td>5</td>\n",
              "      <td>40</td>\n",
              "      <td>13</td>\n",
              "      <td>7</td>\n",
              "      <td>3</td>\n",
              "      <td>3</td>\n",
              "      <td>6</td>\n",
              "      <td>3</td>\n",
              "      <td>11</td>\n",
              "      <td>0</td>\n",
              "      <td>78</td>\n",
              "      <td>306</td>\n",
              "      <td>118</td>\n",
              "      <td>22</td>\n",
              "      <td>0</td>\n",
              "      <td>0</td>\n",
              "      <td>0</td>\n",
              "    </tr>\n",
              "    <tr>\n",
              "      <th>1</th>\n",
              "      <td>0</td>\n",
              "      <td>60</td>\n",
              "      <td>6</td>\n",
              "      <td>0</td>\n",
              "      <td>3</td>\n",
              "      <td>3</td>\n",
              "      <td>2</td>\n",
              "      <td>1</td>\n",
              "      <td>25</td>\n",
              "      <td>2</td>\n",
              "      <td>86</td>\n",
              "      <td>511</td>\n",
              "      <td>105</td>\n",
              "      <td>10</td>\n",
              "      <td>0</td>\n",
              "      <td>0</td>\n",
              "      <td>0</td>\n",
              "    </tr>\n",
              "    <tr>\n",
              "      <th>2</th>\n",
              "      <td>0</td>\n",
              "      <td>43</td>\n",
              "      <td>8</td>\n",
              "      <td>3</td>\n",
              "      <td>3</td>\n",
              "      <td>2</td>\n",
              "      <td>0</td>\n",
              "      <td>1</td>\n",
              "      <td>7</td>\n",
              "      <td>3</td>\n",
              "      <td>78</td>\n",
              "      <td>395</td>\n",
              "      <td>112</td>\n",
              "      <td>12</td>\n",
              "      <td>2</td>\n",
              "      <td>0</td>\n",
              "      <td>0</td>\n",
              "    </tr>\n",
              "    <tr>\n",
              "      <th>3</th>\n",
              "      <td>1</td>\n",
              "      <td>57</td>\n",
              "      <td>14</td>\n",
              "      <td>4</td>\n",
              "      <td>6</td>\n",
              "      <td>4</td>\n",
              "      <td>5</td>\n",
              "      <td>1</td>\n",
              "      <td>13</td>\n",
              "      <td>3</td>\n",
              "      <td>86</td>\n",
              "      <td>589</td>\n",
              "      <td>111</td>\n",
              "      <td>6</td>\n",
              "      <td>0</td>\n",
              "      <td>0</td>\n",
              "      <td>0</td>\n",
              "    </tr>\n",
              "    <tr>\n",
              "      <th>4</th>\n",
              "      <td>0</td>\n",
              "      <td>64</td>\n",
              "      <td>13</td>\n",
              "      <td>3</td>\n",
              "      <td>6</td>\n",
              "      <td>4</td>\n",
              "      <td>5</td>\n",
              "      <td>0</td>\n",
              "      <td>14</td>\n",
              "      <td>2</td>\n",
              "      <td>86</td>\n",
              "      <td>433</td>\n",
              "      <td>101</td>\n",
              "      <td>22</td>\n",
              "      <td>1</td>\n",
              "      <td>0</td>\n",
              "      <td>0</td>\n",
              "    </tr>\n",
              "    <tr>\n",
              "      <th>...</th>\n",
              "      <td>...</td>\n",
              "      <td>...</td>\n",
              "      <td>...</td>\n",
              "      <td>...</td>\n",
              "      <td>...</td>\n",
              "      <td>...</td>\n",
              "      <td>...</td>\n",
              "      <td>...</td>\n",
              "      <td>...</td>\n",
              "      <td>...</td>\n",
              "      <td>...</td>\n",
              "      <td>...</td>\n",
              "      <td>...</td>\n",
              "      <td>...</td>\n",
              "      <td>...</td>\n",
              "      <td>...</td>\n",
              "      <td>...</td>\n",
              "    </tr>\n",
              "    <tr>\n",
              "      <th>123</th>\n",
              "      <td>1</td>\n",
              "      <td>46</td>\n",
              "      <td>11</td>\n",
              "      <td>1</td>\n",
              "      <td>6</td>\n",
              "      <td>4</td>\n",
              "      <td>4</td>\n",
              "      <td>3</td>\n",
              "      <td>24</td>\n",
              "      <td>5</td>\n",
              "      <td>79</td>\n",
              "      <td>479</td>\n",
              "      <td>148</td>\n",
              "      <td>14</td>\n",
              "      <td>1</td>\n",
              "      <td>0</td>\n",
              "      <td>0</td>\n",
              "    </tr>\n",
              "    <tr>\n",
              "      <th>124</th>\n",
              "      <td>2</td>\n",
              "      <td>43</td>\n",
              "      <td>12</td>\n",
              "      <td>4</td>\n",
              "      <td>3</td>\n",
              "      <td>5</td>\n",
              "      <td>4</td>\n",
              "      <td>1</td>\n",
              "      <td>5</td>\n",
              "      <td>5</td>\n",
              "      <td>88</td>\n",
              "      <td>510</td>\n",
              "      <td>108</td>\n",
              "      <td>11</td>\n",
              "      <td>1</td>\n",
              "      <td>0</td>\n",
              "      <td>0</td>\n",
              "    </tr>\n",
              "    <tr>\n",
              "      <th>125</th>\n",
              "      <td>0</td>\n",
              "      <td>57</td>\n",
              "      <td>15</td>\n",
              "      <td>5</td>\n",
              "      <td>7</td>\n",
              "      <td>3</td>\n",
              "      <td>5</td>\n",
              "      <td>0</td>\n",
              "      <td>12</td>\n",
              "      <td>2</td>\n",
              "      <td>92</td>\n",
              "      <td>698</td>\n",
              "      <td>110</td>\n",
              "      <td>5</td>\n",
              "      <td>2</td>\n",
              "      <td>0</td>\n",
              "      <td>0</td>\n",
              "    </tr>\n",
              "    <tr>\n",
              "      <th>126</th>\n",
              "      <td>4</td>\n",
              "      <td>39</td>\n",
              "      <td>8</td>\n",
              "      <td>6</td>\n",
              "      <td>1</td>\n",
              "      <td>1</td>\n",
              "      <td>2</td>\n",
              "      <td>1</td>\n",
              "      <td>14</td>\n",
              "      <td>1</td>\n",
              "      <td>75</td>\n",
              "      <td>271</td>\n",
              "      <td>99</td>\n",
              "      <td>14</td>\n",
              "      <td>2</td>\n",
              "      <td>0</td>\n",
              "      <td>0</td>\n",
              "    </tr>\n",
              "    <tr>\n",
              "      <th>127</th>\n",
              "      <td>2</td>\n",
              "      <td>61</td>\n",
              "      <td>15</td>\n",
              "      <td>3</td>\n",
              "      <td>8</td>\n",
              "      <td>4</td>\n",
              "      <td>6</td>\n",
              "      <td>1</td>\n",
              "      <td>15</td>\n",
              "      <td>3</td>\n",
              "      <td>83</td>\n",
              "      <td>547</td>\n",
              "      <td>100</td>\n",
              "      <td>13</td>\n",
              "      <td>1</td>\n",
              "      <td>0</td>\n",
              "      <td>0</td>\n",
              "    </tr>\n",
              "  </tbody>\n",
              "</table>\n",
              "<p>128 rows × 17 columns</p>\n",
              "</div>"
            ],
            "text/plain": [
              "     Goal Scored  Ball Possession %  Attempts  ...  Yellow Card  Yellow & Red  Red\n",
              "0              5                 40        13  ...            0             0    0\n",
              "1              0                 60         6  ...            0             0    0\n",
              "2              0                 43         8  ...            2             0    0\n",
              "3              1                 57        14  ...            0             0    0\n",
              "4              0                 64        13  ...            1             0    0\n",
              "..           ...                ...       ...  ...          ...           ...  ...\n",
              "123            1                 46        11  ...            1             0    0\n",
              "124            2                 43        12  ...            1             0    0\n",
              "125            0                 57        15  ...            2             0    0\n",
              "126            4                 39         8  ...            2             0    0\n",
              "127            2                 61        15  ...            1             0    0\n",
              "\n",
              "[128 rows x 17 columns]"
            ]
          },
          "metadata": {
            "tags": []
          },
          "execution_count": 27
        }
      ]
    },
    {
      "cell_type": "code",
      "metadata": {
        "id": "Ii8nzRaDX14W",
        "outputId": "e9435ab6-7053-4a97-f27b-d9971d23f4f6",
        "colab": {
          "base_uri": "https://localhost:8080/"
        }
      },
      "source": [
        "FIFA2018_dropped.shape"
      ],
      "execution_count": 28,
      "outputs": [
        {
          "output_type": "execute_result",
          "data": {
            "text/plain": [
              "(128, 17)"
            ]
          },
          "metadata": {
            "tags": []
          },
          "execution_count": 28
        }
      ]
    },
    {
      "cell_type": "markdown",
      "metadata": {
        "id": "xb4xMSr1X5jE"
      },
      "source": [
        "####Bartlett's test"
      ]
    },
    {
      "cell_type": "code",
      "metadata": {
        "id": "ayN7QplqX-Ks",
        "outputId": "7d61dd00-71af-4284-a178-fc5b36242396",
        "colab": {
          "base_uri": "https://localhost:8080/"
        }
      },
      "source": [
        "from factor_analyzer.factor_analyzer import calculate_bartlett_sphericity\n",
        "\n",
        "chi_square_value,p_value = calculate_bartlett_sphericity(FIFA2018_dropped)\n",
        "\n",
        "chi_square_value, p_value "
      ],
      "execution_count": 31,
      "outputs": [
        {
          "output_type": "execute_result",
          "data": {
            "text/plain": [
              "(1299.3697851171412, 2.713580160466225e-189)"
            ]
          },
          "metadata": {
            "tags": []
          },
          "execution_count": 31
        }
      ]
    },
    {
      "cell_type": "markdown",
      "metadata": {
        "id": "-Tp5JgWBYDmU"
      },
      "source": [
        "จาก Bartlett's test พบว่า ค่า p-value เท่ากับ  2.713580160466225e-189 ซึ่ง  เข้าใกล้ 0ถือว่าดี"
      ]
    },
    {
      "cell_type": "markdown",
      "metadata": {
        "id": "IRW1UbBMYMxp"
      },
      "source": [
        "####Kaiser-Mayer-Olkin (KMO) Test"
      ]
    },
    {
      "cell_type": "code",
      "metadata": {
        "id": "Xj0EHlXPYudD",
        "outputId": "7d4f8bfa-b03b-4755-d99d-ce6271299d5c",
        "colab": {
          "base_uri": "https://localhost:8080/"
        }
      },
      "source": [
        "from factor_analyzer.factor_analyzer import calculate_kmo\n",
        "\n",
        "kmo_all,kmo_model=calculate_kmo(FIFA2018_dropped)\n",
        "\n",
        "kmo_model"
      ],
      "execution_count": 32,
      "outputs": [
        {
          "output_type": "execute_result",
          "data": {
            "text/plain": [
              "0.5594556344508279"
            ]
          },
          "metadata": {
            "tags": []
          },
          "execution_count": 32
        }
      ]
    },
    {
      "cell_type": "markdown",
      "metadata": {
        "id": "NXPCWLtOYuDu"
      },
      "source": [
        "จาก  Kaiser-Mayer-Olkin (KMO) Test  พบว่าค่า KMO เท่ากับ 0.5594556344508279 ประมาณ 0.6 หมายความว่า ข้อมูลมีความเหมาะสมที่จะนำไปทำ Factor Analysis"
      ]
    },
    {
      "cell_type": "markdown",
      "metadata": {
        "id": "DkyDsHabZQ7W"
      },
      "source": [
        "####Factor Analysis"
      ]
    },
    {
      "cell_type": "markdown",
      "metadata": {
        "id": "CTRDAHFZZbW1"
      },
      "source": [
        "#####import"
      ]
    },
    {
      "cell_type": "code",
      "metadata": {
        "id": "R2nhYsESZU3f"
      },
      "source": [
        "from factor_analyzer import FactorAnalyzer"
      ],
      "execution_count": 37,
      "outputs": []
    },
    {
      "cell_type": "markdown",
      "metadata": {
        "id": "Nn8ZadkmZc8r"
      },
      "source": [
        "#####Define"
      ]
    },
    {
      "cell_type": "code",
      "metadata": {
        "id": "wwiTt9yeZevm"
      },
      "source": [
        "fa = FactorAnalyzer(n_factors=10)"
      ],
      "execution_count": 38,
      "outputs": []
    },
    {
      "cell_type": "markdown",
      "metadata": {
        "id": "td_zeO5cZizb"
      },
      "source": [
        "#####fit-transform"
      ]
    },
    {
      "cell_type": "code",
      "metadata": {
        "id": "C4oD-D-gZmTI"
      },
      "source": [
        "FIFA2018_fa = fa.fit_transform(FIFA2018_dropped)"
      ],
      "execution_count": 49,
      "outputs": []
    },
    {
      "cell_type": "code",
      "metadata": {
        "id": "CwHL-vYdZ3jp",
        "outputId": "51891a5f-4654-4e52-f6ef-aa5f6e94795f",
        "colab": {
          "base_uri": "https://localhost:8080/"
        }
      },
      "source": [
        "FIFA2018_fa.shape"
      ],
      "execution_count": 40,
      "outputs": [
        {
          "output_type": "execute_result",
          "data": {
            "text/plain": [
              "(128, 10)"
            ]
          },
          "metadata": {
            "tags": []
          },
          "execution_count": 40
        }
      ]
    },
    {
      "cell_type": "markdown",
      "metadata": {
        "id": "o8FgavslZ9Ty"
      },
      "source": [
        "####ดูว่าเราจะมี Factor ทั้งหมดกี่ตัวโดยใช้ eigen values"
      ]
    },
    {
      "cell_type": "code",
      "metadata": {
        "id": "SCnpw_33aC_M"
      },
      "source": [
        "ev,v = fa.get_eigenvalues()"
      ],
      "execution_count": 44,
      "outputs": []
    },
    {
      "cell_type": "code",
      "metadata": {
        "id": "9n3XoEheaSYD",
        "outputId": "fb6e099c-bcfb-407d-b6e8-50ae6dbde01f",
        "colab": {
          "base_uri": "https://localhost:8080/"
        }
      },
      "source": [
        "ev"
      ],
      "execution_count": 45,
      "outputs": [
        {
          "output_type": "execute_result",
          "data": {
            "text/plain": [
              "array([4.93533676, 1.66110682, 1.45898601, 1.31857945, 1.27991548,\n",
              "       1.1607222 , 0.89822418, 0.80740568, 0.78874612, 0.65948826,\n",
              "       0.56563441, 0.48116939, 0.38549929, 0.29659929, 0.22859409,\n",
              "       0.06848785, 0.00550471])"
            ]
          },
          "metadata": {
            "tags": []
          },
          "execution_count": 45
        }
      ]
    },
    {
      "cell_type": "markdown",
      "metadata": {
        "id": "4HBhYcwMaovn"
      },
      "source": [
        "####Scree Plot"
      ]
    },
    {
      "cell_type": "code",
      "metadata": {
        "id": "kPGEx9Dgaryd",
        "outputId": "dfe060c7-27e3-4c65-9a0a-447b20a280fd",
        "colab": {
          "base_uri": "https://localhost:8080/",
          "height": 892
        }
      },
      "source": [
        "plt.plot(range(1,FIFA2018_dropped.shape[1]+1),ev,'bo-')\n",
        "plt.plot([0,FIFA2018_dropped.shape[1]+1],[1,1],'r--')\n",
        "plt.title('Scree Plot with 17 factors')\n",
        "plt.xlabel('Factors')\n",
        "plt.ylabel('Eigenvalue')\n",
        "plt.grid()\n",
        "plt.show()"
      ],
      "execution_count": 59,
      "outputs": [
        {
          "output_type": "display_data",
          "data": {
            "image/png": "[encoded data removed]",
            "text/plain": [
              "<Figure size 1080x1080 with 1 Axes>"
            ]
          },
          "metadata": {
            "tags": [],
            "needs_background": "light"
          }
        }
      ]
    },
    {
      "cell_type": "code",
      "metadata": {
        "id": "vQCyE5JCbNap",
        "outputId": "1b6b900d-7315-4b9d-cd4c-eb025a1599d3",
        "colab": {
          "base_uri": "https://localhost:8080/"
        }
      },
      "source": [
        "FIFA2018_fa[:,:6]"
      ],
      "execution_count": 65,
      "outputs": [
        {
          "output_type": "execute_result",
          "data": {
            "text/plain": [
              "array([[-0.22853633, -0.16739913, -1.53095638,  1.36037216, -0.70622137,\n",
              "        -1.16536193],\n",
              "       [ 0.36365086,  0.07642875, -0.52630052,  0.27560802, -0.18789105,\n",
              "        -0.00808794],\n",
              "       [ 0.11596056,  0.55899969, -0.02831454, -0.2588619 , -0.77630097,\n",
              "        -0.1551265 ],\n",
              "       ...,\n",
              "       [ 0.78930051, -0.27632774,  0.77816121, -1.10385581, -0.78629794,\n",
              "        -0.36020155],\n",
              "       [ 0.2232016 ,  0.97946497, -0.09599682, -0.76746143, -2.06799365,\n",
              "        -0.23311199],\n",
              "       [-1.13753457, -1.14917055, -0.83966269, -0.39984021, -1.70167125,\n",
              "        -2.41452216]])"
            ]
          },
          "metadata": {
            "tags": []
          },
          "execution_count": 65
        }
      ]
    },
    {
      "cell_type": "markdown",
      "metadata": {
        "id": "EWLk030pbr6N"
      },
      "source": [
        "####รัน Factor Analazer อีกรอบ ,paremeters จำนวน factor เท่ากับ 6"
      ]
    },
    {
      "cell_type": "code",
      "metadata": {
        "id": "OWDXSyR6b0xx"
      },
      "source": [
        "from factor_analyzer import FactorAnalyzer\n",
        "FIFA2018_fa2 = FactorAnalyzer(n_factors=6)\n",
        "FIFA_fa2 = FIFA2018_fa2.fit_transform(BFI_data_dropped)"
      ],
      "execution_count": 63,
      "outputs": []
    },
    {
      "cell_type": "code",
      "metadata": {
        "id": "luVEO51ncJhR",
        "outputId": "040a9930-a9d1-4740-afe8-978225e19168",
        "colab": {
          "base_uri": "https://localhost:8080/"
        }
      },
      "source": [
        "FIFA2018_fa2.loadings_.shape"
      ],
      "execution_count": 64,
      "outputs": [
        {
          "output_type": "execute_result",
          "data": {
            "text/plain": [
              "(25, 6)"
            ]
          },
          "metadata": {
            "tags": []
          },
          "execution_count": 64
        }
      ]
    }
  ]
}