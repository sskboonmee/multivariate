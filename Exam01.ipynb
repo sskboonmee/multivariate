{
  "nbformat": 4,
  "nbformat_minor": 0,
  "metadata": {
    "colab": {
      "name": "Exam01.ipynb",
      "provenance": [],
      "authorship_tag": "ABX9TyO3nDdDO05QW1krWcwsAOMf",
      "include_colab_link": true
    },
    "kernelspec": {
      "name": "python3",
      "display_name": "Python 3"
    }
  },
  "cells": [
    {
      "cell_type": "markdown",
      "metadata": {
        "id": "view-in-github",
        "colab_type": "text"
      },
      "source": [
        "<a href=\"https://colab.research.google.com/github/sskboonmee/multivariate/blob/main/Exam01.ipynb\" target=\"_parent\"><img src=\"https://colab.research.google.com/assets/colab-badge.svg\" alt=\"Open In Colab\"/></a>"
      ]
    },
    {
      "cell_type": "code",
      "metadata": {
        "id": "2j9DrPT96Hzn"
      },
      "source": [
        "import pandas as pd\n",
        "import numpy as np\n",
        "import matplotlib.pyplot as plt"
      ],
      "execution_count": 26,
      "outputs": []
    },
    {
      "cell_type": "code",
      "metadata": {
        "colab": {
          "base_uri": "https://localhost:8080/"
        },
        "id": "4q4Zn-67Rs8h",
        "outputId": "f6e1b906-bed7-4b61-fddb-3cf4557a9208"
      },
      "source": [
        "pizza.info()"
      ],
      "execution_count": 100,
      "outputs": [
        {
          "output_type": "stream",
          "text": [
            "<class 'pandas.core.frame.DataFrame'>\n",
            "RangeIndex: 300 entries, 0 to 299\n",
            "Data columns (total 9 columns):\n",
            " #   Column  Non-Null Count  Dtype  \n",
            "---  ------  --------------  -----  \n",
            " 0   brand   300 non-null    object \n",
            " 1   id      300 non-null    int64  \n",
            " 2   mois    300 non-null    float64\n",
            " 3   prot    300 non-null    float64\n",
            " 4   fat     300 non-null    float64\n",
            " 5   ash     300 non-null    float64\n",
            " 6   sodium  300 non-null    float64\n",
            " 7   carb    300 non-null    float64\n",
            " 8   cal     300 non-null    float64\n",
            "dtypes: float64(7), int64(1), object(1)\n",
            "memory usage: 21.2+ KB\n"
          ],
          "name": "stdout"
        }
      ]
    },
    {
      "cell_type": "code",
      "metadata": {
        "colab": {
          "base_uri": "https://localhost:8080/",
          "height": 404
        },
        "id": "YqWzkFBpAvg7",
        "outputId": "555fd245-ce3f-4027-ead7-204178b1f043"
      },
      "source": [
        "pizza = pd.read_csv('/content/Pizza.csv' )   #\\t+ คือการใช้ tab แบ่งข้อมูล \\s+ คือใช้ space แบ่งข้อมูล\n",
        "pizza"
      ],
      "execution_count": 99,
      "outputs": [
        {
          "output_type": "execute_result",
          "data": {
            "text/html": [
              "<div>\n",
              "<style scoped>\n",
              "    .dataframe tbody tr th:only-of-type {\n",
              "        vertical-align: middle;\n",
              "    }\n",
              "\n",
              "    .dataframe tbody tr th {\n",
              "        vertical-align: top;\n",
              "    }\n",
              "\n",
              "    .dataframe thead th {\n",
              "        text-align: right;\n",
              "    }\n",
              "</style>\n",
              "<table border=\"1\" class=\"dataframe\">\n",
              "  <thead>\n",
              "    <tr style=\"text-align: right;\">\n",
              "      <th></th>\n",
              "      <th>brand</th>\n",
              "      <th>id</th>\n",
              "      <th>mois</th>\n",
              "      <th>prot</th>\n",
              "      <th>fat</th>\n",
              "      <th>ash</th>\n",
              "      <th>sodium</th>\n",
              "      <th>carb</th>\n",
              "      <th>cal</th>\n",
              "    </tr>\n",
              "  </thead>\n",
              "  <tbody>\n",
              "    <tr>\n",
              "      <th>0</th>\n",
              "      <td>A</td>\n",
              "      <td>14069</td>\n",
              "      <td>27.82</td>\n",
              "      <td>21.43</td>\n",
              "      <td>44.87</td>\n",
              "      <td>5.11</td>\n",
              "      <td>1.77</td>\n",
              "      <td>0.77</td>\n",
              "      <td>4.93</td>\n",
              "    </tr>\n",
              "    <tr>\n",
              "      <th>1</th>\n",
              "      <td>A</td>\n",
              "      <td>14053</td>\n",
              "      <td>28.49</td>\n",
              "      <td>21.26</td>\n",
              "      <td>43.89</td>\n",
              "      <td>5.34</td>\n",
              "      <td>1.79</td>\n",
              "      <td>1.02</td>\n",
              "      <td>4.84</td>\n",
              "    </tr>\n",
              "    <tr>\n",
              "      <th>2</th>\n",
              "      <td>A</td>\n",
              "      <td>14025</td>\n",
              "      <td>28.35</td>\n",
              "      <td>19.99</td>\n",
              "      <td>45.78</td>\n",
              "      <td>5.08</td>\n",
              "      <td>1.63</td>\n",
              "      <td>0.80</td>\n",
              "      <td>4.95</td>\n",
              "    </tr>\n",
              "    <tr>\n",
              "      <th>3</th>\n",
              "      <td>A</td>\n",
              "      <td>14016</td>\n",
              "      <td>30.55</td>\n",
              "      <td>20.15</td>\n",
              "      <td>43.13</td>\n",
              "      <td>4.79</td>\n",
              "      <td>1.61</td>\n",
              "      <td>1.38</td>\n",
              "      <td>4.74</td>\n",
              "    </tr>\n",
              "    <tr>\n",
              "      <th>4</th>\n",
              "      <td>A</td>\n",
              "      <td>14005</td>\n",
              "      <td>30.49</td>\n",
              "      <td>21.28</td>\n",
              "      <td>41.65</td>\n",
              "      <td>4.82</td>\n",
              "      <td>1.64</td>\n",
              "      <td>1.76</td>\n",
              "      <td>4.67</td>\n",
              "    </tr>\n",
              "    <tr>\n",
              "      <th>...</th>\n",
              "      <td>...</td>\n",
              "      <td>...</td>\n",
              "      <td>...</td>\n",
              "      <td>...</td>\n",
              "      <td>...</td>\n",
              "      <td>...</td>\n",
              "      <td>...</td>\n",
              "      <td>...</td>\n",
              "      <td>...</td>\n",
              "    </tr>\n",
              "    <tr>\n",
              "      <th>295</th>\n",
              "      <td>J</td>\n",
              "      <td>34044</td>\n",
              "      <td>44.91</td>\n",
              "      <td>11.07</td>\n",
              "      <td>17.00</td>\n",
              "      <td>2.49</td>\n",
              "      <td>0.66</td>\n",
              "      <td>25.36</td>\n",
              "      <td>2.91</td>\n",
              "    </tr>\n",
              "    <tr>\n",
              "      <th>296</th>\n",
              "      <td>J</td>\n",
              "      <td>24069</td>\n",
              "      <td>43.15</td>\n",
              "      <td>11.79</td>\n",
              "      <td>18.46</td>\n",
              "      <td>2.43</td>\n",
              "      <td>0.67</td>\n",
              "      <td>24.17</td>\n",
              "      <td>3.10</td>\n",
              "    </tr>\n",
              "    <tr>\n",
              "      <th>297</th>\n",
              "      <td>J</td>\n",
              "      <td>34039</td>\n",
              "      <td>44.55</td>\n",
              "      <td>11.01</td>\n",
              "      <td>16.03</td>\n",
              "      <td>2.43</td>\n",
              "      <td>0.64</td>\n",
              "      <td>25.98</td>\n",
              "      <td>2.92</td>\n",
              "    </tr>\n",
              "    <tr>\n",
              "      <th>298</th>\n",
              "      <td>J</td>\n",
              "      <td>14044</td>\n",
              "      <td>47.60</td>\n",
              "      <td>10.43</td>\n",
              "      <td>15.18</td>\n",
              "      <td>2.32</td>\n",
              "      <td>0.56</td>\n",
              "      <td>24.47</td>\n",
              "      <td>2.76</td>\n",
              "    </tr>\n",
              "    <tr>\n",
              "      <th>299</th>\n",
              "      <td>J</td>\n",
              "      <td>14045</td>\n",
              "      <td>46.84</td>\n",
              "      <td>9.91</td>\n",
              "      <td>15.50</td>\n",
              "      <td>2.27</td>\n",
              "      <td>0.57</td>\n",
              "      <td>25.48</td>\n",
              "      <td>2.81</td>\n",
              "    </tr>\n",
              "  </tbody>\n",
              "</table>\n",
              "<p>300 rows × 9 columns</p>\n",
              "</div>"
            ],
            "text/plain": [
              "    brand     id   mois   prot    fat   ash  sodium   carb   cal\n",
              "0       A  14069  27.82  21.43  44.87  5.11    1.77   0.77  4.93\n",
              "1       A  14053  28.49  21.26  43.89  5.34    1.79   1.02  4.84\n",
              "2       A  14025  28.35  19.99  45.78  5.08    1.63   0.80  4.95\n",
              "3       A  14016  30.55  20.15  43.13  4.79    1.61   1.38  4.74\n",
              "4       A  14005  30.49  21.28  41.65  4.82    1.64   1.76  4.67\n",
              "..    ...    ...    ...    ...    ...   ...     ...    ...   ...\n",
              "295     J  34044  44.91  11.07  17.00  2.49    0.66  25.36  2.91\n",
              "296     J  24069  43.15  11.79  18.46  2.43    0.67  24.17  3.10\n",
              "297     J  34039  44.55  11.01  16.03  2.43    0.64  25.98  2.92\n",
              "298     J  14044  47.60  10.43  15.18  2.32    0.56  24.47  2.76\n",
              "299     J  14045  46.84   9.91  15.50  2.27    0.57  25.48  2.81\n",
              "\n",
              "[300 rows x 9 columns]"
            ]
          },
          "metadata": {
            "tags": []
          },
          "execution_count": 99
        }
      ]
    },
    {
      "cell_type": "code",
      "metadata": {
        "colab": {
          "base_uri": "https://localhost:8080/"
        },
        "id": "JjwrCbQ5N1Ap",
        "outputId": "c2fff164-0882-4ac2-bf80-6d90f67e14e5"
      },
      "source": [
        "pizza.shape"
      ],
      "execution_count": 101,
      "outputs": [
        {
          "output_type": "execute_result",
          "data": {
            "text/plain": [
              "(300, 9)"
            ]
          },
          "metadata": {
            "tags": []
          },
          "execution_count": 101
        }
      ]
    },
    {
      "cell_type": "code",
      "metadata": {
        "colab": {
          "base_uri": "https://localhost:8080/",
          "height": 1000
        },
        "id": "eLEjJQ5_VzuD",
        "outputId": "184f7926-d7f1-4311-ca0f-22f675492107"
      },
      "source": [
        "pd.plotting.scatter_matrix(pizza)"
      ],
      "execution_count": 102,
      "outputs": [
        {
          "output_type": "execute_result",
          "data": {
            "text/plain": [
              "array([[<matplotlib.axes._subplots.AxesSubplot object at 0x7fe9dffa5e10>,\n",
              "        <matplotlib.axes._subplots.AxesSubplot object at 0x7fe9dff22090>,\n",
              "        <matplotlib.axes._subplots.AxesSubplot object at 0x7fe9dfe726d0>,\n",
              "        <matplotlib.axes._subplots.AxesSubplot object at 0x7fe9dfe288d0>,\n",
              "        <matplotlib.axes._subplots.AxesSubplot object at 0x7fe9dfe5ed50>,\n",
              "        <matplotlib.axes._subplots.AxesSubplot object at 0x7fe9dfe202d0>,\n",
              "        <matplotlib.axes._subplots.AxesSubplot object at 0x7fe9dfdd58d0>,\n",
              "        <matplotlib.axes._subplots.AxesSubplot object at 0x7fe9dfd8bd90>],\n",
              "       [<matplotlib.axes._subplots.AxesSubplot object at 0x7fe9dfd8bdd0>,\n",
              "        <matplotlib.axes._subplots.AxesSubplot object at 0x7fe9dfd4e490>,\n",
              "        <matplotlib.axes._subplots.AxesSubplot object at 0x7fe9dfcb9e90>,\n",
              "        <matplotlib.axes._subplots.AxesSubplot object at 0x7fe9dfc7b450>,\n",
              "        <matplotlib.axes._subplots.AxesSubplot object at 0x7fe9dfc309d0>,\n",
              "        <matplotlib.axes._subplots.AxesSubplot object at 0x7fe9dfc66f50>,\n",
              "        <matplotlib.axes._subplots.AxesSubplot object at 0x7fe9dfba8510>,\n",
              "        <matplotlib.axes._subplots.AxesSubplot object at 0x7fe9dfbdda90>],\n",
              "       [<matplotlib.axes._subplots.AxesSubplot object at 0x7fe9dfb93fd0>,\n",
              "        <matplotlib.axes._subplots.AxesSubplot object at 0x7fe9dfb555d0>,\n",
              "        <matplotlib.axes._subplots.AxesSubplot object at 0x7fe9dfb0bb50>,\n",
              "        <matplotlib.axes._subplots.AxesSubplot object at 0x7fe9dfacc110>,\n",
              "        <matplotlib.axes._subplots.AxesSubplot object at 0x7fe9dfa83690>,\n",
              "        <matplotlib.axes._subplots.AxesSubplot object at 0x7fe9dfa37c10>,\n",
              "        <matplotlib.axes._subplots.AxesSubplot object at 0x7fe9df9fa1d0>,\n",
              "        <matplotlib.axes._subplots.AxesSubplot object at 0x7fe9df9b0750>],\n",
              "       [<matplotlib.axes._subplots.AxesSubplot object at 0x7fe9df9e5cd0>,\n",
              "        <matplotlib.axes._subplots.AxesSubplot object at 0x7fe9e27bfd50>,\n",
              "        <matplotlib.axes._subplots.AxesSubplot object at 0x7fe9e0f5fad0>,\n",
              "        <matplotlib.axes._subplots.AxesSubplot object at 0x7fe9dff91b90>,\n",
              "        <matplotlib.axes._subplots.AxesSubplot object at 0x7fe9dffa8ad0>,\n",
              "        <matplotlib.axes._subplots.AxesSubplot object at 0x7fe9e00d9550>,\n",
              "        <matplotlib.axes._subplots.AxesSubplot object at 0x7fe9e019c910>,\n",
              "        <matplotlib.axes._subplots.AxesSubplot object at 0x7fe9e27c7f10>],\n",
              "       [<matplotlib.axes._subplots.AxesSubplot object at 0x7fe9e0322910>,\n",
              "        <matplotlib.axes._subplots.AxesSubplot object at 0x7fe9e03025d0>,\n",
              "        <matplotlib.axes._subplots.AxesSubplot object at 0x7fe9e005a390>,\n",
              "        <matplotlib.axes._subplots.AxesSubplot object at 0x7fe9e009ce90>,\n",
              "        <matplotlib.axes._subplots.AxesSubplot object at 0x7fe9e00fd0d0>,\n",
              "        <matplotlib.axes._subplots.AxesSubplot object at 0x7fe9df93a750>,\n",
              "        <matplotlib.axes._subplots.AxesSubplot object at 0x7fe9df8efdd0>,\n",
              "        <matplotlib.axes._subplots.AxesSubplot object at 0x7fe9df8b4490>],\n",
              "       [<matplotlib.axes._subplots.AxesSubplot object at 0x7fe9df868b10>,\n",
              "        <matplotlib.axes._subplots.AxesSubplot object at 0x7fe9df82b1d0>,\n",
              "        <matplotlib.axes._subplots.AxesSubplot object at 0x7fe9df860850>,\n",
              "        <matplotlib.axes._subplots.AxesSubplot object at 0x7fe9df816ed0>,\n",
              "        <matplotlib.axes._subplots.AxesSubplot object at 0x7fe9df7d8590>,\n",
              "        <matplotlib.axes._subplots.AxesSubplot object at 0x7fe9df790c10>,\n",
              "        <matplotlib.axes._subplots.AxesSubplot object at 0x7fe9df7502d0>,\n",
              "        <matplotlib.axes._subplots.AxesSubplot object at 0x7fe9df706950>],\n",
              "       [<matplotlib.axes._subplots.AxesSubplot object at 0x7fe9df6b4b10>,\n",
              "        <matplotlib.axes._subplots.AxesSubplot object at 0x7fe9df67f690>,\n",
              "        <matplotlib.axes._subplots.AxesSubplot object at 0x7fe9df634d10>,\n",
              "        <matplotlib.axes._subplots.AxesSubplot object at 0x7fe9df5f83d0>,\n",
              "        <matplotlib.axes._subplots.AxesSubplot object at 0x7fe9df5aea50>,\n",
              "        <matplotlib.axes._subplots.AxesSubplot object at 0x7fe9df56e110>,\n",
              "        <matplotlib.axes._subplots.AxesSubplot object at 0x7fe9df5a5790>,\n",
              "        <matplotlib.axes._subplots.AxesSubplot object at 0x7fe9df560810>],\n",
              "       [<matplotlib.axes._subplots.AxesSubplot object at 0x7fe9df512d90>,\n",
              "        <matplotlib.axes._subplots.AxesSubplot object at 0x7fe9df4d5350>,\n",
              "        <matplotlib.axes._subplots.AxesSubplot object at 0x7fe9df48a8d0>,\n",
              "        <matplotlib.axes._subplots.AxesSubplot object at 0x7fe9df442e50>,\n",
              "        <matplotlib.axes._subplots.AxesSubplot object at 0x7fe9df403410>,\n",
              "        <matplotlib.axes._subplots.AxesSubplot object at 0x7fe9df3b9990>,\n",
              "        <matplotlib.axes._subplots.AxesSubplot object at 0x7fe9df36ff10>,\n",
              "        <matplotlib.axes._subplots.AxesSubplot object at 0x7fe9df3314d0>]],\n",
              "      dtype=object)"
            ]
          },
          "metadata": {
            "tags": []
          },
          "execution_count": 102
        },
        {
          "output_type": "display_data",
          "data": {
            "image/png": "[encoded data removed]",
            "text/plain": [
              "<Figure size 432x288 with 64 Axes>"
            ]
          },
          "metadata": {
            "tags": [],
            "needs_background": "light"
          }
        }
      ]
    },
    {
      "cell_type": "code",
      "metadata": {
        "colab": {
          "base_uri": "https://localhost:8080/",
          "height": 196
        },
        "id": "49d5F_DVRhHS",
        "outputId": "bc9eff83-dfb3-4e02-9234-f6c4ab10bcfe"
      },
      "source": [
        "pizza.head()"
      ],
      "execution_count": 103,
      "outputs": [
        {
          "output_type": "execute_result",
          "data": {
            "text/html": [
              "<div>\n",
              "<style scoped>\n",
              "    .dataframe tbody tr th:only-of-type {\n",
              "        vertical-align: middle;\n",
              "    }\n",
              "\n",
              "    .dataframe tbody tr th {\n",
              "        vertical-align: top;\n",
              "    }\n",
              "\n",
              "    .dataframe thead th {\n",
              "        text-align: right;\n",
              "    }\n",
              "</style>\n",
              "<table border=\"1\" class=\"dataframe\">\n",
              "  <thead>\n",
              "    <tr style=\"text-align: right;\">\n",
              "      <th></th>\n",
              "      <th>brand</th>\n",
              "      <th>id</th>\n",
              "      <th>mois</th>\n",
              "      <th>prot</th>\n",
              "      <th>fat</th>\n",
              "      <th>ash</th>\n",
              "      <th>sodium</th>\n",
              "      <th>carb</th>\n",
              "      <th>cal</th>\n",
              "    </tr>\n",
              "  </thead>\n",
              "  <tbody>\n",
              "    <tr>\n",
              "      <th>0</th>\n",
              "      <td>A</td>\n",
              "      <td>14069</td>\n",
              "      <td>27.82</td>\n",
              "      <td>21.43</td>\n",
              "      <td>44.87</td>\n",
              "      <td>5.11</td>\n",
              "      <td>1.77</td>\n",
              "      <td>0.77</td>\n",
              "      <td>4.93</td>\n",
              "    </tr>\n",
              "    <tr>\n",
              "      <th>1</th>\n",
              "      <td>A</td>\n",
              "      <td>14053</td>\n",
              "      <td>28.49</td>\n",
              "      <td>21.26</td>\n",
              "      <td>43.89</td>\n",
              "      <td>5.34</td>\n",
              "      <td>1.79</td>\n",
              "      <td>1.02</td>\n",
              "      <td>4.84</td>\n",
              "    </tr>\n",
              "    <tr>\n",
              "      <th>2</th>\n",
              "      <td>A</td>\n",
              "      <td>14025</td>\n",
              "      <td>28.35</td>\n",
              "      <td>19.99</td>\n",
              "      <td>45.78</td>\n",
              "      <td>5.08</td>\n",
              "      <td>1.63</td>\n",
              "      <td>0.80</td>\n",
              "      <td>4.95</td>\n",
              "    </tr>\n",
              "    <tr>\n",
              "      <th>3</th>\n",
              "      <td>A</td>\n",
              "      <td>14016</td>\n",
              "      <td>30.55</td>\n",
              "      <td>20.15</td>\n",
              "      <td>43.13</td>\n",
              "      <td>4.79</td>\n",
              "      <td>1.61</td>\n",
              "      <td>1.38</td>\n",
              "      <td>4.74</td>\n",
              "    </tr>\n",
              "    <tr>\n",
              "      <th>4</th>\n",
              "      <td>A</td>\n",
              "      <td>14005</td>\n",
              "      <td>30.49</td>\n",
              "      <td>21.28</td>\n",
              "      <td>41.65</td>\n",
              "      <td>4.82</td>\n",
              "      <td>1.64</td>\n",
              "      <td>1.76</td>\n",
              "      <td>4.67</td>\n",
              "    </tr>\n",
              "  </tbody>\n",
              "</table>\n",
              "</div>"
            ],
            "text/plain": [
              "  brand     id   mois   prot    fat   ash  sodium  carb   cal\n",
              "0     A  14069  27.82  21.43  44.87  5.11    1.77  0.77  4.93\n",
              "1     A  14053  28.49  21.26  43.89  5.34    1.79  1.02  4.84\n",
              "2     A  14025  28.35  19.99  45.78  5.08    1.63  0.80  4.95\n",
              "3     A  14016  30.55  20.15  43.13  4.79    1.61  1.38  4.74\n",
              "4     A  14005  30.49  21.28  41.65  4.82    1.64  1.76  4.67"
            ]
          },
          "metadata": {
            "tags": []
          },
          "execution_count": 103
        }
      ]
    },
    {
      "cell_type": "code",
      "metadata": {
        "id": "rvxC11EoSgmO"
      },
      "source": [
        "pizza = pizza.drop(['brand'],axis = 1)"
      ],
      "execution_count": 104,
      "outputs": []
    },
    {
      "cell_type": "code",
      "metadata": {
        "colab": {
          "base_uri": "https://localhost:8080/",
          "height": 196
        },
        "id": "T81rVA7hUTYn",
        "outputId": "0b22841e-e43a-4809-d734-5b00c4b07991"
      },
      "source": [
        "pizza.head()"
      ],
      "execution_count": 105,
      "outputs": [
        {
          "output_type": "execute_result",
          "data": {
            "text/html": [
              "<div>\n",
              "<style scoped>\n",
              "    .dataframe tbody tr th:only-of-type {\n",
              "        vertical-align: middle;\n",
              "    }\n",
              "\n",
              "    .dataframe tbody tr th {\n",
              "        vertical-align: top;\n",
              "    }\n",
              "\n",
              "    .dataframe thead th {\n",
              "        text-align: right;\n",
              "    }\n",
              "</style>\n",
              "<table border=\"1\" class=\"dataframe\">\n",
              "  <thead>\n",
              "    <tr style=\"text-align: right;\">\n",
              "      <th></th>\n",
              "      <th>id</th>\n",
              "      <th>mois</th>\n",
              "      <th>prot</th>\n",
              "      <th>fat</th>\n",
              "      <th>ash</th>\n",
              "      <th>sodium</th>\n",
              "      <th>carb</th>\n",
              "      <th>cal</th>\n",
              "    </tr>\n",
              "  </thead>\n",
              "  <tbody>\n",
              "    <tr>\n",
              "      <th>0</th>\n",
              "      <td>14069</td>\n",
              "      <td>27.82</td>\n",
              "      <td>21.43</td>\n",
              "      <td>44.87</td>\n",
              "      <td>5.11</td>\n",
              "      <td>1.77</td>\n",
              "      <td>0.77</td>\n",
              "      <td>4.93</td>\n",
              "    </tr>\n",
              "    <tr>\n",
              "      <th>1</th>\n",
              "      <td>14053</td>\n",
              "      <td>28.49</td>\n",
              "      <td>21.26</td>\n",
              "      <td>43.89</td>\n",
              "      <td>5.34</td>\n",
              "      <td>1.79</td>\n",
              "      <td>1.02</td>\n",
              "      <td>4.84</td>\n",
              "    </tr>\n",
              "    <tr>\n",
              "      <th>2</th>\n",
              "      <td>14025</td>\n",
              "      <td>28.35</td>\n",
              "      <td>19.99</td>\n",
              "      <td>45.78</td>\n",
              "      <td>5.08</td>\n",
              "      <td>1.63</td>\n",
              "      <td>0.80</td>\n",
              "      <td>4.95</td>\n",
              "    </tr>\n",
              "    <tr>\n",
              "      <th>3</th>\n",
              "      <td>14016</td>\n",
              "      <td>30.55</td>\n",
              "      <td>20.15</td>\n",
              "      <td>43.13</td>\n",
              "      <td>4.79</td>\n",
              "      <td>1.61</td>\n",
              "      <td>1.38</td>\n",
              "      <td>4.74</td>\n",
              "    </tr>\n",
              "    <tr>\n",
              "      <th>4</th>\n",
              "      <td>14005</td>\n",
              "      <td>30.49</td>\n",
              "      <td>21.28</td>\n",
              "      <td>41.65</td>\n",
              "      <td>4.82</td>\n",
              "      <td>1.64</td>\n",
              "      <td>1.76</td>\n",
              "      <td>4.67</td>\n",
              "    </tr>\n",
              "  </tbody>\n",
              "</table>\n",
              "</div>"
            ],
            "text/plain": [
              "      id   mois   prot    fat   ash  sodium  carb   cal\n",
              "0  14069  27.82  21.43  44.87  5.11    1.77  0.77  4.93\n",
              "1  14053  28.49  21.26  43.89  5.34    1.79  1.02  4.84\n",
              "2  14025  28.35  19.99  45.78  5.08    1.63  0.80  4.95\n",
              "3  14016  30.55  20.15  43.13  4.79    1.61  1.38  4.74\n",
              "4  14005  30.49  21.28  41.65  4.82    1.64  1.76  4.67"
            ]
          },
          "metadata": {
            "tags": []
          },
          "execution_count": 105
        }
      ]
    },
    {
      "cell_type": "markdown",
      "metadata": {
        "id": "vByUJm4TWaLA"
      },
      "source": [
        "## 1.Stadardizing the data"
      ]
    },
    {
      "cell_type": "code",
      "metadata": {
        "id": "tVvfNM7PVAjY"
      },
      "source": [
        "from sklearn.preprocessing import StandardScaler"
      ],
      "execution_count": 97,
      "outputs": []
    },
    {
      "cell_type": "code",
      "metadata": {
        "id": "KrUHtxx8dw2u",
        "outputId": "4114d061-da4c-402e-8f29-1632251ca5bb",
        "colab": {
          "base_uri": "https://localhost:8080/"
        }
      },
      "source": [
        "pizza_std = StandardScaler().fit_transform(pizza)\n",
        "pizza_std"
      ],
      "execution_count": 106,
      "outputs": [
        {
          "output_type": "execute_result",
          "data": {
            "text/plain": [
              "array([[-0.97421164, -1.37181459,  1.25418127, ...,  2.97668662,\n",
              "        -1.22751105,  2.68012924],\n",
              "       [-0.97651337, -1.30156227,  1.22771661, ...,  3.03077869,\n",
              "        -1.21362189,  2.53473344],\n",
              "       [-0.98054139, -1.31624186,  1.03000998, ...,  2.59804213,\n",
              "        -1.22584435,  2.71243942],\n",
              "       ...,\n",
              "       [ 1.89863118,  0.3823963 , -0.36794707, ..., -0.07951534,\n",
              "         0.1730719 , -0.56704362],\n",
              "       [-0.97780809,  0.70220164, -0.45823828, ..., -0.29588362,\n",
              "         0.08918137, -0.82552504],\n",
              "       [-0.97766423,  0.62251244, -0.53918903, ..., -0.26883759,\n",
              "         0.14529358, -0.7447496 ]])"
            ]
          },
          "metadata": {
            "tags": []
          },
          "execution_count": 106
        }
      ]
    },
    {
      "cell_type": "markdown",
      "metadata": {
        "id": "NPWK2N02WmTh"
      },
      "source": [
        "## 2.Calculating covariance matrix\n"
      ]
    },
    {
      "cell_type": "code",
      "metadata": {
        "id": "EUBZL_rGeg1y",
        "outputId": "3cde9f20-adc3-4927-bab5-085fbf5a5f3f",
        "colab": {
          "base_uri": "https://localhost:8080/",
          "height": 294
        }
      },
      "source": [
        "pd.plotting.scatter_matrix(pizza);"
      ],
      "execution_count": 107,
      "outputs": [
        {
          "output_type": "display_data",
          "data": {
            "image/png": "[encoded data removed]",
            "text/plain": [
              "<Figure size 432x288 with 64 Axes>"
            ]
          },
          "metadata": {
            "tags": [],
            "needs_background": "light"
          }
        }
      ]
    },
    {
      "cell_type": "code",
      "metadata": {
        "colab": {
          "base_uri": "https://localhost:8080/"
        },
        "id": "B7ClxheKVRQg",
        "outputId": "3b1123e3-d617-4b75-8694-eca971f598b6"
      },
      "source": [
        "pizza_cov_matrix = np.cov(pizza_std.T)\n",
        "pizza_cov_matrix"
      ],
      "execution_count": 108,
      "outputs": [
        {
          "output_type": "execute_result",
          "data": {
            "text/plain": [
              "array([[ 1.00334448,  0.03270407, -0.07674126, -0.00487631, -0.03418551,\n",
              "        -0.01520677,  0.0150162 , -0.02127955],\n",
              "       [ 0.03270407,  1.00334448,  0.36145252, -0.17189118,  0.26644367,\n",
              "        -0.10262097, -0.59378092, -0.7669972 ],\n",
              "       [-0.07674126,  0.36145252,  1.00334448,  0.49966723,  0.82659903,\n",
              "         0.43056473, -0.85639691,  0.07049308],\n",
              "       [-0.00487631, -0.17189118,  0.49966723,  1.00334448,  0.79428157,\n",
              "         0.93644671, -0.64237943,  0.76712418],\n",
              "       [-0.03418551,  0.26644367,  0.82659903,  0.79428157,  1.00334448,\n",
              "         0.8108249 , -0.90199502,  0.32756032],\n",
              "       [-0.01520677, -0.10262097,  0.43056473,  0.93644671,  0.8108249 ,\n",
              "         1.00334448, -0.6222505 ,  0.67420485],\n",
              "       [ 0.0150162 , -0.59378092, -0.85639691, -0.64237943, -0.90199502,\n",
              "        -0.6222505 ,  1.00334448, -0.02356313],\n",
              "       [-0.02127955, -0.7669972 ,  0.07049308,  0.76712418,  0.32756032,\n",
              "         0.67420485, -0.02356313,  1.00334448]])"
            ]
          },
          "metadata": {
            "tags": []
          },
          "execution_count": 108
        }
      ]
    },
    {
      "cell_type": "markdown",
      "metadata": {
        "id": "Y02fR0IUWtyH"
      },
      "source": [
        "## 3.Calculating Eigendecomposition"
      ]
    },
    {
      "cell_type": "code",
      "metadata": {
        "id": "WqEPm6wgXDaE"
      },
      "source": [
        "eigen_values, eigen_vectors = np.linalg.eig(pizza_cov_matrix)"
      ],
      "execution_count": 109,
      "outputs": []
    },
    {
      "cell_type": "code",
      "metadata": {
        "colab": {
          "base_uri": "https://localhost:8080/"
        },
        "id": "wkqD2QMkXFd6",
        "outputId": "b14627b5-3869-4a9f-f0e6-1be70815e9ab"
      },
      "source": [
        "eigen_values"
      ],
      "execution_count": 110,
      "outputs": [
        {
          "output_type": "execute_result",
          "data": {
            "text/plain": [
              "array([4.18700019e+00, 2.29816159e+00, 1.01008238e+00, 4.08476497e-01,\n",
              "       9.51047530e-02, 2.75822369e-02, 3.38672972e-04, 9.54086674e-06])"
            ]
          },
          "metadata": {
            "tags": []
          },
          "execution_count": 110
        }
      ]
    },
    {
      "cell_type": "code",
      "metadata": {
        "colab": {
          "base_uri": "https://localhost:8080/"
        },
        "id": "oMV1kE9zXHq1",
        "outputId": "ce7b9a09-d1af-48fd-be1f-561d6cd09b90"
      },
      "source": [
        "eigen_vectors"
      ],
      "execution_count": 111,
      "outputs": [
        {
          "output_type": "execute_result",
          "data": {
            "text/plain": [
              "array([[ 1.99403012e-02,  5.81763147e-03,  9.93250052e-01,\n",
              "         1.11331687e-01, -2.07984566e-02, -1.39813075e-02,\n",
              "        -2.58398640e-04, -9.96706744e-05],\n",
              "       [-6.44785509e-02,  6.28375256e-01,  4.89635165e-02,\n",
              "        -4.17773426e-01,  2.22559480e-01, -4.55739129e-03,\n",
              "        -4.46453904e-01,  4.18545592e-01],\n",
              "       [-3.78951071e-01,  2.69609639e-01, -8.22473744e-02,\n",
              "         7.40512315e-01,  8.86180970e-03, -3.89773631e-01,\n",
              "         6.96421597e-05,  2.76733787e-01],\n",
              "       [-4.46467403e-01, -2.34215299e-01,  4.52319845e-02,\n",
              "        -1.93036121e-01,  5.06869519e-01,  1.75580059e-01,\n",
              "         5.25427705e-01,  3.77732492e-01],\n",
              "       [-4.71813825e-01,  1.11065055e-01,  3.45464203e-04,\n",
              "         5.57179039e-02, -5.55431191e-01,  6.68467507e-01,\n",
              "        -5.88126045e-02,  5.60368303e-02],\n",
              "       [-4.35550982e-01, -2.01521828e-01,  4.33743722e-02,\n",
              "        -4.56740689e-01, -4.41865186e-01, -6.03270611e-01,\n",
              "        -3.21259514e-03, -5.55686523e-04],\n",
              "       [ 4.24755778e-01, -3.20416546e-01, -1.89923636e-02,\n",
              "         4.90903283e-02, -3.34420063e-01,  6.06485193e-03,\n",
              "         4.32498539e-04,  7.76061498e-01],\n",
              "       [-2.44494235e-01, -5.67407501e-01,  2.04451116e-03,\n",
              "         1.15424367e-01,  2.78305646e-01,  7.88092216e-02,\n",
              "        -7.21896902e-01,  1.20112159e-02]])"
            ]
          },
          "metadata": {
            "tags": []
          },
          "execution_count": 111
        }
      ]
    },
    {
      "cell_type": "markdown",
      "metadata": {
        "id": "Ng51GMe9Xp45"
      },
      "source": [
        "###Sorting Eigenvalues เรียงลำดับEigenvalues"
      ]
    },
    {
      "cell_type": "code",
      "metadata": {
        "colab": {
          "base_uri": "https://localhost:8080/"
        },
        "id": "YbVuvWFrYAFN",
        "outputId": "171538d0-8171-4d96-fd1a-184459bf81c7"
      },
      "source": [
        "eig_pairs = [(np.abs(eig_vals[i]), eig_vecs[:,i]) for i in range(len(eig_vals))]\n",
        "\n",
        "print('Eigenvalues in descending order:')\n",
        "for i in eig_pairs:\n",
        "    print(i[0])"
      ],
      "execution_count": 112,
      "outputs": [
        {
          "output_type": "stream",
          "text": [
            "Eigenvalues in descending order:\n",
            "4.18700018692866\n",
            "2.298161589040488\n",
            "1.010082376580214\n",
            "0.4084764965583233\n",
            "0.0951047529996186\n",
            "0.02758223689672113\n",
            "0.00033867297203880176\n",
            "9.540866736774754e-06\n"
          ],
          "name": "stdout"
        }
      ]
    },
    {
      "cell_type": "markdown",
      "metadata": {
        "id": "UuuQk7SJXtky"
      },
      "source": [
        "##4.Calculating cumulative variance to select number of components"
      ]
    },
    {
      "cell_type": "code",
      "metadata": {
        "colab": {
          "base_uri": "https://localhost:8080/"
        },
        "id": "9H7z32YbYN34",
        "outputId": "330318c6-d8bf-4932-8b80-4d5c1f563a44"
      },
      "source": [
        "total = sum(eig_vals)\n",
        "var_exp = [(i / total)*100 for i in sorted(eig_vals, reverse=True)]\n",
        "cum_var_exp = np.cumsum(var_exp)\n",
        "print(\"Variance captured by each component is \\n\",var_exp)\n",
        "print(\"Cumulative variance captured as we travel with each component \\n\",cum_var_exp)"
      ],
      "execution_count": 113,
      "outputs": [
        {
          "output_type": "stream",
          "text": [
            "Variance captured by each component is \n",
            " [52.16304399548628, 28.63126313012944, 12.58394294156185, 5.088936352955783, 1.1848467144535828, 0.3436287013383178, 0.004219300776650077, 0.00011886329809565226]\n",
            "Cumulative variance captured as we travel with each component \n",
            " [ 52.163044    80.79430713  93.37825007  98.46718642  99.65203313\n",
            "  99.99566184  99.99988114 100.        ]\n"
          ],
          "name": "stdout"
        }
      ]
    },
    {
      "cell_type": "code",
      "metadata": {
        "id": "ljMIHRBUYT9x"
      },
      "source": [
        "df1 = pd.read_csv('/content/Pizza.csv' )"
      ],
      "execution_count": 66,
      "outputs": []
    },
    {
      "cell_type": "markdown",
      "metadata": {
        "id": "y26g2NIjYlGT"
      },
      "source": [
        "### Scree plot for visualization"
      ]
    },
    {
      "cell_type": "code",
      "metadata": {
        "id": "KkBp1sB9Yirk"
      },
      "source": [
        "from sklearn.decomposition import PCA\n",
        "pca = PCA().fit(pizza_std)"
      ],
      "execution_count": 115,
      "outputs": []
    },
    {
      "cell_type": "code",
      "metadata": {
        "colab": {
          "base_uri": "https://localhost:8080/",
          "height": 281
        },
        "id": "9nB4iaclYpXz",
        "outputId": "69510f8c-8a07-4477-a1cf-e9f9a6798534"
      },
      "source": [
        "plt.plot(np.cumsum(pca.explained_variance_ratio_))"
      ],
      "execution_count": 116,
      "outputs": [
        {
          "output_type": "execute_result",
          "data": {
            "text/plain": [
              "[<matplotlib.lines.Line2D at 0x7fe9ddb453d0>]"
            ]
          },
          "metadata": {
            "tags": []
          },
          "execution_count": 116
        },
        {
          "output_type": "display_data",
          "data": {
            "image/png": "[encoded data removed]",
            "text/plain": [
              "<Figure size 432x288 with 1 Axes>"
            ]
          },
          "metadata": {
            "tags": [],
            "needs_background": "light"
          }
        }
      ]
    },
    {
      "cell_type": "code",
      "metadata": {
        "colab": {
          "base_uri": "https://localhost:8080/",
          "height": 300
        },
        "id": "O26lyWVoYtaH",
        "outputId": "60a6b4fd-3ddf-4dec-e9ae-9dc3c9cc911b"
      },
      "source": [
        "plt.xlabel('No of components')"
      ],
      "execution_count": 69,
      "outputs": [
        {
          "output_type": "execute_result",
          "data": {
            "text/plain": [
              "Text(0.5, 0, 'No of components')"
            ]
          },
          "metadata": {
            "tags": []
          },
          "execution_count": 69
        },
        {
          "output_type": "display_data",
          "data": {
            "image/png": "[encoded data removed]",
            "text/plain": [
              "<Figure size 432x288 with 1 Axes>"
            ]
          },
          "metadata": {
            "tags": [],
            "needs_background": "light"
          }
        }
      ]
    },
    {
      "cell_type": "code",
      "metadata": {
        "colab": {
          "base_uri": "https://localhost:8080/",
          "height": 286
        },
        "id": "TBRqOs5xYyIU",
        "outputId": "6b3d6332-2bcf-40c4-fb57-917c091e8380"
      },
      "source": [
        "plt.ylabel('Cumulative explained variance')"
      ],
      "execution_count": 70,
      "outputs": [
        {
          "output_type": "execute_result",
          "data": {
            "text/plain": [
              "Text(0, 0.5, 'Cumulative explained variance')"
            ]
          },
          "metadata": {
            "tags": []
          },
          "execution_count": 70
        },
        {
          "output_type": "display_data",
          "data": {
            "image/png": "[encoded data removed]",
            "text/plain": [
              "<Figure size 432x288 with 1 Axes>"
            ]
          },
          "metadata": {
            "tags": [],
            "needs_background": "light"
          }
        }
      ]
    },
    {
      "cell_type": "code",
      "metadata": {
        "id": "ekhfEw98Y5Qt"
      },
      "source": [
        "plt.show()"
      ],
      "execution_count": 71,
      "outputs": []
    },
    {
      "cell_type": "markdown",
      "metadata": {
        "id": "qft-GY_TY-9_"
      },
      "source": [
        "##Creating 3 Principal components\n",
        "#อาจจะเป็นขั้นที่ 5\n"
      ]
    },
    {
      "cell_type": "code",
      "metadata": {
        "colab": {
          "base_uri": "https://localhost:8080/",
          "height": 196
        },
        "id": "YU6Q2lqgZAX3",
        "outputId": "f542cab3-bf80-4036-9c17-62bbb1ef4dcb"
      },
      "source": [
        "from sklearn.decomposition import PCA\n",
        "pca = PCA(n_components = 3)\n",
        "pcs = pca.fit_transform(df_std)\n",
        "df_new = pd.DataFrame(data=pcs, columns={'PC1','PC2','PC3'})\n",
        "df_new['target'] = df1['brand'] \n",
        "df_new.head()"
      ],
      "execution_count": 73,
      "outputs": [
        {
          "output_type": "execute_result",
          "data": {
            "text/html": [
              "<div>\n",
              "<style scoped>\n",
              "    .dataframe tbody tr th:only-of-type {\n",
              "        vertical-align: middle;\n",
              "    }\n",
              "\n",
              "    .dataframe tbody tr th {\n",
              "        vertical-align: top;\n",
              "    }\n",
              "\n",
              "    .dataframe thead th {\n",
              "        text-align: right;\n",
              "    }\n",
              "</style>\n",
              "<table border=\"1\" class=\"dataframe\">\n",
              "  <thead>\n",
              "    <tr style=\"text-align: right;\">\n",
              "      <th></th>\n",
              "      <th>PC1</th>\n",
              "      <th>PC2</th>\n",
              "      <th>PC3</th>\n",
              "      <th>target</th>\n",
              "    </tr>\n",
              "  </thead>\n",
              "  <tbody>\n",
              "    <tr>\n",
              "      <th>0</th>\n",
              "      <td>5.029003</td>\n",
              "      <td>2.683866</td>\n",
              "      <td>-0.854997</td>\n",
              "      <td>A</td>\n",
              "    </tr>\n",
              "    <tr>\n",
              "      <th>1</th>\n",
              "      <td>5.042441</td>\n",
              "      <td>2.533955</td>\n",
              "      <td>-0.854766</td>\n",
              "      <td>A</td>\n",
              "    </tr>\n",
              "    <tr>\n",
              "      <th>2</th>\n",
              "      <td>4.824210</td>\n",
              "      <td>2.678397</td>\n",
              "      <td>-0.851929</td>\n",
              "      <td>A</td>\n",
              "    </tr>\n",
              "    <tr>\n",
              "      <th>3</th>\n",
              "      <td>4.488378</td>\n",
              "      <td>2.289807</td>\n",
              "      <td>-0.861077</td>\n",
              "      <td>A</td>\n",
              "    </tr>\n",
              "    <tr>\n",
              "      <th>4</th>\n",
              "      <td>4.490815</td>\n",
              "      <td>2.163979</td>\n",
              "      <td>-0.882000</td>\n",
              "      <td>A</td>\n",
              "    </tr>\n",
              "  </tbody>\n",
              "</table>\n",
              "</div>"
            ],
            "text/plain": [
              "        PC1       PC2       PC3 target\n",
              "0  5.029003  2.683866 -0.854997      A\n",
              "1  5.042441  2.533955 -0.854766      A\n",
              "2  4.824210  2.678397 -0.851929      A\n",
              "3  4.488378  2.289807 -0.861077      A\n",
              "4  4.490815  2.163979 -0.882000      A"
            ]
          },
          "metadata": {
            "tags": []
          },
          "execution_count": 73
        }
      ]
    },
    {
      "cell_type": "markdown",
      "metadata": {
        "id": "YlOnWE-EZg-B"
      },
      "source": [
        "##5.ลองทำ"
      ]
    },
    {
      "cell_type": "code",
      "metadata": {
        "id": "xi_peZTYgtdM",
        "outputId": "d2410930-3a62-47db-9f2d-2907c4c02216",
        "colab": {
          "base_uri": "https://localhost:8080/"
        }
      },
      "source": [
        "X = pizza_std.T\n",
        "X.shape"
      ],
      "execution_count": 122,
      "outputs": [
        {
          "output_type": "execute_result",
          "data": {
            "text/plain": [
              "(8, 300)"
            ]
          },
          "metadata": {
            "tags": []
          },
          "execution_count": 122
        }
      ]
    },
    {
      "cell_type": "code",
      "metadata": {
        "id": "_uVYiqyHg4Af",
        "outputId": "8d62bd14-9b4a-4c03-e4b2-c94877282bf9",
        "colab": {
          "base_uri": "https://localhost:8080/"
        }
      },
      "source": [
        "W = eigen_vectors\n",
        "W.shape"
      ],
      "execution_count": 120,
      "outputs": [
        {
          "output_type": "execute_result",
          "data": {
            "text/plain": [
              "(8, 8)"
            ]
          },
          "metadata": {
            "tags": []
          },
          "execution_count": 120
        }
      ]
    },
    {
      "cell_type": "code",
      "metadata": {
        "id": "15jfcsAQg_Zx",
        "outputId": "928d4dd1-6373-4cb8-adab-16adba5dc402",
        "colab": {
          "base_uri": "https://localhost:8080/"
        }
      },
      "source": [
        "X_pca = X.T.dot(W)\n",
        "X_pca"
      ],
      "execution_count": 123,
      "outputs": [
        {
          "output_type": "execute_result",
          "data": {
            "text/plain": [
              "array([[-5.02900280e+00, -2.68386611e+00, -8.54997159e-01, ...,\n",
              "        -2.72015628e-01, -2.15043471e-03, -8.87604510e-04],\n",
              "       [-5.04244094e+00, -2.53395472e+00, -8.54765928e-01, ...,\n",
              "        -2.03907712e-01,  3.14142925e-03, -9.48594141e-04],\n",
              "       [-4.82420967e+00, -2.67839730e+00, -8.51929364e-01, ...,\n",
              "         4.81877869e-02,  5.66902401e-03, -7.36755891e-04],\n",
              "       ...,\n",
              "       [ 6.84309556e-01,  5.26406531e-01,  1.90565247e+00, ...,\n",
              "        -7.00034660e-02,  1.62011540e-03, -4.27765658e-04],\n",
              "       [ 8.45645826e-01,  9.16013392e-01, -9.40926638e-01, ...,\n",
              "         3.89342509e-02,  2.09669775e-03, -5.72439458e-05],\n",
              "       [ 8.76434629e-01,  7.62107077e-01, -9.36153404e-01, ...,\n",
              "         4.11408686e-02,  3.78082371e-04, -3.18482559e-05]])"
            ]
          },
          "metadata": {
            "tags": []
          },
          "execution_count": 123
        }
      ]
    },
    {
      "cell_type": "code",
      "metadata": {
        "id": "F-vS-xGIhOru",
        "outputId": "b3d3a188-8c43-4b0b-e27b-4614d1a53258",
        "colab": {
          "base_uri": "https://localhost:8080/",
          "height": 281
        }
      },
      "source": [
        "plt.plot(X_pca[:,0],X_pca[:,1],'og')"
      ],
      "execution_count": 126,
      "outputs": [
        {
          "output_type": "execute_result",
          "data": {
            "text/plain": [
              "[<matplotlib.lines.Line2D at 0x7fe9dd9ed410>]"
            ]
          },
          "metadata": {
            "tags": []
          },
          "execution_count": 126
        },
        {
          "output_type": "display_data",
          "data": {
            "image/png": "[encoded data removed]",
            "text/plain": [
              "<Figure size 432x288 with 1 Axes>"
            ]
          },
          "metadata": {
            "tags": [],
            "needs_background": "light"
          }
        }
      ]
    },
    {
      "cell_type": "code",
      "metadata": {
        "id": "IqPHDkSLhQ5k",
        "outputId": "2d64fb16-f629-41c4-dc77-193863059b93",
        "colab": {
          "base_uri": "https://localhost:8080/",
          "height": 281
        }
      },
      "source": [
        "plt.plot(X_pca[:50,0],X_pca[:50,1],'or')\n",
        "plt.plot(X_pca[50:100,0],X_pca[50:100,1],'og')\n",
        "plt.plot(X_pca[100:,0],X_pca[100:,1],'oy')"
      ],
      "execution_count": 127,
      "outputs": [
        {
          "output_type": "execute_result",
          "data": {
            "text/plain": [
              "[<matplotlib.lines.Line2D at 0x7fe9dd9e4590>]"
            ]
          },
          "metadata": {
            "tags": []
          },
          "execution_count": 127
        },
        {
          "output_type": "display_data",
          "data": {
            "image/png": "[encoded data removed]",
            "text/plain": [
              "<Figure size 432x288 with 1 Axes>"
            ]
          },
          "metadata": {
            "tags": [],
            "needs_background": "light"
          }
        }
      ]
    },
    {
      "cell_type": "code",
      "metadata": {
        "id": "YwCcLx8ghaOc"
      },
      "source": [
        "from sklearn.decomposition import PCA"
      ],
      "execution_count": 128,
      "outputs": []
    },
    {
      "cell_type": "code",
      "metadata": {
        "id": "kGFQlO4yhiq2"
      },
      "source": [
        "pca = PCA(n_components=2)"
      ],
      "execution_count": 129,
      "outputs": []
    },
    {
      "cell_type": "code",
      "metadata": {
        "id": "j9ub-H2uhlYP"
      },
      "source": [
        "new_pca = pca.fit_transform(X.T)  "
      ],
      "execution_count": 130,
      "outputs": []
    },
    {
      "cell_type": "code",
      "metadata": {
        "id": "xd5jn5GEhp9N",
        "outputId": "35049afc-71a1-452e-959b-3a8238aab273",
        "colab": {
          "base_uri": "https://localhost:8080/"
        }
      },
      "source": [
        "new_pca"
      ],
      "execution_count": 131,
      "outputs": [
        {
          "output_type": "execute_result",
          "data": {
            "text/plain": [
              "array([[ 5.0290028 ,  2.68386611],\n",
              "       [ 5.04244094,  2.53395472],\n",
              "       [ 4.82420967,  2.6783973 ],\n",
              "       [ 4.48837805,  2.28980665],\n",
              "       [ 4.49081489,  2.16397853],\n",
              "       [ 4.52344664,  2.17269405],\n",
              "       [ 4.33407039,  2.0618309 ],\n",
              "       [ 4.77649526,  2.35779008],\n",
              "       [ 4.87313234,  2.68583731],\n",
              "       [ 4.93490999,  2.6631364 ],\n",
              "       [ 4.85961394,  2.74127288],\n",
              "       [ 4.90997356,  2.74715951],\n",
              "       [ 4.62917337,  2.58388402],\n",
              "       [ 4.43995758,  2.2963552 ],\n",
              "       [ 4.45698403,  2.12932739],\n",
              "       [ 4.74336782,  2.46339225],\n",
              "       [ 4.4350204 ,  1.82471605],\n",
              "       [ 4.19176445,  1.79778512],\n",
              "       [ 4.48677412,  1.88240842],\n",
              "       [ 4.597434  ,  2.23136564],\n",
              "       [ 4.81868337,  2.9542827 ],\n",
              "       [ 4.78406988,  2.77466827],\n",
              "       [ 4.50815059,  2.15874479],\n",
              "       [ 4.24377553,  2.12077607],\n",
              "       [ 4.47945501,  2.0142427 ],\n",
              "       [ 4.50303616,  2.36809563],\n",
              "       [ 4.59559423,  2.59780928],\n",
              "       [ 4.45851755,  2.43019105],\n",
              "       [ 4.74014015,  2.3572431 ],\n",
              "       [ 1.87996923, -0.48074813],\n",
              "       [ 1.33126115, -1.12095514],\n",
              "       [ 1.78446596, -0.30106811],\n",
              "       [ 1.6901185 , -0.64629478],\n",
              "       [ 1.61195187, -0.72192205],\n",
              "       [ 1.77083617, -0.51979653],\n",
              "       [ 1.81626487, -0.56947287],\n",
              "       [ 1.30480128, -0.58241573],\n",
              "       [ 1.0040352 , -1.29451521],\n",
              "       [ 1.61423476, -1.07471306],\n",
              "       [ 1.65705464, -0.64031885],\n",
              "       [ 1.6747048 , -0.50640499],\n",
              "       [ 1.81645476, -0.78539908],\n",
              "       [ 1.76903208, -0.50840599],\n",
              "       [ 1.03582079, -1.54727438],\n",
              "       [ 0.9794515 , -1.69272873],\n",
              "       [ 1.07908158, -1.35865144],\n",
              "       [ 1.68403573, -0.51478804],\n",
              "       [ 1.8213315 , -0.62958691],\n",
              "       [ 1.51985224, -1.09245016],\n",
              "       [ 1.61276559, -0.58390785],\n",
              "       [ 1.77968768, -0.45514111],\n",
              "       [ 1.71751387, -0.42202637],\n",
              "       [ 1.78232093, -0.74748152],\n",
              "       [ 1.76569134, -0.7867465 ],\n",
              "       [ 1.18191835, -1.34762907],\n",
              "       [ 1.53362229, -0.97778994],\n",
              "       [ 1.69872562, -0.87403718],\n",
              "       [ 1.74744315, -0.79745634],\n",
              "       [ 1.17257063, -0.82229781],\n",
              "       [ 1.27177666, -0.80764706],\n",
              "       [ 1.39278461, -1.79554483],\n",
              "       [ 1.17275983, -2.24793312],\n",
              "       [ 1.16403297, -1.82076034],\n",
              "       [ 1.24302764, -1.93197615],\n",
              "       [ 1.2647129 , -1.55244969],\n",
              "       [ 0.91585899, -1.86831428],\n",
              "       [ 1.0313925 , -2.48621861],\n",
              "       [ 1.32389063, -2.05558374],\n",
              "       [ 0.66210771, -2.36474377],\n",
              "       [ 1.1697166 , -2.43646017],\n",
              "       [ 0.91385448, -2.62967336],\n",
              "       [ 0.98061201, -1.90844992],\n",
              "       [ 1.61498959, -1.71701531],\n",
              "       [ 1.28279062, -1.72327437],\n",
              "       [ 1.05282351, -1.71230419],\n",
              "       [ 0.80253128, -1.81657445],\n",
              "       [ 1.0114486 , -1.93332372],\n",
              "       [ 1.37820369, -2.55977342],\n",
              "       [ 1.29102546, -1.66075811],\n",
              "       [ 1.31788712, -1.99025853],\n",
              "       [ 1.01565791, -2.67789185],\n",
              "       [ 0.56081041, -2.05685349],\n",
              "       [ 0.57865938, -2.39639945],\n",
              "       [ 0.76991717, -2.24499863],\n",
              "       [ 1.52960269, -1.35851275],\n",
              "       [ 0.76410487, -2.41110888],\n",
              "       [ 0.94241332, -1.96365904],\n",
              "       [ 2.07113212, -1.13125939],\n",
              "       [ 2.08345027, -1.016376  ],\n",
              "       [ 1.52448764, -1.44863383],\n",
              "       [ 1.26670472, -1.62197775],\n",
              "       [ 1.53820195, -1.32351023],\n",
              "       [ 1.94665826, -1.26559906],\n",
              "       [ 1.38615734, -1.45287663],\n",
              "       [ 1.45507073, -1.51320929],\n",
              "       [ 1.01330798, -2.25346375],\n",
              "       [ 1.58165062, -1.38697641],\n",
              "       [ 1.44863245, -1.36909545],\n",
              "       [ 1.44181847, -1.36006499],\n",
              "       [ 1.33526525, -1.59561766],\n",
              "       [ 2.30753676, -1.56399133],\n",
              "       [ 2.32638215, -1.48562476],\n",
              "       [ 2.32828745, -1.61196119],\n",
              "       [ 1.49488821, -1.44941658],\n",
              "       [ 1.39791597, -1.49663899],\n",
              "       [ 1.41168644, -1.5516559 ],\n",
              "       [ 1.41985839, -1.45307759],\n",
              "       [ 1.44825481, -1.48187821],\n",
              "       [ 1.41243715, -1.53951231],\n",
              "       [ 1.31693963, -1.72177367],\n",
              "       [ 2.07175013, -1.05954752],\n",
              "       [ 1.32687703, -1.75927127],\n",
              "       [ 2.26662988, -1.72054496],\n",
              "       [ 1.25559713, -1.63108869],\n",
              "       [ 1.88503266, -1.16717693],\n",
              "       [ 2.08524561, -1.10487403],\n",
              "       [ 1.94457053, -1.15081718],\n",
              "       [ 1.89917135, -1.14408784],\n",
              "       [ 1.37820369, -2.55977342],\n",
              "       [-1.76530012,  0.943279  ],\n",
              "       [-1.59261901,  0.69465658],\n",
              "       [-1.70093901,  0.81371395],\n",
              "       [-2.46781132, -0.30239394],\n",
              "       [-1.79110741,  0.85979738],\n",
              "       [-2.53395795, -0.33614144],\n",
              "       [-1.94004343,  0.73233289],\n",
              "       [-1.51187626,  0.34374768],\n",
              "       [-1.6687165 ,  0.71399275],\n",
              "       [-1.66301466,  0.66057945],\n",
              "       [-1.70152876,  0.34216387],\n",
              "       [-1.87138302,  0.67736345],\n",
              "       [-1.38052298,  1.10714231],\n",
              "       [-1.41618678,  1.29947462],\n",
              "       [-1.27064186,  0.7773773 ],\n",
              "       [-1.84195787,  0.41326451],\n",
              "       [-1.94372012,  0.50381855],\n",
              "       [-1.27064186,  0.7773773 ],\n",
              "       [-1.73667633,  0.87645992],\n",
              "       [-1.73347313,  0.59105318],\n",
              "       [-1.44509491,  1.02875967],\n",
              "       [-1.5322939 ,  0.90460776],\n",
              "       [-1.40233964,  1.11347474],\n",
              "       [-1.42562396,  1.24026709],\n",
              "       [-1.41783722,  1.04523593],\n",
              "       [-2.25218544,  0.18922114],\n",
              "       [-1.70152876,  0.34216387],\n",
              "       [-1.89149843,  0.8205258 ],\n",
              "       [-1.4990985 ,  1.84142563],\n",
              "       [-1.72259463,  1.42043208],\n",
              "       [-1.80397719,  1.37724395],\n",
              "       [-1.27348407,  1.68690002],\n",
              "       [-1.50691975,  1.81339345],\n",
              "       [-1.68606064,  1.37738795],\n",
              "       [-1.76117397,  1.63691314],\n",
              "       [-1.8959688 ,  1.16438502],\n",
              "       [-1.73474089,  1.40761903],\n",
              "       [-1.75374262,  1.42675117],\n",
              "       [-1.3205068 ,  1.6393948 ],\n",
              "       [-1.80916983,  1.48492705],\n",
              "       [-1.24585521,  1.83206828],\n",
              "       [-1.7539003 ,  1.43440478],\n",
              "       [-1.76652188,  1.82746132],\n",
              "       [-1.58533703,  1.7742811 ],\n",
              "       [-1.34435746,  1.77227607],\n",
              "       [-1.87385157,  1.40661665],\n",
              "       [-1.49287149,  2.03714816],\n",
              "       [-1.83577992,  1.29238777],\n",
              "       [-1.91554569,  1.19247966],\n",
              "       [-2.01414284,  1.23122469],\n",
              "       [-1.69797012,  1.55548571],\n",
              "       [-1.69747254,  1.47023918],\n",
              "       [-1.5761978 ,  1.66965985],\n",
              "       [-1.6831582 ,  1.62896673],\n",
              "       [-1.62809038,  1.67111006],\n",
              "       [-1.5559573 ,  1.80238784],\n",
              "       [-1.46884329,  1.84813944],\n",
              "       [-1.77421079,  1.21207137],\n",
              "       [-1.76021897,  1.64220348],\n",
              "       [-1.86551376,  1.57766489],\n",
              "       [-1.968079  ,  1.2054254 ],\n",
              "       [-1.81697256,  1.60005455],\n",
              "       [-1.36392828,  1.80262387],\n",
              "       [-1.71666212,  1.70658128],\n",
              "       [-1.68848798,  1.60811253],\n",
              "       [-1.64241112,  1.71046517],\n",
              "       [-1.73370806,  1.68611102],\n",
              "       [-1.67730928,  1.679183  ],\n",
              "       [-1.85223217,  1.5538108 ],\n",
              "       [-1.7540054 ,  1.48121044],\n",
              "       [-1.77277182,  1.54844414],\n",
              "       [-2.05776009,  0.89094783],\n",
              "       [-1.37274593,  2.11719121],\n",
              "       [-1.72059393,  1.70692647],\n",
              "       [-1.81556508,  1.66659809],\n",
              "       [-1.87886153,  1.67830845],\n",
              "       [-1.62018863,  1.42899851],\n",
              "       [-1.83579367,  1.43666751],\n",
              "       [-1.56004012,  1.68236716],\n",
              "       [-1.71388088,  1.66412254],\n",
              "       [-1.92132872,  1.52230588],\n",
              "       [-1.65226629,  1.98803451],\n",
              "       [-1.74708385,  1.97140708],\n",
              "       [-1.83095684,  1.65327144],\n",
              "       [-1.6401652 ,  2.08383861],\n",
              "       [-2.0307505 ,  1.31387604],\n",
              "       [-1.73849319,  1.61778347],\n",
              "       [-2.03481313,  0.44756142],\n",
              "       [-1.42985659,  0.99482287],\n",
              "       [-1.70776529,  0.8061718 ],\n",
              "       [-2.44139323,  0.1660248 ],\n",
              "       [-1.65823778,  0.76861971],\n",
              "       [-1.69577223,  0.78254003],\n",
              "       [-2.56583017, -0.45980473],\n",
              "       [-1.61076167,  0.76105182],\n",
              "       [-1.79448423,  1.11422229],\n",
              "       [-1.83857752,  0.932974  ],\n",
              "       [-2.63236653, -0.27297348],\n",
              "       [-1.53122094,  1.19135007],\n",
              "       [-1.74603036,  0.56705488],\n",
              "       [-1.89844997,  0.66844408],\n",
              "       [-1.9566812 ,  0.4432454 ],\n",
              "       [-1.91073226,  0.65093225],\n",
              "       [-1.84182724,  0.5544211 ],\n",
              "       [-1.75755303,  0.78013618],\n",
              "       [-1.78597886,  0.98682286],\n",
              "       [-1.86828142,  0.64001245],\n",
              "       [-1.83345007,  0.67656884],\n",
              "       [-1.48406176,  0.94502995],\n",
              "       [-1.57279841,  0.7501146 ],\n",
              "       [-1.84601286,  0.69132116],\n",
              "       [-1.5500674 ,  0.73803929],\n",
              "       [-1.77323068,  0.70985113],\n",
              "       [-1.66930728,  0.78780529],\n",
              "       [-1.76937242,  0.64328253],\n",
              "       [-2.0298777 ,  0.49232193],\n",
              "       [-1.65952984,  1.04309191],\n",
              "       [-2.19494648,  0.26029391],\n",
              "       [-1.89841373,  0.58481314],\n",
              "       [-1.83345007,  0.67656884],\n",
              "       [-1.03901978, -1.88241614],\n",
              "       [-1.15452611, -1.80508378],\n",
              "       [-1.15735546, -1.77232713],\n",
              "       [-1.09023503, -1.81817155],\n",
              "       [-1.09038219, -1.58708797],\n",
              "       [-1.28111567, -2.07732711],\n",
              "       [-1.44618025, -2.06631896],\n",
              "       [-1.16034734, -2.04839164],\n",
              "       [-1.21078465, -1.84991318],\n",
              "       [-0.74462161, -1.67749617],\n",
              "       [-1.04295005, -1.8611071 ],\n",
              "       [-0.98705115, -1.7278175 ],\n",
              "       [-1.04820834, -2.00816463],\n",
              "       [-1.0163004 , -1.8955241 ],\n",
              "       [-1.10774996, -2.02043894],\n",
              "       [-1.15823288, -1.90837594],\n",
              "       [-1.15072346, -1.83297638],\n",
              "       [-1.19426018, -1.90301899],\n",
              "       [-1.18231424, -1.88478689],\n",
              "       [-1.1346844 , -1.69587674],\n",
              "       [-1.04064201, -1.94999926],\n",
              "       [-1.10510846, -1.88629329],\n",
              "       [-1.17393847, -1.88393719],\n",
              "       [-1.13796143, -1.82127531],\n",
              "       [-1.43100347, -2.27825331],\n",
              "       [-1.10991363, -1.89573586],\n",
              "       [-1.22498677, -1.82970898],\n",
              "       [-1.16897101, -1.81786359],\n",
              "       [-1.20073564, -1.93774099],\n",
              "       [-0.65522676, -0.6630485 ],\n",
              "       [-0.63322164, -0.40929853],\n",
              "       [-0.84564583, -0.91601339],\n",
              "       [-0.87643463, -0.76210708],\n",
              "       [-0.92277163, -0.65223426],\n",
              "       [-0.96532825, -0.967424  ],\n",
              "       [-0.65266032, -0.58518015],\n",
              "       [-0.69213192, -0.69713067],\n",
              "       [-0.60670727, -0.6312386 ],\n",
              "       [-0.79587287, -0.92636927],\n",
              "       [-0.60974668, -0.6874906 ],\n",
              "       [-0.85456563, -0.7985337 ],\n",
              "       [-0.68257987, -0.81211476],\n",
              "       [-0.61530736, -0.74743452],\n",
              "       [-0.6854681 , -0.58124116],\n",
              "       [-0.78006196, -0.82051432],\n",
              "       [-0.28586108, -0.17016238],\n",
              "       [-0.61172631, -0.83627679],\n",
              "       [-0.68347952, -0.50347278],\n",
              "       [-0.68397708, -0.50493352],\n",
              "       [-0.64059673, -0.89996746],\n",
              "       [-0.76530867, -0.58563843],\n",
              "       [-0.72381174, -0.64868738],\n",
              "       [-0.78560723, -0.84513736],\n",
              "       [-0.97559206, -0.49328084],\n",
              "       [-0.65452109, -0.59065067],\n",
              "       [-0.40338176, -0.34721461],\n",
              "       [-0.57344672, -0.5418543 ],\n",
              "       [-0.34893642, -0.24591354],\n",
              "       [-0.68430956, -0.52640653],\n",
              "       [-0.84564583, -0.91601339],\n",
              "       [-0.87643463, -0.76210708]])"
            ]
          },
          "metadata": {
            "tags": []
          },
          "execution_count": 131
        }
      ]
    },
    {
      "cell_type": "code",
      "metadata": {
        "id": "xXSAhJ2JhxMF",
        "outputId": "fd7a2c8d-0cfc-4b82-9fa5-cc3ce41dffe9",
        "colab": {
          "base_uri": "https://localhost:8080/",
          "height": 281
        }
      },
      "source": [
        "plt.plot(new_pca[:50,0],new_pca[:50,1],'or')\n",
        "plt.plot(new_pca[50:100,0],new_pca[50:100,1],'og')\n",
        "plt.plot(new_pca[100:,0],new_pca[100:,1],'oy')"
      ],
      "execution_count": 132,
      "outputs": [
        {
          "output_type": "execute_result",
          "data": {
            "text/plain": [
              "[<matplotlib.lines.Line2D at 0x7fe9dd957690>]"
            ]
          },
          "metadata": {
            "tags": []
          },
          "execution_count": 132
        },
        {
          "output_type": "display_data",
          "data": {
            "image/png": "[encoded data removed]",
            "text/plain": [
              "<Figure size 432x288 with 1 Axes>"
            ]
          },
          "metadata": {
            "tags": [],
            "needs_background": "light"
          }
        }
      ]
    }
  ]
}