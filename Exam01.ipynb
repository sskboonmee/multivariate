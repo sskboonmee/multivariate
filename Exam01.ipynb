{
  "nbformat": 4,
  "nbformat_minor": 0,
  "metadata": {
    "colab": {
      "name": "Exam01.ipynb",
      "provenance": [],
      "authorship_tag": "ABX9TyMsXhfNboxCGujvbJ0Dphji",
      "include_colab_link": true
    },
    "kernelspec": {
      "name": "python3",
      "display_name": "Python 3"
    }
  },
  "cells": [
    {
      "cell_type": "markdown",
      "metadata": {
        "id": "view-in-github",
        "colab_type": "text"
      },
      "source": [
        "<a href=\"https://colab.research.google.com/github/sskboonmee/multivariate/blob/main/Exam01.ipynb\" target=\"_parent\"><img src=\"https://colab.research.google.com/assets/colab-badge.svg\" alt=\"Open In Colab\"/></a>"
      ]
    },
    {
      "cell_type": "code",
      "metadata": {
        "id": "2j9DrPT96Hzn"
      },
      "source": [
        "import pandas as pd\n",
        "import numpy as np\n",
        "import matplotlib.pyplot as plt"
      ],
      "execution_count": 26,
      "outputs": []
    },
    {
      "cell_type": "code",
      "metadata": {
        "id": "4q4Zn-67Rs8h",
        "outputId": "7049d5df-74c7-41c4-90c1-0be5d1664178",
        "colab": {
          "base_uri": "https://localhost:8080/"
        }
      },
      "source": [
        "df.info()"
      ],
      "execution_count": 41,
      "outputs": [
        {
          "output_type": "stream",
          "text": [
            "<class 'pandas.core.frame.DataFrame'>\n",
            "RangeIndex: 300 entries, 0 to 299\n",
            "Data columns (total 9 columns):\n",
            " #   Column  Non-Null Count  Dtype  \n",
            "---  ------  --------------  -----  \n",
            " 0   brand   300 non-null    object \n",
            " 1   id      300 non-null    int64  \n",
            " 2   mois    300 non-null    float64\n",
            " 3   prot    300 non-null    float64\n",
            " 4   fat     300 non-null    float64\n",
            " 5   ash     300 non-null    float64\n",
            " 6   sodium  300 non-null    float64\n",
            " 7   carb    300 non-null    float64\n",
            " 8   cal     300 non-null    float64\n",
            "dtypes: float64(7), int64(1), object(1)\n",
            "memory usage: 21.2+ KB\n"
          ],
          "name": "stdout"
        }
      ]
    },
    {
      "cell_type": "code",
      "metadata": {
        "colab": {
          "base_uri": "https://localhost:8080/",
          "height": 404
        },
        "id": "YqWzkFBpAvg7",
        "outputId": "dc650e9a-c59e-48f6-ae69-0672bf268d8a"
      },
      "source": [
        "df = pd.read_csv('/content/Pizza.csv' )   #\\t+ คือการใช้ tab แบ่งข้อมูล \\s+ คือใช้ space แบ่งข้อมูล\n",
        "df"
      ],
      "execution_count": 37,
      "outputs": [
        {
          "output_type": "execute_result",
          "data": {
            "text/html": [
              "<div>\n",
              "<style scoped>\n",
              "    .dataframe tbody tr th:only-of-type {\n",
              "        vertical-align: middle;\n",
              "    }\n",
              "\n",
              "    .dataframe tbody tr th {\n",
              "        vertical-align: top;\n",
              "    }\n",
              "\n",
              "    .dataframe thead th {\n",
              "        text-align: right;\n",
              "    }\n",
              "</style>\n",
              "<table border=\"1\" class=\"dataframe\">\n",
              "  <thead>\n",
              "    <tr style=\"text-align: right;\">\n",
              "      <th></th>\n",
              "      <th>brand</th>\n",
              "      <th>id</th>\n",
              "      <th>mois</th>\n",
              "      <th>prot</th>\n",
              "      <th>fat</th>\n",
              "      <th>ash</th>\n",
              "      <th>sodium</th>\n",
              "      <th>carb</th>\n",
              "      <th>cal</th>\n",
              "    </tr>\n",
              "  </thead>\n",
              "  <tbody>\n",
              "    <tr>\n",
              "      <th>0</th>\n",
              "      <td>A</td>\n",
              "      <td>14069</td>\n",
              "      <td>27.82</td>\n",
              "      <td>21.43</td>\n",
              "      <td>44.87</td>\n",
              "      <td>5.11</td>\n",
              "      <td>1.77</td>\n",
              "      <td>0.77</td>\n",
              "      <td>4.93</td>\n",
              "    </tr>\n",
              "    <tr>\n",
              "      <th>1</th>\n",
              "      <td>A</td>\n",
              "      <td>14053</td>\n",
              "      <td>28.49</td>\n",
              "      <td>21.26</td>\n",
              "      <td>43.89</td>\n",
              "      <td>5.34</td>\n",
              "      <td>1.79</td>\n",
              "      <td>1.02</td>\n",
              "      <td>4.84</td>\n",
              "    </tr>\n",
              "    <tr>\n",
              "      <th>2</th>\n",
              "      <td>A</td>\n",
              "      <td>14025</td>\n",
              "      <td>28.35</td>\n",
              "      <td>19.99</td>\n",
              "      <td>45.78</td>\n",
              "      <td>5.08</td>\n",
              "      <td>1.63</td>\n",
              "      <td>0.80</td>\n",
              "      <td>4.95</td>\n",
              "    </tr>\n",
              "    <tr>\n",
              "      <th>3</th>\n",
              "      <td>A</td>\n",
              "      <td>14016</td>\n",
              "      <td>30.55</td>\n",
              "      <td>20.15</td>\n",
              "      <td>43.13</td>\n",
              "      <td>4.79</td>\n",
              "      <td>1.61</td>\n",
              "      <td>1.38</td>\n",
              "      <td>4.74</td>\n",
              "    </tr>\n",
              "    <tr>\n",
              "      <th>4</th>\n",
              "      <td>A</td>\n",
              "      <td>14005</td>\n",
              "      <td>30.49</td>\n",
              "      <td>21.28</td>\n",
              "      <td>41.65</td>\n",
              "      <td>4.82</td>\n",
              "      <td>1.64</td>\n",
              "      <td>1.76</td>\n",
              "      <td>4.67</td>\n",
              "    </tr>\n",
              "    <tr>\n",
              "      <th>...</th>\n",
              "      <td>...</td>\n",
              "      <td>...</td>\n",
              "      <td>...</td>\n",
              "      <td>...</td>\n",
              "      <td>...</td>\n",
              "      <td>...</td>\n",
              "      <td>...</td>\n",
              "      <td>...</td>\n",
              "      <td>...</td>\n",
              "    </tr>\n",
              "    <tr>\n",
              "      <th>295</th>\n",
              "      <td>J</td>\n",
              "      <td>34044</td>\n",
              "      <td>44.91</td>\n",
              "      <td>11.07</td>\n",
              "      <td>17.00</td>\n",
              "      <td>2.49</td>\n",
              "      <td>0.66</td>\n",
              "      <td>25.36</td>\n",
              "      <td>2.91</td>\n",
              "    </tr>\n",
              "    <tr>\n",
              "      <th>296</th>\n",
              "      <td>J</td>\n",
              "      <td>24069</td>\n",
              "      <td>43.15</td>\n",
              "      <td>11.79</td>\n",
              "      <td>18.46</td>\n",
              "      <td>2.43</td>\n",
              "      <td>0.67</td>\n",
              "      <td>24.17</td>\n",
              "      <td>3.10</td>\n",
              "    </tr>\n",
              "    <tr>\n",
              "      <th>297</th>\n",
              "      <td>J</td>\n",
              "      <td>34039</td>\n",
              "      <td>44.55</td>\n",
              "      <td>11.01</td>\n",
              "      <td>16.03</td>\n",
              "      <td>2.43</td>\n",
              "      <td>0.64</td>\n",
              "      <td>25.98</td>\n",
              "      <td>2.92</td>\n",
              "    </tr>\n",
              "    <tr>\n",
              "      <th>298</th>\n",
              "      <td>J</td>\n",
              "      <td>14044</td>\n",
              "      <td>47.60</td>\n",
              "      <td>10.43</td>\n",
              "      <td>15.18</td>\n",
              "      <td>2.32</td>\n",
              "      <td>0.56</td>\n",
              "      <td>24.47</td>\n",
              "      <td>2.76</td>\n",
              "    </tr>\n",
              "    <tr>\n",
              "      <th>299</th>\n",
              "      <td>J</td>\n",
              "      <td>14045</td>\n",
              "      <td>46.84</td>\n",
              "      <td>9.91</td>\n",
              "      <td>15.50</td>\n",
              "      <td>2.27</td>\n",
              "      <td>0.57</td>\n",
              "      <td>25.48</td>\n",
              "      <td>2.81</td>\n",
              "    </tr>\n",
              "  </tbody>\n",
              "</table>\n",
              "<p>300 rows × 9 columns</p>\n",
              "</div>"
            ],
            "text/plain": [
              "    brand     id   mois   prot    fat   ash  sodium   carb   cal\n",
              "0       A  14069  27.82  21.43  44.87  5.11    1.77   0.77  4.93\n",
              "1       A  14053  28.49  21.26  43.89  5.34    1.79   1.02  4.84\n",
              "2       A  14025  28.35  19.99  45.78  5.08    1.63   0.80  4.95\n",
              "3       A  14016  30.55  20.15  43.13  4.79    1.61   1.38  4.74\n",
              "4       A  14005  30.49  21.28  41.65  4.82    1.64   1.76  4.67\n",
              "..    ...    ...    ...    ...    ...   ...     ...    ...   ...\n",
              "295     J  34044  44.91  11.07  17.00  2.49    0.66  25.36  2.91\n",
              "296     J  24069  43.15  11.79  18.46  2.43    0.67  24.17  3.10\n",
              "297     J  34039  44.55  11.01  16.03  2.43    0.64  25.98  2.92\n",
              "298     J  14044  47.60  10.43  15.18  2.32    0.56  24.47  2.76\n",
              "299     J  14045  46.84   9.91  15.50  2.27    0.57  25.48  2.81\n",
              "\n",
              "[300 rows x 9 columns]"
            ]
          },
          "metadata": {
            "tags": []
          },
          "execution_count": 37
        }
      ]
    },
    {
      "cell_type": "code",
      "metadata": {
        "id": "JjwrCbQ5N1Ap",
        "outputId": "d4e48e83-a9f8-48f4-af7e-9eea88e6d530",
        "colab": {
          "base_uri": "https://localhost:8080/"
        }
      },
      "source": [
        "df.shape"
      ],
      "execution_count": 38,
      "outputs": [
        {
          "output_type": "execute_result",
          "data": {
            "text/plain": [
              "(300, 9)"
            ]
          },
          "metadata": {
            "tags": []
          },
          "execution_count": 38
        }
      ]
    },
    {
      "cell_type": "code",
      "metadata": {
        "id": "eLEjJQ5_VzuD",
        "outputId": "768b8c01-5ae7-4317-8ad2-7abe8d158a6b",
        "colab": {
          "base_uri": "https://localhost:8080/",
          "height": 1000
        }
      },
      "source": [
        "pd.plotting.scatter_matrix(df)"
      ],
      "execution_count": 55,
      "outputs": [
        {
          "output_type": "execute_result",
          "data": {
            "text/plain": [
              "array([[<matplotlib.axes._subplots.AxesSubplot object at 0x7fe9ec966a90>,\n",
              "        <matplotlib.axes._subplots.AxesSubplot object at 0x7fe9ec27b950>,\n",
              "        <matplotlib.axes._subplots.AxesSubplot object at 0x7fe9ec223b10>,\n",
              "        <matplotlib.axes._subplots.AxesSubplot object at 0x7fe9ec902690>,\n",
              "        <matplotlib.axes._subplots.AxesSubplot object at 0x7fe9ec2b2d10>,\n",
              "        <matplotlib.axes._subplots.AxesSubplot object at 0x7fe9ec2c93d0>,\n",
              "        <matplotlib.axes._subplots.AxesSubplot object at 0x7fe9ec610ad0>,\n",
              "        <matplotlib.axes._subplots.AxesSubplot object at 0x7fea013d99d0>],\n",
              "       [<matplotlib.axes._subplots.AxesSubplot object at 0x7fea013d9c90>,\n",
              "        <matplotlib.axes._subplots.AxesSubplot object at 0x7fe9ec6ba890>,\n",
              "        <matplotlib.axes._subplots.AxesSubplot object at 0x7fe9ec04f4d0>,\n",
              "        <matplotlib.axes._subplots.AxesSubplot object at 0x7fea014f1b50>,\n",
              "        <matplotlib.axes._subplots.AxesSubplot object at 0x7fe9ebfd1210>,\n",
              "        <matplotlib.axes._subplots.AxesSubplot object at 0x7fea0198f890>,\n",
              "        <matplotlib.axes._subplots.AxesSubplot object at 0x7fea018aff10>,\n",
              "        <matplotlib.axes._subplots.AxesSubplot object at 0x7fe9ec753590>],\n",
              "       [<matplotlib.axes._subplots.AxesSubplot object at 0x7fe9ec61c5d0>,\n",
              "        <matplotlib.axes._subplots.AxesSubplot object at 0x7fea018ae310>,\n",
              "        <matplotlib.axes._subplots.AxesSubplot object at 0x7fea013ea410>,\n",
              "        <matplotlib.axes._subplots.AxesSubplot object at 0x7fea0183fe50>,\n",
              "        <matplotlib.axes._subplots.AxesSubplot object at 0x7fea01951150>,\n",
              "        <matplotlib.axes._subplots.AxesSubplot object at 0x7fe9ec1bf7d0>,\n",
              "        <matplotlib.axes._subplots.AxesSubplot object at 0x7fe9ec7aee50>,\n",
              "        <matplotlib.axes._subplots.AxesSubplot object at 0x7fea017e5510>],\n",
              "       [<matplotlib.axes._subplots.AxesSubplot object at 0x7fea017b4b90>,\n",
              "        <matplotlib.axes._subplots.AxesSubplot object at 0x7fe9ec013250>,\n",
              "        <matplotlib.axes._subplots.AxesSubplot object at 0x7fe9ec3c48d0>,\n",
              "        <matplotlib.axes._subplots.AxesSubplot object at 0x7fea01dd9f50>,\n",
              "        <matplotlib.axes._subplots.AxesSubplot object at 0x7fea0158d610>,\n",
              "        <matplotlib.axes._subplots.AxesSubplot object at 0x7fea01471c90>,\n",
              "        <matplotlib.axes._subplots.AxesSubplot object at 0x7fea01624350>,\n",
              "        <matplotlib.axes._subplots.AxesSubplot object at 0x7fea014599d0>],\n",
              "       [<matplotlib.axes._subplots.AxesSubplot object at 0x7fea01427b90>,\n",
              "        <matplotlib.axes._subplots.AxesSubplot object at 0x7fea01251710>,\n",
              "        <matplotlib.axes._subplots.AxesSubplot object at 0x7fe9ec73fd90>,\n",
              "        <matplotlib.axes._subplots.AxesSubplot object at 0x7fe9ec7e3450>,\n",
              "        <matplotlib.axes._subplots.AxesSubplot object at 0x7fea01c0fad0>,\n",
              "        <matplotlib.axes._subplots.AxesSubplot object at 0x7fea01220190>,\n",
              "        <matplotlib.axes._subplots.AxesSubplot object at 0x7fea01be4810>,\n",
              "        <matplotlib.axes._subplots.AxesSubplot object at 0x7fea01a9afd0>],\n",
              "       [<matplotlib.axes._subplots.AxesSubplot object at 0x7fea0171a550>,\n",
              "        <matplotlib.axes._subplots.AxesSubplot object at 0x7fea01de7bd0>,\n",
              "        <matplotlib.axes._subplots.AxesSubplot object at 0x7fea014d4290>,\n",
              "        <matplotlib.axes._subplots.AxesSubplot object at 0x7fea01a63910>,\n",
              "        <matplotlib.axes._subplots.AxesSubplot object at 0x7fe9ec497f90>,\n",
              "        <matplotlib.axes._subplots.AxesSubplot object at 0x7fe9ec88b1d0>,\n",
              "        <matplotlib.axes._subplots.AxesSubplot object at 0x7fe9ec0eb750>,\n",
              "        <matplotlib.axes._subplots.AxesSubplot object at 0x7fea01ce8cd0>],\n",
              "       [<matplotlib.axes._subplots.AxesSubplot object at 0x7fea01875f50>,\n",
              "        <matplotlib.axes._subplots.AxesSubplot object at 0x7fea01a23810>,\n",
              "        <matplotlib.axes._subplots.AxesSubplot object at 0x7fea01319d90>,\n",
              "        <matplotlib.axes._subplots.AxesSubplot object at 0x7fea012d1310>,\n",
              "        <matplotlib.axes._subplots.AxesSubplot object at 0x7fea012e28d0>,\n",
              "        <matplotlib.axes._subplots.AxesSubplot object at 0x7fea01557e50>,\n",
              "        <matplotlib.axes._subplots.AxesSubplot object at 0x7fe9ec0bc410>,\n",
              "        <matplotlib.axes._subplots.AxesSubplot object at 0x7fe9ec08f950>],\n",
              "       [<matplotlib.axes._subplots.AxesSubplot object at 0x7fe9ec4341d0>,\n",
              "        <matplotlib.axes._subplots.AxesSubplot object at 0x7fea017884d0>,\n",
              "        <matplotlib.axes._subplots.AxesSubplot object at 0x7fe9e2d24a50>,\n",
              "        <matplotlib.axes._subplots.AxesSubplot object at 0x7fe9e2ccfb10>,\n",
              "        <matplotlib.axes._subplots.AxesSubplot object at 0x7fe9e2c9b590>,\n",
              "        <matplotlib.axes._subplots.AxesSubplot object at 0x7fe9e2c51b10>,\n",
              "        <matplotlib.axes._subplots.AxesSubplot object at 0x7fe9e2c130d0>,\n",
              "        <matplotlib.axes._subplots.AxesSubplot object at 0x7fe9e2bc9650>]],\n",
              "      dtype=object)"
            ]
          },
          "metadata": {
            "tags": []
          },
          "execution_count": 55
        },
        {
          "output_type": "display_data",
          "data": {
            "image/png": "[encoded data removed]",
            "text/plain": [
              "<Figure size 432x288 with 64 Axes>"
            ]
          },
          "metadata": {
            "tags": [],
            "needs_background": "light"
          }
        }
      ]
    },
    {
      "cell_type": "code",
      "metadata": {
        "id": "49d5F_DVRhHS",
        "outputId": "7f5f07f7-b960-4864-8343-448636f00a20",
        "colab": {
          "base_uri": "https://localhost:8080/",
          "height": 196
        }
      },
      "source": [
        "df.head()"
      ],
      "execution_count": 45,
      "outputs": [
        {
          "output_type": "execute_result",
          "data": {
            "text/html": [
              "<div>\n",
              "<style scoped>\n",
              "    .dataframe tbody tr th:only-of-type {\n",
              "        vertical-align: middle;\n",
              "    }\n",
              "\n",
              "    .dataframe tbody tr th {\n",
              "        vertical-align: top;\n",
              "    }\n",
              "\n",
              "    .dataframe thead th {\n",
              "        text-align: right;\n",
              "    }\n",
              "</style>\n",
              "<table border=\"1\" class=\"dataframe\">\n",
              "  <thead>\n",
              "    <tr style=\"text-align: right;\">\n",
              "      <th></th>\n",
              "      <th>brand</th>\n",
              "      <th>id</th>\n",
              "      <th>mois</th>\n",
              "      <th>prot</th>\n",
              "      <th>fat</th>\n",
              "      <th>ash</th>\n",
              "      <th>sodium</th>\n",
              "      <th>carb</th>\n",
              "      <th>cal</th>\n",
              "    </tr>\n",
              "  </thead>\n",
              "  <tbody>\n",
              "    <tr>\n",
              "      <th>0</th>\n",
              "      <td>A</td>\n",
              "      <td>14069</td>\n",
              "      <td>27.82</td>\n",
              "      <td>21.43</td>\n",
              "      <td>44.87</td>\n",
              "      <td>5.11</td>\n",
              "      <td>1.77</td>\n",
              "      <td>0.77</td>\n",
              "      <td>4.93</td>\n",
              "    </tr>\n",
              "    <tr>\n",
              "      <th>1</th>\n",
              "      <td>A</td>\n",
              "      <td>14053</td>\n",
              "      <td>28.49</td>\n",
              "      <td>21.26</td>\n",
              "      <td>43.89</td>\n",
              "      <td>5.34</td>\n",
              "      <td>1.79</td>\n",
              "      <td>1.02</td>\n",
              "      <td>4.84</td>\n",
              "    </tr>\n",
              "    <tr>\n",
              "      <th>2</th>\n",
              "      <td>A</td>\n",
              "      <td>14025</td>\n",
              "      <td>28.35</td>\n",
              "      <td>19.99</td>\n",
              "      <td>45.78</td>\n",
              "      <td>5.08</td>\n",
              "      <td>1.63</td>\n",
              "      <td>0.80</td>\n",
              "      <td>4.95</td>\n",
              "    </tr>\n",
              "    <tr>\n",
              "      <th>3</th>\n",
              "      <td>A</td>\n",
              "      <td>14016</td>\n",
              "      <td>30.55</td>\n",
              "      <td>20.15</td>\n",
              "      <td>43.13</td>\n",
              "      <td>4.79</td>\n",
              "      <td>1.61</td>\n",
              "      <td>1.38</td>\n",
              "      <td>4.74</td>\n",
              "    </tr>\n",
              "    <tr>\n",
              "      <th>4</th>\n",
              "      <td>A</td>\n",
              "      <td>14005</td>\n",
              "      <td>30.49</td>\n",
              "      <td>21.28</td>\n",
              "      <td>41.65</td>\n",
              "      <td>4.82</td>\n",
              "      <td>1.64</td>\n",
              "      <td>1.76</td>\n",
              "      <td>4.67</td>\n",
              "    </tr>\n",
              "  </tbody>\n",
              "</table>\n",
              "</div>"
            ],
            "text/plain": [
              "  brand     id   mois   prot    fat   ash  sodium  carb   cal\n",
              "0     A  14069  27.82  21.43  44.87  5.11    1.77  0.77  4.93\n",
              "1     A  14053  28.49  21.26  43.89  5.34    1.79  1.02  4.84\n",
              "2     A  14025  28.35  19.99  45.78  5.08    1.63  0.80  4.95\n",
              "3     A  14016  30.55  20.15  43.13  4.79    1.61  1.38  4.74\n",
              "4     A  14005  30.49  21.28  41.65  4.82    1.64  1.76  4.67"
            ]
          },
          "metadata": {
            "tags": []
          },
          "execution_count": 45
        }
      ]
    },
    {
      "cell_type": "code",
      "metadata": {
        "id": "rvxC11EoSgmO"
      },
      "source": [
        "df = df.drop(['brand'],axis = 1)"
      ],
      "execution_count": 49,
      "outputs": []
    },
    {
      "cell_type": "code",
      "metadata": {
        "id": "T81rVA7hUTYn",
        "outputId": "e75eac21-c84c-418e-c0ef-9eb3e96e8a75",
        "colab": {
          "base_uri": "https://localhost:8080/",
          "height": 196
        }
      },
      "source": [
        "df.head()"
      ],
      "execution_count": 50,
      "outputs": [
        {
          "output_type": "execute_result",
          "data": {
            "text/html": [
              "<div>\n",
              "<style scoped>\n",
              "    .dataframe tbody tr th:only-of-type {\n",
              "        vertical-align: middle;\n",
              "    }\n",
              "\n",
              "    .dataframe tbody tr th {\n",
              "        vertical-align: top;\n",
              "    }\n",
              "\n",
              "    .dataframe thead th {\n",
              "        text-align: right;\n",
              "    }\n",
              "</style>\n",
              "<table border=\"1\" class=\"dataframe\">\n",
              "  <thead>\n",
              "    <tr style=\"text-align: right;\">\n",
              "      <th></th>\n",
              "      <th>id</th>\n",
              "      <th>mois</th>\n",
              "      <th>prot</th>\n",
              "      <th>fat</th>\n",
              "      <th>ash</th>\n",
              "      <th>sodium</th>\n",
              "      <th>carb</th>\n",
              "      <th>cal</th>\n",
              "    </tr>\n",
              "  </thead>\n",
              "  <tbody>\n",
              "    <tr>\n",
              "      <th>0</th>\n",
              "      <td>14069</td>\n",
              "      <td>27.82</td>\n",
              "      <td>21.43</td>\n",
              "      <td>44.87</td>\n",
              "      <td>5.11</td>\n",
              "      <td>1.77</td>\n",
              "      <td>0.77</td>\n",
              "      <td>4.93</td>\n",
              "    </tr>\n",
              "    <tr>\n",
              "      <th>1</th>\n",
              "      <td>14053</td>\n",
              "      <td>28.49</td>\n",
              "      <td>21.26</td>\n",
              "      <td>43.89</td>\n",
              "      <td>5.34</td>\n",
              "      <td>1.79</td>\n",
              "      <td>1.02</td>\n",
              "      <td>4.84</td>\n",
              "    </tr>\n",
              "    <tr>\n",
              "      <th>2</th>\n",
              "      <td>14025</td>\n",
              "      <td>28.35</td>\n",
              "      <td>19.99</td>\n",
              "      <td>45.78</td>\n",
              "      <td>5.08</td>\n",
              "      <td>1.63</td>\n",
              "      <td>0.80</td>\n",
              "      <td>4.95</td>\n",
              "    </tr>\n",
              "    <tr>\n",
              "      <th>3</th>\n",
              "      <td>14016</td>\n",
              "      <td>30.55</td>\n",
              "      <td>20.15</td>\n",
              "      <td>43.13</td>\n",
              "      <td>4.79</td>\n",
              "      <td>1.61</td>\n",
              "      <td>1.38</td>\n",
              "      <td>4.74</td>\n",
              "    </tr>\n",
              "    <tr>\n",
              "      <th>4</th>\n",
              "      <td>14005</td>\n",
              "      <td>30.49</td>\n",
              "      <td>21.28</td>\n",
              "      <td>41.65</td>\n",
              "      <td>4.82</td>\n",
              "      <td>1.64</td>\n",
              "      <td>1.76</td>\n",
              "      <td>4.67</td>\n",
              "    </tr>\n",
              "  </tbody>\n",
              "</table>\n",
              "</div>"
            ],
            "text/plain": [
              "      id   mois   prot    fat   ash  sodium  carb   cal\n",
              "0  14069  27.82  21.43  44.87  5.11    1.77  0.77  4.93\n",
              "1  14053  28.49  21.26  43.89  5.34    1.79  1.02  4.84\n",
              "2  14025  28.35  19.99  45.78  5.08    1.63  0.80  4.95\n",
              "3  14016  30.55  20.15  43.13  4.79    1.61  1.38  4.74\n",
              "4  14005  30.49  21.28  41.65  4.82    1.64  1.76  4.67"
            ]
          },
          "metadata": {
            "tags": []
          },
          "execution_count": 50
        }
      ]
    },
    {
      "cell_type": "markdown",
      "metadata": {
        "id": "vByUJm4TWaLA"
      },
      "source": [
        "## 1.Stadardizing the data"
      ]
    },
    {
      "cell_type": "code",
      "metadata": {
        "id": "tVvfNM7PVAjY",
        "outputId": "c4680ba5-74f7-481b-9629-b973d3f34c97",
        "colab": {
          "base_uri": "https://localhost:8080/"
        }
      },
      "source": [
        "from sklearn.preprocessing import StandardScaler\n",
        "df_std = StandardScaler().fit_transform(df)\n",
        "df_std"
      ],
      "execution_count": 51,
      "outputs": [
        {
          "output_type": "execute_result",
          "data": {
            "text/plain": [
              "array([[-0.97421164, -1.37181459,  1.25418127, ...,  2.97668662,\n",
              "        -1.22751105,  2.68012924],\n",
              "       [-0.97651337, -1.30156227,  1.22771661, ...,  3.03077869,\n",
              "        -1.21362189,  2.53473344],\n",
              "       [-0.98054139, -1.31624186,  1.03000998, ...,  2.59804213,\n",
              "        -1.22584435,  2.71243942],\n",
              "       ...,\n",
              "       [ 1.89863118,  0.3823963 , -0.36794707, ..., -0.07951534,\n",
              "         0.1730719 , -0.56704362],\n",
              "       [-0.97780809,  0.70220164, -0.45823828, ..., -0.29588362,\n",
              "         0.08918137, -0.82552504],\n",
              "       [-0.97766423,  0.62251244, -0.53918903, ..., -0.26883759,\n",
              "         0.14529358, -0.7447496 ]])"
            ]
          },
          "metadata": {
            "tags": []
          },
          "execution_count": 51
        }
      ]
    },
    {
      "cell_type": "markdown",
      "metadata": {
        "id": "NPWK2N02WmTh"
      },
      "source": [
        "## 2.Calculating covariance matrix\n"
      ]
    },
    {
      "cell_type": "code",
      "metadata": {
        "id": "B7ClxheKVRQg",
        "outputId": "cb7b43d5-2e64-4d7f-99e3-903663d60780",
        "colab": {
          "base_uri": "https://localhost:8080/"
        }
      },
      "source": [
        "df_cov_matrix = np.cov(df_std.T)\n",
        "df_cov_matrix"
      ],
      "execution_count": 53,
      "outputs": [
        {
          "output_type": "execute_result",
          "data": {
            "text/plain": [
              "array([[ 1.00334448,  0.03270407, -0.07674126, -0.00487631, -0.03418551,\n",
              "        -0.01520677,  0.0150162 , -0.02127955],\n",
              "       [ 0.03270407,  1.00334448,  0.36145252, -0.17189118,  0.26644367,\n",
              "        -0.10262097, -0.59378092, -0.7669972 ],\n",
              "       [-0.07674126,  0.36145252,  1.00334448,  0.49966723,  0.82659903,\n",
              "         0.43056473, -0.85639691,  0.07049308],\n",
              "       [-0.00487631, -0.17189118,  0.49966723,  1.00334448,  0.79428157,\n",
              "         0.93644671, -0.64237943,  0.76712418],\n",
              "       [-0.03418551,  0.26644367,  0.82659903,  0.79428157,  1.00334448,\n",
              "         0.8108249 , -0.90199502,  0.32756032],\n",
              "       [-0.01520677, -0.10262097,  0.43056473,  0.93644671,  0.8108249 ,\n",
              "         1.00334448, -0.6222505 ,  0.67420485],\n",
              "       [ 0.0150162 , -0.59378092, -0.85639691, -0.64237943, -0.90199502,\n",
              "        -0.6222505 ,  1.00334448, -0.02356313],\n",
              "       [-0.02127955, -0.7669972 ,  0.07049308,  0.76712418,  0.32756032,\n",
              "         0.67420485, -0.02356313,  1.00334448]])"
            ]
          },
          "metadata": {
            "tags": []
          },
          "execution_count": 53
        }
      ]
    },
    {
      "cell_type": "markdown",
      "metadata": {
        "id": "Y02fR0IUWtyH"
      },
      "source": [
        "## 3.Calculating Eigendecomposition"
      ]
    },
    {
      "cell_type": "code",
      "metadata": {
        "id": "WqEPm6wgXDaE"
      },
      "source": [
        "eig_vals, eig_vecs = np.linalg.eig(df_cov_matrix)"
      ],
      "execution_count": 58,
      "outputs": []
    },
    {
      "cell_type": "code",
      "metadata": {
        "id": "wkqD2QMkXFd6",
        "outputId": "08f91aee-5719-4c94-a435-550a3fc258ed",
        "colab": {
          "base_uri": "https://localhost:8080/"
        }
      },
      "source": [
        "eig_vals"
      ],
      "execution_count": 59,
      "outputs": [
        {
          "output_type": "execute_result",
          "data": {
            "text/plain": [
              "array([4.18700019e+00, 2.29816159e+00, 1.01008238e+00, 4.08476497e-01,\n",
              "       9.51047530e-02, 2.75822369e-02, 3.38672972e-04, 9.54086674e-06])"
            ]
          },
          "metadata": {
            "tags": []
          },
          "execution_count": 59
        }
      ]
    },
    {
      "cell_type": "code",
      "metadata": {
        "id": "oMV1kE9zXHq1",
        "outputId": "5f5ec644-46bc-4c55-b8aa-0ab8fb551ecc",
        "colab": {
          "base_uri": "https://localhost:8080/"
        }
      },
      "source": [
        "eig_vecs"
      ],
      "execution_count": 60,
      "outputs": [
        {
          "output_type": "execute_result",
          "data": {
            "text/plain": [
              "array([[ 1.99403012e-02,  5.81763147e-03,  9.93250052e-01,\n",
              "         1.11331687e-01, -2.07984566e-02, -1.39813075e-02,\n",
              "        -2.58398640e-04, -9.96706744e-05],\n",
              "       [-6.44785509e-02,  6.28375256e-01,  4.89635165e-02,\n",
              "        -4.17773426e-01,  2.22559480e-01, -4.55739129e-03,\n",
              "        -4.46453904e-01,  4.18545592e-01],\n",
              "       [-3.78951071e-01,  2.69609639e-01, -8.22473744e-02,\n",
              "         7.40512315e-01,  8.86180970e-03, -3.89773631e-01,\n",
              "         6.96421597e-05,  2.76733787e-01],\n",
              "       [-4.46467403e-01, -2.34215299e-01,  4.52319845e-02,\n",
              "        -1.93036121e-01,  5.06869519e-01,  1.75580059e-01,\n",
              "         5.25427705e-01,  3.77732492e-01],\n",
              "       [-4.71813825e-01,  1.11065055e-01,  3.45464203e-04,\n",
              "         5.57179039e-02, -5.55431191e-01,  6.68467507e-01,\n",
              "        -5.88126045e-02,  5.60368303e-02],\n",
              "       [-4.35550982e-01, -2.01521828e-01,  4.33743722e-02,\n",
              "        -4.56740689e-01, -4.41865186e-01, -6.03270611e-01,\n",
              "        -3.21259514e-03, -5.55686523e-04],\n",
              "       [ 4.24755778e-01, -3.20416546e-01, -1.89923636e-02,\n",
              "         4.90903283e-02, -3.34420063e-01,  6.06485193e-03,\n",
              "         4.32498539e-04,  7.76061498e-01],\n",
              "       [-2.44494235e-01, -5.67407501e-01,  2.04451116e-03,\n",
              "         1.15424367e-01,  2.78305646e-01,  7.88092216e-02,\n",
              "        -7.21896902e-01,  1.20112159e-02]])"
            ]
          },
          "metadata": {
            "tags": []
          },
          "execution_count": 60
        }
      ]
    },
    {
      "cell_type": "markdown",
      "metadata": {
        "id": "Ng51GMe9Xp45"
      },
      "source": [
        "###Sorting Eigenvalues"
      ]
    },
    {
      "cell_type": "code",
      "metadata": {
        "id": "YbVuvWFrYAFN",
        "outputId": "33989d31-a173-4612-ac15-b0cc77d5c194",
        "colab": {
          "base_uri": "https://localhost:8080/"
        }
      },
      "source": [
        "eig_pairs = [(np.abs(eig_vals[i]), eig_vecs[:,i]) for i in range(len(eig_vals))]\n",
        "\n",
        "print('Eigenvalues in descending order:')\n",
        "for i in eig_pairs:\n",
        "    print(i[0])"
      ],
      "execution_count": 63,
      "outputs": [
        {
          "output_type": "stream",
          "text": [
            "Eigenvalues in descending order:\n",
            "4.18700018692866\n",
            "2.298161589040488\n",
            "1.010082376580214\n",
            "0.4084764965583233\n",
            "0.0951047529996186\n",
            "0.02758223689672113\n",
            "0.00033867297203880176\n",
            "9.540866736774754e-06\n"
          ],
          "name": "stdout"
        }
      ]
    },
    {
      "cell_type": "markdown",
      "metadata": {
        "id": "UuuQk7SJXtky"
      },
      "source": [
        "###Calculating cumulative variance to select number of components"
      ]
    },
    {
      "cell_type": "code",
      "metadata": {
        "id": "9H7z32YbYN34",
        "outputId": "1118ed09-59c7-4224-b54c-0d1e5585b4b8",
        "colab": {
          "base_uri": "https://localhost:8080/"
        }
      },
      "source": [
        "total = sum(eig_vals)\n",
        "var_exp = [(i / total)*100 for i in sorted(eig_vals, reverse=True)]\n",
        "cum_var_exp = np.cumsum(var_exp)\n",
        "print(\"Variance captured by each component is \\n\",var_exp)\n",
        "print(\"Cumulative variance captured as we travel with each component \\n\",cum_var_exp)"
      ],
      "execution_count": 64,
      "outputs": [
        {
          "output_type": "stream",
          "text": [
            "Variance captured by each component is \n",
            " [52.16304399548628, 28.63126313012944, 12.58394294156185, 5.088936352955783, 1.1848467144535828, 0.3436287013383178, 0.004219300776650077, 0.00011886329809565226]\n",
            "Cumulative variance captured as we travel with each component \n",
            " [ 52.163044    80.79430713  93.37825007  98.46718642  99.65203313\n",
            "  99.99566184  99.99988114 100.        ]\n"
          ],
          "name": "stdout"
        }
      ]
    },
    {
      "cell_type": "code",
      "metadata": {
        "id": "ljMIHRBUYT9x"
      },
      "source": [
        "df1 = pd.read_csv('/content/Pizza.csv' )"
      ],
      "execution_count": 66,
      "outputs": []
    },
    {
      "cell_type": "markdown",
      "metadata": {
        "id": "y26g2NIjYlGT"
      },
      "source": [
        "### Scree plot for visualization"
      ]
    },
    {
      "cell_type": "code",
      "metadata": {
        "id": "KkBp1sB9Yirk"
      },
      "source": [
        "from sklearn.decomposition import PCA\n",
        "pca = PCA().fit(df_std)"
      ],
      "execution_count": 67,
      "outputs": []
    },
    {
      "cell_type": "code",
      "metadata": {
        "id": "9nB4iaclYpXz",
        "outputId": "9cd6e264-dbe9-4c53-df4f-02657e2e985d",
        "colab": {
          "base_uri": "https://localhost:8080/",
          "height": 281
        }
      },
      "source": [
        "plt.plot(np.cumsum(pca.explained_variance_ratio_))"
      ],
      "execution_count": 68,
      "outputs": [
        {
          "output_type": "execute_result",
          "data": {
            "text/plain": [
              "[<matplotlib.lines.Line2D at 0x7fe9e0410b50>]"
            ]
          },
          "metadata": {
            "tags": []
          },
          "execution_count": 68
        },
        {
          "output_type": "display_data",
          "data": {
            "image/png": "[encoded data removed]",
            "text/plain": [
              "<Figure size 432x288 with 1 Axes>"
            ]
          },
          "metadata": {
            "tags": [],
            "needs_background": "light"
          }
        }
      ]
    },
    {
      "cell_type": "code",
      "metadata": {
        "id": "O26lyWVoYtaH",
        "outputId": "60a6b4fd-3ddf-4dec-e9ae-9dc3c9cc911b",
        "colab": {
          "base_uri": "https://localhost:8080/",
          "height": 300
        }
      },
      "source": [
        "plt.xlabel('No of components')"
      ],
      "execution_count": 69,
      "outputs": [
        {
          "output_type": "execute_result",
          "data": {
            "text/plain": [
              "Text(0.5, 0, 'No of components')"
            ]
          },
          "metadata": {
            "tags": []
          },
          "execution_count": 69
        },
        {
          "output_type": "display_data",
          "data": {
            "image/png": "[encoded data removed]",
            "text/plain": [
              "<Figure size 432x288 with 1 Axes>"
            ]
          },
          "metadata": {
            "tags": [],
            "needs_background": "light"
          }
        }
      ]
    },
    {
      "cell_type": "code",
      "metadata": {
        "id": "TBRqOs5xYyIU",
        "outputId": "6b3d6332-2bcf-40c4-fb57-917c091e8380",
        "colab": {
          "base_uri": "https://localhost:8080/",
          "height": 286
        }
      },
      "source": [
        "plt.ylabel('Cumulative explained variance')"
      ],
      "execution_count": 70,
      "outputs": [
        {
          "output_type": "execute_result",
          "data": {
            "text/plain": [
              "Text(0, 0.5, 'Cumulative explained variance')"
            ]
          },
          "metadata": {
            "tags": []
          },
          "execution_count": 70
        },
        {
          "output_type": "display_data",
          "data": {
            "image/png": "[encoded data removed]",
            "text/plain": [
              "<Figure size 432x288 with 1 Axes>"
            ]
          },
          "metadata": {
            "tags": [],
            "needs_background": "light"
          }
        }
      ]
    },
    {
      "cell_type": "code",
      "metadata": {
        "id": "ekhfEw98Y5Qt"
      },
      "source": [
        "plt.show()"
      ],
      "execution_count": 71,
      "outputs": []
    },
    {
      "cell_type": "markdown",
      "metadata": {
        "id": "qft-GY_TY-9_"
      },
      "source": [
        "##Creating 3 Principal components\n"
      ]
    },
    {
      "cell_type": "code",
      "metadata": {
        "id": "YU6Q2lqgZAX3",
        "outputId": "f542cab3-bf80-4036-9c17-62bbb1ef4dcb",
        "colab": {
          "base_uri": "https://localhost:8080/",
          "height": 196
        }
      },
      "source": [
        "from sklearn.decomposition import PCA\n",
        "pca = PCA(n_components = 3)\n",
        "pcs = pca.fit_transform(df_std)\n",
        "df_new = pd.DataFrame(data=pcs, columns={'PC1','PC2','PC3'})\n",
        "df_new['target'] = df1['brand'] \n",
        "df_new.head()"
      ],
      "execution_count": 73,
      "outputs": [
        {
          "output_type": "execute_result",
          "data": {
            "text/html": [
              "<div>\n",
              "<style scoped>\n",
              "    .dataframe tbody tr th:only-of-type {\n",
              "        vertical-align: middle;\n",
              "    }\n",
              "\n",
              "    .dataframe tbody tr th {\n",
              "        vertical-align: top;\n",
              "    }\n",
              "\n",
              "    .dataframe thead th {\n",
              "        text-align: right;\n",
              "    }\n",
              "</style>\n",
              "<table border=\"1\" class=\"dataframe\">\n",
              "  <thead>\n",
              "    <tr style=\"text-align: right;\">\n",
              "      <th></th>\n",
              "      <th>PC1</th>\n",
              "      <th>PC2</th>\n",
              "      <th>PC3</th>\n",
              "      <th>target</th>\n",
              "    </tr>\n",
              "  </thead>\n",
              "  <tbody>\n",
              "    <tr>\n",
              "      <th>0</th>\n",
              "      <td>5.029003</td>\n",
              "      <td>2.683866</td>\n",
              "      <td>-0.854997</td>\n",
              "      <td>A</td>\n",
              "    </tr>\n",
              "    <tr>\n",
              "      <th>1</th>\n",
              "      <td>5.042441</td>\n",
              "      <td>2.533955</td>\n",
              "      <td>-0.854766</td>\n",
              "      <td>A</td>\n",
              "    </tr>\n",
              "    <tr>\n",
              "      <th>2</th>\n",
              "      <td>4.824210</td>\n",
              "      <td>2.678397</td>\n",
              "      <td>-0.851929</td>\n",
              "      <td>A</td>\n",
              "    </tr>\n",
              "    <tr>\n",
              "      <th>3</th>\n",
              "      <td>4.488378</td>\n",
              "      <td>2.289807</td>\n",
              "      <td>-0.861077</td>\n",
              "      <td>A</td>\n",
              "    </tr>\n",
              "    <tr>\n",
              "      <th>4</th>\n",
              "      <td>4.490815</td>\n",
              "      <td>2.163979</td>\n",
              "      <td>-0.882000</td>\n",
              "      <td>A</td>\n",
              "    </tr>\n",
              "  </tbody>\n",
              "</table>\n",
              "</div>"
            ],
            "text/plain": [
              "        PC1       PC2       PC3 target\n",
              "0  5.029003  2.683866 -0.854997      A\n",
              "1  5.042441  2.533955 -0.854766      A\n",
              "2  4.824210  2.678397 -0.851929      A\n",
              "3  4.488378  2.289807 -0.861077      A\n",
              "4  4.490815  2.163979 -0.882000      A"
            ]
          },
          "metadata": {
            "tags": []
          },
          "execution_count": 73
        }
      ]
    },
    {
      "cell_type": "markdown",
      "metadata": {
        "id": "YlOnWE-EZg-B"
      },
      "source": [
        ""
      ]
    },
    {
      "cell_type": "code",
      "metadata": {
        "id": "c2-x3cXHZo_E",
        "outputId": "0adbb230-4747-4bdf-94c0-8cdf89b09816",
        "colab": {
          "base_uri": "https://localhost:8080/"
        }
      },
      "source": [
        "data_matrix = np.array(df.iloc[:,:-1])\n",
        "data_matrix"
      ],
      "execution_count": 74,
      "outputs": [
        {
          "output_type": "execute_result",
          "data": {
            "text/plain": [
              "array([[1.4069e+04, 2.7820e+01, 2.1430e+01, ..., 5.1100e+00, 1.7700e+00,\n",
              "        7.7000e-01],\n",
              "       [1.4053e+04, 2.8490e+01, 2.1260e+01, ..., 5.3400e+00, 1.7900e+00,\n",
              "        1.0200e+00],\n",
              "       [1.4025e+04, 2.8350e+01, 1.9990e+01, ..., 5.0800e+00, 1.6300e+00,\n",
              "        8.0000e-01],\n",
              "       ...,\n",
              "       [3.4039e+04, 4.4550e+01, 1.1010e+01, ..., 2.4300e+00, 6.4000e-01,\n",
              "        2.5980e+01],\n",
              "       [1.4044e+04, 4.7600e+01, 1.0430e+01, ..., 2.3200e+00, 5.6000e-01,\n",
              "        2.4470e+01],\n",
              "       [1.4045e+04, 4.6840e+01, 9.9100e+00, ..., 2.2700e+00, 5.7000e-01,\n",
              "        2.5480e+01]])"
            ]
          },
          "metadata": {
            "tags": []
          },
          "execution_count": 74
        }
      ]
    },
    {
      "cell_type": "code",
      "metadata": {
        "id": "N9oPG4pEa2rB"
      },
      "source": [
        "corr = np.corrcoef(df.to_numpy().T)"
      ],
      "execution_count": 82,
      "outputs": []
    },
    {
      "cell_type": "code",
      "metadata": {
        "id": "MzJLuBqMa9d5",
        "outputId": "e6197dd2-3fec-4e34-a1e0-ee18e6121cd1",
        "colab": {
          "base_uri": "https://localhost:8080/"
        }
      },
      "source": [
        "corr.shape"
      ],
      "execution_count": 85,
      "outputs": [
        {
          "output_type": "execute_result",
          "data": {
            "text/plain": [
              "(8, 8)"
            ]
          },
          "metadata": {
            "tags": []
          },
          "execution_count": 85
        }
      ]
    },
    {
      "cell_type": "code",
      "metadata": {
        "id": "QgckC7Z0bA2C",
        "outputId": "18926128-bb21-417d-a0db-f23caf005163",
        "colab": {
          "base_uri": "https://localhost:8080/"
        }
      },
      "source": [
        "corr"
      ],
      "execution_count": 86,
      "outputs": [
        {
          "output_type": "execute_result",
          "data": {
            "text/plain": [
              "array([[ 1.        ,  0.03259505, -0.07648546, -0.00486006, -0.03407156,\n",
              "        -0.01515608,  0.01496614, -0.02120862],\n",
              "       [ 0.03259505,  1.        ,  0.36024768, -0.17131821,  0.26555552,\n",
              "        -0.1022789 , -0.59180165, -0.76444054],\n",
              "       [-0.07648546,  0.36024768,  1.        ,  0.49800167,  0.8238437 ,\n",
              "         0.42912952, -0.85354226,  0.0702581 ],\n",
              "       [-0.00486006, -0.17131821,  0.49800167,  1.        ,  0.79163396,\n",
              "         0.93332522, -0.64023817,  0.7645671 ],\n",
              "       [-0.03407156,  0.26555552,  0.8238437 ,  0.79163396,  1.        ,\n",
              "         0.80812215, -0.89898837,  0.32646845],\n",
              "       [-0.01515608, -0.1022789 ,  0.42912952,  0.93332522,  0.80812215,\n",
              "         1.        , -0.62017634,  0.6719575 ],\n",
              "       [ 0.01496614, -0.59180165, -0.85354226, -0.64023817, -0.89898837,\n",
              "        -0.62017634,  1.        , -0.02348458],\n",
              "       [-0.02120862, -0.76444054,  0.0702581 ,  0.7645671 ,  0.32646845,\n",
              "         0.6719575 , -0.02348458,  1.        ]])"
            ]
          },
          "metadata": {
            "tags": []
          },
          "execution_count": 86
        }
      ]
    },
    {
      "cell_type": "code",
      "metadata": {
        "id": "9xE0wdrzawSR"
      },
      "source": [
        "for i in range(corr.shape[0]):\n",
        "    for j in range(corr.shape[1]):\n",
        "        if (i !=j) and (corr[i,j] == 1.):\n",
        "            print(f'column = {i} <=> column = {j} corrcoef = {corr[i,j]}')"
      ],
      "execution_count": 87,
      "outputs": []
    },
    {
      "cell_type": "code",
      "metadata": {
        "id": "iQ1eLYArbPgW",
        "outputId": "04d4dda8-d3ad-4047-b571-5e3d607d85e9",
        "colab": {
          "base_uri": "https://localhost:8080/",
          "height": 180
        }
      },
      "source": [
        "df.iloc[:5,10:30]"
      ],
      "execution_count": 89,
      "outputs": [
        {
          "output_type": "execute_result",
          "data": {
            "text/html": [
              "<div>\n",
              "<style scoped>\n",
              "    .dataframe tbody tr th:only-of-type {\n",
              "        vertical-align: middle;\n",
              "    }\n",
              "\n",
              "    .dataframe tbody tr th {\n",
              "        vertical-align: top;\n",
              "    }\n",
              "\n",
              "    .dataframe thead th {\n",
              "        text-align: right;\n",
              "    }\n",
              "</style>\n",
              "<table border=\"1\" class=\"dataframe\">\n",
              "  <thead>\n",
              "    <tr style=\"text-align: right;\">\n",
              "      <th></th>\n",
              "    </tr>\n",
              "  </thead>\n",
              "  <tbody>\n",
              "    <tr>\n",
              "      <th>0</th>\n",
              "    </tr>\n",
              "    <tr>\n",
              "      <th>1</th>\n",
              "    </tr>\n",
              "    <tr>\n",
              "      <th>2</th>\n",
              "    </tr>\n",
              "    <tr>\n",
              "      <th>3</th>\n",
              "    </tr>\n",
              "    <tr>\n",
              "      <th>4</th>\n",
              "    </tr>\n",
              "  </tbody>\n",
              "</table>\n",
              "</div>"
            ],
            "text/plain": [
              "Empty DataFrame\n",
              "Columns: []\n",
              "Index: [0, 1, 2, 3, 4]"
            ]
          },
          "metadata": {
            "tags": []
          },
          "execution_count": 89
        }
      ]
    }
  ]
}