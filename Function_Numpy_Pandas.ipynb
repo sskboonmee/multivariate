{
  "nbformat": 4,
  "nbformat_minor": 0,
  "metadata": {
    "colab": {
      "name": "Function_Numpy_Pandas.ipynb",
      "provenance": [],
      "authorship_tag": "ABX9TyPCtAplcFUPC41uH7RvMbOn",
      "include_colab_link": true
    },
    "kernelspec": {
      "name": "python3",
      "display_name": "Python 3"
    }
  },
  "cells": [
    {
      "cell_type": "markdown",
      "metadata": {
        "id": "view-in-github",
        "colab_type": "text"
      },
      "source": [
        "<a href=\"https://colab.research.google.com/github/sskboonmee/multivariate/blob/main/Function_Numpy_Pandas.ipynb\" target=\"_parent\"><img src=\"https://colab.research.google.com/assets/colab-badge.svg\" alt=\"Open In Colab\"/></a>"
      ]
    },
    {
      "cell_type": "markdown",
      "metadata": {
        "id": "9CzOepGMSU0a"
      },
      "source": [
        "#function\r\n",
        "หน้าที่คือรับ input และทำตามกระบวนการละก็ได้ Output ออกมา\r\n"
      ]
    },
    {
      "cell_type": "code",
      "metadata": {
        "id": "1Nn9tL2XS8D9"
      },
      "source": [
        "def function_name(_Input_) :\r\n",
        "   do_something with _Input_ to produce _Output_\r\n",
        "   return _Output_ "
      ],
      "execution_count": null,
      "outputs": []
    },
    {
      "cell_type": "markdown",
      "metadata": {
        "id": "ahKZ1bMfUjNT"
      },
      "source": [
        "function ของ python มีส่วนสำคัญทั้งหมด 4 ส่วน \r\n",
        "1.บอก python ว่าเราจะเขียนฟังก์ชันอะไร def function_name(): ซึ่งขาดไม่ได้เป็นส่วนสำคัญ\r\n",
        "2.กำหนดตัวแปรที่จะเป็น Input \r\n",
        "3.ส่วนประมวลผล do_something with input to get Output \r\n",
        "4.ส่วน output return Output "
      ]
    },
    {
      "cell_type": "markdown",
      "metadata": {
        "id": "0Kl8tGgsXSBE"
      },
      "source": [
        "ใช้เว้นวรรคบอกขอบเขตของฟังก์ชัน"
      ]
    },
    {
      "cell_type": "markdown",
      "metadata": {
        "id": "x1xkDnu8WNLt"
      },
      "source": [
        "####สร้างฟังก์ชัน"
      ]
    },
    {
      "cell_type": "code",
      "metadata": {
        "colab": {
          "base_uri": "https://localhost:8080/"
        },
        "id": "JAFWwcRzUlr0",
        "outputId": "44566b28-1872-403b-ec74-c97b5035df48"
      },
      "source": [
        "def print_name(name,surname,ID):\r\n",
        "    st = f'ชื่อ {name} นามสกุล {surname} ID {ID}'\r\n",
        "    return st\r\n",
        "print('Outside  function')  #อันนี้คืออกจากฟังก์ชันเพราะมันไม่ได้อยู่ในฟังก์ชันขอบเขตก็คือที่วรรคเข้าไป"
      ],
      "execution_count": 4,
      "outputs": [
        {
          "output_type": "stream",
          "text": [
            "Outside  function\n"
          ],
          "name": "stdout"
        }
      ]
    },
    {
      "cell_type": "markdown",
      "metadata": {
        "id": "MYXBiJQPWR2T"
      },
      "source": [
        "####เรียกใช้ฟังก์ชัน"
      ]
    },
    {
      "cell_type": "code",
      "metadata": {
        "colab": {
          "base_uri": "https://localhost:8080/"
        },
        "id": "eXN-YQWqVP66",
        "outputId": "a2e72e8b-2ada-46c0-e712-a1f5b8a3c64d"
      },
      "source": [
        "output_string = print_name('ศศิกานต์' , 'บุญมี' , '623020539-9' )\r\n",
        "print (output_string)"
      ],
      "execution_count": 5,
      "outputs": [
        {
          "output_type": "stream",
          "text": [
            "ชื่อ ศศิกานต์ นามสกุล บุญมี ID 623020539-9\n"
          ],
          "name": "stdout"
        }
      ]
    },
    {
      "cell_type": "markdown",
      "metadata": {
        "id": "PSZWsTbvSdWp"
      },
      "source": [
        "####ฟังก์ชันไม่จำเป็นต้องมี Output"
      ]
    },
    {
      "cell_type": "code",
      "metadata": {
        "id": "Lk3bXi36XfKc"
      },
      "source": [
        "def print_name2(surname,ID,name):\r\n",
        "    st = f'ชื่อ {name} นามสกุล {surname} รหัส {ID}'\r\n",
        "    print(st)"
      ],
      "execution_count": 6,
      "outputs": []
    },
    {
      "cell_type": "code",
      "metadata": {
        "colab": {
          "base_uri": "https://localhost:8080/"
        },
        "id": "fPAX-nm_X-F7",
        "outputId": "384ef539-d76e-4255-8d27-d7bef2059342"
      },
      "source": [
        "print_name2('ศศิกานต์' , 'บุญมี' , '623020539-9')"
      ],
      "execution_count": 13,
      "outputs": [
        {
          "output_type": "stream",
          "text": [
            "ชื่อ 623020539-9 นามสกุล ศศิกานต์ รหัส บุญมี\n"
          ],
          "name": "stdout"
        }
      ]
    },
    {
      "cell_type": "code",
      "metadata": {
        "colab": {
          "base_uri": "https://localhost:8080/"
        },
        "id": "w6jksQBFYHyD",
        "outputId": "69c80c48-6d38-40fd-98ce-100d29ff45c6"
      },
      "source": [
        "op2 = print_name2(' ศศิกานต์' , 'บุญมี' , '623020539-9' )"
      ],
      "execution_count": 14,
      "outputs": [
        {
          "output_type": "stream",
          "text": [
            "ชื่อ 623020539-9 นามสกุล  ศศิกานต์ รหัส บุญมี\n"
          ],
          "name": "stdout"
        }
      ]
    },
    {
      "cell_type": "code",
      "metadata": {
        "colab": {
          "base_uri": "https://localhost:8080/"
        },
        "id": "0n394SZfYbOi",
        "outputId": "d5236efd-3efc-4d12-c9fc-ef53b91b42da"
      },
      "source": [
        "print(op2)"
      ],
      "execution_count": 15,
      "outputs": [
        {
          "output_type": "stream",
          "text": [
            "None\n"
          ],
          "name": "stdout"
        }
      ]
    },
    {
      "cell_type": "markdown",
      "metadata": {
        "id": "7qaIQSL4Y_HL"
      },
      "source": [
        "####ฟังก์ชันไม่จำเป็นต้องมี Input"
      ]
    },
    {
      "cell_type": "code",
      "metadata": {
        "id": "x6ekYg8XZGQ7"
      },
      "source": [
        "def Pi():   #อันนี้แค่แบบreturnค่าที่เราต้องการเฉยๆ\r\n",
        "    return 3.14159265359"
      ],
      "execution_count": 17,
      "outputs": []
    },
    {
      "cell_type": "code",
      "metadata": {
        "colab": {
          "base_uri": "https://localhost:8080/"
        },
        "id": "5mJ_wMYqZVrD",
        "outputId": "86315691-35aa-4f5f-be4a-866862e6df47"
      },
      "source": [
        "#คำนวณพื้นที่วงกลมที่มีขนาดเส้นผ่าศูนย์กลางเท่ากับ 3 \r\n",
        "Pi()*(1.5**2)"
      ],
      "execution_count": 18,
      "outputs": [
        {
          "output_type": "execute_result",
          "data": {
            "text/plain": [
              "7.0685834705775"
            ]
          },
          "metadata": {
            "tags": []
          },
          "execution_count": 18
        }
      ]
    },
    {
      "cell_type": "code",
      "metadata": {
        "id": "VHKencgbZmpD"
      },
      "source": [
        "def print_my_name():\r\n",
        "    print('ศศิกานต์  บุญมี  ID6230205399')"
      ],
      "execution_count": 19,
      "outputs": []
    },
    {
      "cell_type": "code",
      "metadata": {
        "colab": {
          "base_uri": "https://localhost:8080/"
        },
        "id": "dX3b95yYZ6JS",
        "outputId": "2dfa90a9-f996-47a4-fdb4-80fdc762a237"
      },
      "source": [
        "print_my_name()"
      ],
      "execution_count": 20,
      "outputs": [
        {
          "output_type": "stream",
          "text": [
            "ศศิกานต์  บุญมี  ID6230205399\n"
          ],
          "name": "stdout"
        }
      ]
    },
    {
      "cell_type": "markdown",
      "metadata": {
        "id": "1Jj7wdlzaD39"
      },
      "source": [
        "### 1.input ของ Function ใน Python มี 2 แบบ  คือแบบที่จำเป็นต้องใส่กับไม่จำเป็นต้องใส่ \r\n",
        "(มีค่า Default) เราต้องเรียง input ที่จำเป็นต้องใส่ขึ้นก่อน"
      ]
    },
    {
      "cell_type": "markdown",
      "metadata": {
        "id": "fWmhlGQzciNU"
      },
      "source": [
        "####2.เราต้องเรียง Input ที่จำเป็นขึ้นก่อน"
      ]
    },
    {
      "cell_type": "code",
      "metadata": {
        "id": "Nx-f1gKXatm-"
      },
      "source": [
        "def print_2lines_default(name, surname, ID, grade='F'):\r\n",
        "    st = f'ชื่อ {name} นามสกุล {surname} รหัส {ID}'\r\n",
        "    print(st)\r\n",
        "    st2=f'เกรดวิชา Multivariate >>> {grade}'\r\n",
        "    print(st2)"
      ],
      "execution_count": 21,
      "outputs": []
    },
    {
      "cell_type": "code",
      "metadata": {
        "colab": {
          "base_uri": "https://localhost:8080/"
        },
        "id": "Mcq_0-54bmFN",
        "outputId": "f519fa05-bafe-4d47-a4ff-68f82aea1451"
      },
      "source": [
        "print_2lines_default('ศศิกานต์' , 'บุญมี' , '623020539-9')"
      ],
      "execution_count": 23,
      "outputs": [
        {
          "output_type": "stream",
          "text": [
            "ชื่อ ศศิกานต์ นามสกุล บุญมี รหัส 623020539-9\n",
            "เกรดวิชา Multivariate >>> F\n"
          ],
          "name": "stdout"
        }
      ]
    },
    {
      "cell_type": "code",
      "metadata": {
        "colab": {
          "base_uri": "https://localhost:8080/"
        },
        "id": "xRJVf3kmb6-U",
        "outputId": "8a76057b-4519-4dbb-d8b2-b449fd939097"
      },
      "source": [
        "print_2lines_default('ศศิกานต์' , 'บุญมี' , '623020539-9' ,'A')"
      ],
      "execution_count": 24,
      "outputs": [
        {
          "output_type": "stream",
          "text": [
            "ชื่อ ศศิกานต์ นามสกุล บุญมี รหัส 623020539-9\n",
            "เกรดวิชา Multivariate >>> A\n"
          ],
          "name": "stdout"
        }
      ]
    },
    {
      "cell_type": "markdown",
      "metadata": {
        "id": "SqLJufL8cKYF"
      },
      "source": [
        "####เราสามารถเรียกฟังก์ชันโดยใช้ชื่อตัวแปรของฟังก์ชันช่วยได้"
      ]
    },
    {
      "cell_type": "code",
      "metadata": {
        "colab": {
          "base_uri": "https://localhost:8080/"
        },
        "id": "UCX7wibjcSOM",
        "outputId": "a3530f48-2dc5-41e4-9085-71c2d1a08fb0"
      },
      "source": [
        "print_name2(name='ศศิกานต์' , surname='บุญมี' , ID='623020539-9')"
      ],
      "execution_count": 25,
      "outputs": [
        {
          "output_type": "stream",
          "text": [
            "ชื่อ ศศิกานต์ นามสกุล บุญมี รหัส 623020539-9\n"
          ],
          "name": "stdout"
        }
      ]
    },
    {
      "cell_type": "markdown",
      "metadata": {
        "id": "e3c_wAMIc8Kb"
      },
      "source": [
        "###HW ให้เขียน function คำนวณจำนวนนาทีจาก เวลา ต่อไปนี้\r\n",
        "\r\n",
        "'14-15-31'\r\n",
        "\r\n",
        "'13-00-01'\r\n",
        "\r\n",
        "'05-49-44'\r\n",
        "\r\n",
        "'00-00-16'\r\n",
        "\r\n",
        "และ print ให้สวยงาม"
      ]
    }
  ]
}