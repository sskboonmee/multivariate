{
  "nbformat": 4,
  "nbformat_minor": 0,
  "metadata": {
    "colab": {
      "name": "สำเนาของ Multivariate Exam.ipynb",
      "provenance": [],
      "include_colab_link": true
    },
    "kernelspec": {
      "name": "python3",
      "display_name": "Python 3"
    },
    "language_info": {
      "name": "python"
    }
  },
  "cells": [
    {
      "cell_type": "markdown",
      "metadata": {
        "id": "view-in-github",
        "colab_type": "text"
      },
      "source": [
        "<a href=\"https://colab.research.google.com/github/sskboonmee/multivariate/blob/main/Multivariate_Exam.ipynb\" target=\"_parent\"><img src=\"https://colab.research.google.com/assets/colab-badge.svg\" alt=\"Open In Colab\"/></a>"
      ]
    },
    {
      "cell_type": "markdown",
      "metadata": {
        "id": "JZxiNADfaDtv"
      },
      "source": [
        "ให้นักศึกษาทำข้อสอบใน Colab Notebook นี้โดยกรอกข้อมูลของตัวเองใน cell ที่ 2 แล้วรัน cell ที่ 1 - 5 และเริ่มทำข้อสอบใน cell ที่ 6 เป็นต้นไป\n",
        "\n",
        "โดยโจทย์คือ\n",
        "1. ข้อมูลโจทย์ อยู่ใน ตัวแปร ```Data```\n",
        "2. ทำ clustering แล้วทำ visualize ข้อมูลแบบ 2 มิติ\n",
        "3. ลด Dimension ของข้อมูลเหลือ 2 มิติ แล้วทำ clustering แล้ว visualize ข้อมูลแบบ 2 มิติ\n",
        "4. เปรียบเทียบความแตกต่างของผลข้อ 2. กับ ข้อ 3.\n",
        "5. เขียน comments อธิบายทุกขั้นตอน\n",
        "6. อัด video อธิบาย code ทุกๆขั้นตอนรวมถึงผลแล้วอัพลง youtube ในรูปแบบ unlist \n",
        "7. commit โดยใช้ชื่อ commit เป็น link youtube ที่อธิบาย code ในข้อ 6.\n",
        "\n",
        "กำหนดส่งวันที่ 2 พฤษภาคม 2564 (โดยให้มากรอกวันที่ commit ครั้งสุดท้ายใน sheet: https://docs.google.com/spreadsheets/d/1_qJwLDJVtOW1HxBcf_FHVc6UT4J_SOonuR6o3EEnVzw/edit?usp=sharing ช่อง Final)"
      ]
    },
    {
      "cell_type": "code",
      "metadata": {
        "id": "cWl2x1bPGtQl"
      },
      "source": [
        "from sklearn.datasets import make_blobs\n",
        "import random,math\n",
        "import numpy as np\n",
        "import pandas"
      ],
      "execution_count": 1,
      "outputs": []
    },
    {
      "cell_type": "code",
      "metadata": {
        "id": "gZfzuiHsZksh"
      },
      "source": [
        "Name = 'ศศิกานต์ บุญมี'\n",
        "ID = '6230205399'"
      ],
      "execution_count": 2,
      "outputs": []
    },
    {
      "cell_type": "code",
      "metadata": {
        "id": "8hFQXkF5aAiA"
      },
      "source": [
        "def DataGenerator(name,id):\n",
        "    random.seed(int(id[3:6]))\n",
        "    numfeat = random.randint(20,30)\n",
        "    ct = random.randint(len(name)-6,len(name))\n",
        "    \n",
        "    X, y = make_blobs(n_samples=10000, centers=ct, n_features=numfeat , random_state=int(id[3:6]))\n",
        "\n",
        "    print(f'{id[3:6]}:{numfeat}:{ct}')\n",
        "    X_t = (X[:,1]*2)+int(id[3])\n",
        "    X_t2 = (X[:,-1]*5)+int(id[4])\n",
        "\n",
        "    DT = np.append(X,X_t.reshape([10000,1]),axis=1)\n",
        "    DT = np.append(DT,X_t2.reshape([10000,1]),axis=1)\n",
        "    \n",
        "    return pandas.DataFrame(DT)"
      ],
      "execution_count": 3,
      "outputs": []
    },
    {
      "cell_type": "code",
      "metadata": {
        "colab": {
          "base_uri": "https://localhost:8080/"
        },
        "id": "hbXlxumSBX9i",
        "outputId": "8bbe79ac-fe81-439a-cae8-fc964717521d"
      },
      "source": [
        "Data = DataGenerator(Name,ID)"
      ],
      "execution_count": 4,
      "outputs": [
        {
          "output_type": "stream",
          "text": [
            "020:30:14\n"
          ],
          "name": "stdout"
        }
      ]
    },
    {
      "cell_type": "code",
      "metadata": {
        "colab": {
          "base_uri": "https://localhost:8080/",
          "height": 428
        },
        "id": "pQcCySXvBdN-",
        "outputId": "d73135d8-4c5b-43f1-98bc-fdde70a4ea01"
      },
      "source": [
        "Data"
      ],
      "execution_count": 5,
      "outputs": [
        {
          "output_type": "execute_result",
          "data": {
            "text/html": [
              "<div>\n",
              "<style scoped>\n",
              "    .dataframe tbody tr th:only-of-type {\n",
              "        vertical-align: middle;\n",
              "    }\n",
              "\n",
              "    .dataframe tbody tr th {\n",
              "        vertical-align: top;\n",
              "    }\n",
              "\n",
              "    .dataframe thead th {\n",
              "        text-align: right;\n",
              "    }\n",
              "</style>\n",
              "<table border=\"1\" class=\"dataframe\">\n",
              "  <thead>\n",
              "    <tr style=\"text-align: right;\">\n",
              "      <th></th>\n",
              "      <th>0</th>\n",
              "      <th>1</th>\n",
              "      <th>2</th>\n",
              "      <th>3</th>\n",
              "      <th>4</th>\n",
              "      <th>5</th>\n",
              "      <th>6</th>\n",
              "      <th>7</th>\n",
              "      <th>8</th>\n",
              "      <th>9</th>\n",
              "      <th>10</th>\n",
              "      <th>11</th>\n",
              "      <th>12</th>\n",
              "      <th>13</th>\n",
              "      <th>14</th>\n",
              "      <th>15</th>\n",
              "      <th>16</th>\n",
              "      <th>17</th>\n",
              "      <th>18</th>\n",
              "      <th>19</th>\n",
              "      <th>20</th>\n",
              "      <th>21</th>\n",
              "      <th>22</th>\n",
              "      <th>23</th>\n",
              "      <th>24</th>\n",
              "      <th>25</th>\n",
              "      <th>26</th>\n",
              "      <th>27</th>\n",
              "      <th>28</th>\n",
              "      <th>29</th>\n",
              "      <th>30</th>\n",
              "      <th>31</th>\n",
              "    </tr>\n",
              "  </thead>\n",
              "  <tbody>\n",
              "    <tr>\n",
              "      <th>0</th>\n",
              "      <td>5.779841</td>\n",
              "      <td>9.590162</td>\n",
              "      <td>7.580040</td>\n",
              "      <td>-4.278572</td>\n",
              "      <td>-6.772580</td>\n",
              "      <td>-3.337118</td>\n",
              "      <td>9.763874</td>\n",
              "      <td>2.163429</td>\n",
              "      <td>8.836751</td>\n",
              "      <td>-9.402668</td>\n",
              "      <td>6.069058</td>\n",
              "      <td>-9.942346</td>\n",
              "      <td>-9.473521</td>\n",
              "      <td>-8.133425</td>\n",
              "      <td>-3.969872</td>\n",
              "      <td>-0.409420</td>\n",
              "      <td>7.109384</td>\n",
              "      <td>7.607849</td>\n",
              "      <td>1.669154</td>\n",
              "      <td>7.170246</td>\n",
              "      <td>-8.165292</td>\n",
              "      <td>4.877405</td>\n",
              "      <td>-7.617871</td>\n",
              "      <td>-6.756496</td>\n",
              "      <td>8.850628</td>\n",
              "      <td>-5.386895</td>\n",
              "      <td>7.550170</td>\n",
              "      <td>1.864166</td>\n",
              "      <td>4.126644</td>\n",
              "      <td>2.942146</td>\n",
              "      <td>19.180325</td>\n",
              "      <td>16.710729</td>\n",
              "    </tr>\n",
              "    <tr>\n",
              "      <th>1</th>\n",
              "      <td>-1.969309</td>\n",
              "      <td>-5.779929</td>\n",
              "      <td>-0.479035</td>\n",
              "      <td>7.120809</td>\n",
              "      <td>-6.967939</td>\n",
              "      <td>-2.562261</td>\n",
              "      <td>-1.431636</td>\n",
              "      <td>-2.876955</td>\n",
              "      <td>-8.809777</td>\n",
              "      <td>-7.156166</td>\n",
              "      <td>9.225777</td>\n",
              "      <td>-5.276836</td>\n",
              "      <td>-10.170002</td>\n",
              "      <td>-0.050986</td>\n",
              "      <td>2.987005</td>\n",
              "      <td>-1.758751</td>\n",
              "      <td>9.133687</td>\n",
              "      <td>-4.224050</td>\n",
              "      <td>6.810339</td>\n",
              "      <td>0.860089</td>\n",
              "      <td>4.585015</td>\n",
              "      <td>2.999504</td>\n",
              "      <td>-7.098761</td>\n",
              "      <td>-8.103267</td>\n",
              "      <td>8.184693</td>\n",
              "      <td>9.626054</td>\n",
              "      <td>3.503491</td>\n",
              "      <td>-0.090879</td>\n",
              "      <td>-0.446152</td>\n",
              "      <td>7.465699</td>\n",
              "      <td>-11.559858</td>\n",
              "      <td>39.328496</td>\n",
              "    </tr>\n",
              "    <tr>\n",
              "      <th>2</th>\n",
              "      <td>3.599102</td>\n",
              "      <td>3.524340</td>\n",
              "      <td>-6.054480</td>\n",
              "      <td>-9.089953</td>\n",
              "      <td>5.181669</td>\n",
              "      <td>-0.834194</td>\n",
              "      <td>-3.931799</td>\n",
              "      <td>-0.137943</td>\n",
              "      <td>-4.589369</td>\n",
              "      <td>-2.365034</td>\n",
              "      <td>3.685007</td>\n",
              "      <td>0.919187</td>\n",
              "      <td>-3.120397</td>\n",
              "      <td>-2.182186</td>\n",
              "      <td>-4.271154</td>\n",
              "      <td>2.253673</td>\n",
              "      <td>-6.701235</td>\n",
              "      <td>3.455984</td>\n",
              "      <td>7.511894</td>\n",
              "      <td>-4.712591</td>\n",
              "      <td>5.952467</td>\n",
              "      <td>-0.483959</td>\n",
              "      <td>3.421101</td>\n",
              "      <td>5.602329</td>\n",
              "      <td>7.429803</td>\n",
              "      <td>0.191208</td>\n",
              "      <td>2.966675</td>\n",
              "      <td>2.952572</td>\n",
              "      <td>-2.706058</td>\n",
              "      <td>2.749403</td>\n",
              "      <td>7.048680</td>\n",
              "      <td>15.747013</td>\n",
              "    </tr>\n",
              "    <tr>\n",
              "      <th>3</th>\n",
              "      <td>2.610732</td>\n",
              "      <td>2.268904</td>\n",
              "      <td>-4.365511</td>\n",
              "      <td>-8.991586</td>\n",
              "      <td>6.929414</td>\n",
              "      <td>0.396067</td>\n",
              "      <td>-3.116764</td>\n",
              "      <td>0.122945</td>\n",
              "      <td>-4.237205</td>\n",
              "      <td>-4.860459</td>\n",
              "      <td>1.596553</td>\n",
              "      <td>1.567507</td>\n",
              "      <td>-2.599508</td>\n",
              "      <td>-1.812618</td>\n",
              "      <td>-5.665761</td>\n",
              "      <td>4.284519</td>\n",
              "      <td>-6.163315</td>\n",
              "      <td>2.150961</td>\n",
              "      <td>6.780581</td>\n",
              "      <td>-7.338840</td>\n",
              "      <td>4.205672</td>\n",
              "      <td>-1.683074</td>\n",
              "      <td>4.436318</td>\n",
              "      <td>7.012761</td>\n",
              "      <td>4.945608</td>\n",
              "      <td>2.722019</td>\n",
              "      <td>1.213484</td>\n",
              "      <td>2.704299</td>\n",
              "      <td>-0.405857</td>\n",
              "      <td>0.589666</td>\n",
              "      <td>4.537807</td>\n",
              "      <td>4.948332</td>\n",
              "    </tr>\n",
              "    <tr>\n",
              "      <th>4</th>\n",
              "      <td>1.229763</td>\n",
              "      <td>6.218683</td>\n",
              "      <td>6.069170</td>\n",
              "      <td>7.837148</td>\n",
              "      <td>-7.564717</td>\n",
              "      <td>9.068409</td>\n",
              "      <td>8.398188</td>\n",
              "      <td>-6.073507</td>\n",
              "      <td>5.877496</td>\n",
              "      <td>-2.328447</td>\n",
              "      <td>-1.386795</td>\n",
              "      <td>2.800630</td>\n",
              "      <td>8.479073</td>\n",
              "      <td>6.045114</td>\n",
              "      <td>9.387522</td>\n",
              "      <td>3.651719</td>\n",
              "      <td>-8.845904</td>\n",
              "      <td>8.773557</td>\n",
              "      <td>-4.049647</td>\n",
              "      <td>4.501112</td>\n",
              "      <td>7.998507</td>\n",
              "      <td>-0.474366</td>\n",
              "      <td>6.817369</td>\n",
              "      <td>8.979003</td>\n",
              "      <td>11.270047</td>\n",
              "      <td>-5.587750</td>\n",
              "      <td>-4.801151</td>\n",
              "      <td>-4.927810</td>\n",
              "      <td>-0.572961</td>\n",
              "      <td>7.252844</td>\n",
              "      <td>12.437365</td>\n",
              "      <td>38.264218</td>\n",
              "    </tr>\n",
              "    <tr>\n",
              "      <th>...</th>\n",
              "      <td>...</td>\n",
              "      <td>...</td>\n",
              "      <td>...</td>\n",
              "      <td>...</td>\n",
              "      <td>...</td>\n",
              "      <td>...</td>\n",
              "      <td>...</td>\n",
              "      <td>...</td>\n",
              "      <td>...</td>\n",
              "      <td>...</td>\n",
              "      <td>...</td>\n",
              "      <td>...</td>\n",
              "      <td>...</td>\n",
              "      <td>...</td>\n",
              "      <td>...</td>\n",
              "      <td>...</td>\n",
              "      <td>...</td>\n",
              "      <td>...</td>\n",
              "      <td>...</td>\n",
              "      <td>...</td>\n",
              "      <td>...</td>\n",
              "      <td>...</td>\n",
              "      <td>...</td>\n",
              "      <td>...</td>\n",
              "      <td>...</td>\n",
              "      <td>...</td>\n",
              "      <td>...</td>\n",
              "      <td>...</td>\n",
              "      <td>...</td>\n",
              "      <td>...</td>\n",
              "      <td>...</td>\n",
              "      <td>...</td>\n",
              "    </tr>\n",
              "    <tr>\n",
              "      <th>9995</th>\n",
              "      <td>4.115431</td>\n",
              "      <td>7.000837</td>\n",
              "      <td>-9.653089</td>\n",
              "      <td>-7.160725</td>\n",
              "      <td>9.323379</td>\n",
              "      <td>0.008322</td>\n",
              "      <td>8.853850</td>\n",
              "      <td>2.496611</td>\n",
              "      <td>3.815244</td>\n",
              "      <td>0.382697</td>\n",
              "      <td>6.690362</td>\n",
              "      <td>-3.427856</td>\n",
              "      <td>-4.262191</td>\n",
              "      <td>-1.233465</td>\n",
              "      <td>-2.097576</td>\n",
              "      <td>6.860297</td>\n",
              "      <td>-3.083898</td>\n",
              "      <td>-1.410190</td>\n",
              "      <td>-0.426802</td>\n",
              "      <td>-2.115237</td>\n",
              "      <td>2.321582</td>\n",
              "      <td>-6.152592</td>\n",
              "      <td>4.205598</td>\n",
              "      <td>-4.351731</td>\n",
              "      <td>9.674877</td>\n",
              "      <td>-8.252335</td>\n",
              "      <td>6.537963</td>\n",
              "      <td>-1.520673</td>\n",
              "      <td>-7.923699</td>\n",
              "      <td>3.938198</td>\n",
              "      <td>14.001675</td>\n",
              "      <td>21.690991</td>\n",
              "    </tr>\n",
              "    <tr>\n",
              "      <th>9996</th>\n",
              "      <td>8.642016</td>\n",
              "      <td>-10.310443</td>\n",
              "      <td>-4.164195</td>\n",
              "      <td>-0.103425</td>\n",
              "      <td>5.280763</td>\n",
              "      <td>10.100324</td>\n",
              "      <td>10.376776</td>\n",
              "      <td>2.035528</td>\n",
              "      <td>-2.865085</td>\n",
              "      <td>-3.634668</td>\n",
              "      <td>3.175611</td>\n",
              "      <td>3.091032</td>\n",
              "      <td>4.854759</td>\n",
              "      <td>-3.718518</td>\n",
              "      <td>9.154610</td>\n",
              "      <td>7.477065</td>\n",
              "      <td>-5.644479</td>\n",
              "      <td>3.183633</td>\n",
              "      <td>7.624630</td>\n",
              "      <td>-10.160440</td>\n",
              "      <td>-6.843769</td>\n",
              "      <td>9.264963</td>\n",
              "      <td>6.128426</td>\n",
              "      <td>4.705592</td>\n",
              "      <td>9.834965</td>\n",
              "      <td>-6.510483</td>\n",
              "      <td>-8.046730</td>\n",
              "      <td>5.285699</td>\n",
              "      <td>-0.492100</td>\n",
              "      <td>4.496800</td>\n",
              "      <td>-20.620886</td>\n",
              "      <td>24.484000</td>\n",
              "    </tr>\n",
              "    <tr>\n",
              "      <th>9997</th>\n",
              "      <td>2.576362</td>\n",
              "      <td>-2.282850</td>\n",
              "      <td>-1.977706</td>\n",
              "      <td>7.939707</td>\n",
              "      <td>1.760702</td>\n",
              "      <td>-6.222240</td>\n",
              "      <td>3.906714</td>\n",
              "      <td>-4.212861</td>\n",
              "      <td>7.771867</td>\n",
              "      <td>-2.179046</td>\n",
              "      <td>-7.370692</td>\n",
              "      <td>1.098961</td>\n",
              "      <td>-5.226815</td>\n",
              "      <td>-7.994809</td>\n",
              "      <td>-3.480564</td>\n",
              "      <td>1.547576</td>\n",
              "      <td>1.043375</td>\n",
              "      <td>7.676349</td>\n",
              "      <td>2.609321</td>\n",
              "      <td>-8.077446</td>\n",
              "      <td>6.056793</td>\n",
              "      <td>-7.367577</td>\n",
              "      <td>-8.567476</td>\n",
              "      <td>-3.069323</td>\n",
              "      <td>4.276709</td>\n",
              "      <td>-6.563668</td>\n",
              "      <td>-2.562896</td>\n",
              "      <td>10.299857</td>\n",
              "      <td>8.607741</td>\n",
              "      <td>1.419396</td>\n",
              "      <td>-4.565701</td>\n",
              "      <td>9.096982</td>\n",
              "    </tr>\n",
              "    <tr>\n",
              "      <th>9998</th>\n",
              "      <td>5.623216</td>\n",
              "      <td>6.132319</td>\n",
              "      <td>-9.526871</td>\n",
              "      <td>-7.102227</td>\n",
              "      <td>7.470630</td>\n",
              "      <td>1.645184</td>\n",
              "      <td>7.913972</td>\n",
              "      <td>-0.513498</td>\n",
              "      <td>6.165712</td>\n",
              "      <td>-2.734110</td>\n",
              "      <td>7.303640</td>\n",
              "      <td>-0.367817</td>\n",
              "      <td>-4.374165</td>\n",
              "      <td>-1.374892</td>\n",
              "      <td>-1.328014</td>\n",
              "      <td>6.636919</td>\n",
              "      <td>-2.271619</td>\n",
              "      <td>-4.250679</td>\n",
              "      <td>-0.379184</td>\n",
              "      <td>-3.499792</td>\n",
              "      <td>3.763622</td>\n",
              "      <td>-6.828777</td>\n",
              "      <td>4.275611</td>\n",
              "      <td>-3.615921</td>\n",
              "      <td>9.257696</td>\n",
              "      <td>-6.524113</td>\n",
              "      <td>6.213284</td>\n",
              "      <td>-3.265337</td>\n",
              "      <td>-6.691210</td>\n",
              "      <td>4.450119</td>\n",
              "      <td>12.264638</td>\n",
              "      <td>24.250595</td>\n",
              "    </tr>\n",
              "    <tr>\n",
              "      <th>9999</th>\n",
              "      <td>4.645371</td>\n",
              "      <td>6.691490</td>\n",
              "      <td>-10.926293</td>\n",
              "      <td>-7.826910</td>\n",
              "      <td>8.710270</td>\n",
              "      <td>-0.211986</td>\n",
              "      <td>9.835527</td>\n",
              "      <td>1.364481</td>\n",
              "      <td>5.363017</td>\n",
              "      <td>-0.433442</td>\n",
              "      <td>7.858837</td>\n",
              "      <td>-1.915288</td>\n",
              "      <td>-6.629440</td>\n",
              "      <td>-1.525908</td>\n",
              "      <td>-2.774851</td>\n",
              "      <td>6.962517</td>\n",
              "      <td>-4.101389</td>\n",
              "      <td>-2.814359</td>\n",
              "      <td>-2.065148</td>\n",
              "      <td>-3.282049</td>\n",
              "      <td>3.486079</td>\n",
              "      <td>-5.526629</td>\n",
              "      <td>3.787922</td>\n",
              "      <td>-5.528968</td>\n",
              "      <td>8.101658</td>\n",
              "      <td>-9.221054</td>\n",
              "      <td>7.350431</td>\n",
              "      <td>-2.093218</td>\n",
              "      <td>-8.912812</td>\n",
              "      <td>5.503867</td>\n",
              "      <td>13.382980</td>\n",
              "      <td>29.519334</td>\n",
              "    </tr>\n",
              "  </tbody>\n",
              "</table>\n",
              "<p>10000 rows × 32 columns</p>\n",
              "</div>"
            ],
            "text/plain": [
              "            0          1          2   ...        29         30         31\n",
              "0     5.779841   9.590162   7.580040  ...  2.942146  19.180325  16.710729\n",
              "1    -1.969309  -5.779929  -0.479035  ...  7.465699 -11.559858  39.328496\n",
              "2     3.599102   3.524340  -6.054480  ...  2.749403   7.048680  15.747013\n",
              "3     2.610732   2.268904  -4.365511  ...  0.589666   4.537807   4.948332\n",
              "4     1.229763   6.218683   6.069170  ...  7.252844  12.437365  38.264218\n",
              "...        ...        ...        ...  ...       ...        ...        ...\n",
              "9995  4.115431   7.000837  -9.653089  ...  3.938198  14.001675  21.690991\n",
              "9996  8.642016 -10.310443  -4.164195  ...  4.496800 -20.620886  24.484000\n",
              "9997  2.576362  -2.282850  -1.977706  ...  1.419396  -4.565701   9.096982\n",
              "9998  5.623216   6.132319  -9.526871  ...  4.450119  12.264638  24.250595\n",
              "9999  4.645371   6.691490 -10.926293  ...  5.503867  13.382980  29.519334\n",
              "\n",
              "[10000 rows x 32 columns]"
            ]
          },
          "metadata": {
            "tags": []
          },
          "execution_count": 5
        }
      ]
    },
    {
      "cell_type": "markdown",
      "metadata": {
        "id": "iHq5SS0Ar1WD"
      },
      "source": [
        "##Kmean\n",
        "มี 3 ขั้นตอน คือ import Define Fit-tranform"
      ]
    },
    {
      "cell_type": "markdown",
      "metadata": {
        "id": "MAhaSVVwxuLk"
      },
      "source": [
        "####import"
      ]
    },
    {
      "cell_type": "code",
      "metadata": {
        "id": "RJu4RLlA5C17"
      },
      "source": [
        "from sklearn.cluster import KMeans  "
      ],
      "execution_count": 6,
      "outputs": []
    },
    {
      "cell_type": "markdown",
      "metadata": {
        "id": "VbeIGVlEx8OQ"
      },
      "source": [
        "####Define"
      ]
    },
    {
      "cell_type": "markdown",
      "metadata": {
        "id": "aSMkJx6XNc6o"
      },
      "source": [
        "เป็นการกำหนดว่าKmeans มีตัวอะไรให้กำหนดบ้าง random state เป็นการกำหนดให้ได้ผลลัพธ์เหมือนกัน เนื่องจาก Kmeans เวลาสุ่มจะสุ่มจากเลขตัวไหนก็ได้ เราเลยต้อง fix ให้มันสุ่มจากเลขเดียวกัน ก็จะได้เหมือนๆกัน n_cluster คือการเซตค่า K"
      ]
    },
    {
      "cell_type": "code",
      "metadata": {
        "id": "jUARadkFEuyJ"
      },
      "source": [
        "kmeans = KMeans(n_clusters=4, random_state=0)  "
      ],
      "execution_count": 103,
      "outputs": []
    },
    {
      "cell_type": "markdown",
      "metadata": {
        "id": "6rNFJjg_yj9p"
      },
      "source": [
        "####Fit-tranform"
      ]
    },
    {
      "cell_type": "markdown",
      "metadata": {
        "id": "DW0u1qxoH8_g"
      },
      "source": [
        "คำนวณจุด Cluster center ของข้อมูล Data ด้วยวิธี K-means clustering"
      ]
    },
    {
      "cell_type": "code",
      "metadata": {
        "id": "To8vFoULxqs_",
        "outputId": "109eb0fd-433c-4738-ad66-c66c827b023d",
        "colab": {
          "base_uri": "https://localhost:8080/"
        }
      },
      "source": [
        "kmeans.fit(Data)  #fit คือเอามาคำนวณว่าจุด Cluster center จะเป็นจุดไหน"
      ],
      "execution_count": 104,
      "outputs": [
        {
          "output_type": "execute_result",
          "data": {
            "text/plain": [
              "KMeans(algorithm='auto', copy_x=True, init='k-means++', max_iter=300,\n",
              "       n_clusters=4, n_init=10, n_jobs=None, precompute_distances='auto',\n",
              "       random_state=0, tol=0.0001, verbose=0)"
            ]
          },
          "metadata": {
            "tags": []
          },
          "execution_count": 104
        }
      ]
    },
    {
      "cell_type": "markdown",
      "metadata": {
        "id": "o8yzM6PcH1Qn"
      },
      "source": [
        "แสดงจุด Cluster center ที่คำนวณออกมาได้"
      ]
    },
    {
      "cell_type": "code",
      "metadata": {
        "id": "u1Ptz2aoHqdQ",
        "outputId": "6a7727f8-1c13-47b7-bfa0-96b38072d294",
        "colab": {
          "base_uri": "https://localhost:8080/"
        }
      },
      "source": [
        "kmeans.cluster_centers_"
      ],
      "execution_count": 97,
      "outputs": [
        {
          "output_type": "execute_result",
          "data": {
            "text/plain": [
              "array([[-3.38017111e+00,  3.24596705e-02, -9.67409376e-01,\n",
              "        -3.38344615e+00,  1.91951465e+00, -5.97600881e-01,\n",
              "        -4.33991615e+00, -6.00650318e+00, -3.35027995e+00,\n",
              "         1.53340996e+00, -7.82692160e-01,  2.70869277e+00,\n",
              "         3.66270028e+00,  3.71141739e+00, -2.01429512e+00,\n",
              "         3.13138132e+00,  4.33302343e+00,  3.49416316e+00,\n",
              "        -7.60129625e+00,  1.66229417e+00,  1.24487275e+00,\n",
              "         9.66181539e-01, -1.26493491e+00, -1.32773248e+00,\n",
              "         1.07385162e+00, -5.86262675e+00,  1.50941704e+00,\n",
              "        -2.07414652e-01,  2.27705049e+00, -8.00184449e+00,\n",
              "         6.49193409e-02, -3.80092225e+01],\n",
              "       [ 1.67582437e+00,  4.14120691e-01, -1.51258022e+00,\n",
              "         2.57556363e+00,  2.47837774e-01,  1.17523367e+00,\n",
              "         3.43230745e+00,  6.46757292e-01,  1.45854247e+00,\n",
              "        -2.21587166e+00,  1.36047188e+00, -4.41632538e-01,\n",
              "        -3.26466903e-01,  2.91065971e-01, -3.20745510e-01,\n",
              "         4.00732310e-01, -1.54540220e-01,  2.23021869e+00,\n",
              "         2.80984707e+00, -1.31633773e+00,  8.48285382e-01,\n",
              "         1.00998715e-01,  1.14242893e+00, -8.87267271e-01,\n",
              "         4.72472717e+00, -1.82689037e+00, -5.76852830e-02,\n",
              "         1.61647855e+00,  4.88477704e-01,  4.11805062e+00,\n",
              "         8.28241382e-01,  2.25902531e+01]])"
            ]
          },
          "metadata": {
            "tags": []
          },
          "execution_count": 97
        }
      ]
    },
    {
      "cell_type": "markdown",
      "metadata": {
        "id": "AMwiNeyUII5A"
      },
      "source": [
        "ทดสอบการจัดกลุ่มของ Data "
      ]
    },
    {
      "cell_type": "code",
      "metadata": {
        "id": "HzN_6GCiQKPg",
        "outputId": "c824d643-96e4-4f50-8844-989329b681b8",
        "colab": {
          "base_uri": "https://localhost:8080/"
        }
      },
      "source": [
        "y = kmeans.predict(Data)\n",
        "y"
      ],
      "execution_count": 99,
      "outputs": [
        {
          "output_type": "execute_result",
          "data": {
            "text/plain": [
              "array([1, 1, 1, ..., 1, 1, 1], dtype=int32)"
            ]
          },
          "metadata": {
            "tags": []
          },
          "execution_count": 99
        }
      ]
    },
    {
      "cell_type": "code",
      "metadata": {
        "id": "AB4UMb2fIMxY",
        "outputId": "d1aa6670-3f68-4412-c9f0-aaa6107421a4",
        "colab": {
          "base_uri": "https://localhost:8080/"
        }
      },
      "source": [
        "y = kmeans.predict(Data)\n",
        "y"
      ],
      "execution_count": 98,
      "outputs": [
        {
          "output_type": "execute_result",
          "data": {
            "text/plain": [
              "array([1, 1, 1, ..., 1, 1, 1], dtype=int32)"
            ]
          },
          "metadata": {
            "tags": []
          },
          "execution_count": 98
        }
      ]
    },
    {
      "cell_type": "markdown",
      "metadata": {
        "id": "5otqX9loJcyH"
      },
      "source": [
        "#### PCA"
      ]
    },
    {
      "cell_type": "code",
      "metadata": {
        "id": "-Wo8nT7kJcYP"
      },
      "source": [
        "from sklearn.decomposition import PCA\n",
        "\n",
        "pca = PCA(n_components=2)\n",
        "\n",
        "new_pca = pca.fit_transform(Data)"
      ],
      "execution_count": 100,
      "outputs": []
    },
    {
      "cell_type": "code",
      "metadata": {
        "id": "D0opkQhsJpWX"
      },
      "source": [
        "from matplotlib import pyplot as plt"
      ],
      "execution_count": 101,
      "outputs": []
    },
    {
      "cell_type": "code",
      "metadata": {
        "id": "5l9ld2jYJtZY",
        "outputId": "499679ef-97ff-40f2-af9b-0be774af1f7d",
        "colab": {
          "base_uri": "https://localhost:8080/",
          "height": 345
        }
      },
      "source": [
        "plt.plot(Data[2:,0],Data[2:,1],'or')\n",
        "plt.plot(Data[1:2,0],Data[1:2,1],'og')\n",
        "plt.plot(Data[2:,0],Data[2:,1],'oy')"
      ],
      "execution_count": 102,
      "outputs": [
        {
          "output_type": "error",
          "ename": "KeyError",
          "evalue": "ignored",
          "traceback": [
            "\u001b[0;31m---------------------------------------------------------------------------\u001b[0m",
            "\u001b[0;31mKeyError\u001b[0m                                  Traceback (most recent call last)",
            "\u001b[0;32m<ipython-input-102-67d323c6ef02>\u001b[0m in \u001b[0;36m<module>\u001b[0;34m()\u001b[0m\n\u001b[0;32m----> 1\u001b[0;31m \u001b[0mplt\u001b[0m\u001b[0;34m.\u001b[0m\u001b[0mplot\u001b[0m\u001b[0;34m(\u001b[0m\u001b[0mData\u001b[0m\u001b[0;34m[\u001b[0m\u001b[0;36m2\u001b[0m\u001b[0;34m:\u001b[0m\u001b[0;34m,\u001b[0m\u001b[0;36m0\u001b[0m\u001b[0;34m]\u001b[0m\u001b[0;34m,\u001b[0m\u001b[0mData\u001b[0m\u001b[0;34m[\u001b[0m\u001b[0;36m2\u001b[0m\u001b[0;34m:\u001b[0m\u001b[0;34m,\u001b[0m\u001b[0;36m1\u001b[0m\u001b[0;34m]\u001b[0m\u001b[0;34m,\u001b[0m\u001b[0;34m'or'\u001b[0m\u001b[0;34m)\u001b[0m\u001b[0;34m\u001b[0m\u001b[0;34m\u001b[0m\u001b[0m\n\u001b[0m\u001b[1;32m      2\u001b[0m \u001b[0mplt\u001b[0m\u001b[0;34m.\u001b[0m\u001b[0mplot\u001b[0m\u001b[0;34m(\u001b[0m\u001b[0mData\u001b[0m\u001b[0;34m[\u001b[0m\u001b[0;36m1\u001b[0m\u001b[0;34m:\u001b[0m\u001b[0;36m2\u001b[0m\u001b[0;34m,\u001b[0m\u001b[0;36m0\u001b[0m\u001b[0;34m]\u001b[0m\u001b[0;34m,\u001b[0m\u001b[0mData\u001b[0m\u001b[0;34m[\u001b[0m\u001b[0;36m1\u001b[0m\u001b[0;34m:\u001b[0m\u001b[0;36m2\u001b[0m\u001b[0;34m,\u001b[0m\u001b[0;36m1\u001b[0m\u001b[0;34m]\u001b[0m\u001b[0;34m,\u001b[0m\u001b[0;34m'og'\u001b[0m\u001b[0;34m)\u001b[0m\u001b[0;34m\u001b[0m\u001b[0;34m\u001b[0m\u001b[0m\n\u001b[1;32m      3\u001b[0m \u001b[0mplt\u001b[0m\u001b[0;34m.\u001b[0m\u001b[0mplot\u001b[0m\u001b[0;34m(\u001b[0m\u001b[0mData\u001b[0m\u001b[0;34m[\u001b[0m\u001b[0;36m2\u001b[0m\u001b[0;34m:\u001b[0m\u001b[0;34m,\u001b[0m\u001b[0;36m0\u001b[0m\u001b[0;34m]\u001b[0m\u001b[0;34m,\u001b[0m\u001b[0mData\u001b[0m\u001b[0;34m[\u001b[0m\u001b[0;36m2\u001b[0m\u001b[0;34m:\u001b[0m\u001b[0;34m,\u001b[0m\u001b[0;36m1\u001b[0m\u001b[0;34m]\u001b[0m\u001b[0;34m,\u001b[0m\u001b[0;34m'oy'\u001b[0m\u001b[0;34m)\u001b[0m\u001b[0;34m\u001b[0m\u001b[0;34m\u001b[0m\u001b[0m\n",
            "\u001b[0;32m/usr/local/lib/python3.7/dist-packages/pandas/core/frame.py\u001b[0m in \u001b[0;36m__getitem__\u001b[0;34m(self, key)\u001b[0m\n\u001b[1;32m   2904\u001b[0m             \u001b[0;32mif\u001b[0m \u001b[0mself\u001b[0m\u001b[0;34m.\u001b[0m\u001b[0mcolumns\u001b[0m\u001b[0;34m.\u001b[0m\u001b[0mnlevels\u001b[0m \u001b[0;34m>\u001b[0m \u001b[0;36m1\u001b[0m\u001b[0;34m:\u001b[0m\u001b[0;34m\u001b[0m\u001b[0;34m\u001b[0m\u001b[0m\n\u001b[1;32m   2905\u001b[0m                 \u001b[0;32mreturn\u001b[0m \u001b[0mself\u001b[0m\u001b[0;34m.\u001b[0m\u001b[0m_getitem_multilevel\u001b[0m\u001b[0;34m(\u001b[0m\u001b[0mkey\u001b[0m\u001b[0;34m)\u001b[0m\u001b[0;34m\u001b[0m\u001b[0;34m\u001b[0m\u001b[0m\n\u001b[0;32m-> 2906\u001b[0;31m             \u001b[0mindexer\u001b[0m \u001b[0;34m=\u001b[0m \u001b[0mself\u001b[0m\u001b[0;34m.\u001b[0m\u001b[0mcolumns\u001b[0m\u001b[0;34m.\u001b[0m\u001b[0mget_loc\u001b[0m\u001b[0;34m(\u001b[0m\u001b[0mkey\u001b[0m\u001b[0;34m)\u001b[0m\u001b[0;34m\u001b[0m\u001b[0;34m\u001b[0m\u001b[0m\n\u001b[0m\u001b[1;32m   2907\u001b[0m             \u001b[0;32mif\u001b[0m \u001b[0mis_integer\u001b[0m\u001b[0;34m(\u001b[0m\u001b[0mindexer\u001b[0m\u001b[0;34m)\u001b[0m\u001b[0;34m:\u001b[0m\u001b[0;34m\u001b[0m\u001b[0;34m\u001b[0m\u001b[0m\n\u001b[1;32m   2908\u001b[0m                 \u001b[0mindexer\u001b[0m \u001b[0;34m=\u001b[0m \u001b[0;34m[\u001b[0m\u001b[0mindexer\u001b[0m\u001b[0;34m]\u001b[0m\u001b[0;34m\u001b[0m\u001b[0;34m\u001b[0m\u001b[0m\n",
            "\u001b[0;32m/usr/local/lib/python3.7/dist-packages/pandas/core/indexes/range.py\u001b[0m in \u001b[0;36mget_loc\u001b[0;34m(self, key, method, tolerance)\u001b[0m\n\u001b[1;32m    356\u001b[0m                 \u001b[0;32mexcept\u001b[0m \u001b[0mValueError\u001b[0m \u001b[0;32mas\u001b[0m \u001b[0merr\u001b[0m\u001b[0;34m:\u001b[0m\u001b[0;34m\u001b[0m\u001b[0;34m\u001b[0m\u001b[0m\n\u001b[1;32m    357\u001b[0m                     \u001b[0;32mraise\u001b[0m \u001b[0mKeyError\u001b[0m\u001b[0;34m(\u001b[0m\u001b[0mkey\u001b[0m\u001b[0;34m)\u001b[0m \u001b[0;32mfrom\u001b[0m \u001b[0merr\u001b[0m\u001b[0;34m\u001b[0m\u001b[0;34m\u001b[0m\u001b[0m\n\u001b[0;32m--> 358\u001b[0;31m             \u001b[0;32mraise\u001b[0m \u001b[0mKeyError\u001b[0m\u001b[0;34m(\u001b[0m\u001b[0mkey\u001b[0m\u001b[0;34m)\u001b[0m\u001b[0;34m\u001b[0m\u001b[0;34m\u001b[0m\u001b[0m\n\u001b[0m\u001b[1;32m    359\u001b[0m         \u001b[0;32mreturn\u001b[0m \u001b[0msuper\u001b[0m\u001b[0;34m(\u001b[0m\u001b[0;34m)\u001b[0m\u001b[0;34m.\u001b[0m\u001b[0mget_loc\u001b[0m\u001b[0;34m(\u001b[0m\u001b[0mkey\u001b[0m\u001b[0;34m,\u001b[0m \u001b[0mmethod\u001b[0m\u001b[0;34m=\u001b[0m\u001b[0mmethod\u001b[0m\u001b[0;34m,\u001b[0m \u001b[0mtolerance\u001b[0m\u001b[0;34m=\u001b[0m\u001b[0mtolerance\u001b[0m\u001b[0;34m)\u001b[0m\u001b[0;34m\u001b[0m\u001b[0;34m\u001b[0m\u001b[0m\n\u001b[1;32m    360\u001b[0m \u001b[0;34m\u001b[0m\u001b[0m\n",
            "\u001b[0;31mKeyError\u001b[0m: (slice(2, None, None), 0)"
          ]
        }
      ]
    },
    {
      "cell_type": "code",
      "metadata": {
        "id": "ME7RlyLtJ6JA",
        "outputId": "7ffce8a4-4e0b-44e5-d2ae-aac8af06f6a8",
        "colab": {
          "base_uri": "https://localhost:8080/",
          "height": 345
        }
      },
      "source": [
        "kmeans = KMeans(n_clusters=2, random_state=2021)\n",
        "kmeans.fit(Data)\n",
        "y = kmeans.predict(Data)\n",
        "plt.scatter(Data[:,0],Data[:,1],c=y)"
      ],
      "execution_count": 26,
      "outputs": [
        {
          "output_type": "error",
          "ename": "KeyError",
          "evalue": "ignored",
          "traceback": [
            "\u001b[0;31m---------------------------------------------------------------------------\u001b[0m",
            "\u001b[0;31mKeyError\u001b[0m                                  Traceback (most recent call last)",
            "\u001b[0;32m<ipython-input-26-672166addb3b>\u001b[0m in \u001b[0;36m<module>\u001b[0;34m()\u001b[0m\n\u001b[1;32m      2\u001b[0m \u001b[0mkmeans\u001b[0m\u001b[0;34m.\u001b[0m\u001b[0mfit\u001b[0m\u001b[0;34m(\u001b[0m\u001b[0mData\u001b[0m\u001b[0;34m)\u001b[0m\u001b[0;34m\u001b[0m\u001b[0;34m\u001b[0m\u001b[0m\n\u001b[1;32m      3\u001b[0m \u001b[0my\u001b[0m \u001b[0;34m=\u001b[0m \u001b[0mkmeans\u001b[0m\u001b[0;34m.\u001b[0m\u001b[0mpredict\u001b[0m\u001b[0;34m(\u001b[0m\u001b[0mData\u001b[0m\u001b[0;34m)\u001b[0m\u001b[0;34m\u001b[0m\u001b[0;34m\u001b[0m\u001b[0m\n\u001b[0;32m----> 4\u001b[0;31m \u001b[0mplt\u001b[0m\u001b[0;34m.\u001b[0m\u001b[0mscatter\u001b[0m\u001b[0;34m(\u001b[0m\u001b[0mData\u001b[0m\u001b[0;34m[\u001b[0m\u001b[0;34m:\u001b[0m\u001b[0;34m,\u001b[0m\u001b[0;36m0\u001b[0m\u001b[0;34m]\u001b[0m\u001b[0;34m,\u001b[0m\u001b[0mData\u001b[0m\u001b[0;34m[\u001b[0m\u001b[0;34m:\u001b[0m\u001b[0;34m,\u001b[0m\u001b[0;36m1\u001b[0m\u001b[0;34m]\u001b[0m\u001b[0;34m,\u001b[0m\u001b[0mc\u001b[0m\u001b[0;34m=\u001b[0m\u001b[0my\u001b[0m\u001b[0;34m)\u001b[0m\u001b[0;34m\u001b[0m\u001b[0;34m\u001b[0m\u001b[0m\n\u001b[0m",
            "\u001b[0;32m/usr/local/lib/python3.7/dist-packages/pandas/core/frame.py\u001b[0m in \u001b[0;36m__getitem__\u001b[0;34m(self, key)\u001b[0m\n\u001b[1;32m   2904\u001b[0m             \u001b[0;32mif\u001b[0m \u001b[0mself\u001b[0m\u001b[0;34m.\u001b[0m\u001b[0mcolumns\u001b[0m\u001b[0;34m.\u001b[0m\u001b[0mnlevels\u001b[0m \u001b[0;34m>\u001b[0m \u001b[0;36m1\u001b[0m\u001b[0;34m:\u001b[0m\u001b[0;34m\u001b[0m\u001b[0;34m\u001b[0m\u001b[0m\n\u001b[1;32m   2905\u001b[0m                 \u001b[0;32mreturn\u001b[0m \u001b[0mself\u001b[0m\u001b[0;34m.\u001b[0m\u001b[0m_getitem_multilevel\u001b[0m\u001b[0;34m(\u001b[0m\u001b[0mkey\u001b[0m\u001b[0;34m)\u001b[0m\u001b[0;34m\u001b[0m\u001b[0;34m\u001b[0m\u001b[0m\n\u001b[0;32m-> 2906\u001b[0;31m             \u001b[0mindexer\u001b[0m \u001b[0;34m=\u001b[0m \u001b[0mself\u001b[0m\u001b[0;34m.\u001b[0m\u001b[0mcolumns\u001b[0m\u001b[0;34m.\u001b[0m\u001b[0mget_loc\u001b[0m\u001b[0;34m(\u001b[0m\u001b[0mkey\u001b[0m\u001b[0;34m)\u001b[0m\u001b[0;34m\u001b[0m\u001b[0;34m\u001b[0m\u001b[0m\n\u001b[0m\u001b[1;32m   2907\u001b[0m             \u001b[0;32mif\u001b[0m \u001b[0mis_integer\u001b[0m\u001b[0;34m(\u001b[0m\u001b[0mindexer\u001b[0m\u001b[0;34m)\u001b[0m\u001b[0;34m:\u001b[0m\u001b[0;34m\u001b[0m\u001b[0;34m\u001b[0m\u001b[0m\n\u001b[1;32m   2908\u001b[0m                 \u001b[0mindexer\u001b[0m \u001b[0;34m=\u001b[0m \u001b[0;34m[\u001b[0m\u001b[0mindexer\u001b[0m\u001b[0;34m]\u001b[0m\u001b[0;34m\u001b[0m\u001b[0;34m\u001b[0m\u001b[0m\n",
            "\u001b[0;32m/usr/local/lib/python3.7/dist-packages/pandas/core/indexes/range.py\u001b[0m in \u001b[0;36mget_loc\u001b[0;34m(self, key, method, tolerance)\u001b[0m\n\u001b[1;32m    356\u001b[0m                 \u001b[0;32mexcept\u001b[0m \u001b[0mValueError\u001b[0m \u001b[0;32mas\u001b[0m \u001b[0merr\u001b[0m\u001b[0;34m:\u001b[0m\u001b[0;34m\u001b[0m\u001b[0;34m\u001b[0m\u001b[0m\n\u001b[1;32m    357\u001b[0m                     \u001b[0;32mraise\u001b[0m \u001b[0mKeyError\u001b[0m\u001b[0;34m(\u001b[0m\u001b[0mkey\u001b[0m\u001b[0;34m)\u001b[0m \u001b[0;32mfrom\u001b[0m \u001b[0merr\u001b[0m\u001b[0;34m\u001b[0m\u001b[0;34m\u001b[0m\u001b[0m\n\u001b[0;32m--> 358\u001b[0;31m             \u001b[0;32mraise\u001b[0m \u001b[0mKeyError\u001b[0m\u001b[0;34m(\u001b[0m\u001b[0mkey\u001b[0m\u001b[0;34m)\u001b[0m\u001b[0;34m\u001b[0m\u001b[0;34m\u001b[0m\u001b[0m\n\u001b[0m\u001b[1;32m    359\u001b[0m         \u001b[0;32mreturn\u001b[0m \u001b[0msuper\u001b[0m\u001b[0;34m(\u001b[0m\u001b[0;34m)\u001b[0m\u001b[0;34m.\u001b[0m\u001b[0mget_loc\u001b[0m\u001b[0;34m(\u001b[0m\u001b[0mkey\u001b[0m\u001b[0;34m,\u001b[0m \u001b[0mmethod\u001b[0m\u001b[0;34m=\u001b[0m\u001b[0mmethod\u001b[0m\u001b[0;34m,\u001b[0m \u001b[0mtolerance\u001b[0m\u001b[0;34m=\u001b[0m\u001b[0mtolerance\u001b[0m\u001b[0;34m)\u001b[0m\u001b[0;34m\u001b[0m\u001b[0;34m\u001b[0m\u001b[0m\n\u001b[1;32m    360\u001b[0m \u001b[0;34m\u001b[0m\u001b[0m\n",
            "\u001b[0;31mKeyError\u001b[0m: (slice(None, None, None), 0)"
          ]
        }
      ]
    }
  ]
}