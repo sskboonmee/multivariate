{
  "nbformat": 4,
  "nbformat_minor": 0,
  "metadata": {
    "colab": {
      "name": "Function_Numpy_Pandas.ipynb",
      "provenance": [],
      "authorship_tag": "ABX9TyOe7KYsIC0UBCRMBnTgWa+E",
      "include_colab_link": true
    },
    "kernelspec": {
      "name": "python3",
      "display_name": "Python 3"
    }
  },
  "cells": [
    {
      "cell_type": "markdown",
      "metadata": {
        "id": "view-in-github",
        "colab_type": "text"
      },
      "source": [
        "<a href=\"https://colab.research.google.com/github/sskboonmee/multivariate/blob/main/Function_Numpy_Pandas.ipynb\" target=\"_parent\"><img src=\"https://colab.research.google.com/assets/colab-badge.svg\" alt=\"Open In Colab\"/></a>"
      ]
    },
    {
      "cell_type": "markdown",
      "metadata": {
        "id": "9CzOepGMSU0a"
      },
      "source": [
        "#function\r\n",
        "หน้าที่คือรับ input และทำตามกระบวนการละก็ได้ Output ออกมา\r\n"
      ]
    },
    {
      "cell_type": "code",
      "metadata": {
        "id": "1Nn9tL2XS8D9",
        "colab": {
          "base_uri": "https://localhost:8080/",
          "height": 130
        },
        "outputId": "6c82e364-2ce4-474a-cb69-36f8e56e236d"
      },
      "source": [
        "def function_name(_Input_) :\r\n",
        "   do_something with _Input_ to produce _Output_\r\n",
        "   return _Output_ "
      ],
      "execution_count": 1,
      "outputs": [
        {
          "output_type": "error",
          "ename": "SyntaxError",
          "evalue": "ignored",
          "traceback": [
            "\u001b[0;36m  File \u001b[0;32m\"<ipython-input-1-b77750dda936>\"\u001b[0;36m, line \u001b[0;32m2\u001b[0m\n\u001b[0;31m    do_something with _Input_ to produce _Output_\u001b[0m\n\u001b[0m                    ^\u001b[0m\n\u001b[0;31mSyntaxError\u001b[0m\u001b[0;31m:\u001b[0m invalid syntax\n"
          ]
        }
      ]
    },
    {
      "cell_type": "markdown",
      "metadata": {
        "id": "ahKZ1bMfUjNT"
      },
      "source": [
        "function ของ python มีส่วนสำคัญทั้งหมด 4 ส่วน \r\n",
        "1.บอก python ว่าเราจะเขียนฟังก์ชันอะไร def function_name(): ซึ่งขาดไม่ได้เป็นส่วนสำคัญ\r\n",
        "2.กำหนดตัวแปรที่จะเป็น Input \r\n",
        "3.ส่วนประมวลผล do_something with input to get Output \r\n",
        "4.ส่วน output return Output "
      ]
    },
    {
      "cell_type": "markdown",
      "metadata": {
        "id": "0Kl8tGgsXSBE"
      },
      "source": [
        "ใช้เว้นวรรคบอกขอบเขตของฟังก์ชัน"
      ]
    },
    {
      "cell_type": "markdown",
      "metadata": {
        "id": "x1xkDnu8WNLt"
      },
      "source": [
        "####สร้างฟังก์ชัน"
      ]
    },
    {
      "cell_type": "code",
      "metadata": {
        "colab": {
          "base_uri": "https://localhost:8080/"
        },
        "id": "JAFWwcRzUlr0",
        "outputId": "4a01ef01-a2b5-4a16-b11a-6903a65a8c1a"
      },
      "source": [
        "def print_name(name,surname,ID):\r\n",
        "    st = f'ชื่อ {name} นามสกุล {surname} ID {ID}'\r\n",
        "    return st\r\n",
        "print('Outside  function')  #อันนี้คืออกจากฟังก์ชันเพราะมันไม่ได้อยู่ในฟังก์ชันขอบเขตก็คือที่วรรคเข้าไป"
      ],
      "execution_count": 2,
      "outputs": [
        {
          "output_type": "stream",
          "text": [
            "Outside  function\n"
          ],
          "name": "stdout"
        }
      ]
    },
    {
      "cell_type": "markdown",
      "metadata": {
        "id": "MYXBiJQPWR2T"
      },
      "source": [
        "####เรียกใช้ฟังก์ชัน"
      ]
    },
    {
      "cell_type": "code",
      "metadata": {
        "colab": {
          "base_uri": "https://localhost:8080/"
        },
        "id": "eXN-YQWqVP66",
        "outputId": "e6e74fcf-fb74-466f-cc89-9520f000a9ff"
      },
      "source": [
        "output_string = print_name('ศศิกานต์' , 'บุญมี' , '623020539-9' )\r\n",
        "print (output_string)"
      ],
      "execution_count": 3,
      "outputs": [
        {
          "output_type": "stream",
          "text": [
            "ชื่อ ศศิกานต์ นามสกุล บุญมี ID 623020539-9\n"
          ],
          "name": "stdout"
        }
      ]
    },
    {
      "cell_type": "markdown",
      "metadata": {
        "id": "PSZWsTbvSdWp"
      },
      "source": [
        "####ฟังก์ชันไม่จำเป็นต้องมี Output"
      ]
    },
    {
      "cell_type": "code",
      "metadata": {
        "id": "Lk3bXi36XfKc"
      },
      "source": [
        "def print_name2(surname,ID,name):\r\n",
        "    st = f'ชื่อ {name} นามสกุล {surname} รหัส {ID}'\r\n",
        "    print(st)"
      ],
      "execution_count": 4,
      "outputs": []
    },
    {
      "cell_type": "code",
      "metadata": {
        "colab": {
          "base_uri": "https://localhost:8080/"
        },
        "id": "fPAX-nm_X-F7",
        "outputId": "fe7a1e18-4d65-4d0a-facc-949dee3ddd82"
      },
      "source": [
        "print_name2('ศศิกานต์' , 'บุญมี' , '623020539-9')"
      ],
      "execution_count": 5,
      "outputs": [
        {
          "output_type": "stream",
          "text": [
            "ชื่อ 623020539-9 นามสกุล ศศิกานต์ รหัส บุญมี\n"
          ],
          "name": "stdout"
        }
      ]
    },
    {
      "cell_type": "code",
      "metadata": {
        "colab": {
          "base_uri": "https://localhost:8080/"
        },
        "id": "w6jksQBFYHyD",
        "outputId": "691a1c51-e811-42e2-9ca4-1589458ea192"
      },
      "source": [
        "op2 = print_name2(' ศศิกานต์' , 'บุญมี' , '623020539-9' )"
      ],
      "execution_count": 6,
      "outputs": [
        {
          "output_type": "stream",
          "text": [
            "ชื่อ 623020539-9 นามสกุล  ศศิกานต์ รหัส บุญมี\n"
          ],
          "name": "stdout"
        }
      ]
    },
    {
      "cell_type": "code",
      "metadata": {
        "colab": {
          "base_uri": "https://localhost:8080/"
        },
        "id": "0n394SZfYbOi",
        "outputId": "5312d7f0-550e-40ca-b268-52c27d05a5c2"
      },
      "source": [
        "print(op2)"
      ],
      "execution_count": 7,
      "outputs": [
        {
          "output_type": "stream",
          "text": [
            "None\n"
          ],
          "name": "stdout"
        }
      ]
    },
    {
      "cell_type": "markdown",
      "metadata": {
        "id": "7qaIQSL4Y_HL"
      },
      "source": [
        "####ฟังก์ชันไม่จำเป็นต้องมี Input"
      ]
    },
    {
      "cell_type": "code",
      "metadata": {
        "id": "x6ekYg8XZGQ7"
      },
      "source": [
        "def Pi():   #อันนี้แค่แบบreturnค่าที่เราต้องการเฉยๆ\r\n",
        "    return 3.14159265359"
      ],
      "execution_count": 8,
      "outputs": []
    },
    {
      "cell_type": "code",
      "metadata": {
        "colab": {
          "base_uri": "https://localhost:8080/"
        },
        "id": "5mJ_wMYqZVrD",
        "outputId": "48915dd4-f674-4825-8f49-023d31aa45f5"
      },
      "source": [
        "#คำนวณพื้นที่วงกลมที่มีขนาดเส้นผ่าศูนย์กลางเท่ากับ 3 \r\n",
        "Pi()*(1.5**2)"
      ],
      "execution_count": 9,
      "outputs": [
        {
          "output_type": "execute_result",
          "data": {
            "text/plain": [
              "7.0685834705775"
            ]
          },
          "metadata": {
            "tags": []
          },
          "execution_count": 9
        }
      ]
    },
    {
      "cell_type": "code",
      "metadata": {
        "id": "VHKencgbZmpD"
      },
      "source": [
        "def print_my_name():\r\n",
        "    print('ศศิกานต์  บุญมี  ID6230205399')"
      ],
      "execution_count": 10,
      "outputs": []
    },
    {
      "cell_type": "code",
      "metadata": {
        "colab": {
          "base_uri": "https://localhost:8080/"
        },
        "id": "dX3b95yYZ6JS",
        "outputId": "0e1fc151-631c-4e62-c2f1-42844f5d7220"
      },
      "source": [
        "print_my_name()"
      ],
      "execution_count": 11,
      "outputs": [
        {
          "output_type": "stream",
          "text": [
            "ศศิกานต์  บุญมี  ID6230205399\n"
          ],
          "name": "stdout"
        }
      ]
    },
    {
      "cell_type": "markdown",
      "metadata": {
        "id": "1Jj7wdlzaD39"
      },
      "source": [
        "### 1.input ของ Function ใน Python มี 2 แบบ  คือแบบที่จำเป็นต้องใส่กับไม่จำเป็นต้องใส่ \r\n",
        "(มีค่า Default) เราต้องเรียง input ที่จำเป็นต้องใส่ขึ้นก่อน"
      ]
    },
    {
      "cell_type": "markdown",
      "metadata": {
        "id": "fWmhlGQzciNU"
      },
      "source": [
        "####2.เราต้องเรียง Input ที่จำเป็นขึ้นก่อน"
      ]
    },
    {
      "cell_type": "code",
      "metadata": {
        "id": "Nx-f1gKXatm-"
      },
      "source": [
        "def print_2lines_default(name, surname, ID, grade='F'):\r\n",
        "    st = f'ชื่อ {name} นามสกุล {surname} รหัส {ID}'\r\n",
        "    print(st)\r\n",
        "    st2=f'เกรดวิชา Multivariate >>> {grade}'\r\n",
        "    print(st2)"
      ],
      "execution_count": 12,
      "outputs": []
    },
    {
      "cell_type": "code",
      "metadata": {
        "colab": {
          "base_uri": "https://localhost:8080/"
        },
        "id": "Mcq_0-54bmFN",
        "outputId": "68ca780f-0726-47e4-f0cf-5a8e72a84cc9"
      },
      "source": [
        "print_2lines_default('ศศิกานต์' , 'บุญมี' , '623020539-9')"
      ],
      "execution_count": 13,
      "outputs": [
        {
          "output_type": "stream",
          "text": [
            "ชื่อ ศศิกานต์ นามสกุล บุญมี รหัส 623020539-9\n",
            "เกรดวิชา Multivariate >>> F\n"
          ],
          "name": "stdout"
        }
      ]
    },
    {
      "cell_type": "code",
      "metadata": {
        "colab": {
          "base_uri": "https://localhost:8080/"
        },
        "id": "xRJVf3kmb6-U",
        "outputId": "0bd2686c-1a8f-4fdd-ac9a-0432440d3942"
      },
      "source": [
        "print_2lines_default('ศศิกานต์' , 'บุญมี' , '623020539-9' ,'A')"
      ],
      "execution_count": 14,
      "outputs": [
        {
          "output_type": "stream",
          "text": [
            "ชื่อ ศศิกานต์ นามสกุล บุญมี รหัส 623020539-9\n",
            "เกรดวิชา Multivariate >>> A\n"
          ],
          "name": "stdout"
        }
      ]
    },
    {
      "cell_type": "markdown",
      "metadata": {
        "id": "SqLJufL8cKYF"
      },
      "source": [
        "####เราสามารถเรียกฟังก์ชันโดยใช้ชื่อตัวแปรของฟังก์ชันช่วยได้"
      ]
    },
    {
      "cell_type": "code",
      "metadata": {
        "colab": {
          "base_uri": "https://localhost:8080/"
        },
        "id": "UCX7wibjcSOM",
        "outputId": "0cff2320-e257-4007-af7e-f14e7b8217c5"
      },
      "source": [
        "print_name2(name='ศศิกานต์' , surname='บุญมี' , ID='623020539-9')"
      ],
      "execution_count": 15,
      "outputs": [
        {
          "output_type": "stream",
          "text": [
            "ชื่อ ศศิกานต์ นามสกุล บุญมี รหัส 623020539-9\n"
          ],
          "name": "stdout"
        }
      ]
    },
    {
      "cell_type": "markdown",
      "metadata": {
        "id": "e3c_wAMIc8Kb"
      },
      "source": [
        "###HW ให้เขียน function คำนวณจำนวนวินาทีจาก เวลา ต่อไปนี้\r\n",
        "\r\n",
        "'14-15-31'\r\n",
        "\r\n",
        "'13-00-01'\r\n",
        "\r\n",
        "'05-49-44'\r\n",
        "\r\n",
        "'00-00-16'\r\n",
        "\r\n",
        "และ print ให้สวยงาม"
      ]
    },
    {
      "cell_type": "code",
      "metadata": {
        "id": "_aVKX1yncx4W"
      },
      "source": [
        "def function_q (times):\r\n",
        "    q = f'เวลาทั้งหมด = {times}'\r\n",
        "    print(q)\r\n",
        "    times_sp = times.split('-')\r\n",
        "    h = int(times_sp[0])*3600\r\n",
        "    m = int(times_sp[1])*60\r\n",
        "    s = int(times_sp[2])\r\n",
        "    aq = h+m+s\r\n",
        "    print(f'คำนวณเป็นวินาทีได้เท่ากับ {aq} วินาที')\r\n",
        "   \r\n",
        "\r\n"
      ],
      "execution_count": 16,
      "outputs": []
    },
    {
      "cell_type": "code",
      "metadata": {
        "id": "AIb9qhZykq-K",
        "colab": {
          "base_uri": "https://localhost:8080/"
        },
        "outputId": "ec702aec-0c94-4f49-d633-6efe85a421a6"
      },
      "source": [
        "function_q('14-15-31')"
      ],
      "execution_count": 17,
      "outputs": [
        {
          "output_type": "stream",
          "text": [
            "เวลาทั้งหมด = 14-15-31\n",
            "คำนวณเป็นวินาทีได้เท่ากับ 51331 วินาที\n"
          ],
          "name": "stdout"
        }
      ]
    },
    {
      "cell_type": "code",
      "metadata": {
        "id": "1IY_bD4IllIB",
        "colab": {
          "base_uri": "https://localhost:8080/"
        },
        "outputId": "847baf8c-ca3d-4e4a-b9b2-2f41686f4957"
      },
      "source": [
        "function_q('13-00-01')"
      ],
      "execution_count": 18,
      "outputs": [
        {
          "output_type": "stream",
          "text": [
            "เวลาทั้งหมด = 13-00-01\n",
            "คำนวณเป็นวินาทีได้เท่ากับ 46801 วินาที\n"
          ],
          "name": "stdout"
        }
      ]
    },
    {
      "cell_type": "code",
      "metadata": {
        "id": "EONofk_Wls4i",
        "colab": {
          "base_uri": "https://localhost:8080/"
        },
        "outputId": "a9667e61-a84c-4d8f-8eba-ca4cb49a871c"
      },
      "source": [
        "function_q('05-49-44')"
      ],
      "execution_count": 19,
      "outputs": [
        {
          "output_type": "stream",
          "text": [
            "เวลาทั้งหมด = 05-49-44\n",
            "คำนวณเป็นวินาทีได้เท่ากับ 20984 วินาที\n"
          ],
          "name": "stdout"
        }
      ]
    },
    {
      "cell_type": "code",
      "metadata": {
        "id": "Qhf5EuQnlxYw",
        "colab": {
          "base_uri": "https://localhost:8080/"
        },
        "outputId": "008757b8-3554-4dda-cb93-3c2fc7e35e2e"
      },
      "source": [
        "function_q('00-00-16')"
      ],
      "execution_count": 20,
      "outputs": [
        {
          "output_type": "stream",
          "text": [
            "เวลาทั้งหมด = 00-00-16\n",
            "คำนวณเป็นวินาทีได้เท่ากับ 16 วินาที\n"
          ],
          "name": "stdout"
        }
      ]
    },
    {
      "cell_type": "markdown",
      "metadata": {
        "id": "y1qLDPLqQNNG"
      },
      "source": [
        "##Numpy  -> package สำหรับจัดการกับ Array ที่เป็นตัวเลข (Matrix)\r\n",
        "\r\n",
        "Num+py ->Number-Numerical + python \r\n",
        "\r\n",
        "การใช้ package\r\n",
        "1.import ชื่อ package #เรียกใช้ Package \r\n",
        "2.ชื่อ package.ชื่อฟังก์ชัน #เรียกใช้function"
      ]
    },
    {
      "cell_type": "code",
      "metadata": {
        "id": "B7eYHpvJR_s9"
      },
      "source": [
        "import numpy"
      ],
      "execution_count": 21,
      "outputs": []
    },
    {
      "cell_type": "markdown",
      "metadata": {
        "id": "AzEyXIIGSDid"
      },
      "source": [
        "data structure -> array "
      ]
    },
    {
      "cell_type": "code",
      "metadata": {
        "id": "5rouHA0pTsMk",
        "outputId": "8f13384a-ea05-4a2c-b2dc-ed015968480b",
        "colab": {
          "base_uri": "https://localhost:8080/"
        }
      },
      "source": [
        "mat_ex1 = numpy.array([[5.2,3.0,4.5],[9.1,0.1,0.3]])\r\n",
        "print(mat_ex1)"
      ],
      "execution_count": 23,
      "outputs": [
        {
          "output_type": "stream",
          "text": [
            "[[5.2 3.  4.5]\n",
            " [9.1 0.1 0.3]]\n"
          ],
          "name": "stdout"
        }
      ]
    },
    {
      "cell_type": "markdown",
      "metadata": {
        "id": "O93cwrcYUtCe"
      },
      "source": [
        "ชื่อค่าใน numpy array"
      ]
    },
    {
      "cell_type": "code",
      "metadata": {
        "id": "V414s1gAUx8-",
        "outputId": "c0731b0b-b51f-499c-ec5e-931d39b6ce97",
        "colab": {
          "base_uri": "https://localhost:8080/"
        }
      },
      "source": [
        "mat_ex1[1,1]  #[แถว,หลัก]  #แถวแนวนอนหลักแนวตั้ง"
      ],
      "execution_count": 24,
      "outputs": [
        {
          "output_type": "execute_result",
          "data": {
            "text/plain": [
              "0.1"
            ]
          },
          "metadata": {
            "tags": []
          },
          "execution_count": 24
        }
      ]
    },
    {
      "cell_type": "markdown",
      "metadata": {
        "id": "n-dRe_OmVyZT"
      },
      "source": [
        "ถ้าไม่มี numpy array"
      ]
    },
    {
      "cell_type": "code",
      "metadata": {
        "id": "GPLQjOStV4Jj",
        "outputId": "cc1b3672-d187-4041-c703-51c85287ae1e",
        "colab": {
          "base_uri": "https://localhost:8080/"
        }
      },
      "source": [
        "list_ex1 = [[5.2,3.0,4.5],[9.1,0.1,0.3]]\r\n",
        "print(list_ex1)"
      ],
      "execution_count": 26,
      "outputs": [
        {
          "output_type": "stream",
          "text": [
            "[[5.2, 3.0, 4.5], [9.1, 0.1, 0.3]]\n"
          ],
          "name": "stdout"
        }
      ]
    },
    {
      "cell_type": "code",
      "metadata": {
        "id": "kyfM6ImoVurz"
      },
      "source": [
        "list_ex1[1,1]"
      ],
      "execution_count": null,
      "outputs": []
    },
    {
      "cell_type": "code",
      "metadata": {
        "id": "SxzppnILQf5O",
        "outputId": "a0667389-7afb-45c8-8f77-6fa3073cf26b",
        "colab": {
          "base_uri": "https://localhost:8080/"
        }
      },
      "source": [
        "list_ex1[1][1]"
      ],
      "execution_count": 27,
      "outputs": [
        {
          "output_type": "execute_result",
          "data": {
            "text/plain": [
              "0.1"
            ]
          },
          "metadata": {
            "tags": []
          },
          "execution_count": 27
        }
      ]
    },
    {
      "cell_type": "code",
      "metadata": {
        "id": "XJh1LoHiXl6l",
        "outputId": "d8120ab4-4d52-4ab4-ccd1-904392da7860",
        "colab": {
          "base_uri": "https://localhost:8080/"
        }
      },
      "source": [
        "print(list_ex1)\r\n",
        "a = list_ex1[1]\r\n",
        "print(a)\r\n",
        "print(a[1])"
      ],
      "execution_count": 28,
      "outputs": [
        {
          "output_type": "stream",
          "text": [
            "[[5.2, 3.0, 4.5], [9.1, 0.1, 0.3]]\n",
            "[9.1, 0.1, 0.3]\n",
            "0.1\n"
          ],
          "name": "stdout"
        }
      ]
    },
    {
      "cell_type": "markdown",
      "metadata": {
        "id": "JzOz6O1lYBoD"
      },
      "source": [
        "##Matrix Operations\r\n",
        "data -> 2 แบบ matrix(2D array ) , scalar (ตัวเลขค่าคงที่)"
      ]
    },
    {
      "cell_type": "code",
      "metadata": {
        "id": "Y6v3tQ8DX2Sa",
        "outputId": "b3e92cb3-e768-43fb-8f4c-c59ea5b29880",
        "colab": {
          "base_uri": "https://localhost:8080/"
        }
      },
      "source": [
        "mat_ax1 = numpy.array([[5.2,3.0,4.5],[9.1,0.1,0.3]])\r\n",
        "print(mat_ex1)\r\n",
        "mat_ex2 = numpy.array([[2,3.7,5.9],[91,1.5,7.3]])\r\n",
        "print(mat_ex2)"
      ],
      "execution_count": 29,
      "outputs": [
        {
          "output_type": "stream",
          "text": [
            "[[5.2 3.  4.5]\n",
            " [9.1 0.1 0.3]]\n",
            "[[ 2.   3.7  5.9]\n",
            " [91.   1.5  7.3]]\n"
          ],
          "name": "stdout"
        }
      ]
    },
    {
      "cell_type": "markdown",
      "metadata": {
        "id": "X_HuL0cgZAeC"
      },
      "source": [
        "##บวกกับลบ matrix เอาตัวเลขตำแหน่งเดียวกันมาบวกหรือลบกัน \r\n",
        "(หน้าตาของ matrix ต้องเหมือนกัน)"
      ]
    },
    {
      "cell_type": "code",
      "metadata": {
        "id": "CB_ugj96ZyAV",
        "outputId": "01c90504-096e-4047-b2da-f8122017e286",
        "colab": {
          "base_uri": "https://localhost:8080/"
        }
      },
      "source": [
        "mat_ex0 = numpy.array ([[1,2],[3,4]])\r\n",
        "print(mat_ex0)"
      ],
      "execution_count": 33,
      "outputs": [
        {
          "output_type": "stream",
          "text": [
            "[[1 2]\n",
            " [3 4]]\n"
          ],
          "name": "stdout"
        }
      ]
    },
    {
      "cell_type": "code",
      "metadata": {
        "id": "dpl3ZcRxZCTK",
        "outputId": "cd4b2a01-0eb7-4b73-b42c-870e9733a232",
        "colab": {
          "base_uri": "https://localhost:8080/"
        }
      },
      "source": [
        "mat_ex3 = mat_ex1 + mat_ex2\r\n",
        "print(mat_ex3)\r\n",
        "mat_ex4 = mat_ex1 - mat_ex2\r\n",
        "print(mat_ex4)"
      ],
      "execution_count": 30,
      "outputs": [
        {
          "output_type": "stream",
          "text": [
            "[[  7.2   6.7  10.4]\n",
            " [100.1   1.6   7.6]]\n",
            "[[  3.2  -0.7  -1.4]\n",
            " [-81.9  -1.4  -7. ]]\n"
          ],
          "name": "stdout"
        }
      ]
    },
    {
      "cell_type": "code",
      "metadata": {
        "id": "xHAfsKPsaDwS"
      },
      "source": [
        "mat_ex1 + mat_ex0 "
      ],
      "execution_count": null,
      "outputs": []
    },
    {
      "cell_type": "markdown",
      "metadata": {
        "id": "s3LBcEOWaIqa"
      },
      "source": [
        "การตรวจสอบขนาดของ matrix  ใช้คำว่า shape"
      ]
    },
    {
      "cell_type": "code",
      "metadata": {
        "id": "vvqS_gsDace5",
        "outputId": "5072aa4d-841b-460d-82f8-b62a4ed199cc",
        "colab": {
          "base_uri": "https://localhost:8080/"
        }
      },
      "source": [
        "mat_ex3.shape"
      ],
      "execution_count": 34,
      "outputs": [
        {
          "output_type": "execute_result",
          "data": {
            "text/plain": [
              "(2, 3)"
            ]
          },
          "metadata": {
            "tags": []
          },
          "execution_count": 34
        }
      ]
    },
    {
      "cell_type": "code",
      "metadata": {
        "id": "sIeOVrxBahzU",
        "outputId": "a79a4231-7d3b-47bc-ed93-7bf8d8db9004",
        "colab": {
          "base_uri": "https://localhost:8080/"
        }
      },
      "source": [
        "mat_ex3.shape[0]"
      ],
      "execution_count": 35,
      "outputs": [
        {
          "output_type": "execute_result",
          "data": {
            "text/plain": [
              "2"
            ]
          },
          "metadata": {
            "tags": []
          },
          "execution_count": 35
        }
      ]
    },
    {
      "cell_type": "markdown",
      "metadata": {
        "id": "vnwXxq1ua_cM"
      },
      "source": [
        "##คูณ matrix"
      ]
    },
    {
      "cell_type": "code",
      "metadata": {
        "id": "M9njJWUOb4_Z",
        "outputId": "19a0fa4a-a101-40aa-c6de-81e2b0757b18",
        "colab": {
          "base_uri": "https://localhost:8080/"
        }
      },
      "source": [
        "print(mat_ex1)\r\n",
        "print(mat_ex2)"
      ],
      "execution_count": 36,
      "outputs": [
        {
          "output_type": "stream",
          "text": [
            "[[5.2 3.  4.5]\n",
            " [9.1 0.1 0.3]]\n",
            "[[ 2.   3.7  5.9]\n",
            " [91.   1.5  7.3]]\n"
          ],
          "name": "stdout"
        }
      ]
    },
    {
      "cell_type": "code",
      "metadata": {
        "id": "CHMgKApzbD7x",
        "outputId": "dfcdbcb0-2c01-4dcd-ff3d-8a7371fdbf8e",
        "colab": {
          "base_uri": "https://localhost:8080/"
        }
      },
      "source": [
        "mat_ex1 * mat_ex2  #incorrect"
      ],
      "execution_count": 38,
      "outputs": [
        {
          "output_type": "execute_result",
          "data": {
            "text/plain": [
              "array([[1.040e+01, 1.110e+01, 2.655e+01],\n",
              "       [8.281e+02, 1.500e-01, 2.190e+00]])"
            ]
          },
          "metadata": {
            "tags": []
          },
          "execution_count": 38
        }
      ]
    },
    {
      "cell_type": "markdown",
      "metadata": {
        "id": "FZCKxHqNer_6"
      },
      "source": [
        "## การคูณ matrix (แถวคูณหลัก)\r\n",
        "(หลักของตัวข้างหน้าต้องเท่ากับแถวของตัวข้างหลัง)\r\n",
        "\r\n",
        "\r\n",
        "dot product  ( (AAA,x),(x,ZZZ) ) = (AAA,ZZZ)"
      ]
    },
    {
      "cell_type": "code",
      "metadata": {
        "id": "WUjCh2IlbtHp",
        "outputId": "bf3c7d46-b310-46fe-dbe7-90a5ed30ea0e",
        "colab": {
          "base_uri": "https://localhost:8080/"
        }
      },
      "source": [
        "print(mat_ex1)\r\n",
        "print(mat_ex1.shape)\r\n",
        "print(mat_ex2)\r\n",
        "print(mat_ex2.shape)"
      ],
      "execution_count": 39,
      "outputs": [
        {
          "output_type": "stream",
          "text": [
            "[[5.2 3.  4.5]\n",
            " [9.1 0.1 0.3]]\n",
            "(2, 3)\n",
            "[[ 2.   3.7  5.9]\n",
            " [91.   1.5  7.3]]\n",
            "(2, 3)\n"
          ],
          "name": "stdout"
        }
      ]
    },
    {
      "cell_type": "markdown",
      "metadata": {
        "id": "cgYIicYff6i5"
      },
      "source": [
        "# Transpose กลับแถวเป็นหลักกลีบหลักเป็นแถว\r\n",
        "\r\n",
        "matrix.T"
      ]
    },
    {
      "cell_type": "code",
      "metadata": {
        "id": "XTZHbRoTgLmZ",
        "outputId": "f901aa26-be0a-4391-d013-79ee1f7a33da",
        "colab": {
          "base_uri": "https://localhost:8080/"
        }
      },
      "source": [
        "numpy.dot(mat_ex1,mat_ex2.T)  #(2,3.(3,2))"
      ],
      "execution_count": 45,
      "outputs": [
        {
          "output_type": "execute_result",
          "data": {
            "text/plain": [
              "array([[ 48.05, 510.55],\n",
              "       [ 20.34, 830.44]])"
            ]
          },
          "metadata": {
            "tags": []
          },
          "execution_count": 45
        }
      ]
    },
    {
      "cell_type": "code",
      "metadata": {
        "id": "rG8KfAG6gaJo",
        "outputId": "8b0c2cae-217c-42f0-ac00-f5823b29b708",
        "colab": {
          "base_uri": "https://localhost:8080/"
        }
      },
      "source": [
        "numpy.dot(mat_ex1.T,mat_ex2) #(3,2).(2,3) = (3,3)"
      ],
      "execution_count": 47,
      "outputs": [
        {
          "output_type": "execute_result",
          "data": {
            "text/plain": [
              "array([[838.5 ,  32.89,  97.11],\n",
              "       [ 15.1 ,  11.25,  18.43],\n",
              "       [ 36.3 ,  17.1 ,  28.74]])"
            ]
          },
          "metadata": {
            "tags": []
          },
          "execution_count": 47
        }
      ]
    },
    {
      "cell_type": "markdown",
      "metadata": {
        "id": "W8pdensiil_r"
      },
      "source": [
        "HW 4 อธิบายการหา Deteminant และ Inverse matrix (รูปและคำอธิบาย)"
      ]
    },
    {
      "cell_type": "code",
      "metadata": {
        "id": "XQ-7G3sWgaF4"
      },
      "source": [
        ""
      ],
      "execution_count": null,
      "outputs": []
    },
    {
      "cell_type": "code",
      "metadata": {
        "id": "PiW9VZSMgZ-B"
      },
      "source": [
        ""
      ],
      "execution_count": null,
      "outputs": []
    }
  ]
}