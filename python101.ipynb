{
  "nbformat": 4,
  "nbformat_minor": 0,
  "metadata": {
    "colab": {
      "name": "python101.ipynb",
      "provenance": [],
      "authorship_tag": "ABX9TyNrdDwTbo5WUXCOVTp7u2a3",
      "include_colab_link": true
    },
    "kernelspec": {
      "name": "python3",
      "display_name": "Python 3"
    }
  },
  "cells": [
    {
      "cell_type": "markdown",
      "metadata": {
        "id": "view-in-github",
        "colab_type": "text"
      },
      "source": [
        "<a href=\"https://colab.research.google.com/github/sskboonmee/multivariate/blob/main/python101.ipynb\" target=\"_parent\"><img src=\"https://colab.research.google.com/assets/colab-badge.svg\" alt=\"Open In Colab\"/></a>"
      ]
    },
    {
      "cell_type": "markdown",
      "metadata": {
        "id": "62Xvo0DKLk8Y"
      },
      "source": [
        "#ตัวแปรหรือ Variable   เป็นกล่องที่เอาไว้ชี้แล้วแบบค่าตัวแปรคืออะไร  หลักการตั้งชื่อตัวแปร \r\n",
        "1.ตั้งให้สื่อ\r\n",
        "2.ภาษาอังกฤษ\r\n",
        "3.ใช้ตัวเลขได้แต่ห้ามขึ้นต้นด้วยตัวเลข \r\n",
        "4.ห้ามเว้นวรรค\r\n",
        "5.ตัวเล็กกับตัวใหญ่ไม่เหมือนกัน\r\n",
        "\r\n",
        "#hashtagคือการcomment"
      ]
    },
    {
      "cell_type": "markdown",
      "metadata": {
        "id": "G4Tq6ONW-Ae3"
      },
      "source": [
        "#python มี Output 2 mode \n",
        "คือ 1.ออกหน้าจอ คือจะไม่ถูกเก็บไว้ที่ไหนและจะเอาไปใช้ต่อไม่ได้\n",
        "2.เข้าไปเก็บในตัวแปร คือจะต้องมีตัวแปรมารับค่า"
      ]
    },
    {
      "cell_type": "code",
      "metadata": {
        "colab": {
          "base_uri": "https://localhost:8080/"
        },
        "id": "daHpGO5oKoHf",
        "outputId": "fa171aa4-50f5-404c-b874-b3af1d3aed54"
      },
      "source": [
        "3.14159   #hastagหรือเครื่องหมาย sharp #  คือ comment >>>อันนี้คือ Output แบบออกหน้าจอ"
      ],
      "execution_count": 50,
      "outputs": [
        {
          "output_type": "execute_result",
          "data": {
            "text/plain": [
              "3.14159"
            ]
          },
          "metadata": {
            "tags": []
          },
          "execution_count": 50
        }
      ]
    },
    {
      "cell_type": "code",
      "metadata": {
        "id": "PUcBgi1mM74W"
      },
      "source": [
        "Pi = 3.14159  # อันนี้คือ Output ที่เข้าไปอยู่ในตัวแปร\r\n"
      ],
      "execution_count": 51,
      "outputs": []
    },
    {
      "cell_type": "code",
      "metadata": {
        "colab": {
          "base_uri": "https://localhost:8080/"
        },
        "id": "yzfwBNfBOHQr",
        "outputId": "a4cf6ffc-3b2b-4040-ad8e-8a1f99043552"
      },
      "source": [
        "Pi"
      ],
      "execution_count": 52,
      "outputs": [
        {
          "output_type": "execute_result",
          "data": {
            "text/plain": [
              "3.14159"
            ]
          },
          "metadata": {
            "tags": []
          },
          "execution_count": 52
        }
      ]
    },
    {
      "cell_type": "code",
      "metadata": {
        "colab": {
          "base_uri": "https://localhost:8080/"
        },
        "id": "M_moE00WNp4V",
        "outputId": "76a3ceea-27a9-4ade-9c51-159e54af6664"
      },
      "source": [
        "a = 1234567  #อันนี้คือการตั้งตัวแปรชื่อaแล้วเอาค่า1234567ใส่ในตัวแปรa\r\n",
        "print(a)     #อันนี้คือแสดงผลa"
      ],
      "execution_count": 53,
      "outputs": [
        {
          "output_type": "stream",
          "text": [
            "1234567\n"
          ],
          "name": "stdout"
        }
      ]
    },
    {
      "cell_type": "markdown",
      "metadata": {
        "id": "-v1HnNuA_tUd"
      },
      "source": [
        "#ชนิดของตัวแปร 3 ชนิด "
      ]
    },
    {
      "cell_type": "markdown",
      "metadata": {
        "id": "lFux7I1RBMKD"
      },
      "source": [
        "###1.จำนวนเต็ม (integer,int) \n",
        "วิธีการสร้างก็คือ ตั้งชื่อตัวแปร1ตัวอะไรก็ได้ละก็เท่ากับจำนวนที่เป็นintไปเลยซึ่งไอ่ตัวintก็คือจำนวนไม่มีจุดทศนิยมจำนวนเต็มนั่นเอง"
      ]
    },
    {
      "cell_type": "code",
      "metadata": {
        "colab": {
          "base_uri": "https://localhost:8080/"
        },
        "id": "0tpY2YiRPELx",
        "outputId": "9d96853b-3b62-4d93-d516-c85d556a5e70"
      },
      "source": [
        "aaa = 1092\r\n",
        "print(aaa)"
      ],
      "execution_count": 54,
      "outputs": [
        {
          "output_type": "stream",
          "text": [
            "1092\n"
          ],
          "name": "stdout"
        }
      ]
    },
    {
      "cell_type": "markdown",
      "metadata": {
        "id": "jgTZhD_gCoxV"
      },
      "source": [
        "###2.จำนวนจริง (float)\n",
        "วิธีตั้ง float ก็เมื่อเรามีจุดมันก็บอกว่าเราเป็นจำนวนจริง"
      ]
    },
    {
      "cell_type": "code",
      "metadata": {
        "colab": {
          "base_uri": "https://localhost:8080/"
        },
        "id": "9zjEiCQYPYSi",
        "outputId": "935bdda2-8522-40ef-cff1-3f192370d97b"
      },
      "source": [
        "bbb = 11.\r\n",
        "print(bbb)"
      ],
      "execution_count": 55,
      "outputs": [
        {
          "output_type": "stream",
          "text": [
            "11.0\n"
          ],
          "name": "stdout"
        }
      ]
    },
    {
      "cell_type": "markdown",
      "metadata": {
        "id": "UdiR28n_Ph7i"
      },
      "source": [
        "###3.ตัวอักษร-ข้อความ (character และ text,string)\n",
        "เหตุผลที่ต้องมี'' และ \"\" ล้อมรอบก็เพื่อแสดงให้รู้ว่าอันนี้คือตัวอักษร-ข้อความนะ"
      ]
    },
    {
      "cell_type": "code",
      "metadata": {
        "id": "JPdaoMF-RwIJ",
        "colab": {
          "base_uri": "https://localhost:8080/"
        },
        "outputId": "0ccb239b-11b7-4612-9642-aac88efc17e1"
      },
      "source": [
        " ccc = '123456'  # เราใช้ single qoute ' หรือ double qoute \" ล้อมรอบตัวหนังสือเพื่อระบุว่าเป็น Character-string\n",
        "print(ccc)"
      ],
      "execution_count": 56,
      "outputs": [
        {
          "output_type": "stream",
          "text": [
            "123456\n"
          ],
          "name": "stdout"
        }
      ]
    },
    {
      "cell_type": "code",
      "metadata": {
        "colab": {
          "base_uri": "https://localhost:8080/"
        },
        "id": "TkQ_ac6nF3BA",
        "outputId": "69a592b8-2177-42e8-eb5d-5e9b93e0f0f1"
      },
      "source": [
        "aaa + bbb    # float + int = float"
      ],
      "execution_count": 57,
      "outputs": [
        {
          "output_type": "execute_result",
          "data": {
            "text/plain": [
              "1103.0"
            ]
          },
          "metadata": {
            "tags": []
          },
          "execution_count": 57
        }
      ]
    },
    {
      "cell_type": "code",
      "metadata": {
        "colab": {
          "base_uri": "https://localhost:8080/",
          "height": 225
        },
        "id": "DkdPLWrxFz4s",
        "outputId": "0cec71cb-a7c9-441d-de18-309567d55af1"
      },
      "source": [
        "bbb + ccc #ข้อความไม่สามารถเอามาบวกกับตัวเลขได้ดูจากTypeErrorแก้โดยเปลี่ยนชนิดของตัวแปร"
      ],
      "execution_count": 58,
      "outputs": [
        {
          "output_type": "error",
          "ename": "TypeError",
          "evalue": "ignored",
          "traceback": [
            "\u001b[0;31m---------------------------------------------------------------------------\u001b[0m",
            "\u001b[0;31mTypeError\u001b[0m                                 Traceback (most recent call last)",
            "\u001b[0;32m<ipython-input-58-5411c316fae8>\u001b[0m in \u001b[0;36m<module>\u001b[0;34m()\u001b[0m\n\u001b[0;32m----> 1\u001b[0;31m \u001b[0mbbb\u001b[0m \u001b[0;34m+\u001b[0m \u001b[0mccc\u001b[0m \u001b[0;31m#ข้อความไม่สามารถเอามาบวกกับตัวเลขได้ดูจากTypeErrorแก้โดยเปลี่ยนชนิดของตัวแปร\u001b[0m\u001b[0;34m\u001b[0m\u001b[0;34m\u001b[0m\u001b[0m\n\u001b[0m",
            "\u001b[0;31mTypeError\u001b[0m: unsupported operand type(s) for +: 'float' and 'str'"
          ]
        }
      ]
    },
    {
      "cell_type": "code",
      "metadata": {
        "id": "scb5XifSQ2Vy"
      },
      "source": [
        "ddd = 'ศศิกานต์'\r\n",
        "print(ddd)"
      ],
      "execution_count": null,
      "outputs": []
    },
    {
      "cell_type": "markdown",
      "metadata": {
        "id": "YAqICsW-Q4p2"
      },
      "source": [
        "##การเปลี่ยนชนิดของตัวแปร variable casting"
      ]
    },
    {
      "cell_type": "code",
      "metadata": {
        "id": "H12OkDONRodS"
      },
      "source": [
        "bbb + int (ccc) #>>ไปบังคับมันเป็นint"
      ],
      "execution_count": null,
      "outputs": []
    },
    {
      "cell_type": "code",
      "metadata": {
        "id": "XgNKCk1YH_Ts"
      },
      "source": [
        "aaa + int (ccc) #>>อันนี้ก็บังคับเป็นint"
      ],
      "execution_count": null,
      "outputs": []
    },
    {
      "cell_type": "code",
      "metadata": {
        "id": "qGAaH9HRSBdw"
      },
      "source": [
        "aaa + float(ccc) #>>float+intก็จะได้float"
      ],
      "execution_count": null,
      "outputs": []
    },
    {
      "cell_type": "code",
      "metadata": {
        "id": "hYid2zOfSOph"
      },
      "source": [
        "str(aaa) #>>intแปลงเป็นข้อความออกมาแล้วก็ดูออกว่าเป็นข้อความสังเกตจาก''ครอบตรงรันออกมา"
      ],
      "execution_count": null,
      "outputs": []
    },
    {
      "cell_type": "code",
      "metadata": {
        "id": "cuBmyCCTIoCL"
      },
      "source": [
        "print(str(aaa))"
      ],
      "execution_count": null,
      "outputs": []
    },
    {
      "cell_type": "markdown",
      "metadata": {
        "id": "oMV5nV5aSUI1"
      },
      "source": [
        "#การดำเนินการ Operation (Operators +,-,*,/,%)"
      ]
    },
    {
      "cell_type": "code",
      "metadata": {
        "id": "JajcTSHcTC5n"
      },
      "source": [
        "a+b  #ก็คือมันไม่มีb"
      ],
      "execution_count": null,
      "outputs": []
    },
    {
      "cell_type": "code",
      "metadata": {
        "id": "aGOPbduDKac8"
      },
      "source": [
        "aaa + bbb #อันนี้ก็คือแสดงค่าเฉยๆเอาไปใช้ต่อไม่ได้"
      ],
      "execution_count": null,
      "outputs": []
    },
    {
      "cell_type": "code",
      "metadata": {
        "id": "NxJmKQigKhNQ"
      },
      "source": [
        "aaa - bbb"
      ],
      "execution_count": null,
      "outputs": []
    },
    {
      "cell_type": "code",
      "metadata": {
        "id": "GzwnA5kRK02q"
      },
      "source": [
        "ab = aaa*bbb  #อันนี้มีตัวแปรมารับค่าก็จะสามารถเอามาใช้ต่อได้\n",
        "print(ab)"
      ],
      "execution_count": null,
      "outputs": []
    },
    {
      "cell_type": "code",
      "metadata": {
        "id": "jcic1TWcLJ15"
      },
      "source": [
        "ab + int(ccc)"
      ],
      "execution_count": null,
      "outputs": []
    },
    {
      "cell_type": "markdown",
      "metadata": {
        "id": "PEo4QTyrT7Xv"
      },
      "source": [
        "##% คือหมาย modulo คือการหารเอาเศษ 2หารได้เศษ 0 ก็เป็นเลขคู่ หารได้เศษ 1 ก็เป็นเลขคี่"
      ]
    },
    {
      "cell_type": "code",
      "metadata": {
        "id": "GNml3-quT1np"
      },
      "source": [
        "5%3"
      ],
      "execution_count": null,
      "outputs": []
    },
    {
      "cell_type": "code",
      "metadata": {
        "id": "_v6X5E4YT-_N"
      },
      "source": [
        "7%3"
      ],
      "execution_count": null,
      "outputs": []
    },
    {
      "cell_type": "markdown",
      "metadata": {
        "id": "qAIfmFRFUDT3"
      },
      "source": [
        "#คำสั่ง print แบบพิเศษ (การ format )"
      ]
    },
    {
      "cell_type": "code",
      "metadata": {
        "id": "wQET9mpSMVuW"
      },
      "source": [
        "print('ตัวแปร')  #สิ่งที่อยู่ข้างในวงเล็บ คือ ตัวแปรและ string คือ printสามารถprint ตัวแปรก็ได้stringก็ได้"
      ],
      "execution_count": null,
      "outputs": []
    },
    {
      "cell_type": "code",
      "metadata": {
        "id": "UFKyzzTgUfZF"
      },
      "source": [
        "print(f'% คือการหารเอาเศษ เช่น  7%3 ={7%3}') # เพิ่ม f หน้า ข้อความ 'string' และใช้ {} เพื่อบอกว่าข้างในปีกกาจะเป็นcode ของpython"
      ],
      "execution_count": null,
      "outputs": []
    },
    {
      "cell_type": "code",
      "metadata": {
        "id": "NNko36U2PvQp"
      },
      "source": [
        "f'% คือการหารเอาเศษ เช่น 7%3 ={aaa}' #{} ใส่code"
      ],
      "execution_count": null,
      "outputs": []
    },
    {
      "cell_type": "code",
      "metadata": {
        "id": "B9D4e6PBVkPe"
      },
      "source": [
        "print (f'% คือการหารเอาเศษ เช่น 7%3 = {7%3}) \\\r\n",
        "แต่ \\n/ คือการหารปกติ เช่น 7/3 = {7/3} \\\r\n",
        "และ \\n// คือการหารเอาส่วน เช่น 7//3 = {7//3} \\\r\n",
        "หรือ \\nใช้ int() เพื่อหารเอาส่วน เช่น int(7/3) = {int(7/3)}')  # \\n คือการขึ้นบรรทัดใหม่ \\ใช้ในการตัด"
      ],
      "execution_count": null,
      "outputs": []
    },
    {
      "cell_type": "markdown",
      "metadata": {
        "id": "4hPBvuxYQqtZ"
      },
      "source": [
        "#### \\ คือการตัดcode ให้เราเห็นเองแต่คอมมองไม่เห็นเพื่อให้คอมดูง่ายๆ ที่คอมมองเห็นว่าขึ้นบรรทัดใหม่คือ \\n"
      ]
    },
    {
      "cell_type": "markdown",
      "metadata": {
        "id": "7kFKV7QyWRuj"
      },
      "source": [
        "#### \\ คือตัดโค้ดให้เราเห็นเอง \\n คือการขึ้นบรรทัดใหม่ ใส่ปีกกาเพื่อบอกว่าเป็น code ของ python"
      ]
    },
    {
      "cell_type": "markdown",
      "metadata": {
        "id": "KDUGbU3xW-Bh"
      },
      "source": [
        "#DATA STRUCTURE (โครงสร้างข้อมูล)"
      ]
    },
    {
      "cell_type": "markdown",
      "metadata": {
        "id": "n85wR7n2XHtC"
      },
      "source": [
        "### List คือ การเอาข้อมูลหลายๆตัวมาเรียงต่อกัน สัญลักษณ์ของlist ก็คือ [  ] | ตัวแปรหลายๆตัวมาอยู่ในที่เก็บเดียวกัน\r\n",
        "####list สามารถสร้างได้ 2 แบบดังนี้"
      ]
    },
    {
      "cell_type": "code",
      "metadata": {
        "id": "YlMT1umeXZg4"
      },
      "source": [
        "[111,'c','งง',aaa]"
      ],
      "execution_count": null,
      "outputs": []
    },
    {
      "cell_type": "markdown",
      "metadata": {
        "id": "H7_u53mDXu8T"
      },
      "source": [
        "####แบบที่ 1 >square brackets  คือ สร้างด้วยสัญลักษณ์ของlistเลย บอกไปตรงๆเลยว่าตัวแปรนี้คือlistที่หน้าตาเป็นยังไง Ex.listเปล่าๆ หรือ list ที่มีข้อมูลอื่นอยู่ด้วย"
      ]
    },
    {
      "cell_type": "code",
      "metadata": {
        "colab": {
          "base_uri": "https://localhost:8080/"
        },
        "id": "98iLMykJX1_f",
        "outputId": "7c84dbc5-b2c3-48cc-9630-5fb44889a967"
      },
      "source": [
        "list_a = [] #ไม่มีอะไรอยู่ข้างในเรียกว่าlistว่าง\r\n",
        "print(list_a)"
      ],
      "execution_count": 75,
      "outputs": [
        {
          "output_type": "stream",
          "text": [
            "[]\n"
          ],
          "name": "stdout"
        }
      ]
    },
    {
      "cell_type": "code",
      "metadata": {
        "id": "ViM1hjpvYKja"
      },
      "source": [
        "list_b = [111,'c','งง',aaa] #111ก็คือตัวที่0บะก็ไล่ไป\n",
        "print(list_b)"
      ],
      "execution_count": null,
      "outputs": []
    },
    {
      "cell_type": "markdown",
      "metadata": {
        "id": "xUot3IHvTgxk"
      },
      "source": [
        "####ลำดับที่อยู่ใน list มีความสำคัญ (ลำดับในlist เริ่มจาก 0,1,2,...)"
      ]
    },
    {
      "cell_type": "code",
      "metadata": {
        "id": "uPy2P_U4Ty30"
      },
      "source": [
        "list_b[2]"
      ],
      "execution_count": null,
      "outputs": []
    },
    {
      "cell_type": "markdown",
      "metadata": {
        "id": "vkqbtyUtU25b"
      },
      "source": [
        "แบบที่2 บอกว่าตัวแปรนี้เท่ากับlist ดังข้างล่าง"
      ]
    },
    {
      "cell_type": "code",
      "metadata": {
        "id": "kyIO0rDLUprX"
      },
      "source": [
        "list_c = list() #list()ก็คือบอกว่าเราจะสร้างlistขึ้นมานะ #ตรงlist_cคือตัวแปร\n",
        "print(list_c)"
      ],
      "execution_count": null,
      "outputs": []
    },
    {
      "cell_type": "markdown",
      "metadata": {
        "id": "_IgEhnp_WPLT"
      },
      "source": [
        "##append() เพิ่มสมาชิกในlist\n",
        ".append คือเอาสมาชิกไปต่อท้ายของ list"
      ]
    },
    {
      "cell_type": "code",
      "metadata": {
        "id": "XSlYf_U5YB2j"
      },
      "source": [
        "list_b.append('d')\n",
        "print(list_b)"
      ],
      "execution_count": null,
      "outputs": []
    },
    {
      "cell_type": "markdown",
      "metadata": {
        "id": "ubNXggq4XyO5"
      },
      "source": [
        "ตัวที่อยู่ในวงเล็บหลังจากตัวแปร list เรียกว่า index ใช้สำหรับชี้ข้อมูลใน list (ชี้จากข้างหน้า,ชี้จากข้างหลัง)\n",
        "0 คือสมาชิกตัวแรก, -1 คือสมาชิกตัวสุดท้าย"
      ]
    },
    {
      "cell_type": "code",
      "metadata": {
        "id": "sQLk54XKXtYS"
      },
      "source": [
        "list_b[-1] "
      ],
      "execution_count": null,
      "outputs": []
    },
    {
      "cell_type": "markdown",
      "metadata": {
        "id": "5B433OB1YsDb"
      },
      "source": [
        "##String > list of characters\n",
        "คือlistของตัวอักษรหลายๆตัวเอามารวมกัน"
      ]
    },
    {
      "cell_type": "code",
      "metadata": {
        "id": "75Veu9LEZb3J"
      },
      "source": [
        "t = 'python is easy'\n",
        "print(t)"
      ],
      "execution_count": null,
      "outputs": []
    },
    {
      "cell_type": "code",
      "metadata": {
        "id": "xkUfIgLRZl4d"
      },
      "source": [
        "t[1]"
      ],
      "execution_count": null,
      "outputs": []
    },
    {
      "cell_type": "code",
      "metadata": {
        "id": "zj2xZLeSZp8i"
      },
      "source": [
        "t[-1]"
      ],
      "execution_count": null,
      "outputs": []
    },
    {
      "cell_type": "code",
      "metadata": {
        "id": "zBTB1NUaZvGv"
      },
      "source": [
        "t[-4]"
      ],
      "execution_count": null,
      "outputs": []
    },
    {
      "cell_type": "code",
      "metadata": {
        "id": "WJjNDozwZ8Bu"
      },
      "source": [
        "t[4]"
      ],
      "execution_count": null,
      "outputs": []
    },
    {
      "cell_type": "code",
      "metadata": {
        "colab": {
          "base_uri": "https://localhost:8080/",
          "height": 38
        },
        "id": "CKh8bv_MaBml",
        "outputId": "32eab780-1bde-47a0-c5ed-ad8319d9c48d"
      },
      "source": [
        "t[6]"
      ],
      "execution_count": null,
      "outputs": [
        {
          "output_type": "execute_result",
          "data": {
            "application/vnd.google.colaboratory.intrinsic+json": {
              "type": "string"
            },
            "text/plain": [
              "' '"
            ]
          },
          "metadata": {
            "tags": []
          },
          "execution_count": 76
        }
      ]
    },
    {
      "cell_type": "markdown",
      "metadata": {
        "id": "rZqRTKCLp5Pl"
      },
      "source": [
        "##ตรงนี้มันเด้งให้ไปตามแล้วเขียนใหม่"
      ]
    },
    {
      "cell_type": "markdown",
      "metadata": {
        "id": "eCkqTmo4oSix"
      },
      "source": [
        "ถ้าวางไว้ข้างหน้า:หมายความว่า เริ่มตั้งแต่ตัวแรก (0)\n",
        "ถ้าวางไว้ข้างหลัง : คือ ไปจนถึงตัวสุดท้าย (len(list))"
      ]
    },
    {
      "cell_type": "code",
      "metadata": {
        "id": "kn4MujLxoYx1",
        "outputId": "a8d56746-cbca-48b5-fa5d-85f40f637224",
        "colab": {
          "base_uri": "https://localhost:8080/"
        }
      },
      "source": [
        "print(t)\n",
        "print(t[7:9])\n",
        "print(len(t[7:9]))"
      ],
      "execution_count": 59,
      "outputs": [
        {
          "output_type": "stream",
          "text": [
            "python is easy\n",
            "is\n",
            "2\n"
          ],
          "name": "stdout"
        }
      ]
    },
    {
      "cell_type": "code",
      "metadata": {
        "id": "0iFHdgEbo42U"
      },
      "source": [
        "t[0:14:2]"
      ],
      "execution_count": null,
      "outputs": []
    },
    {
      "cell_type": "code",
      "metadata": {
        "id": "ENWChMTUo_KR",
        "outputId": "665bae69-5833-4bf3-f3fa-3021d9cd5633",
        "colab": {
          "base_uri": "https://localhost:8080/"
        }
      },
      "source": [
        "Z = [1,2,3,4,5,6,7,8,9,10]\n",
        "print(Z)"
      ],
      "execution_count": 69,
      "outputs": [
        {
          "output_type": "stream",
          "text": [
            "[1, 2, 3, 4, 5, 6, 7, 8, 9, 10]\n"
          ],
          "name": "stdout"
        }
      ]
    },
    {
      "cell_type": "code",
      "metadata": {
        "id": "LfivWgKxpJ51",
        "outputId": "41c54cc9-983a-4626-cc6c-659e956521b5",
        "colab": {
          "base_uri": "https://localhost:8080/"
        }
      },
      "source": [
        "Z[1:10:2] #หน้าที่ของcolonตัวแรกด้านหน้าเริ่มจากตัวไหนด้านหลังเอาถึงตัวไหน หน้าที่ของcolonตัวที่สองคือบอกว่าเอาทุกๆในที่นี้คือเอาทุกๆ2ตัว"
      ],
      "execution_count": 61,
      "outputs": [
        {
          "output_type": "execute_result",
          "data": {
            "text/plain": [
              "[2, 4, 6, 8, 10]"
            ]
          },
          "metadata": {
            "tags": []
          },
          "execution_count": 61
        }
      ]
    },
    {
      "cell_type": "code",
      "metadata": {
        "id": "UjF8yQXqpcB9",
        "outputId": "9341219f-524c-4fd3-c6e1-39d7c41a2430",
        "colab": {
          "base_uri": "https://localhost:8080/"
        }
      },
      "source": [
        "print(t)\n",
        "print(t[:6])  #>ตรงนี้ไม่ใส่ด้านหน้าก็แสดงว่าเริ่มจากตัวแรก\n",
        "print(t[10:])\n",
        "print(t[-4:])\n",
        "print(t[:])"
      ],
      "execution_count": 62,
      "outputs": [
        {
          "output_type": "stream",
          "text": [
            "python is easy\n",
            "python\n",
            "easy\n",
            "easy\n",
            "python is easy\n"
          ],
          "name": "stdout"
        }
      ]
    },
    {
      "cell_type": "code",
      "metadata": {
        "id": "1VoQ6kRmqNJt",
        "outputId": "45e1cdd8-fbf0-49f9-c8f6-67e6a67ce450",
        "colab": {
          "base_uri": "https://localhost:8080/"
        }
      },
      "source": [
        "print(Z[::2])  "
      ],
      "execution_count": 72,
      "outputs": [
        {
          "output_type": "stream",
          "text": [
            "[1, 3, 5, 7, 9]\n"
          ],
          "name": "stdout"
        }
      ]
    },
    {
      "cell_type": "markdown",
      "metadata": {
        "id": "Q9DLSbKnrItX"
      },
      "source": [
        "##เราสามารถเอา list มาต่อกันได้ด้วย +"
      ]
    },
    {
      "cell_type": "code",
      "metadata": {
        "id": "bunP0zRir4jr",
        "outputId": "3dc94dee-e765-4d67-d8c1-30c09511c2e1",
        "colab": {
          "base_uri": "https://localhost:8080/",
          "height": 38
        }
      },
      "source": [
        "t + '??' #เหมือนเอาtextมาต่อกันก็สามารถสร้างคำใหม่ได้"
      ],
      "execution_count": 73,
      "outputs": [
        {
          "output_type": "execute_result",
          "data": {
            "application/vnd.google.colaboratory.intrinsic+json": {
              "type": "string"
            },
            "text/plain": [
              "'python is easy??'"
            ]
          },
          "metadata": {
            "tags": []
          },
          "execution_count": 73
        }
      ]
    },
    {
      "cell_type": "code",
      "metadata": {
        "id": "qma0VZaYsGYI"
      },
      "source": [
        "t + list_b #ไม่สามารถเอา list ปกติมาต่อกับstring ได้"
      ],
      "execution_count": null,
      "outputs": []
    },
    {
      "cell_type": "code",
      "metadata": {
        "id": "8_dVDriosR3k",
        "outputId": "de868a26-8ee7-4669-c713-80bfc4d58260",
        "colab": {
          "base_uri": "https://localhost:8080/"
        }
      },
      "source": [
        "print(list_a)\n",
        "print(list_b)\n",
        "print(list_b+list_a) #บวกคือเอาสมาชิกมารวมกัน"
      ],
      "execution_count": 79,
      "outputs": [
        {
          "output_type": "stream",
          "text": [
            "[]\n",
            "[111, 'c', 'งง', 1092]\n",
            "[111, 'c', 'งง', 1092]\n",
            "\n"
          ],
          "name": "stdout"
        }
      ]
    },
    {
      "cell_type": "code",
      "metadata": {
        "id": "Ll74RBvgtHKD",
        "outputId": "8a1889d6-4746-45d3-9a54-3cc808927f29",
        "colab": {
          "base_uri": "https://localhost:8080/"
        }
      },
      "source": [
        "list_b.append(list_a)\n",
        "print(list_b)"
      ],
      "execution_count": 82,
      "outputs": [
        {
          "output_type": "stream",
          "text": [
            "[111, 'c', 'งง', 1092, [], [], []]\n"
          ],
          "name": "stdout"
        }
      ]
    },
    {
      "cell_type": "markdown",
      "metadata": {
        "id": "HJsBTTD3tsVB"
      },
      "source": [
        "##การแบ่ง string ตามสัญลักษณ์ที่กำหนด ->split string"
      ]
    },
    {
      "cell_type": "code",
      "metadata": {
        "id": "xYYiroSEt1vv",
        "outputId": "d72f988b-a5a6-49d4-9146-808a6d005046",
        "colab": {
          "base_uri": "https://localhost:8080/",
          "height": 38
        }
      },
      "source": [
        "t"
      ],
      "execution_count": 83,
      "outputs": [
        {
          "output_type": "execute_result",
          "data": {
            "application/vnd.google.colaboratory.intrinsic+json": {
              "type": "string"
            },
            "text/plain": [
              "'python is easy'"
            ]
          },
          "metadata": {
            "tags": []
          },
          "execution_count": 83
        }
      ]
    },
    {
      "cell_type": "code",
      "metadata": {
        "id": "R3oqy5DSt6ga",
        "outputId": "500bde7b-4f4a-4440-9809-6a6282e8fc2d",
        "colab": {
          "base_uri": "https://localhost:8080/"
        }
      },
      "source": [
        "t.split(' ')  #สามารถแบ่งtext ได้ คืออันนี้มันบอกว่าแบ่งตรงช่องว่าง"
      ],
      "execution_count": 84,
      "outputs": [
        {
          "output_type": "execute_result",
          "data": {
            "text/plain": [
              "['python', 'is', 'easy']"
            ]
          },
          "metadata": {
            "tags": []
          },
          "execution_count": 84
        }
      ]
    },
    {
      "cell_type": "code",
      "metadata": {
        "id": "gJV_Sh-quHmg"
      },
      "source": [
        "time ='12:30:15'"
      ],
      "execution_count": 85,
      "outputs": []
    },
    {
      "cell_type": "code",
      "metadata": {
        "id": "gzQDsONkuuAR",
        "outputId": "0aee4d92-f0c3-4ffd-ed8f-34f2e89ecd0b",
        "colab": {
          "base_uri": "https://localhost:8080/"
        }
      },
      "source": [
        "time.split(':') #อันนี้บอกว่าตรงที่แบ่งคือตรง:"
      ],
      "execution_count": 86,
      "outputs": [
        {
          "output_type": "execute_result",
          "data": {
            "text/plain": [
              "['12', '30', '15']"
            ]
          },
          "metadata": {
            "tags": []
          },
          "execution_count": 86
        }
      ]
    },
    {
      "cell_type": "code",
      "metadata": {
        "id": "-1ZhONxQu62m",
        "outputId": "064b3577-b778-4161-d43f-72024c9f9b6a",
        "colab": {
          "base_uri": "https://localhost:8080/"
        }
      },
      "source": [
        "t_sp = t.split(' ')\n",
        "print(t_sp)"
      ],
      "execution_count": 87,
      "outputs": [
        {
          "output_type": "stream",
          "text": [
            "['python', 'is', 'easy']\n"
          ],
          "name": "stdout"
        }
      ]
    },
    {
      "cell_type": "code",
      "metadata": {
        "id": "t93_79UqvF0o",
        "outputId": "1fe24302-cc7c-45f6-e8fe-ce0bd3583fd1",
        "colab": {
          "base_uri": "https://localhost:8080/"
        }
      },
      "source": [
        "print(':'.join(t_sp)) #อันนี้เป็นการรวมกลับ"
      ],
      "execution_count": 88,
      "outputs": [
        {
          "output_type": "stream",
          "text": [
            "python:is:easy\n"
          ],
          "name": "stdout"
        }
      ]
    },
    {
      "cell_type": "markdown",
      "metadata": {
        "id": "sYNeo0DyvWtS"
      },
      "source": [
        "### HW คำนวณเวลาเป็นวินาทีของเวลาต่อไปนี้โดยใช้คำสั่ง "
      ]
    },
    {
      "cell_type": "code",
      "metadata": {
        "id": "V8P6jkz1vrkj"
      },
      "source": [
        "q1 = '12:30:15'\n",
        "#code\n",
        "#code\n",
        "#code\n"
      ],
      "execution_count": null,
      "outputs": []
    },
    {
      "cell_type": "code",
      "metadata": {
        "id": "v73em2hWxZn-"
      },
      "source": [
        ""
      ],
      "execution_count": null,
      "outputs": []
    }
  ]
}