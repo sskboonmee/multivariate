{
  "nbformat": 4,
  "nbformat_minor": 0,
  "metadata": {
    "colab": {
      "name": "python101.ipynb",
      "provenance": [],
      "authorship_tag": "ABX9TyNX/+SQ1gpXUVE3SSddP3yd",
      "include_colab_link": true
    },
    "kernelspec": {
      "name": "python3",
      "display_name": "Python 3"
    }
  },
  "cells": [
    {
      "cell_type": "markdown",
      "metadata": {
        "id": "view-in-github",
        "colab_type": "text"
      },
      "source": [
        "<a href=\"https://colab.research.google.com/github/sskboonmee/multivariate/blob/main/python101.ipynb\" target=\"_parent\"><img src=\"https://colab.research.google.com/assets/colab-badge.svg\" alt=\"Open In Colab\"/></a>"
      ]
    },
    {
      "cell_type": "markdown",
      "metadata": {
        "id": "62Xvo0DKLk8Y"
      },
      "source": [
        "#ตัวแปรหรือ Variable   เป็นกล่องที่เอาไว้ชี้แล้วแบบค่าตัวแปรคืออะไร  หลักการตั้งชื่อตัวแปร \r\n",
        "1.ตั้งให้สื่อ\r\n",
        "2.ภาษาอังกฤษ\r\n",
        "3.ใช้ตัวเลขได้แต่ห้ามขึ้นต้นด้วยตัวเลข \r\n",
        "4.ห้ามเว้นวรรค\r\n",
        "5.ตัวเล็กกับตัวใหญ่ไม่เหมือนกัน\r\n",
        "\r\n",
        "#hashtagคือการcomment"
      ]
    },
    {
      "cell_type": "markdown",
      "metadata": {
        "id": "G4Tq6ONW-Ae3"
      },
      "source": [
        "#python มี Output 2 mode \n",
        "คือ 1.ออกหน้าจอ คือจะไม่ถูกเก็บไว้ที่ไหนและจะเอาไปใช้ต่อไม่ได้\n",
        "2.เข้าไปเก็บในตัวแปร คือจะต้องมีตัวแปรมารับค่า"
      ]
    },
    {
      "cell_type": "code",
      "metadata": {
        "colab": {
          "base_uri": "https://localhost:8080/"
        },
        "id": "daHpGO5oKoHf",
        "outputId": "514b7177-75bf-4133-ca07-b4022cc009eb"
      },
      "source": [
        "3.14159   #hastagหรือเครื่องหมาย sharp #  คือ comment >>>อันนี้คือ Output แบบออกหน้าจอ"
      ],
      "execution_count": null,
      "outputs": [
        {
          "output_type": "execute_result",
          "data": {
            "text/plain": [
              "3.14159"
            ]
          },
          "metadata": {
            "tags": []
          },
          "execution_count": 1
        }
      ]
    },
    {
      "cell_type": "code",
      "metadata": {
        "id": "PUcBgi1mM74W"
      },
      "source": [
        "Pi = 3.14159  # อันนี้คือ Output ที่เข้าไปอยู่ในตัวแปร\r\n"
      ],
      "execution_count": 2,
      "outputs": []
    },
    {
      "cell_type": "code",
      "metadata": {
        "colab": {
          "base_uri": "https://localhost:8080/"
        },
        "id": "yzfwBNfBOHQr",
        "outputId": "343439c9-3259-4f7b-d637-f15059674c64"
      },
      "source": [
        "Pi"
      ],
      "execution_count": 3,
      "outputs": [
        {
          "output_type": "execute_result",
          "data": {
            "text/plain": [
              "3.14159"
            ]
          },
          "metadata": {
            "tags": []
          },
          "execution_count": 3
        }
      ]
    },
    {
      "cell_type": "code",
      "metadata": {
        "colab": {
          "base_uri": "https://localhost:8080/"
        },
        "id": "M_moE00WNp4V",
        "outputId": "16005785-b8bd-4970-d20e-27e66de677b6"
      },
      "source": [
        "a = 1234567  #อันนี้คือการตั้งตัวแปรชื่อaแล้วเอาค่า1234567ใส่ในตัวแปรa\r\n",
        "print(a)     #อันนี้คือแสดงผลa"
      ],
      "execution_count": 4,
      "outputs": [
        {
          "output_type": "stream",
          "text": [
            "1234567\n"
          ],
          "name": "stdout"
        }
      ]
    },
    {
      "cell_type": "markdown",
      "metadata": {
        "id": "-v1HnNuA_tUd"
      },
      "source": [
        "#ชนิดของตัวแปร 3 ชนิด "
      ]
    },
    {
      "cell_type": "markdown",
      "metadata": {
        "id": "lFux7I1RBMKD"
      },
      "source": [
        "###1.จำนวนเต็ม (integer,int) \n",
        "วิธีการสร้างก็คือ ตั้งชื่อตัวแปร1ตัวอะไรก็ได้ละก็เท่ากับจำนวนที่เป็นintไปเลยซึ่งไอ่ตัวintก็คือจำนวนไม่มีจุดทศนิยมจำนวนเต็มนั่นเอง"
      ]
    },
    {
      "cell_type": "code",
      "metadata": {
        "colab": {
          "base_uri": "https://localhost:8080/"
        },
        "id": "0tpY2YiRPELx",
        "outputId": "871aab4c-2260-4f33-f54a-331eaa869ff6"
      },
      "source": [
        "aaa = 1092\r\n",
        "print(aaa)"
      ],
      "execution_count": 15,
      "outputs": [
        {
          "output_type": "stream",
          "text": [
            "1092\n"
          ],
          "name": "stdout"
        }
      ]
    },
    {
      "cell_type": "markdown",
      "metadata": {
        "id": "jgTZhD_gCoxV"
      },
      "source": [
        "###2.จำนวนจริง (float)\n",
        "วิธีตั้ง float ก็เมื่อเรามีจุดมันก็บอกว่าเราเป็นจำนวนจริง"
      ]
    },
    {
      "cell_type": "code",
      "metadata": {
        "colab": {
          "base_uri": "https://localhost:8080/"
        },
        "id": "9zjEiCQYPYSi",
        "outputId": "2bc46e3a-3698-4555-93e3-137a5d5c375d"
      },
      "source": [
        "bbb = 11.\r\n",
        "print(bbb)"
      ],
      "execution_count": 21,
      "outputs": [
        {
          "output_type": "stream",
          "text": [
            "11.0\n"
          ],
          "name": "stdout"
        }
      ]
    },
    {
      "cell_type": "markdown",
      "metadata": {
        "id": "UdiR28n_Ph7i"
      },
      "source": [
        "###3.ตัวอักษร-ข้อความ (character และ text,string)\n",
        "เหตุผลที่ต้องมี'' และ \"\" ล้อมรอบก็เพื่อแสดงให้รู้ว่าอันนี้คือตัวอักษร-ข้อความนะ"
      ]
    },
    {
      "cell_type": "code",
      "metadata": {
        "id": "JPdaoMF-RwIJ",
        "colab": {
          "base_uri": "https://localhost:8080/"
        },
        "outputId": "2148dd89-def9-4ece-cdd8-8379803e7018"
      },
      "source": [
        " ccc = '123456'  # เราใช้ single qoute ' หรือ double qoute \" ล้อมรอบตัวหนังสือเพื่อระบุว่าเป็น Character-string\n",
        "print(ccc)"
      ],
      "execution_count": 10,
      "outputs": [
        {
          "output_type": "stream",
          "text": [
            "123456\n"
          ],
          "name": "stdout"
        }
      ]
    },
    {
      "cell_type": "code",
      "metadata": {
        "colab": {
          "base_uri": "https://localhost:8080/"
        },
        "id": "TkQ_ac6nF3BA",
        "outputId": "f2e8f9d2-5c75-4b87-d475-2df8be102c7c"
      },
      "source": [
        "aaa + bbb    # float + int = float"
      ],
      "execution_count": 22,
      "outputs": [
        {
          "output_type": "execute_result",
          "data": {
            "text/plain": [
              "1103.0"
            ]
          },
          "metadata": {
            "tags": []
          },
          "execution_count": 22
        }
      ]
    },
    {
      "cell_type": "code",
      "metadata": {
        "colab": {
          "base_uri": "https://localhost:8080/",
          "height": 171
        },
        "id": "DkdPLWrxFz4s",
        "outputId": "78b4164b-7160-4304-f115-3da53ff9f915"
      },
      "source": [
        "bbb + ccc #ข้อความไม่สามารถเอามาบวกกับตัวเลขได้ดูจากTypeErrorแก้โดยเปลี่ยนชนิดของตัวแปร"
      ],
      "execution_count": 23,
      "outputs": [
        {
          "output_type": "error",
          "ename": "TypeError",
          "evalue": "ignored",
          "traceback": [
            "\u001b[0;31m---------------------------------------------------------------------------\u001b[0m",
            "\u001b[0;31mTypeError\u001b[0m                                 Traceback (most recent call last)",
            "\u001b[0;32m<ipython-input-23-a3916046ad1c>\u001b[0m in \u001b[0;36m<module>\u001b[0;34m()\u001b[0m\n\u001b[0;32m----> 1\u001b[0;31m \u001b[0mbbb\u001b[0m \u001b[0;34m+\u001b[0m \u001b[0mccc\u001b[0m\u001b[0;34m\u001b[0m\u001b[0;34m\u001b[0m\u001b[0m\n\u001b[0m",
            "\u001b[0;31mTypeError\u001b[0m: unsupported operand type(s) for +: 'float' and 'str'"
          ]
        }
      ]
    },
    {
      "cell_type": "code",
      "metadata": {
        "colab": {
          "base_uri": "https://localhost:8080/"
        },
        "id": "scb5XifSQ2Vy",
        "outputId": "1b43e32d-13a8-4c6a-feae-39428553cdb0"
      },
      "source": [
        "ddd = 'ศศิกานต์'\r\n",
        "print(ddd)"
      ],
      "execution_count": 24,
      "outputs": [
        {
          "output_type": "stream",
          "text": [
            "ศศิกานต์\n"
          ],
          "name": "stdout"
        }
      ]
    },
    {
      "cell_type": "markdown",
      "metadata": {
        "id": "YAqICsW-Q4p2"
      },
      "source": [
        "##การเปลี่ยนชนิดของตัวแปร variable casting"
      ]
    },
    {
      "cell_type": "code",
      "metadata": {
        "colab": {
          "base_uri": "https://localhost:8080/"
        },
        "id": "H12OkDONRodS",
        "outputId": "3871c3e9-7a3e-4c28-91ce-6e3f43a12251"
      },
      "source": [
        "bbb + int (ccc) #>>ไปบังคับมันเป็นint"
      ],
      "execution_count": 25,
      "outputs": [
        {
          "output_type": "execute_result",
          "data": {
            "text/plain": [
              "123467.0"
            ]
          },
          "metadata": {
            "tags": []
          },
          "execution_count": 25
        }
      ]
    },
    {
      "cell_type": "code",
      "metadata": {
        "colab": {
          "base_uri": "https://localhost:8080/"
        },
        "id": "XgNKCk1YH_Ts",
        "outputId": "dc220733-3590-4517-af29-ed798bf03461"
      },
      "source": [
        "aaa + int (ccc) #>>อันนี้ก็บังคับเป็นint"
      ],
      "execution_count": 26,
      "outputs": [
        {
          "output_type": "execute_result",
          "data": {
            "text/plain": [
              "124548"
            ]
          },
          "metadata": {
            "tags": []
          },
          "execution_count": 26
        }
      ]
    },
    {
      "cell_type": "code",
      "metadata": {
        "colab": {
          "base_uri": "https://localhost:8080/"
        },
        "id": "qGAaH9HRSBdw",
        "outputId": "d900219a-ed10-4e29-f5a2-0ebfde087976"
      },
      "source": [
        "aaa + float(ccc) #>>float+intก็จะได้float"
      ],
      "execution_count": 27,
      "outputs": [
        {
          "output_type": "execute_result",
          "data": {
            "text/plain": [
              "124548.0"
            ]
          },
          "metadata": {
            "tags": []
          },
          "execution_count": 27
        }
      ]
    },
    {
      "cell_type": "code",
      "metadata": {
        "colab": {
          "base_uri": "https://localhost:8080/",
          "height": 38
        },
        "id": "hYid2zOfSOph",
        "outputId": "46ea05c6-03d3-4ce5-c3e2-c416ed480926"
      },
      "source": [
        "str(aaa) #>>intแปลงเป็นข้อความออกมาแล้วก็ดูออกว่าเป็นข้อความสังเกตจาก''ครอบตรงรันออกมา"
      ],
      "execution_count": 28,
      "outputs": [
        {
          "output_type": "execute_result",
          "data": {
            "application/vnd.google.colaboratory.intrinsic+json": {
              "type": "string"
            },
            "text/plain": [
              "'1092'"
            ]
          },
          "metadata": {
            "tags": []
          },
          "execution_count": 28
        }
      ]
    },
    {
      "cell_type": "code",
      "metadata": {
        "colab": {
          "base_uri": "https://localhost:8080/"
        },
        "id": "cuBmyCCTIoCL",
        "outputId": "f0134556-4bc5-405f-c327-52add1783790"
      },
      "source": [
        "print(str(aaa))"
      ],
      "execution_count": 29,
      "outputs": [
        {
          "output_type": "stream",
          "text": [
            "1092\n"
          ],
          "name": "stdout"
        }
      ]
    },
    {
      "cell_type": "markdown",
      "metadata": {
        "id": "oMV5nV5aSUI1"
      },
      "source": [
        "#การดำเนินการ Operation (Operators +,-,*,/,%)"
      ]
    },
    {
      "cell_type": "code",
      "metadata": {
        "colab": {
          "base_uri": "https://localhost:8080/",
          "height": 171
        },
        "id": "JajcTSHcTC5n",
        "outputId": "3ff9b17e-b18b-4f32-e222-f74c7e33d15e"
      },
      "source": [
        "a+b  #ก็คือมันไม่มีb"
      ],
      "execution_count": 30,
      "outputs": [
        {
          "output_type": "error",
          "ename": "NameError",
          "evalue": "ignored",
          "traceback": [
            "\u001b[0;31m---------------------------------------------------------------------------\u001b[0m",
            "\u001b[0;31mNameError\u001b[0m                                 Traceback (most recent call last)",
            "\u001b[0;32m<ipython-input-30-ca730b97bf8a>\u001b[0m in \u001b[0;36m<module>\u001b[0;34m()\u001b[0m\n\u001b[0;32m----> 1\u001b[0;31m \u001b[0ma\u001b[0m\u001b[0;34m+\u001b[0m\u001b[0mb\u001b[0m\u001b[0;34m\u001b[0m\u001b[0;34m\u001b[0m\u001b[0m\n\u001b[0m",
            "\u001b[0;31mNameError\u001b[0m: name 'b' is not defined"
          ]
        }
      ]
    },
    {
      "cell_type": "code",
      "metadata": {
        "colab": {
          "base_uri": "https://localhost:8080/"
        },
        "id": "aGOPbduDKac8",
        "outputId": "65b91685-9653-4450-a9e7-2e5c3da8fc3b"
      },
      "source": [
        "aaa + bbb #อันนี้ก็คือแสดงค่าเฉยๆเอาไปใช้ต่อไม่ได้"
      ],
      "execution_count": 31,
      "outputs": [
        {
          "output_type": "execute_result",
          "data": {
            "text/plain": [
              "1103.0"
            ]
          },
          "metadata": {
            "tags": []
          },
          "execution_count": 31
        }
      ]
    },
    {
      "cell_type": "code",
      "metadata": {
        "colab": {
          "base_uri": "https://localhost:8080/"
        },
        "id": "NxJmKQigKhNQ",
        "outputId": "b0ff44b6-2c28-48c6-9104-5e56384eb0b8"
      },
      "source": [
        "aaa - bbb"
      ],
      "execution_count": 32,
      "outputs": [
        {
          "output_type": "execute_result",
          "data": {
            "text/plain": [
              "1081.0"
            ]
          },
          "metadata": {
            "tags": []
          },
          "execution_count": 32
        }
      ]
    },
    {
      "cell_type": "code",
      "metadata": {
        "colab": {
          "base_uri": "https://localhost:8080/"
        },
        "id": "GzwnA5kRK02q",
        "outputId": "3b2e8154-9ce0-4422-cd85-db26b7b33d85"
      },
      "source": [
        "ab = aaa*bbb  #อันนี้มีตัวแปรมารับค่าก็จะสามารถเอามาใช้ต่อได้\n",
        "print(ab)"
      ],
      "execution_count": 35,
      "outputs": [
        {
          "output_type": "stream",
          "text": [
            "12012.0\n"
          ],
          "name": "stdout"
        }
      ]
    },
    {
      "cell_type": "code",
      "metadata": {
        "colab": {
          "base_uri": "https://localhost:8080/"
        },
        "id": "jcic1TWcLJ15",
        "outputId": "d6a49791-4402-440a-9b29-1d2d9bfeef94"
      },
      "source": [
        "ab + int(ccc)"
      ],
      "execution_count": 36,
      "outputs": [
        {
          "output_type": "execute_result",
          "data": {
            "text/plain": [
              "135468.0"
            ]
          },
          "metadata": {
            "tags": []
          },
          "execution_count": 36
        }
      ]
    },
    {
      "cell_type": "markdown",
      "metadata": {
        "id": "PEo4QTyrT7Xv"
      },
      "source": [
        "##% คือหมาย modulo คือการหารเอาเศษ 2หารได้เศษ 0 ก็เป็นเลขคู่ หารได้เศษ 1 ก็เป็นเลขคี่"
      ]
    },
    {
      "cell_type": "code",
      "metadata": {
        "colab": {
          "base_uri": "https://localhost:8080/"
        },
        "id": "GNml3-quT1np",
        "outputId": "6740389c-82f7-4890-8cd4-8255e8e2dc01"
      },
      "source": [
        "5%3"
      ],
      "execution_count": 37,
      "outputs": [
        {
          "output_type": "execute_result",
          "data": {
            "text/plain": [
              "2"
            ]
          },
          "metadata": {
            "tags": []
          },
          "execution_count": 37
        }
      ]
    },
    {
      "cell_type": "code",
      "metadata": {
        "colab": {
          "base_uri": "https://localhost:8080/"
        },
        "id": "_v6X5E4YT-_N",
        "outputId": "6fb1c285-e2fc-4017-b95d-cc18da4c4146"
      },
      "source": [
        "7%3"
      ],
      "execution_count": 38,
      "outputs": [
        {
          "output_type": "execute_result",
          "data": {
            "text/plain": [
              "1"
            ]
          },
          "metadata": {
            "tags": []
          },
          "execution_count": 38
        }
      ]
    },
    {
      "cell_type": "markdown",
      "metadata": {
        "id": "qAIfmFRFUDT3"
      },
      "source": [
        "#คำสั่ง print แบบพิเศษ (การ format )"
      ]
    },
    {
      "cell_type": "code",
      "metadata": {
        "colab": {
          "base_uri": "https://localhost:8080/"
        },
        "id": "wQET9mpSMVuW",
        "outputId": "78c3538b-9b6c-4c7c-a215-c2731a91ee40"
      },
      "source": [
        "print('ตัวแปร')  #สิ่งที่อยู่ข้างในวงเล็บ คือ ตัวแปรและ string คือ printสามารถprint ตัวแปรก็ได้stringก็ได้"
      ],
      "execution_count": 41,
      "outputs": [
        {
          "output_type": "stream",
          "text": [
            "ตัวแปร\n"
          ],
          "name": "stdout"
        }
      ]
    },
    {
      "cell_type": "code",
      "metadata": {
        "colab": {
          "base_uri": "https://localhost:8080/"
        },
        "id": "UFKyzzTgUfZF",
        "outputId": "8735d520-cd9f-400e-d668-a3b4f842ea9a"
      },
      "source": [
        "print(f'% คือการหารเอาเศษ เช่น  7%3 ={7%3}') # เพิ่ม f หน้า ข้อความ 'string' และใช้ {} เพื่อบอกว่าข้างในปีกกาจะเป็นcode ของpython"
      ],
      "execution_count": 47,
      "outputs": [
        {
          "output_type": "stream",
          "text": [
            "% คือการหารเอาเศษ เช่น  7%3 =1\n"
          ],
          "name": "stdout"
        }
      ]
    },
    {
      "cell_type": "code",
      "metadata": {
        "colab": {
          "base_uri": "https://localhost:8080/",
          "height": 38
        },
        "id": "NNko36U2PvQp",
        "outputId": "366f4996-32cf-45cd-aeae-f230cb537ab8"
      },
      "source": [
        "f'% คือการหารเอาเศษ เช่น 7%3 ={aaa}' #{} ใส่code"
      ],
      "execution_count": 49,
      "outputs": [
        {
          "output_type": "execute_result",
          "data": {
            "application/vnd.google.colaboratory.intrinsic+json": {
              "type": "string"
            },
            "text/plain": [
              "'% คือการหารเอาเศษ เช่น 7%3 =1092'"
            ]
          },
          "metadata": {
            "tags": []
          },
          "execution_count": 49
        }
      ]
    },
    {
      "cell_type": "code",
      "metadata": {
        "id": "B9D4e6PBVkPe",
        "colab": {
          "base_uri": "https://localhost:8080/"
        },
        "outputId": "e4ea7186-033f-425c-9006-c60b583be6da"
      },
      "source": [
        "print (f'% คือการหารเอาเศษ เช่น 7%3 = {7%3}) \\\r\n",
        "แต่ \\n/ คือการหารปกติ เช่น 7/3 = {7/3} \\\r\n",
        "และ \\n// คือการหารเอาส่วน เช่น 7//3 = {7//3} \\\r\n",
        "หรือ \\nใช้ int() เพื่อหารเอาส่วน เช่น int(7/3) = {int(7/3)}')  # \\n คือการขึ้นบรรทัดใหม่ \\ใช้ในการตัด"
      ],
      "execution_count": 52,
      "outputs": [
        {
          "output_type": "stream",
          "text": [
            "% คือการหารเอาเศษ เช่น 7%3 = 1) แต่ \n",
            "/ คือการหารปกติ เช่น 7/3 = 2.3333333333333335 และ \n",
            "// คือการหารเอาส่วน เช่น 7//3 = 2 หรือ \n",
            "ใช้ int() เพื่อหารเอาส่วน เช่น int(7/3) = 2\n"
          ],
          "name": "stdout"
        }
      ]
    },
    {
      "cell_type": "markdown",
      "metadata": {
        "id": "4hPBvuxYQqtZ"
      },
      "source": [
        "#### \\ คือการตัดcode ให้เราเห็นเองแต่คอมมองไม่เห็นเพื่อให้คอมดูง่ายๆ ที่คอมมองเห็นว่าขึ้นบรรทัดใหม่คือ \\n"
      ]
    },
    {
      "cell_type": "markdown",
      "metadata": {
        "id": "7kFKV7QyWRuj"
      },
      "source": [
        "#### \\ คือตัดโค้ดให้เราเห็นเอง \\n คือการขึ้นบรรทัดใหม่ ใส่ปีกกาเพื่อบอกว่าเป็น code ของ python"
      ]
    },
    {
      "cell_type": "markdown",
      "metadata": {
        "id": "KDUGbU3xW-Bh"
      },
      "source": [
        "#DATA STRUCTURE (โครงสร้างข้อมูล)"
      ]
    },
    {
      "cell_type": "markdown",
      "metadata": {
        "id": "n85wR7n2XHtC"
      },
      "source": [
        "### List คือ การเอาข้อมูลหลายๆตัวมาเรียงต่อกัน สัญลักษณ์ของlist ก็คือ [  ] | ตัวแปรหลายๆตัวมาอยู่ในที่เก็บเดียวกัน\r\n",
        "####list สามารถสร้างได้ 2 แบบดังนี้"
      ]
    },
    {
      "cell_type": "code",
      "metadata": {
        "colab": {
          "base_uri": "https://localhost:8080/"
        },
        "id": "YlMT1umeXZg4",
        "outputId": "ae600f93-72cf-47bf-c4e4-c0658a76d40e"
      },
      "source": [
        "[111,'c','งง',aaa]"
      ],
      "execution_count": 54,
      "outputs": [
        {
          "output_type": "execute_result",
          "data": {
            "text/plain": [
              "[111, 'c', 'งง', 1092]"
            ]
          },
          "metadata": {
            "tags": []
          },
          "execution_count": 54
        }
      ]
    },
    {
      "cell_type": "markdown",
      "metadata": {
        "id": "H7_u53mDXu8T"
      },
      "source": [
        "####แบบที่ 1 >square brackets  คือ สร้างด้วยสัญลักษณ์ของlistเลย บอกไปตรงๆเลยว่าตัวแปรนี้คือlistที่หน้าตาเป็นยังไง Ex.listเปล่าๆ หรือ list ที่มีข้อมูลอื่นอยู่ด้วย"
      ]
    },
    {
      "cell_type": "code",
      "metadata": {
        "colab": {
          "base_uri": "https://localhost:8080/"
        },
        "id": "98iLMykJX1_f",
        "outputId": "61922357-402e-4f82-dc3e-9926d1a8f1df"
      },
      "source": [
        "list_a = [] #ไม่มีอะไรอยู่ข้างในเรียกว่าlistว่าง\r\n",
        "print(list_a)"
      ],
      "execution_count": 55,
      "outputs": [
        {
          "output_type": "stream",
          "text": [
            "[]\n"
          ],
          "name": "stdout"
        }
      ]
    },
    {
      "cell_type": "code",
      "metadata": {
        "id": "ViM1hjpvYKja",
        "colab": {
          "base_uri": "https://localhost:8080/"
        },
        "outputId": "46444f0e-5686-4682-c138-e20887ff9b64"
      },
      "source": [
        "list_b = [111,'c','งง',aaa] #111ก็คือตัวที่0บะก็ไล่ไป\n",
        "print(list_b)"
      ],
      "execution_count": 62,
      "outputs": [
        {
          "output_type": "stream",
          "text": [
            "[111, 'c', 'งง', 1092]\n"
          ],
          "name": "stdout"
        }
      ]
    },
    {
      "cell_type": "markdown",
      "metadata": {
        "id": "xUot3IHvTgxk"
      },
      "source": [
        "####ลำดับที่อยู่ใน list มีความสำคัญ (ลำดับในlist เริ่มจาก 0,1,2,...)"
      ]
    },
    {
      "cell_type": "code",
      "metadata": {
        "colab": {
          "base_uri": "https://localhost:8080/",
          "height": 38
        },
        "id": "uPy2P_U4Ty30",
        "outputId": "57bf9bd8-64d3-4826-a34e-64f68fc1bb04"
      },
      "source": [
        "list_b[2]"
      ],
      "execution_count": 61,
      "outputs": [
        {
          "output_type": "execute_result",
          "data": {
            "application/vnd.google.colaboratory.intrinsic+json": {
              "type": "string"
            },
            "text/plain": [
              "'งง'"
            ]
          },
          "metadata": {
            "tags": []
          },
          "execution_count": 61
        }
      ]
    },
    {
      "cell_type": "markdown",
      "metadata": {
        "id": "vkqbtyUtU25b"
      },
      "source": [
        "แบบที่2 บอกว่าตัวแปรนี้เท่ากับlist ดังข้างล่าง"
      ]
    },
    {
      "cell_type": "code",
      "metadata": {
        "colab": {
          "base_uri": "https://localhost:8080/"
        },
        "id": "kyIO0rDLUprX",
        "outputId": "47cc69da-a36d-48af-d84c-95885e4ccf38"
      },
      "source": [
        "list_c = list() #list()ก็คือบอกว่าเราจะสร้างlistขึ้นมานะ #ตรงlist_cคือตัวแปร\n",
        "print(list_c)"
      ],
      "execution_count": 63,
      "outputs": [
        {
          "output_type": "stream",
          "text": [
            "[]\n"
          ],
          "name": "stdout"
        }
      ]
    },
    {
      "cell_type": "markdown",
      "metadata": {
        "id": "_IgEhnp_WPLT"
      },
      "source": [
        "##append() เพิ่มสมาชิกในlist\n",
        ".append คือเอาสมาชิกไปต่อท้ายของ list"
      ]
    },
    {
      "cell_type": "code",
      "metadata": {
        "id": "XSlYf_U5YB2j",
        "colab": {
          "base_uri": "https://localhost:8080/"
        },
        "outputId": "7526e727-c5fa-4f20-ef77-630c5b76a770"
      },
      "source": [
        "list_b.append('d')\n",
        "print(list_b)"
      ],
      "execution_count": 69,
      "outputs": [
        {
          "output_type": "stream",
          "text": [
            "[111, 'c', 'งง', 1092, 'u', 'u', 'u', 'u', 'u', 'd']\n"
          ],
          "name": "stdout"
        }
      ]
    },
    {
      "cell_type": "markdown",
      "metadata": {
        "id": "ubNXggq4XyO5"
      },
      "source": [
        "ตัวที่อยู่ในวงเล็บหลังจากตัวแปร list เรียกว่า index ใช้สำหรับชี้ข้อมูลใน list (ชี้จากข้างหน้า,ชี้จากข้างหลัง)\n",
        "0 คือสมาชิกตัวแรก, -1 คือสมาชิกตัวสุดท้าย"
      ]
    },
    {
      "cell_type": "code",
      "metadata": {
        "id": "sQLk54XKXtYS",
        "colab": {
          "base_uri": "https://localhost:8080/",
          "height": 38
        },
        "outputId": "fcef5794-2f88-450e-9400-236248a3462f"
      },
      "source": [
        "list_b[-1] "
      ],
      "execution_count": 70,
      "outputs": [
        {
          "output_type": "execute_result",
          "data": {
            "application/vnd.google.colaboratory.intrinsic+json": {
              "type": "string"
            },
            "text/plain": [
              "'d'"
            ]
          },
          "metadata": {
            "tags": []
          },
          "execution_count": 70
        }
      ]
    },
    {
      "cell_type": "markdown",
      "metadata": {
        "id": "5B433OB1YsDb"
      },
      "source": [
        "##String > list of characters\n",
        "คือlistของตัวอักษรหลายๆตัวเอามารวมกัน"
      ]
    },
    {
      "cell_type": "code",
      "metadata": {
        "colab": {
          "base_uri": "https://localhost:8080/"
        },
        "id": "75Veu9LEZb3J",
        "outputId": "ed0c3e55-f7cb-4af0-ad08-17e15770b87a"
      },
      "source": [
        "t = 'python is easy'\n",
        "print(t)"
      ],
      "execution_count": 71,
      "outputs": [
        {
          "output_type": "stream",
          "text": [
            "python is easy\n"
          ],
          "name": "stdout"
        }
      ]
    },
    {
      "cell_type": "code",
      "metadata": {
        "colab": {
          "base_uri": "https://localhost:8080/",
          "height": 38
        },
        "id": "xkUfIgLRZl4d",
        "outputId": "d507a1d0-dde3-462f-e3ce-90517e65835c"
      },
      "source": [
        "t[1]"
      ],
      "execution_count": 72,
      "outputs": [
        {
          "output_type": "execute_result",
          "data": {
            "application/vnd.google.colaboratory.intrinsic+json": {
              "type": "string"
            },
            "text/plain": [
              "'y'"
            ]
          },
          "metadata": {
            "tags": []
          },
          "execution_count": 72
        }
      ]
    },
    {
      "cell_type": "code",
      "metadata": {
        "colab": {
          "base_uri": "https://localhost:8080/",
          "height": 38
        },
        "id": "zj2xZLeSZp8i",
        "outputId": "ee23395c-f740-4100-f04e-151bcb7a78ed"
      },
      "source": [
        "t[-1]"
      ],
      "execution_count": 73,
      "outputs": [
        {
          "output_type": "execute_result",
          "data": {
            "application/vnd.google.colaboratory.intrinsic+json": {
              "type": "string"
            },
            "text/plain": [
              "'y'"
            ]
          },
          "metadata": {
            "tags": []
          },
          "execution_count": 73
        }
      ]
    },
    {
      "cell_type": "code",
      "metadata": {
        "colab": {
          "base_uri": "https://localhost:8080/",
          "height": 38
        },
        "id": "zBTB1NUaZvGv",
        "outputId": "3b6aba1e-5b1a-4e2d-d468-5bb37c0b0cab"
      },
      "source": [
        "t[-4]"
      ],
      "execution_count": 74,
      "outputs": [
        {
          "output_type": "execute_result",
          "data": {
            "application/vnd.google.colaboratory.intrinsic+json": {
              "type": "string"
            },
            "text/plain": [
              "'e'"
            ]
          },
          "metadata": {
            "tags": []
          },
          "execution_count": 74
        }
      ]
    },
    {
      "cell_type": "code",
      "metadata": {
        "colab": {
          "base_uri": "https://localhost:8080/",
          "height": 38
        },
        "id": "WJjNDozwZ8Bu",
        "outputId": "25a358ef-23f9-4bb5-e0ac-b6b4a9dac04a"
      },
      "source": [
        "t[4]"
      ],
      "execution_count": 75,
      "outputs": [
        {
          "output_type": "execute_result",
          "data": {
            "application/vnd.google.colaboratory.intrinsic+json": {
              "type": "string"
            },
            "text/plain": [
              "'o'"
            ]
          },
          "metadata": {
            "tags": []
          },
          "execution_count": 75
        }
      ]
    },
    {
      "cell_type": "code",
      "metadata": {
        "colab": {
          "base_uri": "https://localhost:8080/",
          "height": 38
        },
        "id": "CKh8bv_MaBml",
        "outputId": "32eab780-1bde-47a0-c5ed-ad8319d9c48d"
      },
      "source": [
        "t[6]"
      ],
      "execution_count": 76,
      "outputs": [
        {
          "output_type": "execute_result",
          "data": {
            "application/vnd.google.colaboratory.intrinsic+json": {
              "type": "string"
            },
            "text/plain": [
              "' '"
            ]
          },
          "metadata": {
            "tags": []
          },
          "execution_count": 76
        }
      ]
    }
  ]
}