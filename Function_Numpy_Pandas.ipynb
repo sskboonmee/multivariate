{
  "nbformat": 4,
  "nbformat_minor": 0,
  "metadata": {
    "colab": {
      "name": "Function_Numpy_Pandas.ipynb",
      "provenance": [],
      "authorship_tag": "ABX9TyNw9F24FvQAZz7oqih70F1G",
      "include_colab_link": true
    },
    "kernelspec": {
      "name": "python3",
      "display_name": "Python 3"
    }
  },
  "cells": [
    {
      "cell_type": "markdown",
      "metadata": {
        "id": "view-in-github",
        "colab_type": "text"
      },
      "source": [
        "<a href=\"https://colab.research.google.com/github/sskboonmee/multivariate/blob/main/Function_Numpy_Pandas.ipynb\" target=\"_parent\"><img src=\"https://colab.research.google.com/assets/colab-badge.svg\" alt=\"Open In Colab\"/></a>"
      ]
    },
    {
      "cell_type": "markdown",
      "metadata": {
        "id": "9CzOepGMSU0a"
      },
      "source": [
        "#function\r\n",
        "หน้าที่คือรับ input และทำตามกระบวนการละก็ได้ Output ออกมา\r\n"
      ]
    },
    {
      "cell_type": "code",
      "metadata": {
        "id": "1Nn9tL2XS8D9",
        "outputId": "9acab280-e9a1-45ac-8f4c-9bc70c81056d",
        "colab": {
          "base_uri": "https://localhost:8080/",
          "height": 128
        }
      },
      "source": [
        "def function_name(_Input_) :\r\n",
        "   do_something with _Input_ to produce _Output_\r\n",
        "   return _Output_ "
      ],
      "execution_count": 1,
      "outputs": [
        {
          "output_type": "error",
          "ename": "SyntaxError",
          "evalue": "ignored",
          "traceback": [
            "\u001b[0;36m  File \u001b[0;32m\"<ipython-input-1-b77750dda936>\"\u001b[0;36m, line \u001b[0;32m2\u001b[0m\n\u001b[0;31m    do_something with _Input_ to produce _Output_\u001b[0m\n\u001b[0m                    ^\u001b[0m\n\u001b[0;31mSyntaxError\u001b[0m\u001b[0;31m:\u001b[0m invalid syntax\n"
          ]
        }
      ]
    },
    {
      "cell_type": "markdown",
      "metadata": {
        "id": "ahKZ1bMfUjNT"
      },
      "source": [
        "function ของ python มีส่วนสำคัญทั้งหมด 4 ส่วน \r\n",
        "1.บอก python ว่าเราจะเขียนฟังก์ชันอะไร def function_name(): ซึ่งขาดไม่ได้เป็นส่วนสำคัญ\r\n",
        "2.กำหนดตัวแปรที่จะเป็น Input \r\n",
        "3.ส่วนประมวลผล do_something with input to get Output \r\n",
        "4.ส่วน output return Output "
      ]
    },
    {
      "cell_type": "markdown",
      "metadata": {
        "id": "0Kl8tGgsXSBE"
      },
      "source": [
        "ใช้เว้นวรรคบอกขอบเขตของฟังก์ชัน"
      ]
    },
    {
      "cell_type": "markdown",
      "metadata": {
        "id": "x1xkDnu8WNLt"
      },
      "source": [
        "####สร้างฟังก์ชัน"
      ]
    },
    {
      "cell_type": "code",
      "metadata": {
        "colab": {
          "base_uri": "https://localhost:8080/"
        },
        "id": "JAFWwcRzUlr0",
        "outputId": "227c6566-d518-4e1c-ed63-23e2bda7025a"
      },
      "source": [
        "def print_name(name,surname,ID):\r\n",
        "    st = f'ชื่อ {name} นามสกุล {surname} ID {ID}'\r\n",
        "    return st\r\n",
        "print('Outside  function')  #อันนี้คืออกจากฟังก์ชันเพราะมันไม่ได้อยู่ในฟังก์ชันขอบเขตก็คือที่วรรคเข้าไป"
      ],
      "execution_count": 3,
      "outputs": [
        {
          "output_type": "stream",
          "text": [
            "Outside  function\n"
          ],
          "name": "stdout"
        }
      ]
    },
    {
      "cell_type": "markdown",
      "metadata": {
        "id": "MYXBiJQPWR2T"
      },
      "source": [
        "####เรียกใช้ฟังก์ชัน"
      ]
    },
    {
      "cell_type": "code",
      "metadata": {
        "colab": {
          "base_uri": "https://localhost:8080/"
        },
        "id": "eXN-YQWqVP66",
        "outputId": "2acf2d96-e59d-417c-e33e-74e6dc125475"
      },
      "source": [
        "output_string = print_name('ศศิกานต์' , 'บุญมี' , '623020539-9' )\r\n",
        "print (output_string)"
      ],
      "execution_count": 4,
      "outputs": [
        {
          "output_type": "stream",
          "text": [
            "ชื่อ ศศิกานต์ นามสกุล บุญมี ID 623020539-9\n"
          ],
          "name": "stdout"
        }
      ]
    },
    {
      "cell_type": "markdown",
      "metadata": {
        "id": "PSZWsTbvSdWp"
      },
      "source": [
        "####ฟังก์ชันไม่จำเป็นต้องมี Output"
      ]
    },
    {
      "cell_type": "code",
      "metadata": {
        "id": "Lk3bXi36XfKc"
      },
      "source": [
        "def print_name2(surname,ID,name):\r\n",
        "    st = f'ชื่อ {name} นามสกุล {surname} รหัส {ID}'\r\n",
        "    print(st)"
      ],
      "execution_count": 5,
      "outputs": []
    },
    {
      "cell_type": "code",
      "metadata": {
        "colab": {
          "base_uri": "https://localhost:8080/"
        },
        "id": "fPAX-nm_X-F7",
        "outputId": "54b43432-44fa-4265-fd59-7e97fabb4ab2"
      },
      "source": [
        "print_name2('ศศิกานต์' , 'บุญมี' , '623020539-9')"
      ],
      "execution_count": 6,
      "outputs": [
        {
          "output_type": "stream",
          "text": [
            "ชื่อ 623020539-9 นามสกุล ศศิกานต์ รหัส บุญมี\n"
          ],
          "name": "stdout"
        }
      ]
    },
    {
      "cell_type": "code",
      "metadata": {
        "colab": {
          "base_uri": "https://localhost:8080/"
        },
        "id": "w6jksQBFYHyD",
        "outputId": "af2c63ec-36a2-43de-b76b-a0d411edc12b"
      },
      "source": [
        "op2 = print_name2(' ศศิกานต์' , 'บุญมี' , '623020539-9' )"
      ],
      "execution_count": 7,
      "outputs": [
        {
          "output_type": "stream",
          "text": [
            "ชื่อ 623020539-9 นามสกุล  ศศิกานต์ รหัส บุญมี\n"
          ],
          "name": "stdout"
        }
      ]
    },
    {
      "cell_type": "code",
      "metadata": {
        "colab": {
          "base_uri": "https://localhost:8080/"
        },
        "id": "0n394SZfYbOi",
        "outputId": "31f4bb69-b781-4d5d-b4a3-96a17a9c3719"
      },
      "source": [
        "print(op2)"
      ],
      "execution_count": 8,
      "outputs": [
        {
          "output_type": "stream",
          "text": [
            "None\n"
          ],
          "name": "stdout"
        }
      ]
    },
    {
      "cell_type": "markdown",
      "metadata": {
        "id": "7qaIQSL4Y_HL"
      },
      "source": [
        "####ฟังก์ชันไม่จำเป็นต้องมี Input"
      ]
    },
    {
      "cell_type": "code",
      "metadata": {
        "id": "x6ekYg8XZGQ7"
      },
      "source": [
        "def Pi():   #อันนี้แค่แบบreturnค่าที่เราต้องการเฉยๆ\r\n",
        "    return 3.14159265359"
      ],
      "execution_count": 9,
      "outputs": []
    },
    {
      "cell_type": "code",
      "metadata": {
        "colab": {
          "base_uri": "https://localhost:8080/"
        },
        "id": "5mJ_wMYqZVrD",
        "outputId": "44a72349-6d77-4c53-be96-4b248aab18a0"
      },
      "source": [
        "#คำนวณพื้นที่วงกลมที่มีขนาดเส้นผ่าศูนย์กลางเท่ากับ 3 \r\n",
        "Pi()*(1.5**2)"
      ],
      "execution_count": 10,
      "outputs": [
        {
          "output_type": "execute_result",
          "data": {
            "text/plain": [
              "7.0685834705775"
            ]
          },
          "metadata": {
            "tags": []
          },
          "execution_count": 10
        }
      ]
    },
    {
      "cell_type": "code",
      "metadata": {
        "id": "VHKencgbZmpD"
      },
      "source": [
        "def print_my_name():\r\n",
        "    print('ศศิกานต์  บุญมี  ID6230205399')"
      ],
      "execution_count": 11,
      "outputs": []
    },
    {
      "cell_type": "code",
      "metadata": {
        "colab": {
          "base_uri": "https://localhost:8080/"
        },
        "id": "dX3b95yYZ6JS",
        "outputId": "985d7f3b-6850-46ba-ba9e-b7fd45620056"
      },
      "source": [
        "print_my_name()"
      ],
      "execution_count": 12,
      "outputs": [
        {
          "output_type": "stream",
          "text": [
            "ศศิกานต์  บุญมี  ID6230205399\n"
          ],
          "name": "stdout"
        }
      ]
    },
    {
      "cell_type": "markdown",
      "metadata": {
        "id": "1Jj7wdlzaD39"
      },
      "source": [
        "### 1.input ของ Function ใน Python มี 2 แบบ  คือแบบที่จำเป็นต้องใส่กับไม่จำเป็นต้องใส่ \r\n",
        "(มีค่า Default) เราต้องเรียง input ที่จำเป็นต้องใส่ขึ้นก่อน"
      ]
    },
    {
      "cell_type": "markdown",
      "metadata": {
        "id": "fWmhlGQzciNU"
      },
      "source": [
        "####2.เราต้องเรียง Input ที่จำเป็นขึ้นก่อน"
      ]
    },
    {
      "cell_type": "code",
      "metadata": {
        "id": "Nx-f1gKXatm-"
      },
      "source": [
        "def print_2lines_default(name, surname, ID, grade='F'):\r\n",
        "    st = f'ชื่อ {name} นามสกุล {surname} รหัส {ID}'\r\n",
        "    print(st)\r\n",
        "    st2=f'เกรดวิชา Multivariate >>> {grade}'\r\n",
        "    print(st2)"
      ],
      "execution_count": 13,
      "outputs": []
    },
    {
      "cell_type": "code",
      "metadata": {
        "colab": {
          "base_uri": "https://localhost:8080/"
        },
        "id": "Mcq_0-54bmFN",
        "outputId": "97d4cd51-6793-49ba-ab75-c740eee25d6a"
      },
      "source": [
        "print_2lines_default('ศศิกานต์' , 'บุญมี' , '623020539-9')"
      ],
      "execution_count": 14,
      "outputs": [
        {
          "output_type": "stream",
          "text": [
            "ชื่อ ศศิกานต์ นามสกุล บุญมี รหัส 623020539-9\n",
            "เกรดวิชา Multivariate >>> F\n"
          ],
          "name": "stdout"
        }
      ]
    },
    {
      "cell_type": "code",
      "metadata": {
        "colab": {
          "base_uri": "https://localhost:8080/"
        },
        "id": "xRJVf3kmb6-U",
        "outputId": "3375983e-ad94-4713-d435-6d1a871ebcc1"
      },
      "source": [
        "print_2lines_default('ศศิกานต์' , 'บุญมี' , '623020539-9' ,'A')"
      ],
      "execution_count": 15,
      "outputs": [
        {
          "output_type": "stream",
          "text": [
            "ชื่อ ศศิกานต์ นามสกุล บุญมี รหัส 623020539-9\n",
            "เกรดวิชา Multivariate >>> A\n"
          ],
          "name": "stdout"
        }
      ]
    },
    {
      "cell_type": "markdown",
      "metadata": {
        "id": "SqLJufL8cKYF"
      },
      "source": [
        "####เราสามารถเรียกฟังก์ชันโดยใช้ชื่อตัวแปรของฟังก์ชันช่วยได้"
      ]
    },
    {
      "cell_type": "code",
      "metadata": {
        "colab": {
          "base_uri": "https://localhost:8080/"
        },
        "id": "UCX7wibjcSOM",
        "outputId": "18e467f3-cbf1-4f85-e3bf-1a2416c32bb9"
      },
      "source": [
        "print_name2(name='ศศิกานต์' , surname='บุญมี' , ID='623020539-9')"
      ],
      "execution_count": 16,
      "outputs": [
        {
          "output_type": "stream",
          "text": [
            "ชื่อ ศศิกานต์ นามสกุล บุญมี รหัส 623020539-9\n"
          ],
          "name": "stdout"
        }
      ]
    },
    {
      "cell_type": "markdown",
      "metadata": {
        "id": "e3c_wAMIc8Kb"
      },
      "source": [
        "###HW ให้เขียน function คำนวณจำนวนวินาทีจาก เวลา ต่อไปนี้\r\n",
        "\r\n",
        "'14-15-31'\r\n",
        "\r\n",
        "'13-00-01'\r\n",
        "\r\n",
        "'05-49-44'\r\n",
        "\r\n",
        "'00-00-16'\r\n",
        "\r\n",
        "และ print ให้สวยงาม"
      ]
    },
    {
      "cell_type": "code",
      "metadata": {
        "id": "_aVKX1yncx4W"
      },
      "source": [
        "def function_q (times):\r\n",
        "    q = f'เวลาทั้งหมด = {times}'\r\n",
        "    print(q)\r\n",
        "    times_sp = times.split('-')\r\n",
        "    h = int(times_sp[0])*3600\r\n",
        "    m = int(times_sp[1])*60\r\n",
        "    s = int(times_sp[2])\r\n",
        "    aq = h+m+s\r\n",
        "    print(f'คำนวณเป็นวินาทีได้เท่ากับ {aq} วินาที')\r\n",
        "   \r\n",
        "\r\n"
      ],
      "execution_count": 43,
      "outputs": []
    },
    {
      "cell_type": "code",
      "metadata": {
        "id": "AIb9qhZykq-K",
        "outputId": "01ed7e0e-5d12-46b1-af65-a170b57eee38",
        "colab": {
          "base_uri": "https://localhost:8080/"
        }
      },
      "source": [
        "function_q('14-15-31')"
      ],
      "execution_count": 44,
      "outputs": [
        {
          "output_type": "stream",
          "text": [
            "เวลาทั้งหมด = 14-15-31\n",
            "คำนวณเป็นวินาทีได้เท่ากับ 51331 วินาที\n"
          ],
          "name": "stdout"
        }
      ]
    },
    {
      "cell_type": "code",
      "metadata": {
        "id": "1IY_bD4IllIB",
        "outputId": "d1cbaba6-08ff-42d5-8fee-d046b2c5543b",
        "colab": {
          "base_uri": "https://localhost:8080/"
        }
      },
      "source": [
        "function_q('13-00-01')"
      ],
      "execution_count": 45,
      "outputs": [
        {
          "output_type": "stream",
          "text": [
            "เวลาทั้งหมด = 13-00-01\n",
            "คำนวณเป็นวินาทีได้เท่ากับ 46801 วินาที\n"
          ],
          "name": "stdout"
        }
      ]
    },
    {
      "cell_type": "code",
      "metadata": {
        "id": "EONofk_Wls4i",
        "outputId": "90773769-09dc-4871-f660-2814fac2ec92",
        "colab": {
          "base_uri": "https://localhost:8080/"
        }
      },
      "source": [
        "function_q('05-49-44')"
      ],
      "execution_count": 46,
      "outputs": [
        {
          "output_type": "stream",
          "text": [
            "เวลาทั้งหมด = 05-49-44\n",
            "คำนวณเป็นวินาทีได้เท่ากับ 20984 วินาที\n"
          ],
          "name": "stdout"
        }
      ]
    },
    {
      "cell_type": "code",
      "metadata": {
        "id": "Qhf5EuQnlxYw",
        "outputId": "927982f8-bcd2-48d0-8177-6a8a33121d37",
        "colab": {
          "base_uri": "https://localhost:8080/"
        }
      },
      "source": [
        "function_q('00-00-16')"
      ],
      "execution_count": 47,
      "outputs": [
        {
          "output_type": "stream",
          "text": [
            "เวลาทั้งหมด = 00-00-16\n",
            "คำนวณเป็นวินาทีได้เท่ากับ 16 วินาที\n"
          ],
          "name": "stdout"
        }
      ]
    }
  ]
}